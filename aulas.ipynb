{
  "nbformat": 4,
  "nbformat_minor": 0,
  "metadata": {
    "colab": {
      "provenance": [],
      "toc_visible": true,
      "include_colab_link": true
    },
    "kernelspec": {
      "name": "python3",
      "display_name": "Python 3"
    },
    "language_info": {
      "name": "python"
    }
  },
  "cells": [
    {
      "cell_type": "markdown",
      "metadata": {
        "id": "view-in-github",
        "colab_type": "text"
      },
      "source": [
        "<a href=\"https://colab.research.google.com/github/py211039054/CEE2/blob/Aula-25%2F11%2F2024/aulas.ipynb\" target=\"_parent\"><img src=\"https://colab.research.google.com/assets/colab-badge.svg\" alt=\"Open In Colab\"/></a>"
      ]
    },
    {
      "cell_type": "markdown",
      "source": [
        "# Introdução ao Python 🐍"
      ],
      "metadata": {
        "id": "SqoOgoNMmA6p"
      }
    },
    {
      "cell_type": "markdown",
      "source": [
        "A linguagem **Python** é uma linguagem (de):\n",
        "\n",
        "\n",
        "*   **alto nível** - a linguagem é independente de plataforma (sistema operacional, processador, etc) e os comandos executam tarefas complexas;\n",
        "* **interpretada** - o código é executado linha a linha por um interpretador (partes do código são compiladas para *bytecode*).\n",
        "* **uso geral** - é uma linguagem útil para desenvolver qualquer tipo de código, não somente para realizar análises de dados.\n",
        "* **dinâmicamente tipada** - não é necessário declarar os tipos das variáveis; os tipos das variáveis podem mudar ao longo do código.\n",
        "* utiliza **coletores de lixo** (*garbage collector*) para gerenciar memória, retirando do programador esta preocupação.\n",
        "* Permite diversos paradigmas de programação, dentre os quais **programação estruturada** e a **programação orientada a objetos**.\n",
        "\n"
      ],
      "metadata": {
        "id": "mfw70Hykk-5l"
      }
    },
    {
      "cell_type": "markdown",
      "source": [
        "## Disponibilidade"
      ],
      "metadata": {
        "id": "yGnrHHjkl8kS"
      }
    },
    {
      "cell_type": "markdown",
      "source": [
        "A linguagem Python está disponível em https://www.python.org/downloads para as principais plataformas:\n",
        "\n",
        "* **Windows**: versões instalável e embarcável para as plataformas i32, i64 e ARM64;\n",
        "\n",
        "* **MacOS**: versão instalável para 64 bits universal.\n",
        "\n",
        "* **Linux**: já instalado nas principais distribuições."
      ],
      "metadata": {
        "id": "HYkI5dIpmt9H"
      }
    },
    {
      "cell_type": "markdown",
      "source": [
        "## Ambientes de desenvolvimento"
      ],
      "metadata": {
        "id": "3zNlrIpYm3_-"
      }
    },
    {
      "cell_type": "markdown",
      "source": [
        "Existe uma grande variedade de plataformas e IDE's (*Integrated Development Environment* - Ambiente Integrado de Desenvolvimento) para trabalhar com Python. Algumas das principais opções são:\n",
        "\n",
        "* **Anaconda**: Plataforma para Python que facilita o gerenciamento de pacotes e ambientes. Inclui ferramentas como Jupyter Notebook e Conda, um gerenciador de pacotes. Ideal para ciência de dados e computação científica. [Saiba mais](https://www.anaconda.com).\n",
        "\n",
        "* **PyCharm**: IDE com recursos avançados como autocompletar código, depuração e integração com controle de versão. É eficiente para desenvolvimento em Python e suporte a frameworks. [Saiba mais](https://www.jetbrains.com/pycharm).\n",
        "\n",
        "* **VSCode**: Editor de código-fonte leve e extensível, desenvolvido pela Microsoft. Suporta múltiplas linguagens e oferece autocompletar código, depuração e uma vasta gama de extensões. [Saiba mais](https://code.visualstudio.com).\n",
        "\n",
        "* **Jupyter Notebook**: Aplicação web para criar e compartilhar documentos com código executável, visualizações e texto. Popular em análise de dados e aprendizado de máquina, oferece uma interface interativa para experimentação e apresentação. [Saiba mais](https://jupyter.org).\n",
        "\n",
        "* **Google Colab**: Plataforma online para criar e executar notebooks Jupyter no navegador, com suporte a GPUs e TPUs. Facilita a colaboração e o compartilhamento em tempo real, sem necessidade de configuração local. [Saiba mais](https://colab.research.google.com).\n",
        "\n",
        "\n",
        "Escolha o que melhor se adapta ao seu estilo e gosto. No curso, vamos utilizar o **Google Colab**."
      ],
      "metadata": {
        "id": "rucVWse-m7dU"
      }
    },
    {
      "cell_type": "markdown",
      "source": [
        "## Para dar sorte"
      ],
      "metadata": {
        "id": "0Kk51CUIsjkZ"
      }
    },
    {
      "cell_type": "markdown",
      "source": [
        "É tradição quando se aprende uma nova linguagem de programação construir o programa que escreve [Hello World](https://en.wikipedia.org/wiki/%22Hello,_World!%22_program) no terminal. Esta tradição foi iniciada em 1974 de um resumo do livro *Programming in C: a tutorial* de [Brian Kernighan](https://en.wikipedia.org/wiki/Brian_Kernighan). Desde então sempre que se aprende uma nova linguagem de programação costuma-se fazer o famoso *Hello World!*. Em Python basta escrever:"
      ],
      "metadata": {
        "id": "r-fA5uCqsnHq"
      }
    },
    {
      "cell_type": "code",
      "source": [
        "print(\"Hello World!\")"
      ],
      "metadata": {
        "id": "DHqFvfldsuWX"
      },
      "execution_count": null,
      "outputs": []
    },
    {
      "cell_type": "markdown",
      "source": [
        "## Sintaxe\n",
        "\n",
        "As estruturas de código são identificadas por identação (geralmente 4 espaços):\n"
      ],
      "metadata": {
        "id": "tL7HTZPRtFdf"
      }
    },
    {
      "cell_type": "markdown",
      "source": [
        "Ao contrário de linguagens como C e Java que utilizam delimitadores (`{}`) e linguagens como o Pascal que utilizam `begin` e `end`.\n",
        "\n",
        "Por um lado isto simplifica a programação (pois não precisa se preocupar com os delimitadores), por outro lado, em códigos muito grandes, pode dificultar a leitura.\n",
        "\n",
        "O código abaixo ilustra este conceito."
      ],
      "metadata": {
        "id": "sVUubVP7t4Al"
      }
    },
    {
      "cell_type": "markdown",
      "source": [],
      "metadata": {
        "id": "4nkt5ZVztJFj"
      }
    },
    {
      "cell_type": "code",
      "source": [
        "# Comentários são iniciados com '#'\n",
        "# Esta linha será ignorada.\n",
        "print(\"Olá, Mundo!\")\n",
        "\n",
        "# As estruturas de código são identificadas por identação:\n",
        "if 5 > 2:\n",
        "  print(\"5 é maior que 2.\")   # Este comando está dentro do IF.\n",
        "\n",
        "# As variáveis são criadas atribuindo-se valores à elas:\n",
        "x = 5\n",
        "nome = \"Python\"\n",
        "\n",
        "print(x)\n",
        "print(nome)"
      ],
      "metadata": {
        "id": "Lms7vTjUtgGv"
      },
      "execution_count": null,
      "outputs": []
    },
    {
      "cell_type": "markdown",
      "source": [
        "## Exercício 1:\n",
        "Crie um código que escreva \"Olá, seu primeiro nome\"."
      ],
      "metadata": {
        "id": "MejS9QFYlstA"
      }
    },
    {
      "cell_type": "markdown",
      "source": [
        "# Tipos de dados"
      ],
      "metadata": {
        "id": "C5PyQeL0uH6U"
      }
    },
    {
      "cell_type": "markdown",
      "source": [
        "## Variáveis numéricas"
      ],
      "metadata": {
        "id": "Cbw1kFoJuL-E"
      }
    },
    {
      "cell_type": "markdown",
      "source": [
        "\n",
        "A linguagem **Python** permite o uso de variáveis numéricas inteiras (*int*), de ponto flutuante (*float*) e complexas (*complex*):"
      ],
      "metadata": {
        "id": "2lYjldsAuSQW"
      }
    },
    {
      "cell_type": "code",
      "source": [
        "# Números inteiros\n",
        "x = 20             # Inteiro com valor 20\n",
        "y = int(1024)      # Inteiro com valor 1024\n",
        "z = int('1234')    # Inteiro com valor 1234\n",
        "\n",
        "print(x)    # Exibe 20\n",
        "print(y)    # Exibe 1024\n",
        "print(z)    # Exibe 1234\n",
        "\n",
        "print(type(x))    # Exibe \"<class 'int'> indicando que é inteiro.\n",
        "print(type(y))    # Exibe \"<class 'int'> indicando que é inteiro.\n",
        "print(type(z))    # Exibe \"<class 'int'> indicando que é inteiro."
      ],
      "metadata": {
        "id": "264OCt1wua_F"
      },
      "execution_count": null,
      "outputs": []
    },
    {
      "cell_type": "code",
      "source": [
        "# Números de ponto flutuante\n",
        "x = 20.5               # Ponto flutuante com valor 20.5\n",
        "y = float(3.1415)      # Ponto flutuante com valor 3.1415\n",
        "z = float('1.2345')    # Ponto flutuante com valor 1.2345\n",
        "\n",
        "print(x)    # Exibe 20.5\n",
        "print(y)    # Exibe 3.1415\n",
        "print(z)    # Exibe 1.2345\n",
        "\n",
        "print(type(x))    # Exibe \"<class 'float'> indicando que é ponto flutuante.\n",
        "print(type(y))    # Exibe \"<class 'float'> indicando que é ponto flutuante.\n",
        "print(type(z))    # Exibe \"<class 'float'> indicando que é ponto flutuante."
      ],
      "metadata": {
        "id": "G2Hg7DaiufDK"
      },
      "execution_count": null,
      "outputs": []
    },
    {
      "cell_type": "code",
      "source": [
        "# Números complexos\n",
        "x = 1j                   # Número complexo 0.0 + 1.0i\n",
        "y = complex(2 + 3j)      # Número complexo 2.0 + 3.0i\n",
        "z = complex('1.2+3.4j')  # Número complexo 1.2 + 3.4i (sem espaços!)\n",
        "\n",
        "print(x)    # Exibe 1j\n",
        "print(y)    # Exibe (2+3j)\n",
        "print(z)    # Exibe (1.2+3.4j)\n",
        "\n",
        "print(type(x))    # Exibe \"<class 'complex'> indicando que é complexo.\n",
        "print(type(y))    # Exibe \"<class 'complex'> indicando que é complexo.\n",
        "print(type(z))    # Exibe \"<class 'complex'> indicando que é complexo."
      ],
      "metadata": {
        "id": "w1DCF9tjuiS4"
      },
      "execution_count": null,
      "outputs": []
    },
    {
      "cell_type": "markdown",
      "source": [
        "## Variáveis do tipo texto (string)"
      ],
      "metadata": {
        "id": "08fm0OpJu_b8"
      }
    },
    {
      "cell_type": "markdown",
      "source": [
        "A linguagem Python também permite o uso de variáveis do tipo texto (string):"
      ],
      "metadata": {
        "id": "L-AnjJWHvGQk"
      }
    },
    {
      "cell_type": "code",
      "source": [
        "x = \"Hello World!\"    # String \"Hello World!\"\n",
        "y = str(20)           # String \"20\"\n",
        "z = str(3.1415)       # String \"3.1415\"\n",
        "\n",
        "print(x)    # Exibe \"Hello World!\"\n",
        "print(y)    # Exibe \"20\"\n",
        "print(z)    # Exibe \"3.1415\"\n",
        "\n",
        "print(type(x))    # Exibe \"<class 'str'> indicando que é string.\n",
        "print(type(y))    # Exibe \"<class 'str'> indicando que é string.\n",
        "print(type(z))    # Exibe \"<class 'str'> indicando que é string."
      ],
      "metadata": {
        "id": "fOk2y7WgvKKp"
      },
      "execution_count": null,
      "outputs": []
    },
    {
      "cell_type": "markdown",
      "source": [
        "## Variáveis do tipo lógico (booleano)"
      ],
      "metadata": {
        "id": "qEt4J_HtvN-6"
      }
    },
    {
      "cell_type": "markdown",
      "source": [
        "A linguagem Python também permite o uso de variáveis do tipo lógica (booleana):"
      ],
      "metadata": {
        "id": "KAVEABWuvTlv"
      }
    },
    {
      "cell_type": "code",
      "source": [
        "x = False      # Booleano com valor False\n",
        "y = bool(1)    # Booleano com valor True\n",
        "z = (3 > 5)    # Booleano com valor False\n",
        "\n",
        "print(x)    # Exibe False\n",
        "print(y)    # Exibe True\n",
        "print(z)    # Exibe False\n",
        "\n",
        "print(type(x))    # Exibe \"<class 'bool'> indicando que é booleano.\n",
        "print(type(y))    # Exibe \"<class 'bool'> indicando que é booleano.\n",
        "print(type(z))    # Exibe \"<class 'bool'> indicando que é booleano."
      ],
      "metadata": {
        "id": "CMLwvEqFvWRy"
      },
      "execution_count": null,
      "outputs": []
    },
    {
      "cell_type": "markdown",
      "source": [
        "## Importante"
      ],
      "metadata": {
        "id": "-Il4DoUkvh1v"
      }
    },
    {
      "cell_type": "markdown",
      "source": [
        "* Textos (*strings*) que representam números não podem ser utilizados em cálculos, a menos que sejam convertidos com `int()` ou `float()`.\n",
        "\n",
        "* Na conversão de números para booleano, o valor númerico `0` é convertido para `False` e todos os demais valores para `True`."
      ],
      "metadata": {
        "id": "GQAm8hWKvkir"
      }
    },
    {
      "cell_type": "markdown",
      "source": [
        "## Exercício 1: Convertendo entre int e float\n",
        "\n",
        "Crie três variáveis: uma do tipo `int`, uma do tipo `float` e uma do tipo `bool`. Exiba os valores de cada uma dessas variáveis e o tipo delas. Em seguida, converta as variáveis de acordo com as instruções abaixo:\n",
        "\n",
        "* Converta o número inteiro para float e exiba o resultado.\n",
        "* Converta o número decimal (float) para int e exiba o resultado.\n",
        "* Tente converter o valor booleano para int e float, e observe os resultados.\n",
        "\n",
        "\n"
      ],
      "metadata": {
        "id": "3L4zf0sbsc5M"
      }
    },
    {
      "cell_type": "markdown",
      "source": [
        "## Exercício 2: Operações básicas com int e float\n",
        "\n",
        "Crie duas variáveis: uma contendo um número inteiro igual a 5 (`num1 = 5`) e outra contendo um número decimal float igual a 2.5 (`num2 = 2.5`). Em seguida, execute as seguintes operações e printe o resultado:\n",
        "\n",
        "* Adição  (`num1 + num2`)\n",
        "* Subtração (`num1 - num2`)\n",
        "* Multiplicação (`num1 * num2`)\n",
        "* Divisão (`num1 / num2`)\n",
        "\n",
        "\n"
      ],
      "metadata": {
        "id": "4-0M8jO3uCRQ"
      }
    },
    {
      "cell_type": "markdown",
      "source": [
        "## Exercício 3: Calculando a área de um círculo\n",
        "\n",
        "Crie um programa que calcule a área de um círculo, dada a fórmula: $A = \\pi * r^2$. Atribua um valor para o raio (como float) e mostre o resultado da área. Utilize π = 3.14159.\n",
        "\n",
        "* O resultado deve ser apresentado como \"A área do círculo é: {area}\"\n",
        "\n",
        "\n"
      ],
      "metadata": {
        "id": "oKJQjbesw9KO"
      }
    },
    {
      "cell_type": "markdown",
      "source": [
        "# Operações Matemáticas\n",
        "\n",
        "\n",
        "Python é uma linguagem muito utilizada para realizar operações matemáticas, seja para cálculos simples ou mais avançados. Neste tutorial, vamos aprender sobre as operações matemáticas básicas em Python, como soma, subtração, multiplicação, divisão, além de algumas funções matemáticas úteis.\n"
      ],
      "metadata": {
        "id": "L5Pt7A9hYqmV"
      }
    },
    {
      "cell_type": "markdown",
      "source": [
        "##  Operadores Matemáticos Básicos\n",
        "\n",
        "| Operador | Descrição                 | Exemplo           |\n",
        "|----------|---------------------------|-------------------|\n",
        "| `+`      | Adição                    | `2 + 3 = 5`       |\n",
        "| `-`      | Subtração                 | `5 - 2 = 3`       |\n",
        "| `*`      | Multiplicação             | `2 * 3 = 6`       |\n",
        "| `/`      | Divisão                   | `6 / 2 = 3.0`     |\n",
        "| `//`     | Divisão inteira           | `7 // 2 = 3`      |\n",
        "| `%`      | Módulo (resto da divisão) | `7 % 2 = 1`       |\n",
        "| `**`     | Exponenciação             | `2 ** 3 = 8`      |\n",
        "\n",
        "\\\\\n",
        "**Exemplo:**"
      ],
      "metadata": {
        "id": "123J8JWwahiN"
      }
    },
    {
      "cell_type": "code",
      "source": [
        "x = 10\n",
        "\n",
        "# Atualizando o valor de x\n",
        "x += 5  # Agora x é 15\n",
        "print(x)\n",
        "\n",
        "x *= 2  # Agora x é 30\n",
        "print(x)\n",
        "\n",
        "x -= 7  # Agora x é 23\n",
        "print(x)\n"
      ],
      "metadata": {
        "id": "YVNNdubYZxN4"
      },
      "execution_count": null,
      "outputs": []
    },
    {
      "cell_type": "markdown",
      "source": [
        "## Funções Matemáticas com math\n",
        "\n",
        "O Python possui um módulo chamado `math` que contém várias funções matemáticas úteis, veja mais detalhes em [doc.math](https://docs.python.org/pt-br/3/library/math.html). Para utilizá-las, é necessário importar o módulo.\n",
        "\n",
        "**Exemplo:**"
      ],
      "metadata": {
        "id": "ZFL0HGGTakD2"
      }
    },
    {
      "cell_type": "code",
      "source": [
        "import math\n",
        "\n",
        "# Raiz quadrada\n",
        "print(math.sqrt(16))  # 4.0\n",
        "\n",
        "# Potência (equivalente a **)\n",
        "print(math.pow(2, 3))  # 8.0\n",
        "\n",
        "# Exponencial (equivalente e^x)\n",
        "print(math.exp(1))\n",
        "\n",
        "# Logaritmo\n",
        "## math.log(x) = logaritmo natural de x\n",
        "print(math.log(10))\n",
        "\n",
        "## ## math.log(x, b) = logaritmo x na base b\n",
        "print(math.log(10, 10))\n",
        "\n",
        "# Fatorial\n",
        "print(math.factorial(5))  # 120\n",
        "\n",
        "# Valor absoluto\n",
        "print(abs(-10))  # 10\n",
        "\n",
        "# Arredondamento para baixo (floor)\n",
        "print(math.floor(2.9))  # 2\n",
        "\n",
        "# Arredondamento para cima (ceil)\n",
        "print(math.ceil(2.1))  # 3"
      ],
      "metadata": {
        "id": "NwzJ-jTNauuw"
      },
      "execution_count": null,
      "outputs": []
    },
    {
      "cell_type": "markdown",
      "source": [
        "## Atualizando Variáveis com Operadores Atribuição\n",
        "\n",
        "Além de usar operadores matemáticos básicos, você pode usar operadores de atribuição para atualizar o valor de uma variável diretamente.\n",
        "\n",
        "| Operador | Exemplo  | Equivalente      |\n",
        "|----------|----------|------------------|\n",
        "| `+=`     | `x += 3` | `x = x + 3`      |\n",
        "| `-=`     | `x -= 3` | `x = x - 3`      |\n",
        "| `*=`     | `x *= 3` | `x = x * 3`      |\n",
        "| `/=`     | `x /= 3` | `x = x / 3`      |\n",
        "| `//=`    | `x //= 3`| `x = x // 3`     |\n",
        "| `%=`     | `x %= 3` | `x = x % 3`      |\n",
        "| `**=`    | `x **= 3`| `x = x ** 3`     |\n",
        "\n",
        "\\\\\n",
        "**Exemplo:**"
      ],
      "metadata": {
        "id": "w1QFB_2qbFZd"
      }
    },
    {
      "cell_type": "code",
      "source": [
        "x = 10\n",
        "\n",
        "# Atualizando o valor de x\n",
        "x += 5  # Agora x é 15\n",
        "print(x)\n",
        "\n",
        "x *= 2  # Agora x é 30\n",
        "print(x)\n",
        "\n",
        "x -= 7  # Agora x é 23\n",
        "print(x)\n"
      ],
      "metadata": {
        "id": "W3iYzxz2bT5z"
      },
      "execution_count": null,
      "outputs": []
    },
    {
      "cell_type": "markdown",
      "source": [
        "## Resumo das funções básicas do Python\n",
        "\n",
        "### 1. **`int()`**\n",
        "   - **Descrição**: Converte um valor para inteiro (removendo a parte decimal se for um número de ponto flutuante).\n",
        "   - **Exemplo**:\n",
        "     ```python\n",
        "     int(5.8)  # Retorna 5\n",
        "     int('123')  # Retorna 123\n",
        "     ```\n",
        "\n",
        "### 2. **`float()`**\n",
        "   - **Descrição**: Converte um valor para um número de ponto flutuante (decimal).\n",
        "   - **Exemplo**:\n",
        "     ```python\n",
        "     float(10)  # Retorna 10.0\n",
        "     float('3.14')  # Retorna 3.14\n",
        "     ```\n",
        "\n",
        "### 3. **`round()`**\n",
        "   - **Descrição**: Arredonda um número de ponto flutuante para o inteiro mais próximo ou para um número de casas decimais especificado.\n",
        "   - **Exemplo**:\n",
        "     ```python\n",
        "     round(3.14159, 2)  # Retorna 3.14\n",
        "     round(5.7)  # Retorna 6\n",
        "     ```\n",
        "\n",
        "### 4. **`abs()`**\n",
        "   - **Descrição**: Retorna o valor absoluto de um número (sem sinal).\n",
        "   - **Exemplo**:\n",
        "     ```python\n",
        "     abs(-10)  # Retorna 10\n",
        "     abs(3.5)  # Retorna 3.5\n",
        "     ```\n",
        "\n",
        "### 5. **`pow()`**\n",
        "   - **Descrição**: Calcula a exponenciação de um número, equivalente a `x ** y`.\n",
        "   - **Exemplo**:\n",
        "     ```python\n",
        "     pow(2, 3)  # Retorna 8 (2^3)\n",
        "     pow(9, 0.5)  # Retorna 3.0 (raiz quadrada de 9)\n",
        "     ```\n",
        "\n",
        "### 6. **`min()`**\n",
        "   - **Descrição**: Retorna o menor valor de uma sequência ou entre os argumentos fornecidos.\n",
        "   - **Exemplo**:\n",
        "     ```python\n",
        "     min(3, 1, 5)  # Retorna 1\n",
        "     min([10, 20, -5, 4])  # Retorna -5\n",
        "     ```\n",
        "\n",
        "### 7. **`max()`**\n",
        "   - **Descrição**: Retorna o maior valor de uma sequência ou entre os argumentos fornecidos.\n",
        "   - **Exemplo**:\n",
        "     ```python\n",
        "     max(3, 1, 5)  # Retorna 5\n",
        "     max([10, 20, -5, 4])  # Retorna 20\n",
        "     ```\n",
        "\n",
        "### 8. **`sum()`**\n",
        "   - **Descrição**: Soma todos os elementos de uma sequência (como uma lista ou tupla).\n",
        "   - **Exemplo**:\n",
        "     ```python\n",
        "     sum([1, 2, 3, 4])  # Retorna 10\n",
        "     sum((5, 10, 15))  # Retorna 30\n",
        "     ```\n",
        "\n",
        "### 9. **`divmod()`**\n",
        "   - **Descrição**: Retorna o quociente e o resto da divisão como uma tupla `(q, r)`.\n",
        "   - **Exemplo**:\n",
        "     ```python\n",
        "     divmod(10, 3)  # Retorna (3, 1)\n",
        "     ```\n",
        "\n",
        "### 10. **`complex()`**\n",
        "   - **Descrição**: Cria um número complexo com a parte real e imaginária.\n",
        "   - **Exemplo**:\n",
        "     ```python\n",
        "     complex(2, 3)  # Retorna (2+3j)\n",
        "     ```\n",
        "\n",
        "### 11. **`bin()`**\n",
        "   - **Descrição**: Converte um número inteiro para sua representação binária.\n",
        "   - **Exemplo**:\n",
        "     ```python\n",
        "     bin(10)  # Retorna '0b1010'\n",
        "     ```\n",
        "\n",
        "### 12. **`bool()`**\n",
        "   - **Descrição**: Converte um valor para `True` ou `False`, baseado na sua \"verdade\". Números zero e valores vazios são `False`, enquanto os demais são `True`.\n",
        "   - **Exemplo**:\n",
        "     ```python\n",
        "     bool(0)  # Retorna False\n",
        "     bool(5)  # Retorna True\n",
        "     bool('')  # Retorna False\n",
        "     ```\n"
      ],
      "metadata": {
        "id": "SmFjxODJc_nZ"
      }
    },
    {
      "cell_type": "markdown",
      "source": [
        "## Exemplo: Cálculo de Área e Perímetro\n",
        "\n",
        "Escreva um programa que receba o raio de um círculo e calcule a área e o perímetro. Lembrando as equações são\n",
        "$$\n",
        "Area = \\pi \\, r^2\n",
        "\\\\\n",
        "Perimetro = 2 \\pi \\, r\n",
        "$$\n",
        "\n",
        "Utilize a constante `math.pi` para o valor de $\\pi$."
      ],
      "metadata": {
        "id": "R4rGVR_7g9er"
      }
    },
    {
      "cell_type": "code",
      "source": [
        "# Solução\n",
        "import math\n",
        "\n",
        "raio = float(input(\"Digite o raio do círculo: \"))\n",
        "\n",
        "area = math.pi * (raio ** 2)\n",
        "perimetro = 2 * math.pi * raio\n",
        "\n",
        "print(f\"Área: {area:.2f}\")\n",
        "print(f\"Perímetro: {perimetro:.2f}\")\n"
      ],
      "metadata": {
        "id": "wapagYs9hHsk"
      },
      "execution_count": null,
      "outputs": []
    },
    {
      "cell_type": "markdown",
      "source": [
        "## Exercício 1: Conversor de Temperatura\n",
        "\n",
        "Crie um programa que converta uma temperatura de graus Celsius para Fahrenheit.\n",
        "\n",
        "A fórmula de conversão é:\n",
        "$$\n",
        "Fahrenheit = Celsius \\times \\frac{9}{5} + 32\n",
        "$$\n",
        "\n",
        "Obs: para receber a temperatura em Celsius do usuário, utilize o comando:\n",
        "\n",
        " * `celsius = float(input(\"Digite a temperatura em Celsius: \"))`"
      ],
      "metadata": {
        "id": "IropyA5xbHDw"
      }
    },
    {
      "cell_type": "markdown",
      "source": [
        "## Exercício 2: Calculadora de IMC\n",
        "\n",
        "Crie um programa que recebe calcula o Índice de Massa Corporal (IMC). Para isto você deve receber do usuário o peso e a altura.\n",
        "\n",
        "A fórmula do IMC é dada por:\n",
        "$$\n",
        "IMC = peso / altura^2,\n",
        "$$\n",
        "em que peso é dado em kg e a altura em metros.\n",
        "\n",
        "Obs: utilize os seguintes comandos para ser o peso e a altura:\n",
        "* `peso = float(input(\"Digite o peso em quilogramas: \"))`\n",
        "* `altura = float(input(\"Digite a altura em metros: \"))`"
      ],
      "metadata": {
        "id": "HiM204Q0dhlQ"
      }
    },
    {
      "cell_type": "markdown",
      "source": [
        "# Coleções"
      ],
      "metadata": {
        "id": "ggyndaXSYDt0"
      }
    },
    {
      "cell_type": "markdown",
      "source": [
        "## Listas"
      ],
      "metadata": {
        "id": "b1gBeTabvwKd"
      }
    },
    {
      "cell_type": "markdown",
      "source": [
        "As listas são usadas quando você precisa de uma estrutura de dados ordenada e mutável. Elas são a estrutura mais flexível, permitindo alterações em seus elementos, como adicionar, remover ou modificar valores.\n",
        "\n",
        "As **listas** (`list`) são coleções:\n",
        "\n",
        "* **ordenadas** -- os elementos mantém a ordem de inclusão.\n",
        "\n",
        "* **elementos podem ser alterados** -- o valor dos elementos podem ter seus valores alterados.\n",
        "\n",
        "* **permite duplicação dos elementos** -- os elementos podem ter valores repetidos."
      ],
      "metadata": {
        "id": "-PYNGIrlvy25"
      }
    },
    {
      "cell_type": "markdown",
      "source": [
        "Os métodos definidos na classe `list` são:\n",
        "\n",
        "* `append()`: Adiciona um elemento no final da lista.\n",
        "* `clear()`: Remove todos os elementos da lista.\n",
        "* `copy()`: Retorna uma cópia da lista.\n",
        "* `count()`: Retorna o número de elementos com o valor especificado.\n",
        "* `extend()`: Adiciona os elementos de um conjunto de dados ao final da lista.\n",
        "* `index()`: Retorna o índice do primeiro elemento com o valor especificado.\n",
        "* `insert()`: Adiciona um elemento na posição especificada.\n",
        "* `pop()`: Remove e retorna o elemento na posição especificada.\n",
        "* `remove():` Remove o primeiro elemento com o valor especificado.\n",
        "* `reverse()`: Inverte a ordem da lista.\n",
        "* `sort()`: Ordena a lista."
      ],
      "metadata": {
        "id": "dkTRT0XF12XC"
      }
    },
    {
      "cell_type": "markdown",
      "source": [
        "As listas são criadas usando `[]` ou `list()`. Veja os exemplos abaixo."
      ],
      "metadata": {
        "id": "nP3l5XZR7aoh"
      }
    },
    {
      "cell_type": "code",
      "source": [
        "v1 = [\"Fortran\", \"Python\", \"R\", \"Python\"]\n",
        "v2 = list((\"Fortran\", \"Python\", \"R\", \"Python\"))\n",
        "\n",
        "print(v1)    # Exibe a lista v1.\n",
        "print(v2)    # Exibe a lista v2.\n",
        "\n",
        "print(type(v1))    # Exibe \"<class 'list'> indicando que é lista.\n",
        "print(type(v2))    # Exibe \"<class 'list'> indicando que é lista."
      ],
      "metadata": {
        "id": "ObjKZskBv2rb"
      },
      "execution_count": null,
      "outputs": []
    },
    {
      "cell_type": "code",
      "source": [
        "v = [\"Fortran\", \"Python\", \"R\", \"Python\"]\n",
        "\n",
        "## acessando posições de um lista\n",
        "print(v[0])    # Exibe 'Fortran'\n",
        "print(v[1])    # Exibe 'Python'\n",
        "print(v[2])    # Exibe 'R'\n",
        "print(v[3])    # Exibe 'Python'\n",
        "\n",
        "## print(v[4])) # gera um erro pois essa posição não existe na lista v"
      ],
      "metadata": {
        "id": "kwbNzr1Xyvq9"
      },
      "execution_count": null,
      "outputs": []
    },
    {
      "cell_type": "code",
      "source": [
        "v = [\"Fortran\", \"Python\", \"R\", \"Python\"]\n",
        "\n",
        "## acessando posições de um lista\n",
        "print(v[-1])    # Exibe 'Python'\n",
        "print(v[-2])    # Exibe 'R'\n",
        "print(v[-3])    # Exibe 'Python'\n",
        "print(v[-4])    # Exibe 'Fortran'\n",
        "\n",
        "## print(v[-5])) # gera um erro pois essa posição não existe na lista"
      ],
      "metadata": {
        "id": "7EavSk1TzCiz"
      },
      "execution_count": null,
      "outputs": []
    },
    {
      "cell_type": "code",
      "source": [
        "v = [\"Fortran\", \"Python\", \"R\", \"Python\"]\n",
        "\n",
        "print(v)     # exibe a lista original\n",
        "\n",
        "v[1] = \"C++\" # altera o segundo elemento da lista\n",
        "\n",
        "print(v)     # exibe a lista alterada"
      ],
      "metadata": {
        "id": "dGWIpR8W0aoK"
      },
      "execution_count": null,
      "outputs": []
    },
    {
      "cell_type": "code",
      "source": [
        "v1 = [\"Cobol\", \"Fortran\", \"Python\"]\n",
        "v2 = [\"A\", \"B\", \"C\", \"D\"]\n",
        "\n",
        "print(v1[0]) # Exibe 'Cobol'\n",
        "print(v2[1]) # Exibe 'B'\n",
        "\n",
        "print(\"------\")\n",
        "\n",
        "v1.append(\"R\")               # v1 = ['Cobol', 'Fortran', 'Python', 'R']\n",
        "v2.clear()                   # v2 = []\n",
        "v3 = v1.copy()               # v3 = ['Cobol', 'Fortran', 'Python', 'R']\n",
        "print( v1.count(\"R\") )       # => 1  ('R' aparece 1 vez)\n",
        "print(\"------\")\n",
        "v1.extend([\"Java\", \"C\"])     # v1 = ['Cobol', 'Fortran', 'Python', 'R', 'Java', 'C']\n",
        "print(v1.index(\"Python\"))    # => 2 ('Python' está na posição 2)\n",
        "print(\"------\")\n",
        "v1.insert(1, \"C#\")           # v1 = ['Cobol', 'C#', 'Fortran', 'Python', 'R', 'Java', 'C']\n",
        "print(v1.pop(1))             # v1 = ['Cobol', 'Fortran', 'Python', 'R', 'Java', 'C'] => 'C#'\n",
        "print(\"------\")\n",
        "v1.remove(\"Fortran\")         # v1 = ['Cobol', 'Python', 'R', 'Java', 'C']\n",
        "v1.reverse()                 # v1 = ['C', 'Java', 'R', 'Python', 'Cobol']\n",
        "v1.sort()                    # v1 = ['C', 'Cobol', 'Java', 'Python', 'R']\n",
        "\n",
        "print(\"v1 = \", v1)           # Exibe v1 = ['C', 'Cobol', 'Java', 'Python', 'R']\n",
        "print(\"v2 = \", v2)           # Exibe v2 = []\n",
        "print(\"v3 = \", v3)           # Exibe v3 = ['Cobol', 'Fortran', 'Python', 'R']"
      ],
      "metadata": {
        "id": "Ldw9kp5312XC"
      },
      "execution_count": null,
      "outputs": []
    },
    {
      "cell_type": "markdown",
      "source": [
        "**Pilhas utilizando `list`**\n",
        "\n",
        "Os métodos de lista tornam muito fácil usar uma lista como uma **pilha**, onde o último elemento adicionado é o primeiro elemento recuperado (“último a entrar, primeiro a sair”). Para adicionar um item ao topo da pilha, use `append()`. Para recuperar um item do topo da pilha, use `pop()` sem um índice explícito. Por exemplo:"
      ],
      "metadata": {
        "id": "R8GIWJI193Ig"
      }
    },
    {
      "cell_type": "code",
      "source": [
        "pilha = []            ## inicializa uma lista vazia\n",
        "pilha.append(3)       ## atualiza para [3]\n",
        "pilha.append(4)       ## atualiza para [3, 4]\n",
        "pilha.append(5)       ## atualiza para [3, 4, 5]\n",
        "pilha.append(6)       ## atualiza para [3, 4, 5, 6]\n",
        "pilha.append(7)       ## atualiza para [3, 4, 5, 6, 7]\n",
        "print( pilha )        ## printa [3, 4, 5, 6, 7]\n",
        "\n",
        "pilha.pop()           ## remove o 7\n",
        "pilha.pop()           ## remove o 6\n",
        "print( pilha )        ## printa [3, 4, 5]\n",
        "\n",
        "pilha.pop()           ## remove o 5\n",
        "pilha.pop()           ## remove o 4\n",
        "pilha.pop()           ## remove o 3\n",
        "print( pilha )        ## printa []\n"
      ],
      "metadata": {
        "id": "0zK0ddpz-W1N"
      },
      "execution_count": null,
      "outputs": []
    },
    {
      "cell_type": "markdown",
      "source": [
        "### Exercício 1: Modificando uma lista\n",
        "\n",
        "Dada a lista `frutas = [\"maçã\", \"banana\", \"laranja\", \"uva\"]`, faça o seguinte:\n",
        "\n",
        "* Substitua a fruta \"banana\" por \"abacaxi\".\n",
        "* Adicione a fruta \"morango\" ao final da lista.\n",
        "* Exiba a lista resultante.\n",
        "* Coloque a lista em ordem alfabética.\n",
        "* Substitua a fruta \"maçã\" por \"pera\".\n",
        "* Exiba a lista e verifique se ainda esta ordenada. Caso não esteja, então ordene e exiba novamente.\n",
        "\n",
        "\n"
      ],
      "metadata": {
        "id": "u1BW2jla3Wuh"
      }
    },
    {
      "cell_type": "markdown",
      "source": [
        "## Tuplas"
      ],
      "metadata": {
        "id": "HWqa_8owwjba"
      }
    },
    {
      "cell_type": "markdown",
      "source": [
        "**Tuplas** (`tuple`) são similares às listas, mas com a diferença de serem imutáveis, ou seja, seus valores não podem ser alterados após a criação. Temos então as seguintes propriedades para a classe `tuble`:\n",
        "\n",
        "* **ordenadas** -- os elementos mantém a ordem de inclusão.\n",
        "\n",
        "* **elementos não podem ser alterados** -- o valor dos elementos não podem ter seus valores alterados.\n",
        "\n",
        "* **permite duplicação dos elementos** -- os elementos podem ter valores repetidos.\n",
        "\n"
      ],
      "metadata": {
        "id": "aFaI2sXAw4Fu"
      }
    },
    {
      "cell_type": "markdown",
      "source": [
        "Os métodos definidos na classe **tupla** são:\n",
        "\n",
        "* `count()`: Retorna o número de elementos com o valor especificado.\n",
        "* `index()`: Retorna o índice do primeiro elemento com o valor especificado.\n"
      ],
      "metadata": {
        "id": "qtwICsiCrgUe"
      }
    },
    {
      "cell_type": "markdown",
      "source": [
        "As **tuplas** são criadas usando apenas virgulas ou `()` ou `tuple()`:"
      ],
      "metadata": {
        "id": "CRxr89p5r1AY"
      }
    },
    {
      "cell_type": "code",
      "source": [
        "v0 = \"Fortran\", \"Python\", \"R\", \"Python\"\n",
        "v1 = (\"Fortran\", \"Python\", \"R\", \"Python\")\n",
        "v2 = tuple((\"Fortran\", \"Python\", \"R\", \"Python\"))\n",
        "\n",
        "print(v0)    # Exibe a tupla v0.\n",
        "print(v1)    # Exibe a tupla v1.\n",
        "print(v2)    # Exibe a tupla v2.\n",
        "\n",
        "print(type(v0))    # Exibe \"<class 'tuple'> indicando que é tupla.\n",
        "print(type(v1))    # Exibe \"<class 'tuple'> indicando que é tupla.\n",
        "print(type(v2))    # Exibe \"<class 'tuple'> indicando que é tupla."
      ],
      "metadata": {
        "id": "xNUzGHMuwwGG"
      },
      "execution_count": null,
      "outputs": []
    },
    {
      "cell_type": "markdown",
      "source": [
        "Os elementos de uma **tupla** podem ser *desempacotados* em um conjunto de variáveis:"
      ],
      "metadata": {
        "id": "e4rKizuhr1AZ"
      }
    },
    {
      "cell_type": "code",
      "source": [
        "frutas = (\"maçã\", \"banana\", \"cereja\")\n",
        "(verde, amarelo, vermelho) = frutas\n",
        "\n",
        "print(verde)       # Exibe 'maçã'\n",
        "print(amarelo)     # Exibe 'banana'\n",
        "print(vermelho)    # Exibe 'cereja'"
      ],
      "metadata": {
        "id": "WnGN4BWpr1AZ"
      },
      "execution_count": null,
      "outputs": []
    },
    {
      "cell_type": "markdown",
      "source": [
        "Se existem múltiplos elementos, os elementos finais da **tupla** podem ser atribuídos à uma lista:"
      ],
      "metadata": {
        "id": "OInib-XEr1AZ"
      }
    },
    {
      "cell_type": "code",
      "source": [
        "frutas = (\"maçã\", \"banana\", \"cereja\", \"morango\", \"framboesa\")\n",
        "(verde, amarelo, *vermelho) = frutas\n",
        "\n",
        "print(verde)\n",
        "print(amarelo)\n",
        "print(vermelho)"
      ],
      "metadata": {
        "id": "arqd7rfvr1AZ"
      },
      "execution_count": null,
      "outputs": []
    },
    {
      "cell_type": "code",
      "source": [
        "v = (\"Cobol\", \"Fortran\", \"Python\", \"Python\", \"Python\")\n",
        "\n",
        "print(v[0])    # Exibe 'Cobol'\n",
        "print(v[1])    # Exibe 'Fortran\n",
        "print(v[-1])   # Exibe 'Python'\n",
        "print(v[1:4])  # Exibe ('Fortran', 'Python', 'Python')\n",
        "\n",
        "print(v.count(\"Python\"))    # Exibe 3 ('Python' ocorre 3 vezes)\n",
        "print(v.index(\"Python\"))    # Exibe 2 (a primeira ocorrência de 'Python' está na posição 2)"
      ],
      "metadata": {
        "id": "iAtfmMhFr1AZ"
      },
      "execution_count": null,
      "outputs": []
    },
    {
      "cell_type": "markdown",
      "source": [
        "### Exercício 2: Buscando um elemento em uma tupla\n",
        "\n",
        "Dada a tupla `frutas = (\"maçã\", \"banana\", \"laranja\", \"uva\")`, encontre e exiba o índice da fruta \"laranja\".\n",
        "\n"
      ],
      "metadata": {
        "id": "--N32RVhwQZ5"
      }
    },
    {
      "cell_type": "markdown",
      "source": [
        "## Conjuntos"
      ],
      "metadata": {
        "id": "3Cc1ByHexKaG"
      }
    },
    {
      "cell_type": "markdown",
      "source": [
        "Os **conjuntos** (`set`) são coleções desordenadas de itens únicos, o que significa que eles não mantêm uma ordem específica e não permitem elementos duplicados. Temos então as seguintes propriedades para a classe `set`:\n",
        "\n",
        "* **não ordenadas** -- os elementos mantém uma ordem aleatória.\n",
        "\n",
        "* **elementos não podem ser alterados** -- o valor dos elementos não podem ter seus valores alterados, embora possam ser incluídos ou excluídos do conjunto.\n",
        "\n",
        "* **não permite duplicação dos elementos** -- os elementos não podem ter valores repetidos; são incluídos uma única vez."
      ],
      "metadata": {
        "id": "Zec9oUtaxRNt"
      }
    },
    {
      "cell_type": "markdown",
      "source": [
        "Os principais métodos definidos na classe `set` são:\n",
        "\n",
        "* `add()`: adiciona um elemento ao conjunto.\n",
        "* `clear()`: remove todos os elementos do conjunto.\n",
        "* `copy()`: retorna uma cópia do conjunto.\n",
        "* `difference()`: retorna um conjunto contendo a diferença entre dois ou mais conjuntos.\n",
        "* `discard()`: Remove um item especificado.\n",
        "* `intersection()`: retorna um conjunto com aintersecção entre dois conjuntos.\n",
        "* `isdisjoint()`: verifica se os conjuntos são disjuntos.\n",
        "* `issubset()`: verifica se o conjunto está contido em outro conjunto.\n",
        "* `issuperset()`: verifica se o conjunto contém outro conjunto.\n",
        "* `remove()`: remove o elemento especificado.\n",
        "* `union()`: Retorna um conjunto com a união entre conjuntos.\n",
        "* `update()`: Atualiza o conjunto acrescentando outros conjuntos."
      ],
      "metadata": {
        "id": "VN_-Ld7zxBAC"
      }
    },
    {
      "cell_type": "markdown",
      "source": [
        "Os **conjuntos** são criados usando `{}` ou `set()`:"
      ],
      "metadata": {
        "id": "0qSLcJ8bwaks"
      }
    },
    {
      "cell_type": "code",
      "source": [
        "v1 = {\"Fortran\", \"Python\", \"R\", \"Python\"}\n",
        "v2 = set((\"Fortran\", \"Python\", \"R\", \"Python\"))\n",
        "\n",
        "print(v1)    # Exibe o conjunto v1.\n",
        "print(v2)    # Exibe o conjunto v2.\n",
        "\n",
        "print(type(v1))    # Exibe \"<class 'set'> indicando que é conjunto.\n",
        "print(type(v2))    # Exibe \"<class 'set'> indicando que é conjunto."
      ],
      "metadata": {
        "id": "HBWinuxuxIqP"
      },
      "execution_count": null,
      "outputs": []
    },
    {
      "cell_type": "markdown",
      "source": [
        "Elementos repetidos em um conjunto são ignorados:"
      ],
      "metadata": {
        "id": "Hrqa9hJZw0Xk"
      }
    },
    {
      "cell_type": "code",
      "source": [
        "v = {1, 2, 3, 3, 4, 5}\n",
        "print(v)"
      ],
      "metadata": {
        "id": "ECymgIMRw35q"
      },
      "execution_count": null,
      "outputs": []
    },
    {
      "cell_type": "code",
      "source": [
        "s1 = {\"A\", \"B\", \"C\", \"D\", \"E\"}\n",
        "s2 = {\"A\", \"B\", \"C\"}\n",
        "s3 = {\"X\", \"Y\", \"Z\"}\n",
        "\n",
        "s3.add(\"W\")                           # s3 = {'X', 'W', 'Y', 'Z'}\n",
        "print(\"s3: \", s3)                     # exibe: s3:  {'W', 'X', 'Y', 'Z'}\n",
        "s3.clear()                            # s3 = {}\n",
        "print(\"s3: \", s3)                     # exibe: s3:  set()\n",
        "\n",
        "s3 = s2.copy()                        # s3 = {'A', 'B', 'C'}\n",
        "print(\"s3: \", s3)                     # exibe: s3:  {'A', 'B', 'C'}\n",
        "\n",
        "s3 = s1.difference(s2)                # s3 = {'D', 'E'}\n",
        "print(\"s3: \", s3)                     # exibe: s3:  {'D', 'E'}\n",
        "\n",
        "s3.discard(\"D\")                       # s3 = {'E'}\n",
        "print(\"s3: \", s3)                     # exibe: s3:  {'E'}\n",
        "\n",
        "print(\"s2 inter s1 :\", s2.intersection(s1))  # exibe:  {\"A\", \"B\", \"C\"}\n",
        "\n",
        "print(s1.isdisjoint(s2))              # s1 disjunto s2? => False\n",
        "\n",
        "print(s1.issubset(s2))                # s1 contido s2? => False\n",
        "\n",
        "print(s2.issubset(s1))                # s2 contido s1? => True\n",
        "\n",
        "print(s1.issuperset(s2))              # s2 contido s1? => True\n",
        "\n",
        "s1.remove(\"C\")                        # s1 = {\"A\", \"B\", \"D\", \"E\"}\n",
        "print(\"s1: \", s1)                     # exibe: s1:  {'A', 'B', 'D', 'E'}\n",
        "\n",
        "s1.update(s2)                         # s1 = {'A', 'B', 'C', 'D', 'E'}\n",
        "print(\"s1 uniao s2:\", s1.union(s2))   # exibe: s1 uniao s2: {'A', 'B', 'C', 'D', 'E'}\n",
        "\n",
        "s1.update(s2)                         # s1 = {'A', 'B', 'C', 'D', 'E'}\n",
        "\n",
        "print(\"s1 = \", s1)    # Exibe o conjunto s1.\n",
        "print(\"s2 = \", s2)    # Exibe o conjunto s2.\n",
        "print(\"s3 = \", s3)    # Exibe o conjunto s3."
      ],
      "metadata": {
        "id": "5ViHQpgcydy2"
      },
      "execution_count": null,
      "outputs": []
    },
    {
      "cell_type": "markdown",
      "source": [
        "### Exercício 3: Operações com `set`.\n",
        "\n",
        "Crie um set chamado `frutas` contendo as frutas `\"maçã\", \"banana\", \"laranja\"` e `\"uva\"` e então:\n",
        "* exiba o conteúdo;\n",
        "* adicione a fruta \"abacaxi\" e exiba o resultado;\n",
        "* remova o elemento \"banana\" e exiba o resultado;\n",
        "* faça a união do set `frutas` com o set `vermelhas = {\"morango\", \"cereja\", \"amora\"}`, guarde em `frutas` e exiba o resultado;\n",
        "* exiba a interseção do conjunto `frutas` com o conjunto `frutas2 = {\"banana\", \"pera\", \"morango\"}`."
      ],
      "metadata": {
        "id": "POy_ymRgzlR3"
      }
    },
    {
      "cell_type": "markdown",
      "source": [
        "## Dicionário"
      ],
      "metadata": {
        "id": "A06PHVNqxeKM"
      }
    },
    {
      "cell_type": "markdown",
      "source": [
        "Os **dicionários** (*dict*) são coleções de (*chave*, *valor*) que são ordenadas e mutáveis. Não permite duplicações de suas chaves. Temos então as seguintes propriedades para a classe `dict`:\n",
        "\n",
        "* **ordenadas** -- os elementos mantém a ordem de inclusão (*a partir da versão 3.7 do Python*).\n",
        "\n",
        "* **elementos podem ser alterados** -- o valor dos elementos podem ter seus valores alterados.\n",
        "\n",
        "* **não permite duplicação das chaves** -- as chaves não podem ser repetidas."
      ],
      "metadata": {
        "id": "XbyqxTOZxh2-"
      }
    },
    {
      "cell_type": "markdown",
      "source": [
        "Os métodos definidos na classe `dict` são:\n",
        "\n",
        "* `clear()`: Remove todos os elementos do dicionário.\n",
        "* `copy()`: Retorna uma cópia do dicionário.\n",
        "* `fromkeys()`: Retorna um dicionário com as chaves especificadas.\n",
        "* `get()`: Retorna o valor de uma chave específica.\n",
        "* `items()`: Retorna uma lista contendo uma tupla para cada par `(chave, valor)`.\n",
        "* `keys()`: Retorna uma lista contendo as chaves do dicionário.\n",
        "* `pop()`: Remove o elemento na chave especificada.\n",
        "* `popitem()`: Remove o último elemento inserido.\n",
        "* `setdefault()`: Retorna o valor da chave especificada. Se a chave não existe insere a chave com o valor especificado.\n",
        "* `update()`: Atualiza o dicionário com os pares `(chave, valor)` especificados.\n",
        "* `values()`: Retorna uma lista de todos os valores no dicionário"
      ],
      "metadata": {
        "id": "8KzC0BzT535a"
      }
    },
    {
      "cell_type": "markdown",
      "source": [
        "Os **dicionários** são criados usando `{}` informando pares do tipo `chave: valor`; também podem ser criados com `dict()`:"
      ],
      "metadata": {
        "id": "65TKIvwgjGp4"
      }
    },
    {
      "cell_type": "code",
      "source": [
        "v1 = {\"name\" : \"R\", \"version\" : 2.7, \"name\" : \"Python\"}\n",
        "v2 = dict(name = \"Python\", version = 2.7)\n",
        "# v2 = dict(name = \"R\", version = 2.7, name = \"Python\")  ## ERRO: chave duplicada !!\n",
        "\n",
        "print(v1)    # Exibe o dicionário v1.\n",
        "print(v2)    # Exibe o dicionário v2.\n",
        "\n",
        "print(type(v1))    # Exibe \"<class 'dict'> indicando que é dicionário.\n",
        "print(type(v2))    # Exibe \"<class 'dict'> indicando que é dicionário."
      ],
      "metadata": {
        "id": "lz57mxFJxvVX"
      },
      "execution_count": null,
      "outputs": []
    },
    {
      "cell_type": "markdown",
      "source": [
        "Os valores em um dicionário são acessíveis através da chave:"
      ],
      "metadata": {
        "id": "5V9C5Rtt5mz0"
      }
    },
    {
      "cell_type": "code",
      "source": [
        "carro_1 = dict(marca = \"Ford\", modelo = \"Mustang\", ano = 1967)\n",
        "carro_2 = dict(marca = \"Toyota\", modelo = \"Corolla\", ano = 2022)\n",
        "\n",
        "print(carro_1[\"marca\"])   # Exibe 'Ford'\n",
        "print(carro_2[\"modelo\"])  # Exibe 'Corolla'"
      ],
      "metadata": {
        "id": "OM84vYxO5rpF"
      },
      "execution_count": null,
      "outputs": []
    },
    {
      "cell_type": "code",
      "source": [
        "car1 = dict(marca = \"Ford\", modelo = \"Mustang\", ano = 1967)\n",
        "car2 = dict(marca = \"Toyota\", modelo = \"Corolla\", ano = 2022)\n",
        "\n",
        "car2.clear()                                # car2 = {}\n",
        "car2 = car1.copy()                          # car2 =  dict(marca = \"Ford\", modelo = \"Mustang\", ano = 1967)\n",
        "x = dict.fromkeys((\"k1\", \"k2\", \"k3\"), 0)    # x = {'k1': 0, 'k2': 0, 'k3': 0}\n",
        "print(car1.get(\"modelo\"))                   # => 'Mustang'\n",
        "print(x.items())                            # => dict_items([('k1', 0), ('k2', 0), ('k3', 0)])\n",
        "print(x.keys())                             # => dict_keys(['k1', 'k2', 'k3'])\n",
        "\n",
        "print(car1.pop(\"modelo\"))                   # car1 = {'marca': 'Ford', 'ano': 1967} => 'Mustang'\n",
        "\n",
        "print(car2.popitem())                       # car2 = {'marca': 'Ford', 'modelo': 'Mustang'} => ('ano', 1967)\n",
        "print(car2.setdefault(\"ano\", 2020))         # car2 = {'marca': 'Ford', 'modelo': 'Mustang', 'ano': 2020} => 2020\n",
        "print(car2.setdefault(\"marca\", \"Fiat\"))     # car2 = {'marca': 'Ford', 'modelo': 'Mustang', 'ano': 2020} => 'Ford'\n",
        "\n",
        "car1.update({\"modelo\": \"Bronco\"})           # car1 = {'marca': 'Ford', 'ano': 1967, 'modelo': 'Bronco'}\n",
        "print(car1.values())                        # => dict_values(['Ford', 1967, 'Bronco'])\n",
        "\n",
        "print(car1)    # Exibe o dicionário car1.\n",
        "print(car2)    # Exibe o dicionário car2."
      ],
      "metadata": {
        "id": "g2ZSugLA6rKd"
      },
      "execution_count": null,
      "outputs": []
    },
    {
      "cell_type": "markdown",
      "source": [
        "### Exercício 4: Operações com dict\n",
        "\n",
        "Crie um dicionário chamado `aluno` com as chaves `\"nome\", \"idade\"` e `\"nota\"`, e os respectivos valores `\"Ana\"`, `20` e `8.5`. Então:\n",
        "\n",
        "* exiba o dicionário completo;\n",
        "* exiba apenas a nota;\n",
        "* adicione uma nova chave `curso` com o valor `matematica` e exiba o dicionário autalizado;\n",
        "* altera a `idade` para `21` e exiba o dicionário atualizado;\n",
        "* remova a chave `nota` e exiba o dicionário atualizado;\n",
        "* inclua a chave `notas` com os valores `[8.5, 9.0]`  e exiba o dicionário autalizado."
      ],
      "metadata": {
        "id": "QZTnQUdUka2B"
      }
    },
    {
      "cell_type": "markdown",
      "source": [
        "## Range"
      ],
      "metadata": {
        "id": "ZeHV1sG0x3LK"
      }
    },
    {
      "cell_type": "markdown",
      "source": [
        "As **sequências** (range) são estruturas utilizadas principalmente para a construção de índices ou loopings. Essas sequências são criadas utilizando a seguinte função:\n",
        "\n",
        "`range(start, stop, step)`.\n",
        "\n",
        "Veja o exemplo:"
      ],
      "metadata": {
        "id": "hdEQQTq8x7tk"
      }
    },
    {
      "cell_type": "code",
      "source": [
        "x = range(6)          # Sequência 0, 1, 2, 3, 4, 5.\n",
        "y = range(2, 6)       # Sequência 2, 3, 4, 5.\n",
        "z = range(2, 20, 3)   # Sequência 2, 5, 8, 11, 14, 17.\n",
        "\n",
        "print(x)              # Exibe:  range(0, 6)\n",
        "for i in x:\n",
        "  print(i)\n",
        "\n",
        "print(y)              # Exibe: range(2, 6)\n",
        "for i in y:\n",
        "  print(i)\n",
        "\n",
        "print(z)              # Exibe: range(2, 20, 3)\n",
        "for i in z:\n",
        "  print(i)\n",
        "\n",
        "print(type(x))    # Exibe \"<class 'range'> indicando que é sequência.\n",
        "print(type(y))    # Exibe \"<class 'range'> indicando que é sequência.\n",
        "print(type(z))    # Exibe \"<class 'range'> indicando que é sequência."
      ],
      "metadata": {
        "id": "xZ4OqBcQyAao"
      },
      "execution_count": null,
      "outputs": []
    },
    {
      "cell_type": "markdown",
      "source": [
        "### Exercício 5: utilizando range\n",
        "\n",
        "1. exiba o resultado do `range(0, 30, 2)`;\n",
        "2. exiba todos os números pares entre 50 e 70;\n",
        "3. exiba todos os números ímpares entre 50 e 70;\n",
        "4. exiba todos os números que são multiplos de 5 entre 17 e 69.\n",
        "\n"
      ],
      "metadata": {
        "id": "qC_1mqjPph-D"
      }
    },
    {
      "cell_type": "markdown",
      "source": [
        "# Estruturas de códigos"
      ],
      "metadata": {
        "id": "9otVkbcbg69h"
      }
    },
    {
      "cell_type": "markdown",
      "source": [
        "## Execução condicional"
      ],
      "metadata": {
        "id": "IogvXsuHhMSl"
      }
    },
    {
      "cell_type": "markdown",
      "source": [
        "Blocos de código podem ser executados **condicionalmente**, em que a **execução condicional** permite que o programa tome decisões com base em determinadas condições.\n",
        "\n",
        "Em Python, as instruções condicionais são escritas usando as palavras-chave `if`, `else` e `elif` (else if). Com isso, podemos executar diferentes blocos de código dependendo de uma condição lógica, que pode ser verdadeira ou falsa.\n",
        "\n",
        "Estrutura Básica de Condicionais:\n",
        "* `if`: Executa o bloco de código se a condição for verdadeira.\n",
        "* `else`: Executa um bloco de código quando todas as condições anteriores são falsas.\n",
        "* `elif`: Executa um bloco de código alternativo se a primeira condição for falsa e a nova condição for verdadeira.\n"
      ],
      "metadata": {
        "id": "x8duFTsgApaN"
      }
    },
    {
      "cell_type": "markdown",
      "source": [
        "**Operadores Condicionais**\n",
        "\n",
        "* Operadores de comparação:\n",
        "  * `==`: Igualdade\n",
        "  * `!=`: Diferença\n",
        "  * `>`: Maior que\n",
        "  * `<`: Menor que\n",
        "  * `>=`: Maior ou igual a\n",
        "  * `<=`: Menor ou igual a\n",
        "\n",
        "* Operadores lógicos:\n",
        "  * `and`: Verdadeiro se ambas as condições forem verdadeiras.\n",
        "  * `or`: Verdadeiro se uma das condições for verdadeira.\n",
        "  * `not`: Inverte o valor lógico (verdadeiro se a condição for falsa, e vice-versa)."
      ],
      "metadata": {
        "id": "qg5AGu1r1zTt"
      }
    },
    {
      "cell_type": "code",
      "source": [
        "idade = 18\n",
        "\n",
        "if idade >= 18:\n",
        "    print(\"Você é maior de idade.\")\n",
        "else:\n",
        "    print(\"Você é menor de idade.\")"
      ],
      "metadata": {
        "id": "asZ2Oh7IAwFw"
      },
      "execution_count": null,
      "outputs": []
    },
    {
      "cell_type": "markdown",
      "source": [
        "No exemplo acima, se a variável idade for maior ou igual a 18, a mensagem \"Você é maior de idade\" será exibida; caso contrário, a mensagem será \"Você é menor de idade\"."
      ],
      "metadata": {
        "id": "VaNytVKFY_jZ"
      }
    },
    {
      "cell_type": "markdown",
      "source": [
        "**Exemplo**: Crie um programa que peça ao usuário um ano e verifique se ele é bissexto. Um ano é bissexto se for divisível por 4, mas não por 100, exceto se for divisível por 400."
      ],
      "metadata": {
        "id": "-2xB2iKe3TbK"
      }
    },
    {
      "cell_type": "code",
      "source": [
        "ano = int(input(\"Digite um ano: \"))\n",
        "\n",
        "if (ano % 4 == 0 and ano % 100 != 0) or (ano % 400 == 0):\n",
        "    print(f\"{ano} é um ano bissexto.\")\n",
        "else:\n",
        "    print(f\"{ano} não é um ano bissexto.\")"
      ],
      "metadata": {
        "id": "Pkj2fijB3aTC"
      },
      "execution_count": null,
      "outputs": []
    },
    {
      "cell_type": "markdown",
      "source": [
        "Blocos condicionais podem ser aninhados."
      ],
      "metadata": {
        "id": "WrV7FKU8BHsN"
      }
    },
    {
      "cell_type": "code",
      "source": [
        "velocidade = 200\n",
        "if velocidade < 20:\n",
        "  print(\"Muito lento!\")\n",
        "else:\n",
        "  if velocidade < 120:\n",
        "    print(\"Velocidade usual.\")\n",
        "  else:\n",
        "    if velocidade >= 120:\n",
        "      print(\"Muito rápido!\")\n",
        "    else:\n",
        "      print(\"Está andando de marcha à ré?\")"
      ],
      "metadata": {
        "id": "oPiYY6n0BK8E"
      },
      "execution_count": null,
      "outputs": []
    },
    {
      "cell_type": "markdown",
      "source": [
        "No entanto, a linguagem define a palavra chave `elif` para combinar um `else` e um `if`"
      ],
      "metadata": {
        "id": "KpGjBZaABlsd"
      }
    },
    {
      "cell_type": "code",
      "source": [
        "velocidade = 120\n",
        "if velocidade < 20:\n",
        "  print(\"Muito lento!\")\n",
        "elif velocidade < 120:\n",
        "  print(\"Velocidade usual.\")\n",
        "elif velocidade >= 120:\n",
        "  print(\"Muito rápido!\")\n",
        "else:\n",
        "  print(\"Está andando de marcha à ré?\")"
      ],
      "metadata": {
        "id": "Y4pFLMi3BwLP"
      },
      "execution_count": null,
      "outputs": []
    },
    {
      "cell_type": "markdown",
      "source": [
        "**Exemplo**: Baseado na idade de um atleta, escreva um programa que classifique-o em uma das seguintes categorias:\n",
        "\n",
        "* Até 12 anos: Infantil\n",
        "* 13 a 17 anos: Juvenil\n",
        "* 18 a 35 anos: Adulto\n",
        "* Acima de 35 anos: Master"
      ],
      "metadata": {
        "id": "8_54WaYu4c2F"
      }
    },
    {
      "cell_type": "code",
      "source": [
        "idade = int(input(\"Digite a idade do atleta: \"))\n",
        "\n",
        "if idade <= 12:\n",
        "    print(\"Categoria: Infantil\")\n",
        "elif idade <= 17:\n",
        "    print(\"Categoria: Juvenil\")\n",
        "elif idade <= 35:\n",
        "    print(\"Categoria: Adulto\")\n",
        "else:\n",
        "    print(\"Categoria: Master\")"
      ],
      "metadata": {
        "id": "NY91pL0n4nrc"
      },
      "execution_count": null,
      "outputs": []
    },
    {
      "cell_type": "markdown",
      "source": [
        "### Exercício 1: Crie um programa que pergunte o preço de um produto e verifique se ele deve aplicar algum desconto:\n",
        "\n",
        "* Se o preço for maior que R$ 1000, aplique um desconto de 10%.\n",
        "* Caso contrário, aplique um desconto de 5%.\n",
        "\n",
        "Exiba o valor final do produto após o desconto."
      ],
      "metadata": {
        "id": "8FcfVHBb5otc"
      }
    },
    {
      "cell_type": "markdown",
      "source": [
        "### Exercício 2: Escreva um programa que pergunte ao usuário a nota de um aluno (de 0 a 100) e exiba a classificação correspondente:\n",
        "\n",
        "* 90 a 100: A\n",
        "* 80 a 89: B\n",
        "* 70 a 79: C\n",
        "* 60 a 69: D\n",
        "* Abaixo de 60: F"
      ],
      "metadata": {
        "id": "Kw4rHdLs3t__"
      }
    },
    {
      "cell_type": "markdown",
      "source": [
        "## Laços de repetição"
      ],
      "metadata": {
        "id": "10YbWVx_hkDf"
      }
    },
    {
      "cell_type": "markdown",
      "source": [
        "**Laços de repetição** permitem executar um bloco de código várias vezes. Eles são fundamentais em programação quando precisamos repetir tarefas de forma automática. Em Python, os principais laços de repetição são `for` e `while`.\n",
        "\n",
        "O **Controle de Fluxo** pode ser feito com `break` e `continue`, em que:\n",
        "* `break`: Interrompe a execução do laço antes que ele termine naturalmente.\n",
        "* `continue`: Pula a iteração atual e continua para a próxima."
      ],
      "metadata": {
        "id": "2s1hcYzfB4Wk"
      }
    },
    {
      "cell_type": "markdown",
      "source": [
        "### `while`\n",
        "\n",
        "O laço `while` executa o bloco de código enquanto uma condição for verdadeira. Ele verifica a condição antes de cada execução do bloco.\n",
        "\n",
        "**Sintaxe:**\n",
        "\n",
        "```python\n",
        "while condição:\n",
        "    # Código a ser executado enquanto a condição for verdadeira\n",
        "```"
      ],
      "metadata": {
        "id": "-cnGWPoJ-xO0"
      }
    },
    {
      "cell_type": "markdown",
      "source": [
        "**Exemplo**"
      ],
      "metadata": {
        "id": "8lUS53Ff_YWD"
      }
    },
    {
      "cell_type": "code",
      "source": [
        "contador = 1         # inicializacao\n",
        "while contador <= 5:\n",
        "    print(contador)\n",
        "    contador += 1    # incremento"
      ],
      "metadata": {
        "id": "Sn03QCKQ_a9J"
      },
      "execution_count": null,
      "outputs": []
    },
    {
      "cell_type": "markdown",
      "source": [
        "**Exemplo**"
      ],
      "metadata": {
        "id": "QOrEzY-VAftM"
      }
    },
    {
      "cell_type": "code",
      "source": [
        "# Exibe os valores 1, 2, ..., 5.\n",
        "i = 1\n",
        "while i < 6:\n",
        "  print(i)\n",
        "  i += 1   # Adiciona 1 ao valor i -- OBRIGATÓRIO!\n",
        "\n",
        "print('---')\n",
        "\n",
        "# Exibe os valores 1, 2, 3\n",
        "i = 1\n",
        "while i < 6:\n",
        "  print(i)\n",
        "  if i == 3:\n",
        "    break    # Quando i = 3 o laço é quebrado.\n",
        "  i += 1\n",
        "\n",
        "print('---')\n",
        "\n",
        "# Exibe os valores 2, 4, 5, 6\n",
        "i = 1\n",
        "while i < 6:\n",
        "  i += 1\n",
        "  if i == 3:\n",
        "    continue    # Quando i = 3 retorna para o início do laço.\n",
        "  print(i)\n",
        "\n",
        "print('---')\n",
        "\n",
        "i = 1\n",
        "while i < 6:\n",
        "  print(i)\n",
        "  i += 1\n",
        "print(\"Executado ao sair do laço!\")"
      ],
      "metadata": {
        "id": "VGy894SgCAo9"
      },
      "execution_count": null,
      "outputs": []
    },
    {
      "cell_type": "markdown",
      "source": [
        "### `for`\n",
        "\n",
        "O laço `for` é usado para iterar sobre uma sequência (como listas, tuplas, strings, ou intervalos com range). Em cada iteração, o valor da sequência é atribuído a uma variável, e o bloco de código dentro do laço é executado.\n",
        "\n",
        "**Sintaxe do** `for`:\n",
        "\n",
        "```python\n",
        "for variável in sequência:\n",
        "    # Código a ser executado a cada iteração\n",
        "```"
      ],
      "metadata": {
        "id": "n38x_rjKDY3G"
      }
    },
    {
      "cell_type": "markdown",
      "source": [
        "**Exemplo**"
      ],
      "metadata": {
        "id": "NIwWatHJBQRN"
      }
    },
    {
      "cell_type": "code",
      "source": [
        "for numero in range(1, 6):\n",
        "    print(numero)"
      ],
      "metadata": {
        "id": "gkr29tBCBSID"
      },
      "execution_count": null,
      "outputs": []
    },
    {
      "cell_type": "markdown",
      "source": [
        "**Exemplos**"
      ],
      "metadata": {
        "id": "3USrX1mNBVf3"
      }
    },
    {
      "cell_type": "code",
      "source": [
        "############################################################\n",
        "print('--- Parte 1:')\n",
        "frutas = ['banana', 'maçã', 'morango']\n",
        "for fruta in frutas:\n",
        "  print('Comprar ', fruta, '.', sep='')\n",
        "\n",
        "print('---')\n",
        "\n",
        "############################################################\n",
        "print('--- Parte 2:')\n",
        "for letra in 'banana':\n",
        "  print(letra)\n",
        "\n",
        "print('---')\n",
        "\n",
        "############################################################\n",
        "print('--- Parte 3:')\n",
        "for k in range(10):\n",
        "  print(k)\n",
        "\n",
        "print('---')\n",
        "\n",
        "############################################################\n",
        "print('--- Parte 4:')\n",
        "for k in range(10):\n",
        "  print(k)\n",
        "  if k == 5:\n",
        "    break    # Quebra o laço.\n",
        "\n",
        "print('---')\n",
        "\n",
        "############################################################\n",
        "print('--- Parte 5:')\n",
        "for k in range(1, 15):\n",
        "  if k % 2  == 0: # se k é par então segue para o\n",
        "    continue      # próximo elemento do laço.\n",
        "  print(k)\n",
        "\n",
        "print('---')\n",
        "\n",
        "############################################################\n",
        "print('--- Parte 6:')\n",
        "for k in range(1, 15, 2):\n",
        "  print(k)\n",
        "\n",
        "print('---')"
      ],
      "metadata": {
        "id": "K6EWhF0xDdEO"
      },
      "execution_count": null,
      "outputs": []
    },
    {
      "cell_type": "markdown",
      "source": [
        "O laço **for** também pode ser usado para inicializar *vetores* e *matrizes*."
      ],
      "metadata": {
        "id": "JH_Gjc0YExyG"
      }
    },
    {
      "cell_type": "code",
      "source": [
        "v1 = [ 0 for _ in range(10)]     # Cria um vetor de 10 posições iguais a 0.\n",
        "v2 = [ i**2 for i in range(10)]  # Cria um vetor de 10 posições com quadrados.\n",
        "\n",
        "print(v1)\n",
        "print(v2)\n",
        "\n",
        "# Cria matrizes 4 x 3.\n",
        "m1 = [[0 for _ in range(3)] for _ in range(4)]\n",
        "m2 = [[i*j for j in range(3)] for i in range(4)]\n",
        "\n",
        "print(m1)\n",
        "print(m2)"
      ],
      "metadata": {
        "id": "S3D4LcUdE5XO"
      },
      "execution_count": null,
      "outputs": []
    },
    {
      "cell_type": "markdown",
      "source": [
        "O laço **for** pode ser usado para iterar sobre *listas*, *tuplas*, *conjuntos* e *chaves* de dicionários."
      ],
      "metadata": {
        "id": "1TMmPG6FFsit"
      }
    },
    {
      "cell_type": "code",
      "source": [
        "lista = list((\"A\",\"B\",\"C\",\"D\"))\n",
        "tupla = tuple((\"A\",\"B\",\"C\",\"D\"))\n",
        "conj  = set((\"A\",\"B\",\"C\",\"D\"))\n",
        "carro = dict(marca = \"Ford\", modelo = \"Mustang\", ano = 1967)\n",
        "\n",
        "for k in lista:\n",
        "  print(k)\n",
        "\n",
        "print('---')\n",
        "\n",
        "for k in tupla:\n",
        "  print(k)\n",
        "\n",
        "print('---')\n",
        "\n",
        "for k in conj:\n",
        "  print(k)\n",
        "\n",
        "print('---')\n",
        "\n",
        "for k in carro:\n",
        "  print('chave = ', k, ', valor = ', carro[k], sep=\"\")\n",
        "\n",
        "print('---')\n",
        "\n",
        "for k, v in carro.items():\n",
        "  print('chave=', k, ', valor=', v, sep=\"\")\n"
      ],
      "metadata": {
        "id": "4AhmeKXhFr_W"
      },
      "execution_count": null,
      "outputs": []
    },
    {
      "cell_type": "markdown",
      "source": [
        "**Exemplo:** Crie um programa que receba um número inteiro do usuário e use um laço for para verificar se o número é primo.\n",
        "* Um número primo é divível apenas por 1 e por ele mesmo;\n",
        "* Qualquer número menor que 2 não é considerado como primo;\n",
        "* Para saber se $n$ é primo, basta que seja testado os divisores pertentes ao intervalo de 2 até $||\\sqrt{n}||+1$, em que $||x||$ denota o maior inteiro menor que $x$."
      ],
      "metadata": {
        "id": "xXYxJkWeCbMV"
      }
    },
    {
      "cell_type": "code",
      "source": [
        "numero = int(input(\"Digite um número: \"))\n",
        "\n",
        "if numero < 2:\n",
        "    print(f\"{numero} não é primo.\")\n",
        "else:\n",
        "    primo = True\n",
        "    for i in range(2, int(numero ** 0.5) + 1):\n",
        "        if numero % i == 0:\n",
        "            primo = False\n",
        "            break\n",
        "\n",
        "    if primo:\n",
        "        print(f\"{numero} é primo.\")\n",
        "    else:\n",
        "        print(f\"{numero} não é primo.\")\n"
      ],
      "metadata": {
        "id": "5JQQv74-CvSL"
      },
      "execution_count": null,
      "outputs": []
    },
    {
      "cell_type": "markdown",
      "source": [
        "**Exemplo**: Escreva um programa onde o computador escolhe um número aleatório de 1 a 10 e o usuário tenta adivinhar. O programa continua pedindo palpites até que o usuário acerte."
      ],
      "metadata": {
        "id": "VEXcxtsYExss"
      }
    },
    {
      "cell_type": "code",
      "source": [
        "####### geração do número aleatório\n",
        "import random\n",
        "numero_secreto = random.randint(1, 10)\n",
        "\n",
        "###### parte principal do programa\n",
        "palpite = 0\n",
        "while palpite != numero_secreto:\n",
        "    palpite = int(input(\"Adivinhe o número entre 1 e 10: \"))\n",
        "\n",
        "    if palpite < numero_secreto:\n",
        "        print(\"Muito baixo!\")\n",
        "    elif palpite > numero_secreto:\n",
        "        print(\"Muito alto!\")\n",
        "\n",
        "print(\"Parabéns! Você acertou!\")\n"
      ],
      "metadata": {
        "id": "0qDzyXHNE4gD"
      },
      "execution_count": null,
      "outputs": []
    },
    {
      "cell_type": "markdown",
      "source": [
        "### Exercício 3: Soma dos primeiros 100 números\n",
        "\n",
        "a) Use um laço `while` para calcular a soma dos primeiros 100 números inteiros (de 1 a 100).\n",
        "\n",
        "b)  Use um laço `for` para calcular a soma dos primeiros 100 números inteiros (de 1 a 100)."
      ],
      "metadata": {
        "id": "vs5RcxBHFJsL"
      }
    },
    {
      "cell_type": "markdown",
      "source": [
        "### Exercício 4: Números ímpares com `continue`\n",
        "\n",
        "Use um laço `for` para exibir todos os números de 1 a 10, exceto os números ímpares (use o `continue`)."
      ],
      "metadata": {
        "id": "yUadjv1FFyg8"
      }
    },
    {
      "cell_type": "markdown",
      "source": [
        "### Exercício 5: Fibonacci até o décimo termo\n",
        "\n",
        "Use um laço `while` para calcular e exibir os primeiros 15 termos da sequência de Fibonacci.\n",
        "\n",
        "A sequência de Fibonacci começa com 0 e 1, e os próximos números são a soma dos dois números anteriores.\n",
        "\n",
        "Sequência: 0, 1, 1, 2, 3, 5, ..."
      ],
      "metadata": {
        "id": "tGxM8LQ9Gtdp"
      }
    },
    {
      "cell_type": "markdown",
      "source": [
        "# Funções"
      ],
      "metadata": {
        "id": "ucToMMLJyE_W"
      }
    },
    {
      "cell_type": "markdown",
      "source": [
        "No desenvolvimento de códigos é comum a necessidade definir sub-rotinas que serão usadas outras vezes ao longo do código. Estas sub-rotinas são chamadas de **funções**. Elas ajudam a organizar o código, tornando-o mais modular, legível e fácil de manter.\n",
        "\n",
        "Para definir uma função em Python, usamos a palavra-chave `def` seguida do nome da função e dos parênteses. Se a função aceitar argumentos (valores que podem ser passados para a função), eles são colocados dentro dos parênteses.\n",
        "\n",
        "Um exemplo básico seria:"
      ],
      "metadata": {
        "id": "kw9ZDVyOyGr-"
      }
    },
    {
      "cell_type": "code",
      "source": [
        "def nome_da_funcao(argumento1, argumento2):\n",
        "    # Bloco de código da função\n",
        "    resultado = argumento1 + argumento2\n",
        "    return resultado  # Retorna o valor final"
      ],
      "metadata": {
        "id": "ZzCoUbVuIXVT"
      },
      "execution_count": null,
      "outputs": []
    },
    {
      "cell_type": "markdown",
      "source": [
        "Aqui está uma explicação básica dos elementos:\n",
        "\n",
        "* `def`: Define a função.\n",
        "* `nome_da_funcao`: Nome que você dá à função (como soma, imprimir_mensagem, etc.).\n",
        "* `Argumentos`: São valores ou variáveis que podem ser passados para a função.\n",
        "* `return`: Devolve o valor final da função para ser usado em outras partes do código. Se não for especificado, a função retorna `None` (nada)."
      ],
      "metadata": {
        "id": "NO2QK6S-IbcI"
      }
    },
    {
      "cell_type": "markdown",
      "source": [
        "Exemplo: função que soma dois números"
      ],
      "metadata": {
        "id": "A7DMIMNKPYvP"
      }
    },
    {
      "cell_type": "code",
      "source": [
        "def soma(a, b):\n",
        "    return a + b\n",
        "\n",
        "# Teste a função\n",
        "resultado = soma(5, 3)\n",
        "print(f\"A soma é: {resultado}\")"
      ],
      "metadata": {
        "id": "kVwpD42WPh2-"
      },
      "execution_count": null,
      "outputs": []
    },
    {
      "cell_type": "markdown",
      "source": [
        "Exemplo: a execução é feita apenas até o return"
      ],
      "metadata": {
        "id": "SPZGwXqTovQc"
      }
    },
    {
      "cell_type": "code",
      "source": [
        "def squared(x):\n",
        "  return x ** 2\n",
        "  print(\"Esta linha não é executada!\")\n",
        "\n",
        "print(squared(3))"
      ],
      "metadata": {
        "id": "RZl7X8jboygu"
      },
      "execution_count": null,
      "outputs": []
    },
    {
      "cell_type": "markdown",
      "source": [
        "Exemplo: A função cumprimentar recebe um argumento (nome) e exibe uma mensagem de boas-vindas."
      ],
      "metadata": {
        "id": "oXfvsGUkKyiZ"
      }
    },
    {
      "cell_type": "code",
      "source": [
        "# Exemplo de uma Função\n",
        "def cumprimentar(nome):\n",
        "    print(f\"Olá, {nome}! Seja bem-vindo.\")\n",
        "\n",
        "# Chamando a função\n",
        "cumprimentar(\"Ana\")\n",
        "cumprimentar(\"Paula\")\n",
        "cumprimentar(\"Jose\")"
      ],
      "metadata": {
        "id": "LZgOn8vnI3OX"
      },
      "execution_count": null,
      "outputs": []
    },
    {
      "cell_type": "markdown",
      "source": [
        "Outro exemplo, agora utilizando dois argumentos."
      ],
      "metadata": {
        "id": "0ACScB3eLFvS"
      }
    },
    {
      "cell_type": "code",
      "source": [
        "def cumprimentar2(cumprimento, nome):\n",
        "    print(cumprimento + \", \" + nome + \"!\")\n",
        "\n",
        "# Chamando a função\n",
        "cumprimentar2(\"Bom dia\",\"Ana\")\n",
        "cumprimentar2(\"Boa tarde\",\"Paula\")\n",
        "cumprimentar2(\"Boa noite\", \"Jose\")"
      ],
      "metadata": {
        "id": "JJb4GlcpyjU9"
      },
      "execution_count": null,
      "outputs": []
    },
    {
      "cell_type": "markdown",
      "source": [
        "Os parâmetros podem ser passados para a função na forma *posicional* como no exemplo anterior, ou na forma *nomeada* como no exemplo abaixo. A vantagem da forma nomeada é que não é obrigatório manter a ordem dos parâmetros definidas na função:"
      ],
      "metadata": {
        "id": "xl0nWo4DMwiE"
      }
    },
    {
      "cell_type": "code",
      "source": [
        "cumprimentar2( cumprimento=\"Bom dia\", nome=\"Ana\")    # Parâmetros nomeados.\n",
        "cumprimentar2(nome=\"Ana\", cumprimento=\"Bom dia\")     # Parâmetros nomeados fora de ordem."
      ],
      "metadata": {
        "id": "7ndgbczuMxHp"
      },
      "execution_count": null,
      "outputs": []
    },
    {
      "cell_type": "markdown",
      "source": [
        "As funções podem admitir uma **quantidade arbitrária de parâmetros**. Isto pode ser realizada passando parâmetros nomeados e posicionais. Para capturar os parâmetros posicionais utiliza-se um parâmetro na forma `*lista` que recebem os parâmetros posicionais em uma *lista* e para capturar os parâmetros nomeados utiliza-se um parâmetro na forma `**dicionario` que recebem os parâmetros nomeados em um *dicionário* (com os nomes dos parâmetros como chaves)."
      ],
      "metadata": {
        "id": "66yFf7binD8j"
      }
    },
    {
      "cell_type": "code",
      "source": [
        "# Esta função captura os dados do usuário, passados como parâmetros nomeados,\n",
        "# em um dicionário.\n",
        "def user(**args):\n",
        "  print(\"Primeiro nome  : \" + args[\"fname\"])\n",
        "  print(\"Último nome    : \" + args[\"lname\"])\n",
        "  print(\"Nome de usuário: \" + args[\"username\"])\n",
        "  print(\"Senha          : \" + args[\"pwd\"])\n",
        "\n",
        "user(fname = \"Peter\", lname = \"Norton\", username = \"pnorton\", pwd = \"12345\")"
      ],
      "metadata": {
        "id": "zp2SeqHjnLMc"
      },
      "execution_count": null,
      "outputs": []
    },
    {
      "cell_type": "code",
      "source": [
        "## Claro que a função anterior também pode ser implementada\n",
        "## utilizando um dicionário\n",
        "def user(args):\n",
        "  print(\"Primeiro nome  : \" + args[\"fname\"])\n",
        "  print(\"Último nome    : \" + args[\"lname\"])\n",
        "  print(\"Nome de usuário: \" + args[\"username\"])\n",
        "  print(\"Senha          : \" + args[\"pwd\"])\n",
        "\n",
        "user( dict(fname = \"Peter\", lname = \"Norton\", username = \"pnorton\", pwd = \"12345\") )"
      ],
      "metadata": {
        "id": "OvTy0oxqUiP4"
      },
      "execution_count": null,
      "outputs": []
    },
    {
      "cell_type": "code",
      "source": [
        "# Esta função captura um sequência de itens em uma lista.\n",
        "def comprar(*lista):\n",
        "  for item in lista:\n",
        "    print(\"Preciso comprar \" + item + \".\")\n",
        "\n",
        "comprar(\"tomate\", \"cebola\", \"alface\")"
      ],
      "metadata": {
        "id": "xIJQAAHxOf0S"
      },
      "execution_count": null,
      "outputs": []
    },
    {
      "cell_type": "code",
      "source": [
        "# Esta função combinam os dois conceitos.\n",
        "def planejar_viagem(destino, *rota, **veiculo):\n",
        "  print(\"Estou viajando para: \" + destino + \".\")\n",
        "\n",
        "  for item in rota:\n",
        "    print(\"Vou visitar: \" + item + \".\")\n",
        "\n",
        "  print(\"Vou utilizar: \" + veiculo[\"carro\"] +\n",
        "        \" de \" + str(veiculo[\"ano_fabricacao\"]) +\n",
        "        \" abastecido com \" + veiculo[\"combustivel\"] + \".\")\n",
        "\n",
        "planejar_viagem(\"Rio de Janeiro\", \"Goiânia\", \"Belo Horizonte\", \"São Paulo\",\n",
        "                carro=\"Corolla\", ano_fabricacao=2020, combustivel=\"gasolina\")"
      ],
      "metadata": {
        "id": "cd5omNczOfkI"
      },
      "execution_count": null,
      "outputs": []
    },
    {
      "cell_type": "code",
      "source": [
        "# No entanto, o forma convencional permite uma melhor organização do código.\n",
        "def planejar_viagem(destino, rota, veiculo):\n",
        "  print(\"Estou viajando para: \" + destino + \".\")\n",
        "\n",
        "  for item in rota:\n",
        "    print(\"Vou visitar: \" + item + \".\")\n",
        "\n",
        "  print(\"Vou utilizar: \" + veiculo[\"carro\"] +\n",
        "        \" de \" + str(veiculo[\"ano_fabricacao\"]) +\n",
        "        \" abastecido com \" + veiculo[\"combustivel\"] + \".\")\n",
        "\n",
        "planejar_viagem(\n",
        "    destino=\"Rio de Janeiro\",\n",
        "    rota = list( (\"Goiânia\", \"Belo Horizonte\", \"São Paulo\") ),\n",
        "    veiculo = dict(carro=\"Corolla\", ano_fabricacao=2020, combustivel=\"gasolina\")\n",
        "     )"
      ],
      "metadata": {
        "id": "CQms2ytgWCVY"
      },
      "execution_count": null,
      "outputs": []
    },
    {
      "cell_type": "markdown",
      "source": [
        "As funções admitem **valores padrão** para seus parâmetros:"
      ],
      "metadata": {
        "id": "KVMzPtnjn8D9"
      }
    },
    {
      "cell_type": "code",
      "source": [
        "def saudacao(nome=\"Visitante\", mensagem=\"Bem-vindo(a) ao nosso sistema!\"):\n",
        "    print(f\"Olá, {nome}! {mensagem}\")\n",
        "\n",
        "# Chamadas da função\n",
        "saudacao()  # Usa os valores padrão\n",
        "saudacao(\"Ana\")  # Usa um valor personalizado para 'nome'\n",
        "saudacao(\"Carlos\", \"Espero que você esteja aproveitando o conteúdo!\")  # Usa valores personalizados para ambos\n"
      ],
      "metadata": {
        "id": "PDuAeR4doGXX"
      },
      "execution_count": null,
      "outputs": []
    },
    {
      "cell_type": "markdown",
      "source": [
        "Explicação:\n",
        "\n",
        "* A função `saudacao` possui dois parâmetros, `nome` e `mensagem`, ambos com valores padrão.\n",
        "\n",
        "* Quando você chama a função sem argumentos, ela usa os valores padrão (\"Visitante\" e \"Bem-vindo(a) ao nosso sistema!\").\n",
        "\n",
        "* Ao fornecer valores, você substitui os valores padrão."
      ],
      "metadata": {
        "id": "FpwFnqM1XyQ7"
      }
    },
    {
      "cell_type": "markdown",
      "source": [
        "### Importante"
      ],
      "metadata": {
        "id": "9lFsxq6rRIvl"
      }
    },
    {
      "cell_type": "markdown",
      "source": [
        "* Os parâmetros sem valores padrão nas funções precisam *sempre* ser fornecidos.\n",
        "\n",
        "* Os parâmetros podem ser fornecidos fora de ordem, desde que sejam nomeados."
      ],
      "metadata": {
        "id": "fCBIvrJGo758"
      }
    },
    {
      "cell_type": "code",
      "source": [
        "def func(a, b, c):\n",
        "  pass    # Use 'pass' quando o bloco não tiver um corpo ainda!!!\n",
        "\n",
        "#func(1, 2)                  # ERRO: falta um dos parâmetros\n",
        "func(c = 2, a = 3, b = 5)    # Parâmetros fora de ordem devem ser nomeados."
      ],
      "metadata": {
        "id": "ojQGTKV4pKic"
      },
      "execution_count": null,
      "outputs": []
    },
    {
      "cell_type": "markdown",
      "source": [
        "### Documentação\n",
        "E interessante que uma função seja documentada descrevendo o que aquele código faz e como deve ser utilizado.\n",
        "\n",
        "\n"
      ],
      "metadata": {
        "id": "B0es4rotoQvf"
      }
    },
    {
      "cell_type": "code",
      "source": [
        "def area_retangulo(largura, altura=1):\n",
        "    \"\"\"\n",
        "    Calcula a área de um retângulo.\n",
        "\n",
        "    Esta função calcula a área de um retângulo multiplicando a largura pela altura.\n",
        "    Se a altura não for especificada, assume o valor padrão de 1, tornando a forma equivalente a uma linha.\n",
        "\n",
        "    Parameters:\n",
        "    largura (float): A largura do retângulo.\n",
        "    altura (float, opcional): A altura do retângulo. Padrão é 1.\n",
        "\n",
        "    Returns:\n",
        "    float: A área do retângulo calculada como largura * altura.\n",
        "\n",
        "    Example:\n",
        "    >>> calcular_area_retangulo(5, 10)\n",
        "    50\n",
        "    >>> calcular_area_retangulo(5)\n",
        "    5\n",
        "    \"\"\"\n",
        "    return largura * altura\n"
      ],
      "metadata": {
        "id": "chiywQcut1Hn"
      },
      "execution_count": null,
      "outputs": []
    },
    {
      "cell_type": "markdown",
      "source": [
        "Explicação da docstring:\n",
        "\n",
        "1. Descrição: A primeira linha explica o que a função faz de forma resumida.\n",
        "1. Detalhamento: Explica o funcionamento da função e descreve o valor padrão do argumento altura.\n",
        "1. Parâmetros: Detalha cada parâmetro, seu tipo e função na operação.\n",
        "1. Retorno: Descreve o que a função retorna e o tipo de dado esperado.\n",
        "1. Exemplos: Fornece exemplos de uso da função, com valores que mostram o comportamento padrão e personalizado.\n",
        "\n",
        "Esse padrão de documentação ajuda outros desenvolvedores a entender o uso e o comportamento da função."
      ],
      "metadata": {
        "id": "q9yqYG7mZ3P5"
      }
    },
    {
      "cell_type": "code",
      "source": [
        "## veja como o usuária pode consultar a documentação de uma função\n",
        "help(area_retangulo)"
      ],
      "metadata": {
        "id": "J3HHsMYLYfyG"
      },
      "execution_count": null,
      "outputs": []
    },
    {
      "cell_type": "code",
      "source": [
        "## ou equivalentemente, podemos consultar o atributo __doc__\n",
        "print( area_retangulo.__doc__ )"
      ],
      "metadata": {
        "id": "ZuYRUhkSZryz"
      },
      "execution_count": null,
      "outputs": []
    },
    {
      "cell_type": "code",
      "source": [
        "## Geralmente o editor de códigos exibem a docstring\n",
        "## automaticamente quando o usuário passa o mouse\n",
        "## sobre a função ou começa a digitá-la.\n",
        "\n",
        "## Como exemplo, passe o mouse sobre a chamada da função ou apague\n",
        "## e comece a digitar novamente o nome da função\n",
        "area_retangulo()"
      ],
      "metadata": {
        "id": "to3B4jpbakFx"
      },
      "execution_count": null,
      "outputs": []
    },
    {
      "cell_type": "markdown",
      "source": [
        "### Exercício 1: Converter Celsius em Fahrenheit\n",
        "\n",
        "Crie uma função chamada `celsius_para_fahrenheit` que recebe uma temperatura em graus Celsius e retorna a temperatura equivalente em Fahrenheit. Faça um print do resultado.\n",
        "\n",
        "A fórmula de conversão é:\n",
        "$ 𝐹 = 𝐶 \\times 9/5 + 32$."
      ],
      "metadata": {
        "id": "sIKsst6rIIU4"
      }
    },
    {
      "cell_type": "markdown",
      "source": [
        "### Exercício 2: Cálcular área de uma sala\n",
        "\n",
        "Construa um função para calcular a área em metros de um sala. Essa função deve conter os seguintes argumentos de entrada e gerar a seguinte saída:\n",
        "\n",
        "*   Entrada:\n",
        "  * comprimento: uma variável numérica indicando o comprimento da sala em metros.\n",
        "  * largura:  uma variável numérica indicando a larguda da sala em metros.\n",
        "*   Saída: a sala possui \"comprimento*larguda\" metros quadrados.\n"
      ],
      "metadata": {
        "id": "ws9NLTwbpfOI"
      }
    },
    {
      "cell_type": "markdown",
      "source": [
        "# Recuperação de falhas"
      ],
      "metadata": {
        "id": "sSvSYtmCw5QB"
      }
    },
    {
      "cell_type": "markdown",
      "source": [
        "No *Python* quando um **erro** ocorre, o interpretador interrompe a execução e exibe uma **mensagem de erro**. Estes erros podem ser tratados com a palavra `try`."
      ],
      "metadata": {
        "id": "33Kf1HGAiha8"
      }
    },
    {
      "cell_type": "code",
      "source": [
        "# Este bloco gera um erro pois 'x' não está definida.\n",
        "try:\n",
        "  print(x)\n",
        "except:\n",
        "  print(\"Ocorreu uma excessão (erro)\")\n"
      ],
      "metadata": {
        "id": "DVNemK-jiwvO"
      },
      "execution_count": null,
      "outputs": []
    },
    {
      "cell_type": "markdown",
      "source": [
        "É possível definir blocos `except` para diferentes tipos de erros."
      ],
      "metadata": {
        "id": "iLTTBmJ8jGpS"
      }
    },
    {
      "cell_type": "code",
      "source": [
        "def dividir_numeros(a, b):\n",
        "    \"\"\"\n",
        "    Divide dois números e trata o erro de divisão por zero.\n",
        "\n",
        "    Parameters:\n",
        "    a (float): O numerador.\n",
        "    b (float): O denominador.\n",
        "\n",
        "    Returns:\n",
        "    float: O resultado da divisão, se bem-sucedida.\n",
        "    \"\"\"\n",
        "    try:\n",
        "        resultado = a / b\n",
        "    except ZeroDivisionError:\n",
        "        print(\"Erro: Não é possível dividir por zero.\")\n",
        "        return None\n",
        "    except TypeError:\n",
        "        print(\"Erro: Ambos os valores devem ser números.\")\n",
        "        return None\n",
        "    else:\n",
        "        return resultado\n",
        "    finally:\n",
        "        print(\"Operação de divisão finalizada.\")\n",
        "\n",
        "# Exemplos de uso\n",
        "print(dividir_numeros(10, 2))  # Saída: 5.0\n",
        "print(dividir_numeros(10, 0))  # Saída: \"Erro: Não é possível dividir por zero.\"\n",
        "print(dividir_numeros(10, 'a'))  # Saída: \"Erro: Ambos os valores devem ser números.\"\n"
      ],
      "metadata": {
        "id": "JWk6yuDBdTD5"
      },
      "execution_count": null,
      "outputs": []
    },
    {
      "cell_type": "markdown",
      "source": [
        "Explicação:\n",
        "\n",
        "* `try`: O bloco try executa o código que pode gerar uma exceção.\n",
        "* `except ZeroDivisionError`: Este bloco captura o erro de divisão por zero, exibindo uma mensagem de erro e retornando None.\n",
        "* `except TypeError`: Este bloco captura erros de tipo (caso um dos argumentos não seja um número), também exibindo uma mensagem e retornando None.\n",
        "* `else`: Executado apenas se o código no bloco try não gerar nenhuma exceção, retornando o resultado da divisão.\n",
        "* `finally`: Este bloco é sempre executado, independentemente de ocorrer uma exceção, e pode ser útil para limpar recursos ou informar o usuário sobre o fim da operação."
      ],
      "metadata": {
        "id": "5UOTCbeRdXuS"
      }
    },
    {
      "cell_type": "markdown",
      "source": [
        " A palavra `finally` pode ser utilizada para encerrar acessos e liberar recursos.\n",
        "\n",
        " No exemplo abaixo, o programa abre um arquivo e tenta escrever, mas caso seja gerado algum erro na escrita, então o `finally`é utilizado para fechar o arquivo."
      ],
      "metadata": {
        "id": "7brYJLpzkCZj"
      }
    },
    {
      "cell_type": "code",
      "source": [
        "try:\n",
        "  f = open(\"demofile.txt\")\n",
        "  try:\n",
        "    f.write(\"Lorem ipsum\")\n",
        "  except:\n",
        "    print(\"Não foi possível escrever no arquivo.\")\n",
        "  finally:\n",
        "    f.close()\n",
        "except:\n",
        "  print(\"Houve um erro na abertura do arquivo.\")"
      ],
      "metadata": {
        "id": "JUr3JaczkKGj"
      },
      "execution_count": null,
      "outputs": []
    },
    {
      "cell_type": "markdown",
      "source": [
        "Os diferentes tipos de erros definidos no *Python* estão descritos em https://docs.python.org/3/library/exceptions.html#bltin-exceptions"
      ],
      "metadata": {
        "id": "QEoSdD8VldYD"
      }
    },
    {
      "cell_type": "markdown",
      "source": [
        "# Modularização de códigos (bibliotecas)\n"
      ],
      "metadata": {
        "id": "nWvtlNk6rZjh"
      }
    },
    {
      "cell_type": "markdown",
      "source": [
        "Um **módulo** é o conceito usado pelo *Python* semelhante às bibliotecas no R ou no C: um arquivo contendo funções e classes que pode ser utilizado em outro arquivo de código.\n",
        "\n",
        "Para criar um **módulo** apenas grave o código com as funções e classes que deseja reaproveitar em um arquivo com extensão `.py`.\n",
        "\n",
        "**Exemplo**: Crie um arquivo chamado `meumodulo.py`:\n",
        "\n",
        "```python\n",
        "# No arquivo meumodulo.py\n",
        "def saudacao(nome):\n",
        "  print(\"Olá,\", nome)\n",
        "```\n",
        "\n",
        "Para utilizar um **módulo** basta importar o módulo com a palavra `import`.\n",
        "\n",
        "```python\n",
        "import meumodulo\n",
        "meumodulo.saudacao(\"Maria\")\n",
        "```\n",
        "\n",
        "Ao importar um módulo usando `import modulo`, o *Python* cria um novo **namespace** (espaço de nomes) chamado `modulo` com o conteúdo deste módulo. Para usar uma função definida no módulo use a sintaxe `modulo.funcao()` para informar que a `funcao()` está definida no *namespace* `modulo`.\n",
        "\n",
        "Os módulos podem conter funções e também podem conter vetores, dicionários, objetos, etc.\n",
        "\n",
        "```python\n",
        "# No arquivo meumodulo.py\n",
        "pessoa1 = {\n",
        "  \"nome\": \"João\",\n",
        "  \"idade\": 36,\n",
        "  \"país\": \"Noruega\"\n",
        "}\n",
        "```\n",
        "\n",
        "Importe o módulo chamado `meumodulo` e acesse o dicionário:\n",
        "```python\n",
        "import meumodulo\n",
        "print(meumodulo.pessoa1[\"idade\"])\n",
        "```\n",
        "\n",
        "É possível definir um **apelido** alterando o nome do *namespace* com o uso da palavra `as`:\n",
        "```python\n",
        "import meumodulo as mx\n",
        "print(mx.pessoa1[\"idade\"])\n",
        "```"
      ],
      "metadata": {
        "id": "ythSyQdrrwPK"
      }
    },
    {
      "cell_type": "markdown",
      "source": [
        "## Módulos do Python"
      ],
      "metadata": {
        "id": "SGfUXqaYteYp"
      }
    },
    {
      "cell_type": "markdown",
      "source": [
        "Existem diversos módulos pré-definidos no *Python* que podem ser importados com `import`:"
      ],
      "metadata": {
        "id": "XlfGEiSog2fD"
      }
    },
    {
      "cell_type": "code",
      "source": [
        "import platform\n",
        "print(platform.system())"
      ],
      "metadata": {
        "id": "3501ocqXhBkD"
      },
      "execution_count": null,
      "outputs": []
    },
    {
      "cell_type": "markdown",
      "source": [
        "A função `dir()` lista todos os elementos de um módulo."
      ],
      "metadata": {
        "id": "JIUDU_W2hKCl"
      }
    },
    {
      "cell_type": "code",
      "source": [
        "import math\n",
        "\n",
        "for item in dir(math):\n",
        "  print(item)"
      ],
      "metadata": {
        "id": "OQhiMCfhhOCV"
      },
      "execution_count": null,
      "outputs": []
    },
    {
      "cell_type": "markdown",
      "source": [
        "É possível importar apenas partes de um módulo usando a palavra `from`. Veja o exemplo:\n"
      ],
      "metadata": {
        "id": "r1rESk6VhWhT"
      }
    },
    {
      "cell_type": "code",
      "source": [
        "from math import pi, sqrt\n",
        "\n",
        "print(pi)\n",
        "\n",
        "print(sqrt(25))"
      ],
      "metadata": {
        "id": "yM7O2lMMcMXl"
      },
      "execution_count": null,
      "outputs": []
    },
    {
      "cell_type": "markdown",
      "source": [
        "**Nota:** elementos importados com `from` não usam o nome do módulo. Note que no exemplo, usamos:\n",
        "* `pi` ao invés de `math.pi`;\n",
        "* `sqrt` ao invés de `math.sqrt`."
      ],
      "metadata": {
        "id": "hNeUuTYVcVp0"
      }
    },
    {
      "cell_type": "markdown",
      "source": [
        "## Instalando novos módulos"
      ],
      "metadata": {
        "id": "Vg5gyfQewfes"
      }
    },
    {
      "cell_type": "markdown",
      "source": [
        "No *Python* é possível instalar novos módulos com o comando `pip install modulo`."
      ],
      "metadata": {
        "id": "Xm4cJ1dgiJYC"
      }
    },
    {
      "cell_type": "markdown",
      "source": [
        "## Biblioteca Padrão do Python\n",
        "\n",
        "A **Biblioteca Padrão do Python** é um conjunto extenso de módulos e pacotes integrados que fornecem soluções para uma ampla gama de tarefas comuns, sem a necessidade de instalar bibliotecas adicionais. Ela inclui ferramentas para manipulação de arquivos, expressões regulares, cálculos matemáticos, comunicação de rede, criptografia, manipulação de dados e muito mais.\n",
        "\n",
        "Aqui estão alguns dos módulos mais utilizados da **Biblioteca Padrão**:\n",
        "\n",
        "1. **`math`**: Fornece funções matemáticas, como funções trigonométricas, exponenciais, fatoriais e arredondamento.\n",
        "1. **`statistics`**: Funções para cálculos básicos de estatísticas, como média, mediana, desvio padrão, correlação, etc.\n",
        "1. **`datetime`**: Manipula datas e horas, permitindo a criação, formatação e cálculo de intervalos de tempo.\n",
        "1. **`os`**: Oferece funções para interação com o sistema operacional, como manipulação de arquivos, diretórios e variáveis de ambiente.\n",
        "1. **`re`**: Oferece suporte a expressões regulares, permitindo a busca e manipulação de padrões em strings.\n",
        "1. **`http`**: Suporta funcionalidades de comunicação HTTP, como criação de servidores web e envio de requisições.\n",
        "\n",
        "A biblioteca padrão do Python é vasta, cobrindo uma ampla variedade de funcionalidades essenciais. Para mais detalhes, você pode consultar a [documentação oficial](https://docs.python.org/pt-br/3/library).\n"
      ],
      "metadata": {
        "id": "y6gpUNfkeqXK"
      }
    },
    {
      "cell_type": "markdown",
      "source": [
        "## Principais Bibliotecas do Python\n",
        "\n",
        "### 1. **NumPy**\n",
        "   - **Descrição**: Biblioteca fundamental para computação científica. Fornece suporte para arrays multidimensionais e funções matemáticas de alto nível.\n",
        "   - **Uso principal**: Operações numéricas, álgebra linear, transformadas de Fourier, geração de números aleatórios, manipulação de grandes volumes de dados.\n",
        "   - **Instalação**: `pip install numpy`\n",
        "\n",
        "### 2. **Pandas**\n",
        "   - **Descrição**: Ferramenta poderosa para análise e manipulação de dados em grandes volumes, com estrutura de DataFrames (tabela de dados) e Series (colunas individuais) para organizar, limpar e transformar dados de forma prática.\n",
        "   - **Uso principal**: Manipulação de dados tabulares, leitura/escrita de arquivos CSV, Excel, etc.\n",
        "   - **Instalação**: `pip install pandas`\n",
        "\n",
        "### 3. **Matplotlib**\n",
        "   - **Descrição**: Biblioteca para criação de gráficos 2D, como gráficos de linha, barras e dispersão.\n",
        "   - **Uso principal**: Visualização de dados através de gráficos.\n",
        "   - **Instalação**: `pip install matplotlib`\n",
        "\n",
        "### 4. **Seaborn**\n",
        "   - **Descrição**: Biblioteca de visualização de dados baseada no Matplotlib, com gráficos estatísticos.\n",
        "   - **Uso principal**: Criação de gráficos estatísticos simples como gráficos de densidade e correlação.\n",
        "   - **Instalação**: `pip install seaborn`\n",
        "\n",
        "### 5. **Scikit-learn**\n",
        "   - **Descrição**: Biblioteca para aprendizado de máquina, contendo ferramentas simples e eficientes para mineração de dados e análise preditiva.\n",
        "   - **Uso principal**: Regressão, classificação, clustering e pré-processamento de dados.\n",
        "   - **Instalação**: `pip install scikit-learn`\n",
        "\n",
        "### 6. **TensorFlow**\n",
        "   - **Descrição**: Biblioteca de aprendizado profundo e machine learning desenvolvida pelo Google.\n",
        "   - **Uso principal**: Treinamento de redes neurais, deep learning, reconhecimento de padrões.\n",
        "   - **Instalação**: `pip install tensorflow`\n",
        "\n",
        "### 7. **Keras**\n",
        "   - **Descrição**: Biblioteca de alto nível para construção e treinamento de redes neurais, que pode ser usada com TensorFlow.\n",
        "   - **Uso principal**: Simplificação do desenvolvimento de redes neurais.\n",
        "   - **Instalação**: `pip install keras`\n",
        "\n",
        "### 8. **Requests**\n",
        "   - **Descrição**: Biblioteca simples para fazer requisições HTTP de maneira fácil e eficiente.\n",
        "   - **Uso principal**: Comunicação com APIs e envio de requisições HTTP (GET, POST, etc.).\n",
        "   - **Instalação**: `pip install requests`\n",
        "\n",
        "### 9. **Flask**\n",
        "   - **Descrição**: Micro framework para o desenvolvimento de aplicações web e APIs.\n",
        "   - **Uso principal**: Criação rápida de APIs RESTful e pequenos sites.\n",
        "   - **Instalação**: `pip install flask`\n",
        "\n",
        "### 10. **BeautifulSoup**\n",
        "   - **Descrição**: Biblioteca para web scraping, usada para extrair dados de páginas HTML e XML.\n",
        "   - **Uso principal**: Extração de dados de sites.\n",
        "   - **Instalação**: `pip install beautifulsoup4`\n"
      ],
      "metadata": {
        "id": "Kp1EMOpRbnht"
      }
    },
    {
      "cell_type": "markdown",
      "source": [
        "# **Strings**\n",
        "\n",
        "Strings são um dos tipos de dados mais fundamentais, representando sequências de caracteres que permitem manipulações textuais variadas, como concatenação, fatiamento, busca e substituição de trechos.\n",
        "\n",
        "Para operações mais avançadas de processamento de texto, como a extração de padrões complexos ou a validação de formatos específicos (e-mails, números de telefone, etc.), Python oferece suporte a expressões regulares por meio do módulo `re`.\n",
        "\n",
        "Expressões regulares são ferramentas para definir padrões de busca que capturam, substituem ou transformam partes específicas de uma string, tornando-as essenciais para o processamento de grandes volumes de dados textuais e para a automação de tarefas que dependem de correspondências de padrões.\n"
      ],
      "metadata": {
        "id": "Efqoc768wU4j"
      }
    },
    {
      "cell_type": "markdown",
      "source": [
        "## Funções básicas\n",
        "\n",
        "Funções úteis para manipulação de strings:\n",
        "\n",
        "* `split()`: Divide uma string em uma lista de substrings com base em um delimitador (por padrão, divide por espaços). É útil para separar palavras ou partes de uma string.\n",
        "* `join()`: Concatena uma lista de strings usando um delimitador especificado. Útil para unir elementos em uma única string.\n",
        "* `replace()`: Substitui todas as ocorrências de uma substring por outra dentro de uma string. É usada para modificações localizadas de texto.\n",
        "* `upper()`, `lower()`: Convertem a string para letras maiúsculas ou minúsculas, respectivamente.\n",
        "* `title()`: Converte a primeira letra de cada palavra para maiúscula.\n",
        "* `strip()`: Remove espaços em branco (ou outros caracteres especificados) do início e do fim da string. Útil para limpar dados de entrada.\n",
        "* `count()`: Conta o número de ocorrências de uma substring na string.\n",
        "* `find()`: Retorna o índice da primeira ocorrência de uma substring dentro da string. Se a substring não for encontrada, retorna -1."
      ],
      "metadata": {
        "id": "p9OrJGdSp06H"
      }
    },
    {
      "cell_type": "code",
      "source": [
        "##Exemplo: Operações Básicas com Strings\n",
        "\n",
        "# Declaração de uma string\n",
        "texto = \"Olá, Mundo!\"\n",
        "\n",
        "# Acessando caracteres\n",
        "print(texto[0])   # Saída:  O\n",
        "print(texto[-1])  # Saída:  !\n",
        "\n",
        "# Fatiamento\n",
        "print(texto[0:5])  # Saída:  Olá,\n",
        "\n",
        "# Exemplo de lower()\n",
        "print(texto.lower())  # Saída:  olá, mundo!\n",
        "\n",
        "# Exemplo de upper()\n",
        "print(texto.upper())  # Saída:  OLÁ, MUNDO!\n",
        "\n",
        "# Exemplo de title()\n",
        "frase = \"python é incrível\"\n",
        "print(frase.title())  # Saída: \"Python É Incrível\""
      ],
      "metadata": {
        "id": "OCDEP208wuWU"
      },
      "execution_count": null,
      "outputs": []
    },
    {
      "cell_type": "code",
      "source": [
        "# Exemplo de replace()\n",
        "texto = \"Olá, Mundo!\"\n",
        "print(texto.replace(\"Mundo\", \"Python\"))  # Saída: Olá, Python!\n",
        "\n",
        "# Exemplo de strip()\n",
        "texto_com_espacos = \"   Olá, mundo!   \"\n",
        "print(texto_com_espacos.strip(\" \"))      # Saída: \"Olá, mundo!\"\n",
        "\n",
        "email = \" maria@unb.br \"\n",
        "print(email.strip(\" \"))                  # saida: \"maria@unb.br\"\n",
        "\n",
        "# Exemplo de find()\n",
        "frase = \"Python é incrível\"\n",
        "print(frase.find(\"é\"))                   # Saída: 7\n",
        "print(frase.find(\"Java\"))                # Saída: -1"
      ],
      "metadata": {
        "id": "11ziUBKQ0d9e"
      },
      "execution_count": null,
      "outputs": []
    },
    {
      "cell_type": "code",
      "source": [
        "# Exemplos de split() e joing()\n",
        "mensagem = \"Python é uma linguagem poderosa\"\n",
        "\n",
        "exemplo_split = mensagem.split( )\n",
        "print(exemplo_split)  # Saída: ['Python', 'é', 'uma', 'linguagem', 'poderosa']\n",
        "\n",
        "exemplo_join = \" \".join( exemplo_split)\n",
        "print(exemplo_join)  # Saída: Python é uma linguagem poderosa\n",
        "\n",
        "exemplo_join2 = '_'.join( exemplo_split)\n",
        "print(exemplo_join2)  # Saída: Python é uma linguagem poderosa"
      ],
      "metadata": {
        "id": "Hw844YI9zHV9"
      },
      "execution_count": null,
      "outputs": []
    },
    {
      "cell_type": "markdown",
      "source": [
        "**Formatando Strings:**"
      ],
      "metadata": {
        "id": "W_4SpSnCw2ky"
      }
    },
    {
      "cell_type": "code",
      "execution_count": null,
      "metadata": {
        "id": "Kpbkz74GvvRW"
      },
      "outputs": [],
      "source": [
        "nome = \"João\"\n",
        "idade = 25\n",
        "# Usando f-strings (Python 3.6+)\n",
        "ex_f = f\"Meu nome é {nome} e eu tenho {idade} anos.\"\n",
        "print(ex_f)  # Meu nome é João e eu tenho 25 anos.\n",
        "\n",
        "# Usando o método format\n",
        "ex_format = \"Meu nome é {} e eu tenho {} anos.\".format(nome, idade)\n",
        "print(ex_format)  # Mesma saída.\n",
        "\n",
        "# Usando \"+\"\n",
        "ex_mais = \"Meu nome é \" + nome + \" e eu tenho \" + str(idade) + \" anos.\"\n",
        "print(ex_mais)"
      ]
    },
    {
      "cell_type": "markdown",
      "source": [
        "### Exercício 1:\n",
        "\n",
        "Crie uma função chamada `saudacao` que recebe dois parâmetros: `nome` e `sobrenome`. A função deve concatenar esses dois parâmetros para retornar uma saudação completa, como \"Olá, Nome Sobrenome!\"."
      ],
      "metadata": {
        "id": "lfP2g_Qy3glx"
      }
    },
    {
      "cell_type": "markdown",
      "source": [
        "### Exercício 2:\n",
        "\n",
        "Crie uma função chamada `extrair_dominio` que recebe um endereço de email como parâmetro e retorna apenas o domínio (parte após o @). Use `split()` para dividir o email e extrair o domínio.\n",
        "\n",
        "Exemplo:\n",
        "```python\n",
        "extrair_dominio(\"usuario@dominio.com\")  # Saída: \"dominio.com\"\n",
        "```\n"
      ],
      "metadata": {
        "id": "-7lOFN2p4NY9"
      }
    },
    {
      "cell_type": "markdown",
      "source": [],
      "metadata": {
        "id": "0o6vRsU4zjjk"
      }
    },
    {
      "cell_type": "markdown",
      "source": [
        "### Exercício 3:\n",
        "\n",
        "Construa um código que altera um número de telefone no formato \"61997351520\" para o formato \"(61) 99735-1520\".\n",
        "\n",
        "Exemplo:\n",
        "```python\n",
        "altera_telefone(61997351520)  # Saída: \"(61) 99735-1520\"\n",
        "```"
      ],
      "metadata": {
        "id": "ckeI1yU4zj9x"
      }
    },
    {
      "cell_type": "code",
      "source": [
        "def altera_telefone(numero):\n",
        "  numero = str(numero)\n",
        "  fatia1 = numero[0:2]\n",
        "  fatia2 = numero[2:7]\n",
        "  fatia3 = numero[7:11]\n",
        "  fatia4 = numero[11:13]\n",
        "  novo_numero = f\"({fatia1}) {fatia2}-{fatia3}{fatia4}\"\n",
        "  return novo_numero\n",
        "\n",
        "altera_telefone(61997351520)"
      ],
      "metadata": {
        "id": "YOWro67Tz4qM"
      },
      "execution_count": null,
      "outputs": []
    },
    {
      "cell_type": "markdown",
      "source": [
        "## Expressões Regulares\n",
        "\n",
        "Trabalhar com dados textuais é uma tarefa comum em várias áreas de programação, como processamento de linguagem natural, análise de logs, extração de dados e muito mais.\n",
        "\n",
        "Para lidar eficientemente com textos e padrões em strings, Python oferece suporte a expressões regulares (Regex) por meio da biblioteca `re`."
      ],
      "metadata": {
        "id": "qHO6jOwsxGAK"
      }
    },
    {
      "cell_type": "markdown",
      "source": [
        "### Sintaxe de Expressões Regulares\n",
        "\n",
        "Os padrões são formados utilizando operadores, veja os mais comuns abaixo:\n",
        "\n",
        "| Símbolo | Significado                                    |\n",
        "|---------|------------------------------------------------|\n",
        "| `.`     | Qualquer caractere (exceto nova linha)         |\n",
        "| `\\d`    | Qualquer dígito (0-9)                          |\n",
        "| `\\D`    | Qualquer caractere que **não** é um dígito     |\n",
        "| `\\w`    | Qualquer caractere alfanumérico (qualquer letra ou dígito) ou (`_`)                                                      |\n",
        "| `\\W`    | Qualquer caractere que **não** pertence a classe `\\w`.|\n",
        "| `\\s`    | Qualquer espaço em branco (espaços, tabulações, quebras de linha)                                                     |\n",
        "| `\\S`    | Qualquer caractere que **não** pertence a classe `\\s`. |\n",
        "| `[]`    | Define um conjunto de caracteres, exemplo: [a-z] para letras minúsculas                                                 |\n",
        "| `{n}`   | Corresponde exatamente a `n` ocorrências do caractere ou padrão anterior.                                                  |\n",
        "| `{n,}`  | Corresponde a `n` ou mais ocorrências do caractere ou padrão anterior.                                                  |\n",
        "| `{n,m}` | Corresponde de `n` a `m` ocorrências do caractere ou padrão anterior.                                                  |\n",
        "| `+`     | Uma ou mais ocorrências                        |\n",
        "| `*`     | Zero ou mais ocorrências                       |\n",
        "| `?`     | Zero ou uma ocorrência                         |\n",
        "| `^`     | Início da string                               |\n",
        "| `$`     | Final da string                                |\n",
        "\n"
      ],
      "metadata": {
        "id": "ItWa8dsvxrJU"
      }
    },
    {
      "cell_type": "markdown",
      "source": [
        "### Principais Funções de `re`:\n",
        "\n",
        "* `re.search(padrão, string)`: Procura por um padrão em uma string. Retorna a primeira ocorrência encontrada.\n",
        "* `re.findall(padrão, string)`: Retorna todas as correspondências de um padrão em uma string.\n",
        "* `re.sub(padrão, substituição, string)`: Substitui as correspondências do padrão em uma string por outro valor. Retorna a string atualizada.\n",
        "* `re.split(pattern, string)`: Divide a string com base em um padrão e retorna uma lista. Útil para dividir a string usando delimitadores mais complexos que simples espaços ou vírgulas.\n"
      ],
      "metadata": {
        "id": "HdSi3FMG3ucj"
      }
    },
    {
      "cell_type": "markdown",
      "source": [
        "Existem outras funções e símbolos implementados na biblioteca `re`. Para mais detalhes acesse o manual da biblioteca: [https://docs.python.org/3/library/re.html](https://docs.python.org/3/library/re.html).\n",
        "\n",
        "Para entender como esses padrões podem ser utilizados, veja os exemplos abaixo."
      ],
      "metadata": {
        "id": "99Dekczd_S1o"
      }
    },
    {
      "cell_type": "markdown",
      "source": [
        "### Exemplo:  Encontrar todos os números em um texto"
      ],
      "metadata": {
        "id": "GoG2avqqmfII"
      }
    },
    {
      "cell_type": "markdown",
      "source": [
        "**Explicação:**\n",
        "\n",
        "O termo `padrao = r\"\\d+\"` define o padrão da expressão regular, em que:\n",
        "* `\\d` representa qualquer dígito numérico (0-9).\n",
        "* `+` indica que deve haver uma ou mais ocorrências de dígitos consecutivos.\n",
        "\n",
        "Assim, `\\d+` corresponde a qualquer sequência contínua de um ou mais dígitos, como 50 e 250."
      ],
      "metadata": {
        "id": "XoKsdEIsrjAY"
      }
    },
    {
      "cell_type": "code",
      "source": [
        "import re\n",
        "\n",
        "texto = \"O preço é 50 dólares ou 250 reais.\"\n",
        "\n",
        "padrao = r\"\\d+\"\n",
        "\n",
        "print(re.findall(padrao, texto))  # ['50', '250']"
      ],
      "metadata": {
        "id": "gFPQMn75zEfI"
      },
      "execution_count": null,
      "outputs": []
    },
    {
      "cell_type": "code",
      "source": [
        "## no caso de querer tudo que não seja digitos:\n",
        "import re\n",
        "\n",
        "texto = \"O preço é 50 dólares ou 250 reais.\"\n",
        "\n",
        "padrao2 = r\"\\D+\"\n",
        "\n",
        "print(re.findall(padrao2, texto))  # ['O preço é ', ' dólares ou ', ' reais.']"
      ],
      "metadata": {
        "id": "rR6VZEz8CFgV"
      },
      "execution_count": null,
      "outputs": []
    },
    {
      "cell_type": "markdown",
      "source": [
        "\n",
        "Também podemos identificar quantas ocorrências devem ser buscadas com `{ }`, por exemplo, `\"\\d{5}\"` indica uma sequência de 5 digitos. Veja como isso pode ser útil nos exemplos abaixo.\n",
        "\n",
        "### Exemplo: buscando telefones"
      ],
      "metadata": {
        "id": "r-dIBe1tsdkU"
      }
    },
    {
      "cell_type": "code",
      "source": [
        "## Exemplo: buscando telefones\n",
        "\n",
        "from re import search, findall\n",
        "\n",
        "texto = \"o meu número é (61) 99800-8584 e (11) 99785-2020\"\n",
        "\n",
        "# Regex para encontrar telefones\n",
        "padrao = r\"\\(\\d{2}\\) \\d{5}-\\d{4}\"\n",
        "\n",
        "## re.search localiza apenas a primeira ocorrência\n",
        "out_search = search( padrao, texto )\n",
        "\n",
        "print( out_search  )         # saida: <re.Match object; span=(15, 30), match='(61) 99800-8584'>\n",
        "print( out_search.group()  ) # saida: (61) 99800-8584\n",
        "\n",
        "## re.findall localiza todas as ocorrências\n",
        "out_findall = findall( padrao, texto )\n",
        "\n",
        "print( out_findall )         # saida: ['(61) 99800-8584', '(11) 99785-2020']\n",
        "\n",
        "## ultima ocorrência\n",
        "print( out_findall[-1] )     # saida: '(11) 99785-2020'\n"
      ],
      "metadata": {
        "id": "2mZbnRYrgBPA"
      },
      "execution_count": null,
      "outputs": []
    },
    {
      "cell_type": "markdown",
      "source": [
        "### Exemplo: buscandos datas"
      ],
      "metadata": {
        "id": "tFhyt9g7IYNX"
      }
    },
    {
      "cell_type": "code",
      "source": [
        "## Exemplo: buscandos datas\n",
        "\n",
        "from re import findall\n",
        "\n",
        "texto = \"Hoje é dia 02/10/2024 e o próximo evento será em 15/11/2024.\"\n",
        "\n",
        "# Regex para encontrar datas no formato DD/MM/AAAA\n",
        "padrao_data = r\"\\d{2}/\\d{2}/\\d{4}\"\n",
        "\n",
        "# re.findall localiza todas as ocorrências\n",
        "datas = findall(padrao_data, texto)\n",
        "\n",
        "print(datas)  # ['02/10/2024', '15/11/2024']"
      ],
      "metadata": {
        "id": "9IqwV2wn4ErD"
      },
      "execution_count": null,
      "outputs": []
    },
    {
      "cell_type": "markdown",
      "source": [
        "### Exemplo: buscando emails\n",
        "\n",
        "**Explicação:**\n",
        "\n",
        "Padrão `r\"\\S+@\\S+\"`:\n",
        "\n",
        "* `\\S+`: Corresponde a uma sequência de caracteres não-espaços (letras, números ou símbolos) uma ou mais vezes.\n",
        "* `@`: Corresponde exatamente ao símbolo @, que é característico dos endereços de e-mail.\n",
        "* `\\S+` (após o @): Corresponde a mais uma sequência de caracteres não-espaços para identificar o domínio do e-mail."
      ],
      "metadata": {
        "id": "PwMGfLLHIb2i"
      }
    },
    {
      "cell_type": "code",
      "source": [
        "## Exemplo: buscando emails\n",
        "\n",
        "from re import findall\n",
        "\n",
        "texto = \"Se tiver problemas de conexão então envie um email para administrador@exemplo.com, mas se o problema persistir então entre em contato o sac pelo email sac@exemplo.com\"\n",
        "\n",
        "padrao = r\"\\S+@\\S+\"  # Padrão para e-mails\n",
        "\n",
        "emails = re.findall(padrao, texto)\n",
        "\n",
        "print(emails) # ['administrador@exemplo.com,', 'sac@exemplo.com']\n"
      ],
      "metadata": {
        "id": "yrvvFfLa4Tlg"
      },
      "execution_count": null,
      "outputs": []
    },
    {
      "cell_type": "markdown",
      "source": [
        "### Grupos e capturas\n",
        "\n",
        "As expressões regulares podem agrupar partes de um padrão usando parênteses, o que permite capturar subpartes específicas."
      ],
      "metadata": {
        "id": "b7r7yPKFIkU0"
      }
    },
    {
      "cell_type": "code",
      "source": [
        "## Exemplo: grupos e capturas\n",
        "\n",
        "# Explicação:\n",
        "# O padrão (\\w+) captura uma palavra (como o nome de um produto).\n",
        "# O padrão (\\d+) captura um ou mais dígitos (como o preço).\n",
        "\n",
        "import re\n",
        "\n",
        "texto = \"Produto: Camiseta, Preço: R$50.75\"\n",
        "padrao = r\"Produto: (\\w+), Preço: R\\$(\\d+\\.\\d+)\"\n",
        "resultado = re.search(padrao, texto)\n",
        "\n",
        "if resultado:\n",
        "    produto = resultado.group(1)  # 'Camiseta'\n",
        "    preco = resultado.group(2)    # '50.75'\n",
        "    print(f\"Produto: {produto}, Preço: R${preco}\")\n"
      ],
      "metadata": {
        "id": "ExMqyfjs5yKq"
      },
      "execution_count": null,
      "outputs": []
    },
    {
      "cell_type": "code",
      "source": [
        "# Explicação:\n",
        "# O padrão (\\w+) captura o nome.\n",
        "# O padrão (\\d+) captura a idade.\n",
        "\n",
        "import re\n",
        "\n",
        "texto = \"Nome: Ana, Idade: 25; Nome: João, Idade: 30; Nome: Maria, Idade: 22\"\n",
        "padrao = r\"Nome: (\\w+), Idade: (\\d+)\"\n",
        "pessoas = re.findall(padrao, texto)\n",
        "\n",
        "for nome, idade in pessoas:\n",
        "    print(f\"Nome: {nome}, Idade: {idade}\")\n"
      ],
      "metadata": {
        "id": "WgbeecsWFCz9"
      },
      "execution_count": null,
      "outputs": []
    },
    {
      "cell_type": "markdown",
      "source": [
        "### **Exemplo:** separando dia, mês e ano\n",
        "\n",
        "Considere o texto `Hoje é 15/10/2024.` e então extraia o dia, mês e ano. Utilize a função `re.search(padrao, texto)`."
      ],
      "metadata": {
        "id": "MsV9_TnP8tzS"
      }
    },
    {
      "cell_type": "code",
      "source": [
        "# Solução\n",
        "import re\n",
        "\n",
        "texto = \"Hoje é 15/10/2024.\"\n",
        "\n",
        "padrao = r\"(\\d{2})/(\\d{2})/(\\d{4})\"\n",
        "resultado = re.search(padrao, texto)\n",
        "\n",
        "if resultado:\n",
        "    dia, mes, ano = resultado.groups()\n",
        "    print(f\"Dia: {dia}, Mês: {mes}, Ano: {ano}\")"
      ],
      "metadata": {
        "id": "HwRYYtsT95TD"
      },
      "execution_count": null,
      "outputs": []
    },
    {
      "cell_type": "markdown",
      "source": [
        "### **Exemplo:** formatando datas\n",
        "\n",
        "Dado o texto `\"Reunião em 12/09/2024 e evento em 10/12/2024\"`, substitua todas as datas pelo formato AAAA-MM-DD."
      ],
      "metadata": {
        "id": "qgEvrj8b68pC"
      }
    },
    {
      "cell_type": "code",
      "source": [
        "# Solução\n",
        "import re\n",
        "\n",
        "texto = \"Reunião em 12/09/2024 e evento em 10/12/2024.\"\n",
        "padrao = r\"(\\d{2})/(\\d{2})/(\\d{4})\"\n",
        "\n",
        "novo_texto = re.sub(padrao, r\"\\3-\\2-\\1\", texto)\n",
        "\n",
        "print(novo_texto)  # 'Reunião em 2024-09-12 e evento em 2024-12-10.'"
      ],
      "metadata": {
        "id": "nz6kMISN68Ya"
      },
      "execution_count": null,
      "outputs": []
    },
    {
      "cell_type": "markdown",
      "source": [
        "*Explicação:*\n",
        "\n",
        "`re.sub(padrao, r\"\\3-\\2-\\1\", texto)`\n",
        "   - A função `re.sub()` substitui todas as ocorrências que correspondem ao padrão `(\\d{2})/(\\d{2})/(\\d{4})` no `texto` pela nova formatação especificada.\n",
        "   - **`r\"\\3-\\2-\\1\"`**: Reorganiza os grupos capturados para exibir a data no formato `AAAA-MM-DD`.\n",
        "     - `\\3` refere-se ao terceiro grupo (o ano).\n",
        "     - `\\2` refere-se ao segundo grupo (o mês).\n",
        "     - `\\1` refere-se ao primeiro grupo (o dia).\n",
        "   - Portanto, `12/09/2024` se torna `2024-09-12`, e `10/12/2024` se torna `2024-12-10`.\n"
      ],
      "metadata": {
        "id": "QUpjRsKut-6C"
      }
    },
    {
      "cell_type": "markdown",
      "source": [
        "### **Exemplo**: verificando CPF\n",
        "\n",
        "Crie uma expressão regular que valide se um CPF está no formato correto: xxx.xxx.xxx-xx, onde x é um dígito."
      ],
      "metadata": {
        "id": "McHg7wMx_TKm"
      }
    },
    {
      "cell_type": "code",
      "source": [
        "# Solução\n",
        "import re\n",
        "\n",
        "cpf = \"123.456.789-09\"\n",
        "padrao = r\"\\d{3}\\.\\d{3}\\.\\d{3}-\\d{2}\"\n",
        "\n",
        "if re.fullmatch(padrao, cpf): ## retorna True se a equivalência é perfeita.\n",
        "    print(\"CPF válido!\")\n",
        "else:\n",
        "    print(\"CPF inválido.\")\n"
      ],
      "metadata": {
        "id": "F1RsVgI38rQ3"
      },
      "execution_count": null,
      "outputs": []
    },
    {
      "cell_type": "markdown",
      "source": [
        "### **Exemplo**: Extração de URLs\n",
        "\n",
        "Dada uma string contendo várias URLs, extraia todas elas usando uma expressão regular.\n",
        "\n",
        "Neste caso, o padrão a ser buscado deve ser:\n",
        "\n",
        "`padrao = r\"https?://[a-zA-Z0-9.-]+\\.[a-zA-Z]{2,}\"`\n",
        "\n",
        "o qual é usado para capturar URLs que começam com `http` ou `https`, seguidos por um domínio e uma extensão de domínio de pelo menos dois caracteres.\n",
        "\n",
        "*Explicação do Padrão:*\n",
        "\n",
        "- `https?`:\n",
        "  - `http` é seguido por `s?`, onde `?` indica que o `s` é opcional.\n",
        "  - Isso permite capturar tanto `http` quanto `https`.\n",
        "\n",
        "- `://`:\n",
        "  - Representa exatamente os caracteres `://`, que aparecem logo após `http` ou `https` em URLs.\n",
        "\n",
        "- `[a-zA-Z0-9.-]+`:\n",
        "  - `[a-zA-Z0-9.-]` define um conjunto de caracteres permitidos:\n",
        "    - `a-z`: letras minúsculas.\n",
        "    - `A-Z`: letras maiúsculas.\n",
        "    - `0-9`: dígitos numéricos.\n",
        "    - `.` e `-`: pontos e hífens, comuns em domínios.\n",
        "  - `+` indica que deve haver **um ou mais desses caracteres**. Esse conjunto captura o domínio principal e subdomínios (por exemplo, `www`, `sub.exemplo`, `exemplo-com`).\n",
        "\n",
        "- `\\.[a-zA-Z]{2,}`:\n",
        "  - `\\.` corresponde exatamente a um ponto `.` (o caractere especial `.` é escapado com `\\`).\n",
        "  - `[a-zA-Z]{2,}` corresponde a uma sequência de letras (maiúsculas ou minúsculas) de **pelo menos dois caracteres**.\n",
        "  - Esse trecho captura a extensão do domínio, como `.com`, `.org`, `.net`, `.br`, etc.\n"
      ],
      "metadata": {
        "id": "DOkIVF6L79yS"
      }
    },
    {
      "cell_type": "code",
      "source": [
        "# Solução\n",
        "import re\n",
        "\n",
        "texto = \"Visite nossos sites: https://example.com e http://test.com.br para mais informações.\"\n",
        "\n",
        "padrao = r\"https?://[a-zA-Z0-9.-]+\\.[a-zA-Z]{2,}\"\n",
        "\n",
        "urls = re.findall(padrao, texto)\n",
        "print(urls)  # ['https://example.com', 'http://test.com.br']\n"
      ],
      "metadata": {
        "id": "6qJS4X898I5N"
      },
      "execution_count": null,
      "outputs": []
    },
    {
      "cell_type": "markdown",
      "source": [
        "### Exercício 4:\n",
        "\n",
        "Crie uma expressão regular que valide CEPs no formato XXXXX-XXX, onde X é um dígito. Escreva uma função validar_cep que recebe uma string e retorna True se o CEP for válido, caso contrário, False.\n",
        "\n",
        "```python\n",
        "validar_cep(\"12345-678\")  # True\n",
        "validar_cep(\"1234-678\")   # False\n",
        "```"
      ],
      "metadata": {
        "id": "cmG2LXeG_lhX"
      }
    },
    {
      "cell_type": "markdown",
      "source": [
        "### Exercício 5:\n",
        "\n",
        "Crie uma função que verifica se placas de carro estão no formato antigo brasileiro (AAA-1234), onde A é uma letra maiúscula e 1-4 são números.\n",
        "\n",
        "Exemplo:\n",
        "\n",
        "```python\n",
        "verifica_placa(\"PHL-2526\") # True\n",
        "verifica_placa(\"AAB9E81\")  # False\n",
        "```"
      ],
      "metadata": {
        "id": "53vX8uMMCS7E"
      }
    },
    {
      "cell_type": "markdown",
      "source": [
        "# Introdução ao NumPy"
      ],
      "metadata": {
        "id": "z-qiukcJzTIS"
      }
    },
    {
      "cell_type": "markdown",
      "source": [
        "O **NumPy** é uma das bibliotecas fundamentais para a computação científica em Python, sendo amplamente usada para trabalhar com arrays multidimensionais e operações matemáticas de alto desempenho. Ela fornece ferramentas para manipulação de dados, álgebra linear, estatísticas, etc.\n",
        "\n",
        "Mais detalhes podem ser encontrados no tutorial: https://numpy.org/devdocs/user/quickstart.html\n",
        "\n",
        "Esta é uma rápida introdução ao NumPy que demonstra como matrizes n-dimensionais são representadas e podem ser manipulatadas.\n",
        "\n",
        "A classe de matrizes do NumPy é chamada `ndarray`. Também é chamada pelo apelido `array`. Note que `numpy.array` não é o mesmo que a classe `array.array` da biblioteca padrão do Python, a qual manipula apenas vetores unidimensionais e oferecem menos funcionalidades.\n",
        "\n",
        "Os principais atributos de um objeto `ndarray` são:\n",
        "\n",
        "- `ndarray.ndim`: número de dimensões da matriz.\n",
        "\n",
        "- `ndarray.shape`: as dimensões da matriz. Uma tupla de inteiros indicando o tamanho em cada dimensão. Para uma matriz com linhas e colunas, o resultado será `(n, m)`. O tamanho da tupla é o mesmo que o número de eixos `ndim`.\n",
        "\n",
        "- `ndarray.size`: o número total de elementos na matriz. É igual ao produtos dos elementos do shape.\n",
        "\n",
        "- `ndarray.dtype`: um objeto que descreve o tipo dos elementos da matriz. Pode ser criado usando os tipos padrão do Python. Além destes, NumPy define outros tipos como `numpy.int32`, `numpy.int16`, e `numpy.float64`.\n",
        "\n",
        "- `ndarray.reshape`: permite alterar a dimensão de um array.\n"
      ],
      "metadata": {
        "id": "8-9lsUutzcVq"
      }
    },
    {
      "cell_type": "markdown",
      "source": [
        "## Criando Arrays\n",
        "\n",
        "O `array` é a estrutura de dados central do NumPy. Ele é mais eficiente e flexível do que as listas Python tradicionais.\n",
        "\n",
        "Importanto a biblioteca com\n",
        "```python\n",
        "import NumPy as np\n",
        "```\n",
        "\n",
        "Alguns módulos mais importantes da biblioteca são:\n",
        "\n",
        "* `np.array()`: cria arrays a partir de listas;\n",
        "* `np.zeros()`: cria um array preenchido com zeros;\n",
        "* `np.arange()`: cria um array com uma sequência de valores;\n",
        "* `np.linspace()`: cria um array de valores uniformemente espaçados.\n",
        "\n",
        "Veja os exemplo abaixo:"
      ],
      "metadata": {
        "id": "8wgGhC78jHsp"
      }
    },
    {
      "cell_type": "code",
      "source": [
        "import numpy as np\n",
        "\n",
        "# Criando um array a partir de uma lista:\n",
        "print(\"--a--\")\n",
        "a = np.array([1, 2, 3, 4])\n",
        "print(a)                  # Saída: [1 2 3 4] (vetor)\n",
        "print(\"type:\", type(a))   # Saída: <class 'numpy.ndarray'>\n",
        "print(\"dtype:\", a.dtype)  # Saída: int64\n",
        "print(\"size:\", a.size)    # Saída: 4\n",
        "print(\"ndim:\", a.ndim)    # Saída: 1\n",
        "print(\"shape:\", a.shape)  # Saída: (4,)\n",
        "print(\"-----\")\n",
        "\n",
        "# Arrays de múltiplas dimensões:\n",
        "print(\"--b--\")\n",
        "b = np.array([[1, 2, 3], [4, 5, 6]])\n",
        "print(b)                  # Saída: [[1 2 3] [4 5 6]] (matriz)\n",
        "print(\"type:\", type(b))   # Saída: <class 'numpy.ndarray'>\n",
        "print(\"dtype:\", b.dtype)  # Saída: int64\n",
        "print(\"size:\", b.size)    # Saída: 4\n",
        "print(\"ndim:\", b.ndim)    # Saída: 2\n",
        "print(\"shape:\", b.shape)  # Saída: (2, 3)\n",
        "print(\"-----\")\n",
        "\n",
        "# Arrays com valores predefinidos\n",
        "## Array de zeros:\n",
        "print(\"--zeros--\")\n",
        "zeros = np.zeros((2, 3))\n",
        "print(\"dtype:\", zeros.dtype)  # Saída: float64\n",
        "print(zeros)                  # Saída: [[0. 0. 0.] [0. 0. 0.]]\n",
        "print(\"-----\")\n",
        "\n",
        "## Array de uns:\n",
        "print(\"--ones--\")\n",
        "ones = np.ones((2, 2))    # Matriz 2x2 de uns\n",
        "print(ones)               # Saída: [[1. 1.] [1. 1.]]\n",
        "print(\"-----\")\n",
        "\n",
        "# Arrays sequenciais\n",
        "## Array com valores de 0 a 9:\n",
        "print(\"--seq--\")\n",
        "seq = np.arange(10)\n",
        "print(seq)                # Saída: [0 1 2 3 4 5 6 7 8 9]\n",
        "print(\"-----\")\n",
        "\n",
        "## Array com valores igualmente espaçados:\n",
        "print(\"--lin--\")\n",
        "lin_space = np.linspace(0, 1, 5)  # 5 valores igualmente espaçados entre 0 e 1\n",
        "print(lin_space)          # Saída: [0.   0.25 0.5  0.75 1.  ]\n",
        "print(\"-----\")"
      ],
      "metadata": {
        "id": "DYjubt7PjWjm"
      },
      "execution_count": null,
      "outputs": []
    },
    {
      "cell_type": "markdown",
      "source": [
        "A dimensão de um array pode ser alterada utilizando o atributo `.reshape`. Veja o exemplo:"
      ],
      "metadata": {
        "id": "ymS47PlNswZr"
      }
    },
    {
      "cell_type": "code",
      "source": [
        "seq = np.arange(12) ## vetor\n",
        "print(seq)  # Saída: [0 1 2 3 4 5 6 7 8 9 10 11]\n",
        "print(\"-----\")\n",
        "\n",
        "a = seq.reshape(3, 4)  ## matriz 3x4\n",
        "print(a)  # Saída: [[ 0  1  2  3] [ 4  5  6  7] [ 8  9 10 11]]\n",
        "print(\"-----\")\n",
        "\n",
        "b = seq.reshape(4, 3)  ## matriz 4x3\n",
        "print(b)  # Saída: [[ 0  1  2] [ 3  4  5] [ 6  7  8] [ 9 10 11]]\n"
      ],
      "metadata": {
        "id": "PetCK-bVs41_"
      },
      "execution_count": null,
      "outputs": []
    },
    {
      "cell_type": "markdown",
      "source": [
        "Existem diversas formas de se criar matrizes:"
      ],
      "metadata": {
        "id": "MWQ3hdg69flQ"
      }
    },
    {
      "cell_type": "code",
      "source": [
        "# O tipo é deduzido dos elementos.\n",
        "import numpy as np\n",
        "a = np.array([2, 3, 4])\n",
        "print(a)\n",
        "a.dtype     ## exibe: dtype('int64')"
      ],
      "metadata": {
        "id": "XktvaZAt-R04"
      },
      "execution_count": null,
      "outputs": []
    },
    {
      "cell_type": "code",
      "source": [
        "b = np.array([1.2, 3.5, 5.1])\n",
        "print(b)\n",
        "b.dtype   ## exibe: dtype('float64')"
      ],
      "metadata": {
        "id": "w8GtcqHb-gfP"
      },
      "execution_count": null,
      "outputs": []
    },
    {
      "cell_type": "markdown",
      "source": [
        "Um erro frequente consiste em chamar array com múltiplos argumentos, ao invés de uma sequência."
      ],
      "metadata": {
        "id": "J9mts1m9-SD_"
      }
    },
    {
      "cell_type": "code",
      "source": [
        "#a = np.array(1, 2, 3, 4)     # TypeError\n",
        "a = np.array([1, 2, 3, 4])   # CORRETO!"
      ],
      "metadata": {
        "id": "m84CUTVD-vfh"
      },
      "execution_count": null,
      "outputs": []
    },
    {
      "cell_type": "markdown",
      "source": [
        "`np.array` transforma sequência de sequências em matrizes bidimensionais, sequências de sequências de sequências em matrizes tridimensionais, etc."
      ],
      "metadata": {
        "id": "6VdCG1kf-8h_"
      }
    },
    {
      "cell_type": "code",
      "source": [
        "b = np.array([(1.5, 2, 3), (4, 5, 6)])\n",
        "b"
      ],
      "metadata": {
        "id": "VOIOEMgR_HgJ"
      },
      "execution_count": null,
      "outputs": []
    },
    {
      "cell_type": "markdown",
      "source": [
        "O tipo da matriz pode ser especificado explicitamente na criação:"
      ],
      "metadata": {
        "id": "XDj8yo49_Htv"
      }
    },
    {
      "cell_type": "code",
      "source": [
        "c = np.array([[1, 2], [3, 4]], dtype= complex)\n",
        "c"
      ],
      "metadata": {
        "id": "EuDnS1PV_pHx"
      },
      "execution_count": null,
      "outputs": []
    },
    {
      "cell_type": "markdown",
      "source": [
        "Frequentemente, os elementos de uma matriz são originalmente desconhecidos, mas seu tamanho é conhecido. Entretanto, NumPy oferece várias funções para criar matrizes com valores coringa. Isto minimiza a necessidade de expandir matrizes, uma operação intensiva computacionalmente.\n",
        "\n",
        "A função `zeros()` cria uma matriz de `0`s, a função `ones()` cria uma matriz de `1`s, e a função `empty()` cria uma matriz cujo conteúdo inicial é o conteúdo presente na memória. Por padrão o `dtype` da matriz criada é `float64`, mas pode ser especificado pelo argumento `dtype`."
      ],
      "metadata": {
        "id": "jyeoSHIv_pYv"
      }
    },
    {
      "cell_type": "code",
      "source": [
        "np.zeros((3, 4))    # Cria uma matriz 3 por 4 com todos os elementos iguais a 0."
      ],
      "metadata": {
        "id": "S_TgV2pCAR9h"
      },
      "execution_count": null,
      "outputs": []
    },
    {
      "cell_type": "code",
      "source": [
        "np.ones((2, 3, 4), dtype= np.int16)    # Cria uma matriz 2 por 3 por 4 com todos os elementos iguais a 1."
      ],
      "metadata": {
        "id": "KUba37wxAVjg"
      },
      "execution_count": null,
      "outputs": []
    },
    {
      "cell_type": "code",
      "source": [
        "np.empty((2, 3))    # Cria uma matriz 2 por 3 sem inicializar os elementos."
      ],
      "metadata": {
        "id": "1CewcvTSAVRo"
      },
      "execution_count": null,
      "outputs": []
    },
    {
      "cell_type": "markdown",
      "source": [
        "Para criar sequências de números o NumPy fornece a função `arange()` que é análoga à função `range()` do Python mas que retorna uma matriz."
      ],
      "metadata": {
        "id": "MtyUAHxRASXg"
      }
    },
    {
      "cell_type": "code",
      "source": [
        "np.arange(10, 30, 5)    # Cria um vetor com elementos de 10 a 30 com passo 5."
      ],
      "metadata": {
        "id": "UdhLYhTrA4-A"
      },
      "execution_count": null,
      "outputs": []
    },
    {
      "cell_type": "code",
      "source": [
        "np.arange(0, 2, .3)    # Cria um vetor com elementos de 0 a 2 com passo 0.3."
      ],
      "metadata": {
        "id": "FwmCZbZiA_J3"
      },
      "execution_count": null,
      "outputs": []
    },
    {
      "cell_type": "markdown",
      "source": [
        "Ao usar `arange()` com números não inteiros pode não ser possível predizer a quantidade de elementos obtidos devido à precisão do ponto flutuante. Melhor usar `linspace()` passando o número de elementos:"
      ],
      "metadata": {
        "id": "82TN58SYA5Mn"
      }
    },
    {
      "cell_type": "code",
      "source": [
        "from numpy import pi\n",
        "x = np.linspace(0, 2 * pi, 100)  # Cria um vetor com 100 elementos entre 0 e 2pi.\n",
        "f = np.sin(x)                    # Aplica a função seno a cada elemento do vetor."
      ],
      "metadata": {
        "id": "_NYUTBMSBUk5"
      },
      "execution_count": null,
      "outputs": []
    },
    {
      "cell_type": "markdown",
      "source": [
        "O NumPy exibe a matriz de forma similar à listas aninhadas com o seguinte layout:\n",
        "\n",
        "- O último eixo é exibido da esquerda para a direita;\n",
        "\n",
        "- O penúltimo eixo é exibido de cima para baixo;\n",
        "\n",
        "- Os demais eixos são exibidos de cima para baixo separados por uma linha em branco;\n",
        "\n",
        "Vetores (unidimensional) são exibidos como vetorlinhas, matrizes bidimensionais como matrizes e matrizes tridimensionais como lista de matrizes."
      ],
      "metadata": {
        "id": "UnAroZ92BU3A"
      }
    },
    {
      "cell_type": "code",
      "source": [
        "a = np.arange(6)    # Cria um vetor com 6 elementos de 0 a 5.\n",
        "print(a)"
      ],
      "metadata": {
        "id": "qlldY-1eB3Yx"
      },
      "execution_count": null,
      "outputs": []
    },
    {
      "cell_type": "code",
      "source": [
        "b = np.arange(12).reshape(4, 3)    # Cria uma matriz 4 por 3.\n",
        "print(b)"
      ],
      "metadata": {
        "id": "YEf7325YB5f_"
      },
      "execution_count": null,
      "outputs": []
    },
    {
      "cell_type": "code",
      "source": [
        "c = np.arange(24).reshape(2, 3, 4)  # Cria uma matriz 2 por 3 por 4.\n",
        "print(c)"
      ],
      "metadata": {
        "id": "QOvffrdMB6VH"
      },
      "execution_count": null,
      "outputs": []
    },
    {
      "cell_type": "markdown",
      "source": [
        "Se a matriz é muito grande o NumPy automaticamente omite a parte central da matriz:"
      ],
      "metadata": {
        "id": "i9I0NDwJB3pA"
      }
    },
    {
      "cell_type": "code",
      "source": [
        "print(np.arange(10000))"
      ],
      "metadata": {
        "id": "YQgXgUeUCV2w"
      },
      "execution_count": null,
      "outputs": []
    },
    {
      "cell_type": "code",
      "source": [
        "print(np.arange(10000).reshape(100, 100))"
      ],
      "metadata": {
        "id": "p8cvmrIyCb3_"
      },
      "execution_count": null,
      "outputs": []
    },
    {
      "cell_type": "markdown",
      "source": [
        "Para disabilitar, mude a opção usando:\n",
        "\n",
        "```python\n",
        "np.set_printoptions(threshold= sys.maxsize)\n",
        "```"
      ],
      "metadata": {
        "id": "DCc5iGzQCWFf"
      }
    },
    {
      "cell_type": "markdown",
      "source": [
        "## Exercício 1\n",
        "\n",
        "a) Crie um array de zeros com forma 3x3.\n",
        "\n",
        "b) Crie um array com números de 1 a 20, com passo de 3.\n"
      ],
      "metadata": {
        "id": "gxA0rbWh4cUi"
      }
    },
    {
      "cell_type": "markdown",
      "source": [
        "## Operações básicas"
      ],
      "metadata": {
        "id": "OPcT67OACqKP"
      }
    },
    {
      "cell_type": "markdown",
      "source": [
        "Operadores aritméticos são aplicados em cada elemento. Uma nova matriz com o resultado é criada."
      ],
      "metadata": {
        "id": "08EEy92DCq1X"
      }
    },
    {
      "cell_type": "code",
      "source": [
        "a = np.array([2, 5, 4, 0])    # Cria um vetor com os vetores passados.\n",
        "b = np.arange(4)              # Cria um vetor com os valores 0, 1, 2, 3.\n",
        "\n",
        "print(a, \"\\n\")                # Exibe o vetor a.\n",
        "print(a+2, \"\\n\")              # Adição elemento a elemento.\n",
        "print(a+b, \"\\n\")              # Adição elemento a elemento.\n",
        "print(a-b, \"\\n\")              # Subtração elemento a elemento.\n",
        "print(b**2, \"\\n\")             # Exibe o vetor com os quadrados dos elementos de b.\n",
        "print(10 * np.sin(a), \"\\n\")   # Calcula 10 vezes seno dos elementos do vetor a.\n",
        "print(a < 3, \"\\n\")            # Retorna um vetor booleano com True para cada elemento menor que 35."
      ],
      "metadata": {
        "id": "4WondI1UDNc4"
      },
      "execution_count": null,
      "outputs": []
    },
    {
      "cell_type": "markdown",
      "source": [
        "O operador produto `*` opera elemento-a-elemento. O produto matricial é feito com `@` (Python >=3.5) ou com `dot()`:"
      ],
      "metadata": {
        "id": "y_J3g0HbDNsY"
      }
    },
    {
      "cell_type": "code",
      "source": [
        "A = np.array([[1, 1], [0, 1]])\n",
        "B = np.array([[2, 0], [3, 4]])\n",
        "\n",
        "print(A * B, \"\\n\")       # Produto elemento a elemento\n",
        "print(A @ B, \"\\n\")       # Produto matricial\n",
        "print(A.dot(B), \"\\n\")    # Produto matricial"
      ],
      "metadata": {
        "id": "IWc_-piADswn"
      },
      "execution_count": null,
      "outputs": []
    },
    {
      "cell_type": "markdown",
      "source": [
        "Algumas operações como `+=` e `*=` modifica uma matriz existente ao invés de criar uma nova."
      ],
      "metadata": {
        "id": "WwFNFARyDtBH"
      }
    },
    {
      "cell_type": "code",
      "source": [
        "A = np.array([[1, 1], [0, 1]])\n",
        "B = np.array([[2, 0], [3, 4]])\n",
        "\n",
        "A *= 3\n",
        "print(A, \"\\n\")\n",
        "\n",
        "B += A\n",
        "print(B, \"\\n\")\n"
      ],
      "metadata": {
        "id": "vJSfhI3FEZQ4"
      },
      "execution_count": null,
      "outputs": []
    },
    {
      "cell_type": "markdown",
      "source": [
        "Muitas operações são implementadas como métodos da classe `ndarray`."
      ],
      "metadata": {
        "id": "_7GmMiSuFTln"
      }
    },
    {
      "cell_type": "code",
      "source": [
        "A = np.array([[1, 1], [0, 1]])\n",
        "print(A)\n",
        "print(\"\\n\")\n",
        "print(A.sum())    # Exibe a soma dos elementos.\n",
        "print(A.min())    # Exibe o menor elemento.\n",
        "print(A.max())    # Exibe o maior elemento.\n",
        "print(A.mean())   # Exibe a média dos elementos.\n",
        "print(A.std())    # Exibe o desvio padrão dos elementos."
      ],
      "metadata": {
        "id": "_UElF5P4GBIB"
      },
      "execution_count": null,
      "outputs": []
    },
    {
      "cell_type": "markdown",
      "source": [
        "Por padrão, estas operações tratam a matriz como uma lista de números. No entanto, é possível especificar o eixos para aplicar a operação:"
      ],
      "metadata": {
        "id": "4m5TpZdNGBpf"
      }
    },
    {
      "cell_type": "code",
      "source": [
        "B = np.arange(12).reshape(3, 4)\n",
        "print( B, \"\\n\" )\n",
        "\n",
        "print( B.sum(axis= 0), \"\\n\" )      # soma de cada coluna\n",
        "print( B.min(axis= 1), \"\\n\" )      # mínimo de cada linha\n",
        "print( B.cumsum(axis= 1), \"\\n\" )   # soma cumulativa em cada linha"
      ],
      "metadata": {
        "id": "OcyUXKBeGlhH"
      },
      "execution_count": null,
      "outputs": []
    },
    {
      "cell_type": "markdown",
      "source": [
        "## Exercício 2\n",
        "\n",
        "* Crie um array com os valores `[10, 20, 30, 40, 50]`.\n",
        "* Subtraia `5` de cada elemento e, em seguida, eleve ao quadrado cada valor."
      ],
      "metadata": {
        "id": "y7zcg8589Eqj"
      }
    },
    {
      "cell_type": "markdown",
      "source": [
        "## Funções universais"
      ],
      "metadata": {
        "id": "p6DNmB2Xqmtd"
      }
    },
    {
      "cell_type": "markdown",
      "source": [
        "Funções matemáticas como `sin()`, `cos()` e `exp()`, chamadas de *funções universais* (`ufunc`), operam emento-a-elemento."
      ],
      "metadata": {
        "id": "-hgjmFqTGlwv"
      }
    },
    {
      "cell_type": "code",
      "source": [
        "B = np.arange(3)               # Cria um vetor com 3 elementos.\n",
        "print(np.exp(B))               # Exibe o exponencial de cada elemento de B.\n",
        "print(np.sqrt(B))              # Exibe a raiz quadrada de cada elemento de B.\n",
        "C = np.array([2., -1., 4.])    # Cria um vetor com 3 elementos.\n",
        "print(np.add(B, C))            # Exibe a soma entre os vetores B e C."
      ],
      "metadata": {
        "id": "i0IPkDElHT0n"
      },
      "execution_count": null,
      "outputs": []
    },
    {
      "cell_type": "markdown",
      "source": [
        "## Indexação, fatiamento e iteração"
      ],
      "metadata": {
        "id": "giZJn49PumjF"
      }
    },
    {
      "cell_type": "markdown",
      "source": [
        "Vetores unidimensionais podem ser indexados, fatiados e iterados como se fosse uma lista."
      ],
      "metadata": {
        "id": "nL5ijMJAHUCW"
      }
    },
    {
      "cell_type": "code",
      "source": [
        "a = np.arange(10)**3        # Gera um vetor dos cubos de 0 a 9.\n",
        "print(a, \"\\n\")              # Exibe o vetor 'a'.\n",
        "print(a[2], \"\\n\")           # Exibe o terceiro elemento do vetor 'a'.\n",
        "print(a[2:5], \"\\n\")         # Exibe os elementos nas posições 2, 3, 4.\n",
        "a[:6:2] = 1000              # Substitui os elementos nas posições 0, 2, 4 e 6 por 1000.\n",
        "print(a, \"\\n\")              # Exibe o vetor 'a'.\n",
        "print(a[::-1], \"\\n\")        # Exibe o vetor 'a' invertido.\n",
        "\n",
        "# Exibe as raízes cúbicas dos elementos de 'a'.\n",
        "for i in a:\n",
        "  resultado = i**(1 / 3)\n",
        "  print(f\"{resultado:.3f}\")\n"
      ],
      "metadata": {
        "id": "tquGxVYEHy6H"
      },
      "execution_count": null,
      "outputs": []
    },
    {
      "cell_type": "markdown",
      "source": [
        "Matrizes multidimensionais tem `1` índice por eixo:"
      ],
      "metadata": {
        "id": "QLNFLuujHzJO"
      }
    },
    {
      "cell_type": "code",
      "source": [
        "b = np.array([[1, 2, 3], [4, 5, 6], [7, 8, 9]])\n",
        "\n",
        "print( b,\"\\n\")\n",
        "\n",
        "print(\"Primeira linha:\", b[0, :], \"\\n\")\n",
        "\n",
        "print(\"Elemento (2,3):\", b[1, 2], \"\\n\")\n",
        "\n",
        "print(b[:, 1], \"\\n\")      # todas as linhas e 2a coluna\n",
        "\n",
        "print(b[:2, 1], \"\\n\")     # 1a e 2a linhas e 2a coluna.\n",
        "\n",
        "print(b[1:, 2], \"\\n\")     # 2a e 3a linhas e 3a coluna.\n",
        "\n",
        "print(b[1:3, :])          # 2a e 3a linhas e todas as colunas."
      ],
      "metadata": {
        "id": "wgx0DjMUIU-5"
      },
      "execution_count": null,
      "outputs": []
    },
    {
      "cell_type": "markdown",
      "source": [
        "Se forem passados menos índices que o número de eixos, todos os demais estarão completos:"
      ],
      "metadata": {
        "id": "0AWgAv41IVPf"
      }
    },
    {
      "cell_type": "code",
      "source": [
        "b[-1]     # A última linha. Equivale a b[-1, :]"
      ],
      "metadata": {
        "id": "JLsv4a2DI-Yw"
      },
      "execution_count": null,
      "outputs": []
    },
    {
      "cell_type": "markdown",
      "source": [
        "## Exercício 3\n",
        "\n",
        "* Crie um array 3x3 com valores de 1 a 9.\n",
        "* Extraia a segunda linha e o último elemento da primeira linha.\n"
      ],
      "metadata": {
        "id": "AX-QsGU4HRmm"
      }
    },
    {
      "cell_type": "markdown",
      "source": [
        "## Empilhamento e Desmembramento"
      ],
      "metadata": {
        "id": "A3m2Ce1b32HW"
      }
    },
    {
      "cell_type": "markdown",
      "source": [
        "Várias matrizes podem ser empilhadas em diferentes eixos:"
      ],
      "metadata": {
        "id": "xiogCceYNAZG"
      }
    },
    {
      "cell_type": "code",
      "source": [
        "a = np.zeros((3,3))\n",
        "b = np.ones((3,3))\n",
        "\n",
        "print(a, \"\\n\")                   # Exibe a matriz 'a'.\n",
        "print(b, \"\\n\")                   # Exibe a matriz 'b'.\n",
        "\n",
        "print(np.vstack((a, b)), \"\\n\")   # Empilha 'a' e 'b' na vertical.\n",
        "print(np.hstack((a, b)), \"\\n\")   # Empilha 'a' e 'b' na horizontal."
      ],
      "metadata": {
        "id": "z_mZqlj3NMLO"
      },
      "execution_count": null,
      "outputs": []
    },
    {
      "cell_type": "markdown",
      "source": [
        "`hsplit()` permite desmembrar no eixo horizontal:"
      ],
      "metadata": {
        "id": "zY-wcIPoPniI"
      }
    },
    {
      "cell_type": "code",
      "source": [
        "a = np.arange(18).reshape(3, 6)\n",
        "print(a, \"\\n\")\n",
        "\n",
        "# Desmembra 'a' por colunas em 3 partes iguais\n",
        "parte1, parte2, parte3 = np.hsplit( a, 3)\n",
        "print(\"Parte 1:\\n\", parte1)\n",
        "print(\"Parte 2:\\n\", parte2)\n",
        "print(\"Parte 3:\\n\", parte3)\n",
        "\n",
        "\n",
        "# Dividindo após a 2ª e a 3ª colunas\n",
        "print(\"\\n\")\n",
        "parte1, parte2, parte3 = np.hsplit(a, [1, 4])\n",
        "\n",
        "print(\"Parte 1:\\n\", parte1)\n",
        "print(\"Parte 2:\\n\", parte2)\n",
        "print(\"Parte 3:\\n\", parte3)"
      ],
      "metadata": {
        "id": "kTPHDOAIPuAf"
      },
      "execution_count": null,
      "outputs": []
    },
    {
      "cell_type": "markdown",
      "source": [
        "`vsplit()` desmembra na vertical e `array_split()` permite escolher o eixo."
      ],
      "metadata": {
        "id": "lHJ5S7X-PuMf"
      }
    },
    {
      "cell_type": "markdown",
      "source": [
        "## Exercício 4\n",
        "\n",
        "1. Crie dois arrays 1D, `a` e `b`, com valores de 1 a 5 e de 6 a 10, respectivamente.\n",
        "1. Empilhe `a` e `b` verticalmente para formar um array 2D.\n",
        "1. Em seguida, empilhe `a` e `b` horizontalmente para formar um array 1x10.\n",
        "\n",
        "Dica: Use np.vstack() para empilhamento vertical e np.hstack() para empilhamento horizontal."
      ],
      "metadata": {
        "id": "51J12pDOF2tT"
      }
    },
    {
      "cell_type": "markdown",
      "source": [
        "## Cópias e visualizações"
      ],
      "metadata": {
        "id": "HXMKSvne4hG5"
      }
    },
    {
      "cell_type": "markdown",
      "source": [
        "Algumas operações copiam a matriz outras não. Atribuições não fazem cópias de objetos ou dados.\n",
        "\n",
        "Veja os exemplos."
      ],
      "metadata": {
        "id": "G65uhbIHQNIP"
      }
    },
    {
      "cell_type": "code",
      "source": [
        "import numpy as np\n",
        "\n",
        "A = np.zeros((3,3))\n",
        "\n",
        "B = A          ## atribuição não é cópia\n",
        "\n",
        "A[:,1] = 100   ## note que ao alterar \"A\" a matriz \"B\" também será alterada\n",
        "\n",
        "print(\"A = \")\n",
        "print(A)\n",
        "\n",
        "print(\"\\nB = \")\n",
        "print(B)\n",
        "\n",
        "print(\"\\nA e B são o mesmo objeto?\")\n",
        "print(B is A)\n",
        "\n",
        "print(f\"\\nid(A): {id(A)}, id(B): {id(B)}\") ## A e B possuem o mesmo id"
      ],
      "metadata": {
        "id": "XQmeINJ7tpd_"
      },
      "execution_count": null,
      "outputs": []
    },
    {
      "cell_type": "code",
      "source": [
        "## No entanto, pode-se gerar uma cópia\n",
        "import numpy as np\n",
        "\n",
        "A = np.zeros((3,3))\n",
        "\n",
        "B = A.copy()    ## atribuição não é cópia\n",
        "\n",
        "A[:,1] = 100    ## note que ao alterar \"A\", a matriz \"B\" ainda será a mesma.\n",
        "\n",
        "print(\"A = \")\n",
        "print(A)\n",
        "\n",
        "print(\"\\nB = \")\n",
        "print(B)\n",
        "\n",
        "print(\"\\nA e B são o mesmo objeto?\")\n",
        "print(B is A)\n",
        "\n",
        "\n",
        "print(f\"\\nid(A): {id(A)}, id(B): {id(B)}\") ## A e B possuem id's diferentes"
      ],
      "metadata": {
        "id": "cjpdbROrxB2c"
      },
      "execution_count": null,
      "outputs": []
    },
    {
      "cell_type": "markdown",
      "source": [
        "O Python passa objetos mutáveis por referência, assim, chamada de função não faz cópia."
      ],
      "metadata": {
        "id": "6UiNZTlAQaLe"
      }
    },
    {
      "cell_type": "code",
      "source": [
        "def f(x):\n",
        "  return id(x)\n",
        "\n",
        "a = np.zeros((3,3))\n",
        "\n",
        "print(id(a))    # ID é o identificador único do objeto\n",
        "print(f(a))     # mesmo ID\n"
      ],
      "metadata": {
        "id": "OsJSuMcQRLBn"
      },
      "execution_count": null,
      "outputs": []
    },
    {
      "cell_type": "markdown",
      "source": [
        "Ou seja, se o objeto for alterado dentro da função, então ele será alterado também fora da função."
      ],
      "metadata": {
        "id": "1O8AzwXyzxGf"
      }
    },
    {
      "cell_type": "code",
      "source": [
        "def f(x):\n",
        "  x[:, 1] = 100\n",
        "  return;\n",
        "\n",
        "A = np.zeros((3,3))\n",
        "f(A)\n",
        "print(A)     # \"A\" foi modificada dentro da função"
      ],
      "metadata": {
        "id": "HCvyaj0Kz9Bg"
      },
      "execution_count": null,
      "outputs": []
    },
    {
      "cell_type": "markdown",
      "source": [
        "Para evitar este possível problema, pode-se passar um cópia."
      ],
      "metadata": {
        "id": "ccn2kgxK0uoA"
      }
    },
    {
      "cell_type": "code",
      "source": [
        "def f(x):\n",
        "  x[:, 1] = 100\n",
        "  return;\n",
        "\n",
        "A = np.zeros((3,3))\n",
        "\n",
        "f( A.copy() )  # A cópia de \"A\" é passada para a função\n",
        "\n",
        "print(A)       # A matriz \"A\" continua a mesma"
      ],
      "metadata": {
        "id": "REXGwGo_00OR"
      },
      "execution_count": null,
      "outputs": []
    },
    {
      "cell_type": "markdown",
      "source": [
        "Diferentes matrizes podem compartilhar o mesmo dado. O método `view` cria uma visualização da matriz."
      ],
      "metadata": {
        "id": "ZKnIy3FMRLM2"
      }
    },
    {
      "cell_type": "code",
      "source": [
        "import numpy as np\n",
        "\n",
        "a = np.arange(12).reshape(3, 4)\n",
        "print(a, \"\\n\")\n",
        "\n",
        "c = a.view()\n",
        "\n",
        "print(c is a, \"\\n\")      ## \"c\" é uma visualização de \"a\"\n",
        "\n",
        "c = c.reshape((2, 6))    ## Não muda a dimensão de 'a'\n",
        "print(a.shape, \"\\n\")\n",
        "\n",
        "c[0, 4] = 100            ## Muda os dados em 'a'\n",
        "print(a)"
      ],
      "metadata": {
        "id": "V5J0F-A4RpgO"
      },
      "execution_count": null,
      "outputs": []
    },
    {
      "cell_type": "markdown",
      "source": [
        "Fatiar uma matriz retorna uma visualização:"
      ],
      "metadata": {
        "id": "HI9rtZm3RptG"
      }
    },
    {
      "cell_type": "code",
      "source": [
        "import numpy as np\n",
        "\n",
        "a = np.arange(12).reshape(3, 4)\n",
        "\n",
        "print(\"a:\\n\",a,\"\\n\")\n",
        "\n",
        "s = a[:, 1:3]          # \"s\" é uma visualização de uma parte de \"a\".\n",
        "print(\"s:\\n\",s,\"\\n\")\n",
        "\n",
        "print(s is a, \"\\n\")\n",
        "\n",
        "s[:] = 10              # s[:] é uma visualização de 's'.\n",
        "print(\"s:\\n\",s,\"\\n\")\n",
        "\n",
        "print(\"a:\\n\",a,\"\\n\")   # ao alterar \"s\", o objeto \"a\" também foi alterado."
      ],
      "metadata": {
        "id": "Jt9kZGJBSMno"
      },
      "execution_count": null,
      "outputs": []
    },
    {
      "cell_type": "markdown",
      "source": [
        "## Exercício 5\n",
        "\n",
        "1. Crie uma matriz A de tamanho 4x3 de zeros.\n",
        "1. Faça `B=A` e `C=A.copy()`.\n",
        "1. Verifique se `B` e `C` são os mesmos objetos utilizando `is`.\n",
        "1. Mostre os id's de `A`, `B` e `C`.\n",
        "1. Altere um elemento de `A` e veja o que acontece com `B` e com `C`."
      ],
      "metadata": {
        "id": "V_lm3i7TG9nn"
      }
    },
    {
      "cell_type": "markdown",
      "source": [
        "# Introdução ao Pandas"
      ],
      "metadata": {
        "id": "9AL8Xv2r47Sa"
      }
    },
    {
      "cell_type": "markdown",
      "source": [
        "A biblioteca **Pandas** é uma das ferramentas mais populares para manipulação e análise de dados em Python. Projetada para lidar com grandes volumes de dados de forma eficiente, ela oferece estruturas flexíveis, como Series e DataFrames, que permitem armazenar, organizar e manipular dados tabulares com facilidade.\n",
        "\n",
        "Possui uma ampla gama de funcionalidades, como leitura e escrita de arquivos (CSV, Excel, SQL, entre outros), limpeza e tratamento de dados, e suporte para operações de agrupamento e agregação.\n",
        "\n",
        "O Pandas é amplamente utilizado em tarefas que vão desde a análise exploratória de dados até a preparação de conjuntos de dados para modelagem e aprendizado de máquina.\n",
        "\n",
        "* O conteúdo  deste tutorial foi baseado em [10 minutes to pandas](https://pandas.pydata.org/docs/user_guide/10min.html#min). Esta introdução ao **Pandas** mostra as principais funcionalidades da biblioteca. Para mais detalhes sugere-se consultar o [Cookbook](https://pandas.pydata.org/docs/user_guide/cookbook.html#cookbook)."
      ],
      "metadata": {
        "id": "Y__3E66FL0AG"
      }
    },
    {
      "cell_type": "markdown",
      "source": [
        "## Importando a biblioteca"
      ],
      "metadata": {
        "id": "zScckBrY4_S5"
      }
    },
    {
      "cell_type": "markdown",
      "source": [
        "O **Pandas** funciona em conjunto com o **NumPy**. Assim, para utilizar a biblioteca, em geral, se importa:"
      ],
      "metadata": {
        "id": "SiKpoNnl5D1r"
      }
    },
    {
      "cell_type": "code",
      "execution_count": 1,
      "metadata": {
        "id": "Kx_d4AYSLzE-"
      },
      "outputs": [],
      "source": [
        "import numpy as np\n",
        "import pandas as pd"
      ]
    },
    {
      "cell_type": "markdown",
      "source": [
        "## Estrutura de dados no Pandas"
      ],
      "metadata": {
        "id": "G7r8T4ay5ctM"
      }
    },
    {
      "cell_type": "markdown",
      "source": [
        "A biblioteca Pandas define 2 tipos de estrutura de dados:\n",
        "\n",
        "- `Series`: um vetor unidimensional nomeado que armazena dados de qualquer tipo tais como inteiros, strings, objetos do Python, etc.\n",
        "\n",
        "- `DataFrame`: uma estrutura de dados bidimensional que armazena dados como uma planilha, em que cada coluna é uma série (Series). É o equivalente ao `data.frame` na linguagem [R](https://www.r-project.org/).\n",
        "\n",
        "\n",
        "Uma **série** pode ser criada passando uma lista de valores:"
      ],
      "metadata": {
        "id": "WALJXKrPMyDt"
      }
    },
    {
      "cell_type": "markdown",
      "source": [
        "## Criação de objetos"
      ],
      "metadata": {
        "id": "Yp0qErTmTx5G"
      }
    },
    {
      "cell_type": "markdown",
      "source": [
        "Uma **série** no Pandas pode ser criada com o método `pandas.Series()`."
      ],
      "metadata": {
        "id": "IDUqjXM9QjIk"
      }
    },
    {
      "cell_type": "code",
      "source": [
        "s = pd.Series([1, 3, 5, np.nan, 6, 8])\n",
        "print(type(s))\n",
        "print(s)"
      ],
      "metadata": {
        "id": "5UA5xYkpOf5m",
        "colab": {
          "base_uri": "https://localhost:8080/"
        },
        "outputId": "38f5218f-1efd-4e8b-a113-efe60c363ca8"
      },
      "execution_count": 2,
      "outputs": [
        {
          "output_type": "stream",
          "name": "stdout",
          "text": [
            "<class 'pandas.core.series.Series'>\n",
            "0    1.0\n",
            "1    3.0\n",
            "2    5.0\n",
            "3    NaN\n",
            "4    6.0\n",
            "5    8.0\n",
            "dtype: float64\n"
          ]
        }
      ]
    },
    {
      "cell_type": "markdown",
      "source": [
        "Um **DataFrame** pode ser criado com um índice no formato de data e os dados passados como uma matriz **NumPy**:"
      ],
      "metadata": {
        "id": "keNdIXmZOgfN"
      }
    },
    {
      "cell_type": "code",
      "source": [
        "# Cria um 'Series' com uma sequência de datas\n",
        "datas = pd.date_range(\"20190101\", periods=6)\n",
        "datas"
      ],
      "metadata": {
        "id": "ngbln24cQPne",
        "colab": {
          "base_uri": "https://localhost:8080/"
        },
        "outputId": "b21b78f8-6bb6-4723-fcf7-3227284a34b9"
      },
      "execution_count": 3,
      "outputs": [
        {
          "output_type": "execute_result",
          "data": {
            "text/plain": [
              "DatetimeIndex(['2019-01-01', '2019-01-02', '2019-01-03', '2019-01-04',\n",
              "               '2019-01-05', '2019-01-06'],\n",
              "              dtype='datetime64[ns]', freq='D')"
            ]
          },
          "metadata": {},
          "execution_count": 3
        }
      ]
    },
    {
      "cell_type": "code",
      "source": [
        "# Cria um 'DataFrame' indexado pelas datas acima, com valores aleatórios...\n",
        "df = pd.DataFrame(np.random.randn(6, 4), index=datas, columns=list(\"ABCD\"))\n",
        "df"
      ],
      "metadata": {
        "id": "kN2juKeFQtXl",
        "colab": {
          "base_uri": "https://localhost:8080/",
          "height": 237
        },
        "outputId": "77f6cf01-5a7d-4dbb-86f3-9029f1e1312d"
      },
      "execution_count": 4,
      "outputs": [
        {
          "output_type": "execute_result",
          "data": {
            "text/plain": [
              "                   A         B         C         D\n",
              "2019-01-01 -0.934180  0.514585 -0.773541  1.522100\n",
              "2019-01-02  1.869745 -0.792972  1.045327 -0.668817\n",
              "2019-01-03 -0.312912  0.899700  0.868292  0.230510\n",
              "2019-01-04  0.346948 -0.060381 -0.146581  1.341657\n",
              "2019-01-05 -1.180025 -0.926427  0.461689  0.757865\n",
              "2019-01-06  1.324917 -0.289584 -1.487610 -0.326656"
            ],
            "text/html": [
              "\n",
              "  <div id=\"df-14d16729-ed42-438b-9b8f-65bb0955e08b\" class=\"colab-df-container\">\n",
              "    <div>\n",
              "<style scoped>\n",
              "    .dataframe tbody tr th:only-of-type {\n",
              "        vertical-align: middle;\n",
              "    }\n",
              "\n",
              "    .dataframe tbody tr th {\n",
              "        vertical-align: top;\n",
              "    }\n",
              "\n",
              "    .dataframe thead th {\n",
              "        text-align: right;\n",
              "    }\n",
              "</style>\n",
              "<table border=\"1\" class=\"dataframe\">\n",
              "  <thead>\n",
              "    <tr style=\"text-align: right;\">\n",
              "      <th></th>\n",
              "      <th>A</th>\n",
              "      <th>B</th>\n",
              "      <th>C</th>\n",
              "      <th>D</th>\n",
              "    </tr>\n",
              "  </thead>\n",
              "  <tbody>\n",
              "    <tr>\n",
              "      <th>2019-01-01</th>\n",
              "      <td>-0.934180</td>\n",
              "      <td>0.514585</td>\n",
              "      <td>-0.773541</td>\n",
              "      <td>1.522100</td>\n",
              "    </tr>\n",
              "    <tr>\n",
              "      <th>2019-01-02</th>\n",
              "      <td>1.869745</td>\n",
              "      <td>-0.792972</td>\n",
              "      <td>1.045327</td>\n",
              "      <td>-0.668817</td>\n",
              "    </tr>\n",
              "    <tr>\n",
              "      <th>2019-01-03</th>\n",
              "      <td>-0.312912</td>\n",
              "      <td>0.899700</td>\n",
              "      <td>0.868292</td>\n",
              "      <td>0.230510</td>\n",
              "    </tr>\n",
              "    <tr>\n",
              "      <th>2019-01-04</th>\n",
              "      <td>0.346948</td>\n",
              "      <td>-0.060381</td>\n",
              "      <td>-0.146581</td>\n",
              "      <td>1.341657</td>\n",
              "    </tr>\n",
              "    <tr>\n",
              "      <th>2019-01-05</th>\n",
              "      <td>-1.180025</td>\n",
              "      <td>-0.926427</td>\n",
              "      <td>0.461689</td>\n",
              "      <td>0.757865</td>\n",
              "    </tr>\n",
              "    <tr>\n",
              "      <th>2019-01-06</th>\n",
              "      <td>1.324917</td>\n",
              "      <td>-0.289584</td>\n",
              "      <td>-1.487610</td>\n",
              "      <td>-0.326656</td>\n",
              "    </tr>\n",
              "  </tbody>\n",
              "</table>\n",
              "</div>\n",
              "    <div class=\"colab-df-buttons\">\n",
              "\n",
              "  <div class=\"colab-df-container\">\n",
              "    <button class=\"colab-df-convert\" onclick=\"convertToInteractive('df-14d16729-ed42-438b-9b8f-65bb0955e08b')\"\n",
              "            title=\"Convert this dataframe to an interactive table.\"\n",
              "            style=\"display:none;\">\n",
              "\n",
              "  <svg xmlns=\"http://www.w3.org/2000/svg\" height=\"24px\" viewBox=\"0 -960 960 960\">\n",
              "    <path d=\"M120-120v-720h720v720H120Zm60-500h600v-160H180v160Zm220 220h160v-160H400v160Zm0 220h160v-160H400v160ZM180-400h160v-160H180v160Zm440 0h160v-160H620v160ZM180-180h160v-160H180v160Zm440 0h160v-160H620v160Z\"/>\n",
              "  </svg>\n",
              "    </button>\n",
              "\n",
              "  <style>\n",
              "    .colab-df-container {\n",
              "      display:flex;\n",
              "      gap: 12px;\n",
              "    }\n",
              "\n",
              "    .colab-df-convert {\n",
              "      background-color: #E8F0FE;\n",
              "      border: none;\n",
              "      border-radius: 50%;\n",
              "      cursor: pointer;\n",
              "      display: none;\n",
              "      fill: #1967D2;\n",
              "      height: 32px;\n",
              "      padding: 0 0 0 0;\n",
              "      width: 32px;\n",
              "    }\n",
              "\n",
              "    .colab-df-convert:hover {\n",
              "      background-color: #E2EBFA;\n",
              "      box-shadow: 0px 1px 2px rgba(60, 64, 67, 0.3), 0px 1px 3px 1px rgba(60, 64, 67, 0.15);\n",
              "      fill: #174EA6;\n",
              "    }\n",
              "\n",
              "    .colab-df-buttons div {\n",
              "      margin-bottom: 4px;\n",
              "    }\n",
              "\n",
              "    [theme=dark] .colab-df-convert {\n",
              "      background-color: #3B4455;\n",
              "      fill: #D2E3FC;\n",
              "    }\n",
              "\n",
              "    [theme=dark] .colab-df-convert:hover {\n",
              "      background-color: #434B5C;\n",
              "      box-shadow: 0px 1px 3px 1px rgba(0, 0, 0, 0.15);\n",
              "      filter: drop-shadow(0px 1px 2px rgba(0, 0, 0, 0.3));\n",
              "      fill: #FFFFFF;\n",
              "    }\n",
              "  </style>\n",
              "\n",
              "    <script>\n",
              "      const buttonEl =\n",
              "        document.querySelector('#df-14d16729-ed42-438b-9b8f-65bb0955e08b button.colab-df-convert');\n",
              "      buttonEl.style.display =\n",
              "        google.colab.kernel.accessAllowed ? 'block' : 'none';\n",
              "\n",
              "      async function convertToInteractive(key) {\n",
              "        const element = document.querySelector('#df-14d16729-ed42-438b-9b8f-65bb0955e08b');\n",
              "        const dataTable =\n",
              "          await google.colab.kernel.invokeFunction('convertToInteractive',\n",
              "                                                    [key], {});\n",
              "        if (!dataTable) return;\n",
              "\n",
              "        const docLinkHtml = 'Like what you see? Visit the ' +\n",
              "          '<a target=\"_blank\" href=https://colab.research.google.com/notebooks/data_table.ipynb>data table notebook</a>'\n",
              "          + ' to learn more about interactive tables.';\n",
              "        element.innerHTML = '';\n",
              "        dataTable['output_type'] = 'display_data';\n",
              "        await google.colab.output.renderOutput(dataTable, element);\n",
              "        const docLink = document.createElement('div');\n",
              "        docLink.innerHTML = docLinkHtml;\n",
              "        element.appendChild(docLink);\n",
              "      }\n",
              "    </script>\n",
              "  </div>\n",
              "\n",
              "\n",
              "<div id=\"df-58db6ac9-0c93-4dae-97c6-c51f6b742b3b\">\n",
              "  <button class=\"colab-df-quickchart\" onclick=\"quickchart('df-58db6ac9-0c93-4dae-97c6-c51f6b742b3b')\"\n",
              "            title=\"Suggest charts\"\n",
              "            style=\"display:none;\">\n",
              "\n",
              "<svg xmlns=\"http://www.w3.org/2000/svg\" height=\"24px\"viewBox=\"0 0 24 24\"\n",
              "     width=\"24px\">\n",
              "    <g>\n",
              "        <path d=\"M19 3H5c-1.1 0-2 .9-2 2v14c0 1.1.9 2 2 2h14c1.1 0 2-.9 2-2V5c0-1.1-.9-2-2-2zM9 17H7v-7h2v7zm4 0h-2V7h2v10zm4 0h-2v-4h2v4z\"/>\n",
              "    </g>\n",
              "</svg>\n",
              "  </button>\n",
              "\n",
              "<style>\n",
              "  .colab-df-quickchart {\n",
              "      --bg-color: #E8F0FE;\n",
              "      --fill-color: #1967D2;\n",
              "      --hover-bg-color: #E2EBFA;\n",
              "      --hover-fill-color: #174EA6;\n",
              "      --disabled-fill-color: #AAA;\n",
              "      --disabled-bg-color: #DDD;\n",
              "  }\n",
              "\n",
              "  [theme=dark] .colab-df-quickchart {\n",
              "      --bg-color: #3B4455;\n",
              "      --fill-color: #D2E3FC;\n",
              "      --hover-bg-color: #434B5C;\n",
              "      --hover-fill-color: #FFFFFF;\n",
              "      --disabled-bg-color: #3B4455;\n",
              "      --disabled-fill-color: #666;\n",
              "  }\n",
              "\n",
              "  .colab-df-quickchart {\n",
              "    background-color: var(--bg-color);\n",
              "    border: none;\n",
              "    border-radius: 50%;\n",
              "    cursor: pointer;\n",
              "    display: none;\n",
              "    fill: var(--fill-color);\n",
              "    height: 32px;\n",
              "    padding: 0;\n",
              "    width: 32px;\n",
              "  }\n",
              "\n",
              "  .colab-df-quickchart:hover {\n",
              "    background-color: var(--hover-bg-color);\n",
              "    box-shadow: 0 1px 2px rgba(60, 64, 67, 0.3), 0 1px 3px 1px rgba(60, 64, 67, 0.15);\n",
              "    fill: var(--button-hover-fill-color);\n",
              "  }\n",
              "\n",
              "  .colab-df-quickchart-complete:disabled,\n",
              "  .colab-df-quickchart-complete:disabled:hover {\n",
              "    background-color: var(--disabled-bg-color);\n",
              "    fill: var(--disabled-fill-color);\n",
              "    box-shadow: none;\n",
              "  }\n",
              "\n",
              "  .colab-df-spinner {\n",
              "    border: 2px solid var(--fill-color);\n",
              "    border-color: transparent;\n",
              "    border-bottom-color: var(--fill-color);\n",
              "    animation:\n",
              "      spin 1s steps(1) infinite;\n",
              "  }\n",
              "\n",
              "  @keyframes spin {\n",
              "    0% {\n",
              "      border-color: transparent;\n",
              "      border-bottom-color: var(--fill-color);\n",
              "      border-left-color: var(--fill-color);\n",
              "    }\n",
              "    20% {\n",
              "      border-color: transparent;\n",
              "      border-left-color: var(--fill-color);\n",
              "      border-top-color: var(--fill-color);\n",
              "    }\n",
              "    30% {\n",
              "      border-color: transparent;\n",
              "      border-left-color: var(--fill-color);\n",
              "      border-top-color: var(--fill-color);\n",
              "      border-right-color: var(--fill-color);\n",
              "    }\n",
              "    40% {\n",
              "      border-color: transparent;\n",
              "      border-right-color: var(--fill-color);\n",
              "      border-top-color: var(--fill-color);\n",
              "    }\n",
              "    60% {\n",
              "      border-color: transparent;\n",
              "      border-right-color: var(--fill-color);\n",
              "    }\n",
              "    80% {\n",
              "      border-color: transparent;\n",
              "      border-right-color: var(--fill-color);\n",
              "      border-bottom-color: var(--fill-color);\n",
              "    }\n",
              "    90% {\n",
              "      border-color: transparent;\n",
              "      border-bottom-color: var(--fill-color);\n",
              "    }\n",
              "  }\n",
              "</style>\n",
              "\n",
              "  <script>\n",
              "    async function quickchart(key) {\n",
              "      const quickchartButtonEl =\n",
              "        document.querySelector('#' + key + ' button');\n",
              "      quickchartButtonEl.disabled = true;  // To prevent multiple clicks.\n",
              "      quickchartButtonEl.classList.add('colab-df-spinner');\n",
              "      try {\n",
              "        const charts = await google.colab.kernel.invokeFunction(\n",
              "            'suggestCharts', [key], {});\n",
              "      } catch (error) {\n",
              "        console.error('Error during call to suggestCharts:', error);\n",
              "      }\n",
              "      quickchartButtonEl.classList.remove('colab-df-spinner');\n",
              "      quickchartButtonEl.classList.add('colab-df-quickchart-complete');\n",
              "    }\n",
              "    (() => {\n",
              "      let quickchartButtonEl =\n",
              "        document.querySelector('#df-58db6ac9-0c93-4dae-97c6-c51f6b742b3b button');\n",
              "      quickchartButtonEl.style.display =\n",
              "        google.colab.kernel.accessAllowed ? 'block' : 'none';\n",
              "    })();\n",
              "  </script>\n",
              "</div>\n",
              "\n",
              "  <div id=\"id_2953ebde-ba52-462b-8919-18273254a27d\">\n",
              "    <style>\n",
              "      .colab-df-generate {\n",
              "        background-color: #E8F0FE;\n",
              "        border: none;\n",
              "        border-radius: 50%;\n",
              "        cursor: pointer;\n",
              "        display: none;\n",
              "        fill: #1967D2;\n",
              "        height: 32px;\n",
              "        padding: 0 0 0 0;\n",
              "        width: 32px;\n",
              "      }\n",
              "\n",
              "      .colab-df-generate:hover {\n",
              "        background-color: #E2EBFA;\n",
              "        box-shadow: 0px 1px 2px rgba(60, 64, 67, 0.3), 0px 1px 3px 1px rgba(60, 64, 67, 0.15);\n",
              "        fill: #174EA6;\n",
              "      }\n",
              "\n",
              "      [theme=dark] .colab-df-generate {\n",
              "        background-color: #3B4455;\n",
              "        fill: #D2E3FC;\n",
              "      }\n",
              "\n",
              "      [theme=dark] .colab-df-generate:hover {\n",
              "        background-color: #434B5C;\n",
              "        box-shadow: 0px 1px 3px 1px rgba(0, 0, 0, 0.15);\n",
              "        filter: drop-shadow(0px 1px 2px rgba(0, 0, 0, 0.3));\n",
              "        fill: #FFFFFF;\n",
              "      }\n",
              "    </style>\n",
              "    <button class=\"colab-df-generate\" onclick=\"generateWithVariable('df')\"\n",
              "            title=\"Generate code using this dataframe.\"\n",
              "            style=\"display:none;\">\n",
              "\n",
              "  <svg xmlns=\"http://www.w3.org/2000/svg\" height=\"24px\"viewBox=\"0 0 24 24\"\n",
              "       width=\"24px\">\n",
              "    <path d=\"M7,19H8.4L18.45,9,17,7.55,7,17.6ZM5,21V16.75L18.45,3.32a2,2,0,0,1,2.83,0l1.4,1.43a1.91,1.91,0,0,1,.58,1.4,1.91,1.91,0,0,1-.58,1.4L9.25,21ZM18.45,9,17,7.55Zm-12,3A5.31,5.31,0,0,0,4.9,8.1,5.31,5.31,0,0,0,1,6.5,5.31,5.31,0,0,0,4.9,4.9,5.31,5.31,0,0,0,6.5,1,5.31,5.31,0,0,0,8.1,4.9,5.31,5.31,0,0,0,12,6.5,5.46,5.46,0,0,0,6.5,12Z\"/>\n",
              "  </svg>\n",
              "    </button>\n",
              "    <script>\n",
              "      (() => {\n",
              "      const buttonEl =\n",
              "        document.querySelector('#id_2953ebde-ba52-462b-8919-18273254a27d button.colab-df-generate');\n",
              "      buttonEl.style.display =\n",
              "        google.colab.kernel.accessAllowed ? 'block' : 'none';\n",
              "\n",
              "      buttonEl.onclick = () => {\n",
              "        google.colab.notebook.generateWithVariable('df');\n",
              "      }\n",
              "      })();\n",
              "    </script>\n",
              "  </div>\n",
              "\n",
              "    </div>\n",
              "  </div>\n"
            ],
            "application/vnd.google.colaboratory.intrinsic+json": {
              "type": "dataframe",
              "variable_name": "df",
              "summary": "{\n  \"name\": \"df\",\n  \"rows\": 6,\n  \"fields\": [\n    {\n      \"column\": \"A\",\n      \"properties\": {\n        \"dtype\": \"number\",\n        \"std\": 1.2270103731268722,\n        \"min\": -1.1800249046133824,\n        \"max\": 1.8697452369195917,\n        \"num_unique_values\": 6,\n        \"samples\": [\n          -0.9341796166309285,\n          1.8697452369195917,\n          1.324916548270426\n        ],\n        \"semantic_type\": \"\",\n        \"description\": \"\"\n      }\n    },\n    {\n      \"column\": \"B\",\n      \"properties\": {\n        \"dtype\": \"number\",\n        \"std\": 0.7179570586595131,\n        \"min\": -0.9264267632786501,\n        \"max\": 0.8996997305954219,\n        \"num_unique_values\": 6,\n        \"samples\": [\n          0.5145845112999533,\n          -0.7929724057451342,\n          -0.28958384691609396\n        ],\n        \"semantic_type\": \"\",\n        \"description\": \"\"\n      }\n    },\n    {\n      \"column\": \"C\",\n      \"properties\": {\n        \"dtype\": \"number\",\n        \"std\": 0.9891873413148867,\n        \"min\": -1.4876099199819255,\n        \"max\": 1.0453272603863417,\n        \"num_unique_values\": 6,\n        \"samples\": [\n          -0.7735412112984446,\n          1.0453272603863417,\n          -1.4876099199819255\n        ],\n        \"semantic_type\": \"\",\n        \"description\": \"\"\n      }\n    },\n    {\n      \"column\": \"D\",\n      \"properties\": {\n        \"dtype\": \"number\",\n        \"std\": 0.887498251903297,\n        \"min\": -0.6688171884291537,\n        \"max\": 1.5221003800668893,\n        \"num_unique_values\": 6,\n        \"samples\": [\n          1.5221003800668893,\n          -0.6688171884291537,\n          -0.3266562896986497\n        ],\n        \"semantic_type\": \"\",\n        \"description\": \"\"\n      }\n    }\n  ]\n}"
            }
          },
          "metadata": {},
          "execution_count": 4
        }
      ]
    },
    {
      "cell_type": "markdown",
      "source": [
        "É possível criar um **DataFrame** passando um dicionário de objetos em que as *chaves* são os nomes das colunas e os *valores* os dados."
      ],
      "metadata": {
        "id": "npTArlwxQQhN"
      }
    },
    {
      "cell_type": "code",
      "source": [
        "df2 = pd.DataFrame(\n",
        "    {\n",
        "        \"A\": 1.0,\n",
        "        \"B\": pd.Timestamp(\"20190102\"),\n",
        "        \"C\": pd.Series(1, index=list(range(4)), dtype=\"float32\"),\n",
        "        \"D\": np.array([3] * 4, dtype=\"int32\"),\n",
        "        \"E\": pd.Categorical([\"teste\", \"treino\", \"teste\", \"treino\"]),\n",
        "        \"F\": \"foo\",\n",
        "    }\n",
        ")\n",
        "\n",
        "df2"
      ],
      "metadata": {
        "id": "WamCOGv9R6EN",
        "colab": {
          "base_uri": "https://localhost:8080/",
          "height": 175
        },
        "outputId": "319fbe64-72df-4c76-c8d5-9fc461b3beff"
      },
      "execution_count": 5,
      "outputs": [
        {
          "output_type": "execute_result",
          "data": {
            "text/plain": [
              "     A          B    C  D       E    F\n",
              "0  1.0 2019-01-02  1.0  3   teste  foo\n",
              "1  1.0 2019-01-02  1.0  3  treino  foo\n",
              "2  1.0 2019-01-02  1.0  3   teste  foo\n",
              "3  1.0 2019-01-02  1.0  3  treino  foo"
            ],
            "text/html": [
              "\n",
              "  <div id=\"df-2b9180dc-4ed1-4864-a528-a253ab6cd38d\" class=\"colab-df-container\">\n",
              "    <div>\n",
              "<style scoped>\n",
              "    .dataframe tbody tr th:only-of-type {\n",
              "        vertical-align: middle;\n",
              "    }\n",
              "\n",
              "    .dataframe tbody tr th {\n",
              "        vertical-align: top;\n",
              "    }\n",
              "\n",
              "    .dataframe thead th {\n",
              "        text-align: right;\n",
              "    }\n",
              "</style>\n",
              "<table border=\"1\" class=\"dataframe\">\n",
              "  <thead>\n",
              "    <tr style=\"text-align: right;\">\n",
              "      <th></th>\n",
              "      <th>A</th>\n",
              "      <th>B</th>\n",
              "      <th>C</th>\n",
              "      <th>D</th>\n",
              "      <th>E</th>\n",
              "      <th>F</th>\n",
              "    </tr>\n",
              "  </thead>\n",
              "  <tbody>\n",
              "    <tr>\n",
              "      <th>0</th>\n",
              "      <td>1.0</td>\n",
              "      <td>2019-01-02</td>\n",
              "      <td>1.0</td>\n",
              "      <td>3</td>\n",
              "      <td>teste</td>\n",
              "      <td>foo</td>\n",
              "    </tr>\n",
              "    <tr>\n",
              "      <th>1</th>\n",
              "      <td>1.0</td>\n",
              "      <td>2019-01-02</td>\n",
              "      <td>1.0</td>\n",
              "      <td>3</td>\n",
              "      <td>treino</td>\n",
              "      <td>foo</td>\n",
              "    </tr>\n",
              "    <tr>\n",
              "      <th>2</th>\n",
              "      <td>1.0</td>\n",
              "      <td>2019-01-02</td>\n",
              "      <td>1.0</td>\n",
              "      <td>3</td>\n",
              "      <td>teste</td>\n",
              "      <td>foo</td>\n",
              "    </tr>\n",
              "    <tr>\n",
              "      <th>3</th>\n",
              "      <td>1.0</td>\n",
              "      <td>2019-01-02</td>\n",
              "      <td>1.0</td>\n",
              "      <td>3</td>\n",
              "      <td>treino</td>\n",
              "      <td>foo</td>\n",
              "    </tr>\n",
              "  </tbody>\n",
              "</table>\n",
              "</div>\n",
              "    <div class=\"colab-df-buttons\">\n",
              "\n",
              "  <div class=\"colab-df-container\">\n",
              "    <button class=\"colab-df-convert\" onclick=\"convertToInteractive('df-2b9180dc-4ed1-4864-a528-a253ab6cd38d')\"\n",
              "            title=\"Convert this dataframe to an interactive table.\"\n",
              "            style=\"display:none;\">\n",
              "\n",
              "  <svg xmlns=\"http://www.w3.org/2000/svg\" height=\"24px\" viewBox=\"0 -960 960 960\">\n",
              "    <path d=\"M120-120v-720h720v720H120Zm60-500h600v-160H180v160Zm220 220h160v-160H400v160Zm0 220h160v-160H400v160ZM180-400h160v-160H180v160Zm440 0h160v-160H620v160ZM180-180h160v-160H180v160Zm440 0h160v-160H620v160Z\"/>\n",
              "  </svg>\n",
              "    </button>\n",
              "\n",
              "  <style>\n",
              "    .colab-df-container {\n",
              "      display:flex;\n",
              "      gap: 12px;\n",
              "    }\n",
              "\n",
              "    .colab-df-convert {\n",
              "      background-color: #E8F0FE;\n",
              "      border: none;\n",
              "      border-radius: 50%;\n",
              "      cursor: pointer;\n",
              "      display: none;\n",
              "      fill: #1967D2;\n",
              "      height: 32px;\n",
              "      padding: 0 0 0 0;\n",
              "      width: 32px;\n",
              "    }\n",
              "\n",
              "    .colab-df-convert:hover {\n",
              "      background-color: #E2EBFA;\n",
              "      box-shadow: 0px 1px 2px rgba(60, 64, 67, 0.3), 0px 1px 3px 1px rgba(60, 64, 67, 0.15);\n",
              "      fill: #174EA6;\n",
              "    }\n",
              "\n",
              "    .colab-df-buttons div {\n",
              "      margin-bottom: 4px;\n",
              "    }\n",
              "\n",
              "    [theme=dark] .colab-df-convert {\n",
              "      background-color: #3B4455;\n",
              "      fill: #D2E3FC;\n",
              "    }\n",
              "\n",
              "    [theme=dark] .colab-df-convert:hover {\n",
              "      background-color: #434B5C;\n",
              "      box-shadow: 0px 1px 3px 1px rgba(0, 0, 0, 0.15);\n",
              "      filter: drop-shadow(0px 1px 2px rgba(0, 0, 0, 0.3));\n",
              "      fill: #FFFFFF;\n",
              "    }\n",
              "  </style>\n",
              "\n",
              "    <script>\n",
              "      const buttonEl =\n",
              "        document.querySelector('#df-2b9180dc-4ed1-4864-a528-a253ab6cd38d button.colab-df-convert');\n",
              "      buttonEl.style.display =\n",
              "        google.colab.kernel.accessAllowed ? 'block' : 'none';\n",
              "\n",
              "      async function convertToInteractive(key) {\n",
              "        const element = document.querySelector('#df-2b9180dc-4ed1-4864-a528-a253ab6cd38d');\n",
              "        const dataTable =\n",
              "          await google.colab.kernel.invokeFunction('convertToInteractive',\n",
              "                                                    [key], {});\n",
              "        if (!dataTable) return;\n",
              "\n",
              "        const docLinkHtml = 'Like what you see? Visit the ' +\n",
              "          '<a target=\"_blank\" href=https://colab.research.google.com/notebooks/data_table.ipynb>data table notebook</a>'\n",
              "          + ' to learn more about interactive tables.';\n",
              "        element.innerHTML = '';\n",
              "        dataTable['output_type'] = 'display_data';\n",
              "        await google.colab.output.renderOutput(dataTable, element);\n",
              "        const docLink = document.createElement('div');\n",
              "        docLink.innerHTML = docLinkHtml;\n",
              "        element.appendChild(docLink);\n",
              "      }\n",
              "    </script>\n",
              "  </div>\n",
              "\n",
              "\n",
              "<div id=\"df-3b4e2e79-1178-40a1-95dd-563181408a21\">\n",
              "  <button class=\"colab-df-quickchart\" onclick=\"quickchart('df-3b4e2e79-1178-40a1-95dd-563181408a21')\"\n",
              "            title=\"Suggest charts\"\n",
              "            style=\"display:none;\">\n",
              "\n",
              "<svg xmlns=\"http://www.w3.org/2000/svg\" height=\"24px\"viewBox=\"0 0 24 24\"\n",
              "     width=\"24px\">\n",
              "    <g>\n",
              "        <path d=\"M19 3H5c-1.1 0-2 .9-2 2v14c0 1.1.9 2 2 2h14c1.1 0 2-.9 2-2V5c0-1.1-.9-2-2-2zM9 17H7v-7h2v7zm4 0h-2V7h2v10zm4 0h-2v-4h2v4z\"/>\n",
              "    </g>\n",
              "</svg>\n",
              "  </button>\n",
              "\n",
              "<style>\n",
              "  .colab-df-quickchart {\n",
              "      --bg-color: #E8F0FE;\n",
              "      --fill-color: #1967D2;\n",
              "      --hover-bg-color: #E2EBFA;\n",
              "      --hover-fill-color: #174EA6;\n",
              "      --disabled-fill-color: #AAA;\n",
              "      --disabled-bg-color: #DDD;\n",
              "  }\n",
              "\n",
              "  [theme=dark] .colab-df-quickchart {\n",
              "      --bg-color: #3B4455;\n",
              "      --fill-color: #D2E3FC;\n",
              "      --hover-bg-color: #434B5C;\n",
              "      --hover-fill-color: #FFFFFF;\n",
              "      --disabled-bg-color: #3B4455;\n",
              "      --disabled-fill-color: #666;\n",
              "  }\n",
              "\n",
              "  .colab-df-quickchart {\n",
              "    background-color: var(--bg-color);\n",
              "    border: none;\n",
              "    border-radius: 50%;\n",
              "    cursor: pointer;\n",
              "    display: none;\n",
              "    fill: var(--fill-color);\n",
              "    height: 32px;\n",
              "    padding: 0;\n",
              "    width: 32px;\n",
              "  }\n",
              "\n",
              "  .colab-df-quickchart:hover {\n",
              "    background-color: var(--hover-bg-color);\n",
              "    box-shadow: 0 1px 2px rgba(60, 64, 67, 0.3), 0 1px 3px 1px rgba(60, 64, 67, 0.15);\n",
              "    fill: var(--button-hover-fill-color);\n",
              "  }\n",
              "\n",
              "  .colab-df-quickchart-complete:disabled,\n",
              "  .colab-df-quickchart-complete:disabled:hover {\n",
              "    background-color: var(--disabled-bg-color);\n",
              "    fill: var(--disabled-fill-color);\n",
              "    box-shadow: none;\n",
              "  }\n",
              "\n",
              "  .colab-df-spinner {\n",
              "    border: 2px solid var(--fill-color);\n",
              "    border-color: transparent;\n",
              "    border-bottom-color: var(--fill-color);\n",
              "    animation:\n",
              "      spin 1s steps(1) infinite;\n",
              "  }\n",
              "\n",
              "  @keyframes spin {\n",
              "    0% {\n",
              "      border-color: transparent;\n",
              "      border-bottom-color: var(--fill-color);\n",
              "      border-left-color: var(--fill-color);\n",
              "    }\n",
              "    20% {\n",
              "      border-color: transparent;\n",
              "      border-left-color: var(--fill-color);\n",
              "      border-top-color: var(--fill-color);\n",
              "    }\n",
              "    30% {\n",
              "      border-color: transparent;\n",
              "      border-left-color: var(--fill-color);\n",
              "      border-top-color: var(--fill-color);\n",
              "      border-right-color: var(--fill-color);\n",
              "    }\n",
              "    40% {\n",
              "      border-color: transparent;\n",
              "      border-right-color: var(--fill-color);\n",
              "      border-top-color: var(--fill-color);\n",
              "    }\n",
              "    60% {\n",
              "      border-color: transparent;\n",
              "      border-right-color: var(--fill-color);\n",
              "    }\n",
              "    80% {\n",
              "      border-color: transparent;\n",
              "      border-right-color: var(--fill-color);\n",
              "      border-bottom-color: var(--fill-color);\n",
              "    }\n",
              "    90% {\n",
              "      border-color: transparent;\n",
              "      border-bottom-color: var(--fill-color);\n",
              "    }\n",
              "  }\n",
              "</style>\n",
              "\n",
              "  <script>\n",
              "    async function quickchart(key) {\n",
              "      const quickchartButtonEl =\n",
              "        document.querySelector('#' + key + ' button');\n",
              "      quickchartButtonEl.disabled = true;  // To prevent multiple clicks.\n",
              "      quickchartButtonEl.classList.add('colab-df-spinner');\n",
              "      try {\n",
              "        const charts = await google.colab.kernel.invokeFunction(\n",
              "            'suggestCharts', [key], {});\n",
              "      } catch (error) {\n",
              "        console.error('Error during call to suggestCharts:', error);\n",
              "      }\n",
              "      quickchartButtonEl.classList.remove('colab-df-spinner');\n",
              "      quickchartButtonEl.classList.add('colab-df-quickchart-complete');\n",
              "    }\n",
              "    (() => {\n",
              "      let quickchartButtonEl =\n",
              "        document.querySelector('#df-3b4e2e79-1178-40a1-95dd-563181408a21 button');\n",
              "      quickchartButtonEl.style.display =\n",
              "        google.colab.kernel.accessAllowed ? 'block' : 'none';\n",
              "    })();\n",
              "  </script>\n",
              "</div>\n",
              "\n",
              "  <div id=\"id_508599b5-1356-4036-8f96-59e5cd4073e2\">\n",
              "    <style>\n",
              "      .colab-df-generate {\n",
              "        background-color: #E8F0FE;\n",
              "        border: none;\n",
              "        border-radius: 50%;\n",
              "        cursor: pointer;\n",
              "        display: none;\n",
              "        fill: #1967D2;\n",
              "        height: 32px;\n",
              "        padding: 0 0 0 0;\n",
              "        width: 32px;\n",
              "      }\n",
              "\n",
              "      .colab-df-generate:hover {\n",
              "        background-color: #E2EBFA;\n",
              "        box-shadow: 0px 1px 2px rgba(60, 64, 67, 0.3), 0px 1px 3px 1px rgba(60, 64, 67, 0.15);\n",
              "        fill: #174EA6;\n",
              "      }\n",
              "\n",
              "      [theme=dark] .colab-df-generate {\n",
              "        background-color: #3B4455;\n",
              "        fill: #D2E3FC;\n",
              "      }\n",
              "\n",
              "      [theme=dark] .colab-df-generate:hover {\n",
              "        background-color: #434B5C;\n",
              "        box-shadow: 0px 1px 3px 1px rgba(0, 0, 0, 0.15);\n",
              "        filter: drop-shadow(0px 1px 2px rgba(0, 0, 0, 0.3));\n",
              "        fill: #FFFFFF;\n",
              "      }\n",
              "    </style>\n",
              "    <button class=\"colab-df-generate\" onclick=\"generateWithVariable('df2')\"\n",
              "            title=\"Generate code using this dataframe.\"\n",
              "            style=\"display:none;\">\n",
              "\n",
              "  <svg xmlns=\"http://www.w3.org/2000/svg\" height=\"24px\"viewBox=\"0 0 24 24\"\n",
              "       width=\"24px\">\n",
              "    <path d=\"M7,19H8.4L18.45,9,17,7.55,7,17.6ZM5,21V16.75L18.45,3.32a2,2,0,0,1,2.83,0l1.4,1.43a1.91,1.91,0,0,1,.58,1.4,1.91,1.91,0,0,1-.58,1.4L9.25,21ZM18.45,9,17,7.55Zm-12,3A5.31,5.31,0,0,0,4.9,8.1,5.31,5.31,0,0,0,1,6.5,5.31,5.31,0,0,0,4.9,4.9,5.31,5.31,0,0,0,6.5,1,5.31,5.31,0,0,0,8.1,4.9,5.31,5.31,0,0,0,12,6.5,5.46,5.46,0,0,0,6.5,12Z\"/>\n",
              "  </svg>\n",
              "    </button>\n",
              "    <script>\n",
              "      (() => {\n",
              "      const buttonEl =\n",
              "        document.querySelector('#id_508599b5-1356-4036-8f96-59e5cd4073e2 button.colab-df-generate');\n",
              "      buttonEl.style.display =\n",
              "        google.colab.kernel.accessAllowed ? 'block' : 'none';\n",
              "\n",
              "      buttonEl.onclick = () => {\n",
              "        google.colab.notebook.generateWithVariable('df2');\n",
              "      }\n",
              "      })();\n",
              "    </script>\n",
              "  </div>\n",
              "\n",
              "    </div>\n",
              "  </div>\n"
            ],
            "application/vnd.google.colaboratory.intrinsic+json": {
              "type": "dataframe",
              "variable_name": "df2",
              "summary": "{\n  \"name\": \"df2\",\n  \"rows\": 4,\n  \"fields\": [\n    {\n      \"column\": \"A\",\n      \"properties\": {\n        \"dtype\": \"number\",\n        \"std\": 0.0,\n        \"min\": 1.0,\n        \"max\": 1.0,\n        \"num_unique_values\": 1,\n        \"samples\": [\n          1.0\n        ],\n        \"semantic_type\": \"\",\n        \"description\": \"\"\n      }\n    },\n    {\n      \"column\": \"B\",\n      \"properties\": {\n        \"dtype\": \"date\",\n        \"min\": \"2019-01-02 00:00:00\",\n        \"max\": \"2019-01-02 00:00:00\",\n        \"num_unique_values\": 1,\n        \"samples\": [\n          \"2019-01-02 00:00:00\"\n        ],\n        \"semantic_type\": \"\",\n        \"description\": \"\"\n      }\n    },\n    {\n      \"column\": \"C\",\n      \"properties\": {\n        \"dtype\": \"float32\",\n        \"num_unique_values\": 1,\n        \"samples\": [\n          1.0\n        ],\n        \"semantic_type\": \"\",\n        \"description\": \"\"\n      }\n    },\n    {\n      \"column\": \"D\",\n      \"properties\": {\n        \"dtype\": \"int32\",\n        \"num_unique_values\": 1,\n        \"samples\": [\n          3\n        ],\n        \"semantic_type\": \"\",\n        \"description\": \"\"\n      }\n    },\n    {\n      \"column\": \"E\",\n      \"properties\": {\n        \"dtype\": \"category\",\n        \"num_unique_values\": 2,\n        \"samples\": [\n          \"treino\"\n        ],\n        \"semantic_type\": \"\",\n        \"description\": \"\"\n      }\n    },\n    {\n      \"column\": \"F\",\n      \"properties\": {\n        \"dtype\": \"category\",\n        \"num_unique_values\": 1,\n        \"samples\": [\n          \"foo\"\n        ],\n        \"semantic_type\": \"\",\n        \"description\": \"\"\n      }\n    }\n  ]\n}"
            }
          },
          "metadata": {},
          "execution_count": 5
        }
      ]
    },
    {
      "cell_type": "markdown",
      "source": [
        "As colunas do **DataFrame** resultante podem possuir diferentes tipos:"
      ],
      "metadata": {
        "id": "CX_P-Gm1R6ts"
      }
    },
    {
      "cell_type": "code",
      "source": [
        "print(df2)\n",
        "\n",
        "df2.dtypes"
      ],
      "metadata": {
        "id": "WFBeUdUxSuN1"
      },
      "execution_count": null,
      "outputs": []
    },
    {
      "cell_type": "markdown",
      "source": [
        "Também é possível criar `DataFrame` passando um listas de objetos como colunas:"
      ],
      "metadata": {
        "id": "-WgT2dB9Wwxd"
      }
    },
    {
      "cell_type": "code",
      "source": [
        "import pandas as pd\n",
        "\n",
        "# Vetores como listas\n",
        "nomes = [\"Ana\", \"Bruno\", \"Clara\", \"Diego\"]\n",
        "idades = [23, 35, 29, 40]\n",
        "cidades = [\"São Paulo\", \"Rio de Janeiro\", \"Belo Horizonte\", \"Curitiba\"]\n",
        "\n",
        "# Criar o DataFrame combinando os vetores por colunas\n",
        "df = pd.DataFrame({\n",
        "    \"Nome\": nomes,\n",
        "    \"Idade\": idades,\n",
        "    \"Cidade\": cidades\n",
        "})\n",
        "\n",
        "print(df)\n"
      ],
      "metadata": {
        "id": "RuwaHH3eWv3i",
        "colab": {
          "base_uri": "https://localhost:8080/"
        },
        "outputId": "e3502ffb-638f-4803-e28e-47f4448b0b9a"
      },
      "execution_count": 6,
      "outputs": [
        {
          "output_type": "stream",
          "name": "stdout",
          "text": [
            "    Nome  Idade          Cidade\n",
            "0    Ana     23       São Paulo\n",
            "1  Bruno     35  Rio de Janeiro\n",
            "2  Clara     29  Belo Horizonte\n",
            "3  Diego     40        Curitiba\n"
          ]
        }
      ]
    },
    {
      "cell_type": "markdown",
      "source": [
        "e também podemos criar passando vetores como linhas:"
      ],
      "metadata": {
        "id": "hEJoUVidXurM"
      }
    },
    {
      "cell_type": "code",
      "source": [
        "import pandas as pd\n",
        "\n",
        "# Dados como vetores (linhas)\n",
        "linha1 = [\"Ana\", 23, \"São Paulo\"]\n",
        "linha2 = [\"Bruno\", 35, \"Rio de Janeiro\"]\n",
        "linha3 = [\"Clara\", 29, \"Belo Horizonte\"]\n",
        "\n",
        "# Criar o DataFrame\n",
        "df = pd.DataFrame(\n",
        "    [linha1, linha2, linha3],            # Passar as linhas\n",
        "    columns=[\"Nome\", \"Idade\", \"Cidade\"]  # Nomear as colunas\n",
        ")\n",
        "\n",
        "print(df)\n"
      ],
      "metadata": {
        "id": "NKxCZBd1X1QL"
      },
      "execution_count": null,
      "outputs": []
    },
    {
      "cell_type": "markdown",
      "source": [
        "## Exercício 1:\n",
        "\n",
        "Crie um vetor do tipo `Series` com:\n",
        "* as seguintes datas com indices: \"2023-01-01\", \"2023-03-15\", \"2023-07-20\", \"2023-12-25\".\n",
        "  * dica: utilize `pd.to_datetime([\"2023-01-01\", \"2023-03-15\", \"2023-07-20\", \"2023-12-25\"])`\n",
        "* os seguintes valores:  100, 200, 300, 400\n",
        "\n"
      ],
      "metadata": {
        "id": "_oC666gsVYyg"
      }
    },
    {
      "cell_type": "code",
      "source": [
        "datas = pd.to_datetime([\"2023-01-01\", \"2023-03-15\", \"2023-07-20\", \"2023-12-25\"])\n",
        "valores = [100, 200, 300, 400]\n",
        "serie = pd.Series(data=valores, index=datas)\n",
        "print(serie)"
      ],
      "metadata": {
        "colab": {
          "base_uri": "https://localhost:8080/"
        },
        "id": "ZleRPo41bMwi",
        "outputId": "691147ab-a432-4233-ec29-1f429340342f"
      },
      "execution_count": 8,
      "outputs": [
        {
          "output_type": "stream",
          "name": "stdout",
          "text": [
            "2023-01-01    100\n",
            "2023-03-15    200\n",
            "2023-07-20    300\n",
            "2023-12-25    400\n",
            "dtype: int64\n"
          ]
        }
      ]
    },
    {
      "cell_type": "markdown",
      "source": [
        "## Exercício 2\n",
        "\n",
        "Crie um `DataFrame` com 3 colunas chamadas `[\"Número\", \"Quadrado\", \"Cubo\"]`. Preencha com os números de 1 a 10 na coluna `Número`, e nas colunas `Quadrado` e `Cubo`, insira os valores correspondentes ao quadrado e ao cubo de cada número.\n"
      ],
      "metadata": {
        "id": "3XyUKoNZaXQn"
      }
    },
    {
      "cell_type": "code",
      "source": [
        "numeros = list(range(1, 11))\n",
        "quadrados = [x**2 for x in numeros]\n",
        "cubos = [x**3 for x in numeros]\n",
        "\n",
        "dataf = pd.DataFrame({\n",
        "    \"Número\": numeros,\n",
        "    \"Quadrado\": quadrados,\n",
        "    \"Cubo\": cubos\n",
        "})\n",
        "\n",
        "print(dataf)"
      ],
      "metadata": {
        "colab": {
          "base_uri": "https://localhost:8080/"
        },
        "id": "67_K_GXobgC1",
        "outputId": "e1328a97-8ca1-424e-92c4-82d484c0c4ad"
      },
      "execution_count": 9,
      "outputs": [
        {
          "output_type": "stream",
          "name": "stdout",
          "text": [
            "   Número  Quadrado  Cubo\n",
            "0       1         1     1\n",
            "1       2         4     8\n",
            "2       3         9    27\n",
            "3       4        16    64\n",
            "4       5        25   125\n",
            "5       6        36   216\n",
            "6       7        49   343\n",
            "7       8        64   512\n",
            "8       9        81   729\n",
            "9      10       100  1000\n"
          ]
        }
      ]
    },
    {
      "cell_type": "markdown",
      "source": [
        "## Visualizando os dados"
      ],
      "metadata": {
        "id": "urziTWczQxgB"
      }
    },
    {
      "cell_type": "markdown",
      "source": [
        "Use `DataFrame.head()` e `DataFrame.tail()` para visualizar as linhas iniciais e finais do *data frame*:"
      ],
      "metadata": {
        "id": "4lKW1-ThSu9E"
      }
    },
    {
      "cell_type": "code",
      "source": [
        "datas = pd.date_range(\"20190101\", periods=6)\n",
        "\n",
        "df = pd.DataFrame(np.random.randn(6, 4), index=datas, columns=list(\"ABCD\"))\n",
        "print(\"df:\\n\", df)\n",
        "\n",
        "print(\"\\ndf.head(3):\")\n",
        "df.head(3)"
      ],
      "metadata": {
        "id": "t16iREG3UYYd"
      },
      "execution_count": null,
      "outputs": []
    },
    {
      "cell_type": "code",
      "source": [
        "df.tail(3)"
      ],
      "metadata": {
        "id": "s5WAtJnjUYpM",
        "colab": {
          "base_uri": "https://localhost:8080/",
          "height": 1000
        },
        "outputId": "439ef95b-ecdf-474d-9977-e72bd3e7dd05"
      },
      "execution_count": 10,
      "outputs": [
        {
          "output_type": "execute_result",
          "data": {
            "text/plain": [
              "    Nome  Idade          Cidade\n",
              "1  Bruno     35  Rio de Janeiro\n",
              "2  Clara     29  Belo Horizonte\n",
              "3  Diego     40        Curitiba"
            ],
            "text/html": [
              "\n",
              "  <div id=\"df-7def39cd-b6c7-45d9-83c3-cc4c10929925\" class=\"colab-df-container\">\n",
              "    <div>\n",
              "<style scoped>\n",
              "    .dataframe tbody tr th:only-of-type {\n",
              "        vertical-align: middle;\n",
              "    }\n",
              "\n",
              "    .dataframe tbody tr th {\n",
              "        vertical-align: top;\n",
              "    }\n",
              "\n",
              "    .dataframe thead th {\n",
              "        text-align: right;\n",
              "    }\n",
              "</style>\n",
              "<table border=\"1\" class=\"dataframe\">\n",
              "  <thead>\n",
              "    <tr style=\"text-align: right;\">\n",
              "      <th></th>\n",
              "      <th>Nome</th>\n",
              "      <th>Idade</th>\n",
              "      <th>Cidade</th>\n",
              "    </tr>\n",
              "  </thead>\n",
              "  <tbody>\n",
              "    <tr>\n",
              "      <th>1</th>\n",
              "      <td>Bruno</td>\n",
              "      <td>35</td>\n",
              "      <td>Rio de Janeiro</td>\n",
              "    </tr>\n",
              "    <tr>\n",
              "      <th>2</th>\n",
              "      <td>Clara</td>\n",
              "      <td>29</td>\n",
              "      <td>Belo Horizonte</td>\n",
              "    </tr>\n",
              "    <tr>\n",
              "      <th>3</th>\n",
              "      <td>Diego</td>\n",
              "      <td>40</td>\n",
              "      <td>Curitiba</td>\n",
              "    </tr>\n",
              "  </tbody>\n",
              "</table>\n",
              "</div>\n",
              "    <div class=\"colab-df-buttons\">\n",
              "\n",
              "  <div class=\"colab-df-container\">\n",
              "    <button class=\"colab-df-convert\" onclick=\"convertToInteractive('df-7def39cd-b6c7-45d9-83c3-cc4c10929925')\"\n",
              "            title=\"Convert this dataframe to an interactive table.\"\n",
              "            style=\"display:none;\">\n",
              "\n",
              "  <svg xmlns=\"http://www.w3.org/2000/svg\" height=\"24px\" viewBox=\"0 -960 960 960\">\n",
              "    <path d=\"M120-120v-720h720v720H120Zm60-500h600v-160H180v160Zm220 220h160v-160H400v160Zm0 220h160v-160H400v160ZM180-400h160v-160H180v160Zm440 0h160v-160H620v160ZM180-180h160v-160H180v160Zm440 0h160v-160H620v160Z\"/>\n",
              "  </svg>\n",
              "    </button>\n",
              "\n",
              "  <style>\n",
              "    .colab-df-container {\n",
              "      display:flex;\n",
              "      gap: 12px;\n",
              "    }\n",
              "\n",
              "    .colab-df-convert {\n",
              "      background-color: #E8F0FE;\n",
              "      border: none;\n",
              "      border-radius: 50%;\n",
              "      cursor: pointer;\n",
              "      display: none;\n",
              "      fill: #1967D2;\n",
              "      height: 32px;\n",
              "      padding: 0 0 0 0;\n",
              "      width: 32px;\n",
              "    }\n",
              "\n",
              "    .colab-df-convert:hover {\n",
              "      background-color: #E2EBFA;\n",
              "      box-shadow: 0px 1px 2px rgba(60, 64, 67, 0.3), 0px 1px 3px 1px rgba(60, 64, 67, 0.15);\n",
              "      fill: #174EA6;\n",
              "    }\n",
              "\n",
              "    .colab-df-buttons div {\n",
              "      margin-bottom: 4px;\n",
              "    }\n",
              "\n",
              "    [theme=dark] .colab-df-convert {\n",
              "      background-color: #3B4455;\n",
              "      fill: #D2E3FC;\n",
              "    }\n",
              "\n",
              "    [theme=dark] .colab-df-convert:hover {\n",
              "      background-color: #434B5C;\n",
              "      box-shadow: 0px 1px 3px 1px rgba(0, 0, 0, 0.15);\n",
              "      filter: drop-shadow(0px 1px 2px rgba(0, 0, 0, 0.3));\n",
              "      fill: #FFFFFF;\n",
              "    }\n",
              "  </style>\n",
              "\n",
              "    <script>\n",
              "      const buttonEl =\n",
              "        document.querySelector('#df-7def39cd-b6c7-45d9-83c3-cc4c10929925 button.colab-df-convert');\n",
              "      buttonEl.style.display =\n",
              "        google.colab.kernel.accessAllowed ? 'block' : 'none';\n",
              "\n",
              "      async function convertToInteractive(key) {\n",
              "        const element = document.querySelector('#df-7def39cd-b6c7-45d9-83c3-cc4c10929925');\n",
              "        const dataTable =\n",
              "          await google.colab.kernel.invokeFunction('convertToInteractive',\n",
              "                                                    [key], {});\n",
              "        if (!dataTable) return;\n",
              "\n",
              "        const docLinkHtml = 'Like what you see? Visit the ' +\n",
              "          '<a target=\"_blank\" href=https://colab.research.google.com/notebooks/data_table.ipynb>data table notebook</a>'\n",
              "          + ' to learn more about interactive tables.';\n",
              "        element.innerHTML = '';\n",
              "        dataTable['output_type'] = 'display_data';\n",
              "        await google.colab.output.renderOutput(dataTable, element);\n",
              "        const docLink = document.createElement('div');\n",
              "        docLink.innerHTML = docLinkHtml;\n",
              "        element.appendChild(docLink);\n",
              "      }\n",
              "    </script>\n",
              "  </div>\n",
              "\n",
              "\n",
              "<div id=\"df-b2d6f79b-4cd1-410e-a1c3-413d8f4965d6\">\n",
              "  <button class=\"colab-df-quickchart\" onclick=\"quickchart('df-b2d6f79b-4cd1-410e-a1c3-413d8f4965d6')\"\n",
              "            title=\"Suggest charts\"\n",
              "            style=\"display:none;\">\n",
              "\n",
              "<svg xmlns=\"http://www.w3.org/2000/svg\" height=\"24px\"viewBox=\"0 0 24 24\"\n",
              "     width=\"24px\">\n",
              "    <g>\n",
              "        <path d=\"M19 3H5c-1.1 0-2 .9-2 2v14c0 1.1.9 2 2 2h14c1.1 0 2-.9 2-2V5c0-1.1-.9-2-2-2zM9 17H7v-7h2v7zm4 0h-2V7h2v10zm4 0h-2v-4h2v4z\"/>\n",
              "    </g>\n",
              "</svg>\n",
              "  </button>\n",
              "\n",
              "<style>\n",
              "  .colab-df-quickchart {\n",
              "      --bg-color: #E8F0FE;\n",
              "      --fill-color: #1967D2;\n",
              "      --hover-bg-color: #E2EBFA;\n",
              "      --hover-fill-color: #174EA6;\n",
              "      --disabled-fill-color: #AAA;\n",
              "      --disabled-bg-color: #DDD;\n",
              "  }\n",
              "\n",
              "  [theme=dark] .colab-df-quickchart {\n",
              "      --bg-color: #3B4455;\n",
              "      --fill-color: #D2E3FC;\n",
              "      --hover-bg-color: #434B5C;\n",
              "      --hover-fill-color: #FFFFFF;\n",
              "      --disabled-bg-color: #3B4455;\n",
              "      --disabled-fill-color: #666;\n",
              "  }\n",
              "\n",
              "  .colab-df-quickchart {\n",
              "    background-color: var(--bg-color);\n",
              "    border: none;\n",
              "    border-radius: 50%;\n",
              "    cursor: pointer;\n",
              "    display: none;\n",
              "    fill: var(--fill-color);\n",
              "    height: 32px;\n",
              "    padding: 0;\n",
              "    width: 32px;\n",
              "  }\n",
              "\n",
              "  .colab-df-quickchart:hover {\n",
              "    background-color: var(--hover-bg-color);\n",
              "    box-shadow: 0 1px 2px rgba(60, 64, 67, 0.3), 0 1px 3px 1px rgba(60, 64, 67, 0.15);\n",
              "    fill: var(--button-hover-fill-color);\n",
              "  }\n",
              "\n",
              "  .colab-df-quickchart-complete:disabled,\n",
              "  .colab-df-quickchart-complete:disabled:hover {\n",
              "    background-color: var(--disabled-bg-color);\n",
              "    fill: var(--disabled-fill-color);\n",
              "    box-shadow: none;\n",
              "  }\n",
              "\n",
              "  .colab-df-spinner {\n",
              "    border: 2px solid var(--fill-color);\n",
              "    border-color: transparent;\n",
              "    border-bottom-color: var(--fill-color);\n",
              "    animation:\n",
              "      spin 1s steps(1) infinite;\n",
              "  }\n",
              "\n",
              "  @keyframes spin {\n",
              "    0% {\n",
              "      border-color: transparent;\n",
              "      border-bottom-color: var(--fill-color);\n",
              "      border-left-color: var(--fill-color);\n",
              "    }\n",
              "    20% {\n",
              "      border-color: transparent;\n",
              "      border-left-color: var(--fill-color);\n",
              "      border-top-color: var(--fill-color);\n",
              "    }\n",
              "    30% {\n",
              "      border-color: transparent;\n",
              "      border-left-color: var(--fill-color);\n",
              "      border-top-color: var(--fill-color);\n",
              "      border-right-color: var(--fill-color);\n",
              "    }\n",
              "    40% {\n",
              "      border-color: transparent;\n",
              "      border-right-color: var(--fill-color);\n",
              "      border-top-color: var(--fill-color);\n",
              "    }\n",
              "    60% {\n",
              "      border-color: transparent;\n",
              "      border-right-color: var(--fill-color);\n",
              "    }\n",
              "    80% {\n",
              "      border-color: transparent;\n",
              "      border-right-color: var(--fill-color);\n",
              "      border-bottom-color: var(--fill-color);\n",
              "    }\n",
              "    90% {\n",
              "      border-color: transparent;\n",
              "      border-bottom-color: var(--fill-color);\n",
              "    }\n",
              "  }\n",
              "</style>\n",
              "\n",
              "  <script>\n",
              "    async function quickchart(key) {\n",
              "      const quickchartButtonEl =\n",
              "        document.querySelector('#' + key + ' button');\n",
              "      quickchartButtonEl.disabled = true;  // To prevent multiple clicks.\n",
              "      quickchartButtonEl.classList.add('colab-df-spinner');\n",
              "      try {\n",
              "        const charts = await google.colab.kernel.invokeFunction(\n",
              "            'suggestCharts', [key], {});\n",
              "      } catch (error) {\n",
              "        console.error('Error during call to suggestCharts:', error);\n",
              "      }\n",
              "      quickchartButtonEl.classList.remove('colab-df-spinner');\n",
              "      quickchartButtonEl.classList.add('colab-df-quickchart-complete');\n",
              "    }\n",
              "    (() => {\n",
              "      let quickchartButtonEl =\n",
              "        document.querySelector('#df-b2d6f79b-4cd1-410e-a1c3-413d8f4965d6 button');\n",
              "      quickchartButtonEl.style.display =\n",
              "        google.colab.kernel.accessAllowed ? 'block' : 'none';\n",
              "    })();\n",
              "  </script>\n",
              "</div>\n",
              "\n",
              "    </div>\n",
              "  </div>\n"
            ],
            "application/vnd.google.colaboratory.intrinsic+json": {
              "type": "dataframe",
              "summary": "{\n  \"name\": \"df\",\n  \"rows\": 3,\n  \"fields\": [\n    {\n      \"column\": \"Nome\",\n      \"properties\": {\n        \"dtype\": \"string\",\n        \"num_unique_values\": 3,\n        \"samples\": [\n          \"Bruno\",\n          \"Clara\",\n          \"Diego\"\n        ],\n        \"semantic_type\": \"\",\n        \"description\": \"\"\n      }\n    },\n    {\n      \"column\": \"Idade\",\n      \"properties\": {\n        \"dtype\": \"number\",\n        \"std\": 5,\n        \"min\": 29,\n        \"max\": 40,\n        \"num_unique_values\": 3,\n        \"samples\": [\n          35,\n          29,\n          40\n        ],\n        \"semantic_type\": \"\",\n        \"description\": \"\"\n      }\n    },\n    {\n      \"column\": \"Cidade\",\n      \"properties\": {\n        \"dtype\": \"string\",\n        \"num_unique_values\": 3,\n        \"samples\": [\n          \"Rio de Janeiro\",\n          \"Belo Horizonte\",\n          \"Curitiba\"\n        ],\n        \"semantic_type\": \"\",\n        \"description\": \"\"\n      }\n    }\n  ]\n}"
            }
          },
          "metadata": {},
          "execution_count": 10
        },
        {
          "output_type": "display_data",
          "data": {
            "text/plain": [
              "<google.colab._quickchart_helpers.SectionTitle at 0x789f6d089b40>"
            ],
            "text/html": [
              "<h4 class=\"colab-quickchart-section-title\">Distributions</h4>\n",
              "<style>\n",
              "  .colab-quickchart-section-title {\n",
              "      clear: both;\n",
              "  }\n",
              "</style>"
            ]
          },
          "metadata": {}
        },
        {
          "output_type": "display_data",
          "data": {
            "text/plain": [
              "from matplotlib import pyplot as plt\n",
              "_df_0['Idade'].plot(kind='hist', bins=20, title='Idade')\n",
              "plt.gca().spines[['top', 'right',]].set_visible(False)"
            ],
            "text/html": [
              "      <div class=\"colab-quickchart-chart-with-code\" id=\"chart-ac20453c-302e-4435-a80c-f50cc6ddf1bd\">\n",
              "        <img style=\"width: 180px;\" src=\"data:image/png;base64,iVBORw0KGgoAAAANSUhEUgAAAioAAAGrCAYAAADuNLxTAAAAOXRFWHRTb2Z0d2FyZQBNYXRwbG90\n",
              "bGliIHZlcnNpb24zLjguMCwgaHR0cHM6Ly9tYXRwbG90bGliLm9yZy81sbWrAAAACXBIWXMAAA9h\n",
              "AAAPYQGoP6dpAAAfzklEQVR4nO3dfVCVdf7/8dcB9GgZNxkGgUdWuckyJRBisc3MdVf7FZZmUzuW\n",
              "tAnY1raNzWhkTVoWNrttWo0jikMZ091607La1la6dqci1rqmbYKJB12UbhTKlLj5/P5wYjshfsXO\n",
              "xfkcfT5mzgzn8OHyfa7hzDy9zsW5XMYYIwAAAAuFBHoAAACAzhAqAADAWoQKAACwFqECAACsRagA\n",
              "AABrESoAAMBahAoAALAWoQIAAKxFqAAAAGsRKgC6XXV1tVwul2pqak55GyUlJUpISPDbTADsRKgA\n",
              "cMSVV16pBx54INBjAAhyhAoAALAWoQLAcbt27dLo0aMVHh6uwYMHa926dT7f//jjjzV69GhFR0cr\n",
              "IiJCl112mdauXeuz5o033tAll1yiPn366KqrrlJtba3P91tbW/XEE09o8ODBioiIUHp6ut5++23H\n",
              "nxsAZxEqABzV2tqqa6+9Vh6PR3V1dXrzzTe1ZMmSDuvuu+8+eb1e1dfXa9y4cbr++utVX18vSdq9\n",
              "e7dycnL0+9//XgcPHtTcuXO1cOFCn59/5JFH9Pzzz+vVV1/VwYMH9cADDygnJ0e7du3qlucJwBmE\n",
              "CgBHbdy4UZ9++qnmz5+vs88+W/Hx8XrwwQd91gwZMkRjxoxR79695Xa7NXv2bLlcLm3atEmS9MIL\n",
              "L2jIkCHKz89Xjx49lJ2drVtvvdVnG08++aQef/xxpaSkKCQkRNdff72ys7P14osvdttzBeB/YYEe\n",
              "AMDpbe/evYqKilJERET7Yz/72c981ni9Xs2YMUMffPCBDh06pJCQEDU2NrYfUdm7d2+Hn/nh/QMH\n",
              "DqixsVGTJk1SSMj//v/V3NysxMREJ54WgG5CqABwVHx8vA4ePKiGhob2WPnxnyXn5eUpIiJCmzdv\n",
              "1vnnny9jjKKiomSMad/G5s2bfX7mh9uIjIxUr169tHr1al1xxRWOPh8A3Yu3fgA46rLLLlNSUpKm\n",
              "T5+uw4cPa9++fZo7d67PmoaGBvXp00dRUVE6fPiwCgsL9c0337R//+abb9a2bdtUUlKilpYWbdy4\n",
              "UcuWLWv/vtvt1rRp0zRjxgx98sknMsboyJEjeuedd7Rz585ue64A/I9QAeCosLAw/e1vf9Pu3bsV\n",
              "GxurX/7yl7r99tt91jz11FPaunWroqKidNFFFykuLk7x8fHt3x84cKBWrVql+fPnKzIyUvfff7/u\n",
              "uOMOn2386U9/0s0336xJkyYpMjJSCQkJKioqUnNzc7c8TwDOcJnvj60CAABYhiMqAADAWoQKAACw\n",
              "FqECAACsRagAAABrESoAAMBahAoAALAWoQIAAKx1WoTKggULAj0CAABwwGkRKnv27An0CAAAwAGn\n",
              "RagAAIDTE6ECAACsRagAAABrESoAAMBahAoAALAWoQIAAKxFqAAAAGsRKgAAwFqECgAAsBahAgAA\n",
              "rEWoAAAAaxEqAADAWo6Gyt13362EhAS5XC7961//6nTd0qVLlZSUpEGDBikvL0/Nzc1OjgUAAIKE\n",
              "o6Fyww036L333tOAAQM6XbN79249+OCDevfdd1VdXa0DBw5o8eLFTo4FAACChKOhcsUVVyg+Pv6E\n",
              "a5YvX66cnBzFxMTI5XJp2rRpevHFFztd39TUpMbGRp9ba2urv0cHAAAWCAv0AF6v1+eIS0JCgrxe\n",
              "b6fri4qKNGfOHJ/HsrKyHJkt4b41jmxXkmrm/T/Htg2cTpx6HfIaxOnmdH2tBN3JtIWFhWpoaPC5\n",
              "ZWZmBnosAADggIAfUfF4PNq1a1f7/ZqaGnk8nk7Xu91uud1un8dCQ0Mdmw8AAAROwI+oTJw4UeXl\n",
              "5dq/f7+MMVq0aJFuuummQI8FAAAs4GioFBQUKD4+Xnv37tWvf/1rJSYmSpKmTp2q8vJySdLAgQM1\n",
              "Z84cjRgxQomJiYqOjlZBQYGTYwEAgCDh6Fs/xcXFx328pKTE535eXp7y8vKcHAUAAAShgL/1AwAA\n",
              "0BlCBQAAWItQAQAA1iJUAACAtQgVAABgLUIFAABYi1ABAADWIlQAAIC1CBUAAGAtQgUAAFiLUAEA\n",
              "ANYiVAAAgLUIFQAAYC1CBQAAWItQAQAA1iJUAACAtQgVAABgLUIFAABYi1ABAADWIlQAAIC1CBUA\n",
              "AGAtQgUAAFiLUAEAANYiVAAAgLUIFQAAYC1CBQAAWItQAQAA1iJUAACAtQgVAABgLUIFAABYi1AB\n",
              "AADWIlQAAIC1CBUAAGAtQgUAAFiLUAEAANYiVAAAgLUIFQAAYC1CBQAAWItQAQAA1iJUAACAtQgV\n",
              "AABgLUIFAABYi1ABAADWIlQAAIC1CBUAAGAtQgUAAFiLUAEAANYiVAAAgLUIFQAAYC1CBQAAWItQ\n",
              "AQAA1iJUAACAtQgVAABgLUIFAABYi1ABAADWIlQAAIC1CBUAAGAtQgUAAFiLUAEAANYiVAAAgLUI\n",
              "FQAAYC1HQ6WqqkrZ2dlKTk5WRkaGtm/f3mFNW1ubpk+frosuukhDhw7VqFGjVF1d7eRYAAAgSDga\n",
              "KgUFBcrPz9fOnTs1c+ZM5ebmdlhTXl6u999/X1u3btW///1vjR49Wvfff7+TYwEAgCDhWKjU19er\n",
              "srJSkydPliRNnDhRtbW1HY6WuFwuNTU16ejRozLGqLGxUfHx8U6NBQAAgkiYUxuura1VbGyswsKO\n",
              "/RMul0sej0der1eJiYnt66699lqtW7dOMTExOueccxQXF6f169d3ut2mpiY1NTX5PNba2urMkwAA\n",
              "AAEV8JNpKysr9fHHH2vfvn3673//q9GjR2vatGmdri8qKlJERITPraKiohsnBgAA3cWxUOnfv7/q\n",
              "6urU0tIiSTLGyOv1yuPx+KxbtmyZrrrqKkVGRiokJERTpkzRunXrOt1uYWGhGhoafG6ZmZlOPQ0A\n",
              "ABBAjoVKv379lJaWprKyMknSihUrFB8f7/O2jyQNHDhQa9eu1XfffSdJWr16tYYMGdLpdt1ut8LD\n",
              "w31uoaGhTj0NAAAQQI6doyJJxcXFys3N1WOPPabw8HCVlpZKkqZOnaqcnBzl5OTozjvv1CeffKJh\n",
              "w4apR48eiomJ0aJFi5wcCwAABAlHQyUlJUUbNmzo8HhJSUn71263W0uWLHFyDAAAEKQCfjItAABA\n",
              "ZwgVAABgLUIFAABYi1ABAADWIlQAAIC1CBUAAGAtQgUAAFiLUAEAANYiVAAAgLUIFQAAYC1CBQAA\n",
              "WItQAQAA1iJUAACAtQgVAABgLUIFAABYi1ABAADWIlQAAIC1CBUAAGAtQgUAAFiLUAEAANYiVAAA\n",
              "gLUIFQAAYC1CBQAAWItQAQAA1iJUAACAtQgVAABgLUIFAABYi1ABAADWIlQAAIC1CBUAAGAtQgUA\n",
              "AFiLUAEAANYiVAAAgLUIFQAAYC1CBQAAWItQAQAA1iJUAACAtQgVAABgLUIFAABYi1ABAADWIlQA\n",
              "AIC1CBUAAGAtQgUAAFiLUAEAANYiVAAAgLUIFQAAYC1CBQAAWItQAQAA1iJUAACAtQgVAABgLUIF\n",
              "AABYi1ABAADWIlQAAIC1CBUAAGAtQgUAAFiLUAEAANYiVAAAgLUIFQAAYC1CBQAAWItQAQAA1iJU\n",
              "AACAtQgVAABgLUdDpaqqStnZ2UpOTlZGRoa2b99+3HXbtm3TlVdeqcGDB2vw4MFauXKlk2MBAIAg\n",
              "EebkxgsKCpSfn6/c3FwtX75cubm52rx5s8+ab7/9VuPHj9eyZct0+eWXq7W1VV999ZWTYwEAgCDh\n",
              "2BGV+vp6VVZWavLkyZKkiRMnqra2VtXV1T7rXnjhBWVlZenyyy+XJIWGhio6OrrT7TY1NamxsdHn\n",
              "1tra6tTTAAAAAeRYqNTW1io2NlZhYccO2rhcLnk8Hnm9Xp91O3bskNvt1jXXXKPU1FTdeuut+vzz\n",
              "zzvdblFRkSIiInxuFRUVTj0NAAAQQF0OlTfeeMOvA7S0tOitt95ScXGxPvroI8XFxemOO+7odH1h\n",
              "YaEaGhp8bpmZmX6dCQAA2KHLofLwww8rJSVFCxYsUGNjY6fr+vfvr7q6OrW0tEiSjDHyer3yeDw+\n",
              "6zwej0aNGqW4uDi5XC5NnjxZGzdu7HS7brdb4eHhPrfQ0NCuPg0AABAEuhwq77//vl566SV9/PHH\n",
              "Sk5O1u9+9zvt2LGjw7p+/fopLS1NZWVlkqQVK1YoPj5eiYmJPutuvPFGbd68uT16XnvtNQ0bNuxU\n",
              "ngsAADjNnNI5KpdeeqmWLFmi119/XatXr9bQoUM1ZswYbdu2zWddcXGxiouLlZycrHnz5qm0tFSS\n",
              "NHXqVJWXl0s6dkTl/vvvV3Z2toYOHaq1a9dq0aJFP/FpAQCA08Ep/XnyW2+9paefflrbtm3TnXfe\n",
              "qdtvv13//Oc/df311/v8VU9KSoo2bNjQ4edLSkp87t9yyy265ZZbTmUUAABwGutyqAwePFjnnXee\n",
              "7r77bk2YMKH9/JAbbrhBS5cu9fuAAADgzNXlUCkrK1N6evpxv/f3v//9Jw8EAADwvS6fo7Jlyxaf\n",
              "T4798ssvtWTJEr8OBQAAIJ1CqCxcuFDnnntu+/2+fftq4cKFfh0KAABAOoVQMcZ0eIyPsAcAAE7o\n",
              "cqjExsbqlVdeab//8ssvKzY21q9DAQAASKdwMu38+fM1fvx4zZgxQ5J01lln6a9//avfBwMAAOhy\n",
              "qFx44YXasWOHPv30U0nHPiuFj7AHAABOOKUPfHO5XIqMjFRLS4v27dsnSR2u4QMAAPBTdTlUnn32\n",
              "Wd19993q0aOHQkKOneLicrlUX1/v9+EAAMCZrcuh8sgjj2jz5s1KSUlxYh4AAIB2Xf6rn/POO49I\n",
              "AQAA3aLLoXLddddp/vz5qq+vV2NjY/sNAADA37r81s+sWbMkSdOnT5fL5ZIxRi6Xiw99AwAAftfl\n",
              "UGlra3NiDgAAgA66/NaPdOzChM8//7wk6dChQ6qrq/PrUAAAANIpXpTwt7/9rWbPni3p2NWTf/Ob\n",
              "3/h7LgAAgK6HyuLFi7Vx40aFh4dLkgYNGqTPP//c74MBAAB0OVTcbrd69+7t81hY2Cl9wC0AAMAJ\n",
              "dTlUoqOjtXPnTrlcLknHPqmWj88HAABOOKWrJ9988836z3/+o/79+ys8PFyrV692YjYAAHCG63Ko\n",
              "JCYmatOmTfr0009ljOHqyQAAwDFdDhWv1ytJOvvssyWJqycDAADHdDlU0tPT2z+R9ujRo/r222/V\n",
              "t29frp4MAAD8rsuh8uM/RV65cqW2bt3qt4EAAAC+d0qfTPtDEyZM0Jo1a/wxCwAAgI8uH1H54ZWS\n",
              "W1tbtWnTJq6eDAAAHNHlUImMjGw/RyU0NFRJSUl66qmnnJgNAACc4bh6MgAAsNZPPkcFAADAKV0+\n",
              "ohISEtL+8fk/ZIyRy+VSa2urXwYDAADocqg8/PDDOnLkiO644w5J0qJFi9S7d2/dc889/p4NAACc\n",
              "4bocKqtWrdKWLVva78+dO1fp6emaNWuWXwcDAADo8jkqX3/9tc+n0NbX1+vrr7/261AAAADSKRxR\n",
              "uffeezVs2DBdffXVkqTXX39ds2fP9vdcAAAAXQ+VgoICjRgxQuvWrZMkTZ8+XRdffLHfBwMAAOhy\n",
              "qEhS3759dckll+jKK69US0uLvvvuO/Xs2dPfswEAgDNcl89RWb58ubKysnTbbbdJkrZv367rrrvO\n",
              "33MBAAB0PVSKior04YcfKjIyUpI0bNgw7dmzx99zAQAAdD1UQkND1bdvX5/HeNsHAAA4ocuhcs45\n",
              "5+jAgQPtn0779ttv69xzz/X7YAAAAF0+mfbxxx/XuHHj9Nlnn+nyyy/X7t27tWbNGidmAwAAZ7gu\n",
              "hUpbW5taW1u1bt06ffDBBzLGKDs7u/18FQAAAH/qUqiEhIQoPz9fW7du1bhx45yaCQAAQNIpnKOS\n",
              "lJSk6upqJ2YBAADw0eVzVL766iulpqYqOztbffr0aX985cqVfh0MAADgpEMlPz9fixcv1pQpU5ST\n",
              "k6OoqCgn5wIAADj5UKmsrJQkTZkyRWlpafrwww8dGwoAAEA6hXNUJMkY4+85AAAAOjjpIypHjhzR\n",
              "tm3bZIzR0aNH27/+3tChQx0ZEAAAnLm6FCo5OTnt93/4tcvl0meffebfyQAAwBnvpEOlpqbGwTEA\n",
              "AAA6OqVzVAAAALoDoQIAAKxFqAAAAGsRKgAAwFqECgAAsBahAgAArEWoAAAAaxEqAADAWoQKAACw\n",
              "lqOhUlVVpezsbCUnJysjI0Pbt2/vdK0xRldddZUiIyOdHAkAAAQRR0OloKBA+fn52rlzp2bOnKnc\n",
              "3NxO1z755JMaNGiQk+MAAIAg41io1NfXq7KyUpMnT5YkTZw4UbW1taquru6wdvv27Xr11Vd13333\n",
              "/Z/bbWpqUmNjo8+ttbXV7/MDAIDAcyxUamtrFRsbq7CwY9c9dLlc8ng88nq9Puuam5uVl5en4uJi\n",
              "hYaG/p/bLSoqUkREhM+toqLCkecAAAACK+An086ZM0cTJkzQ4MGDT2p9YWGhGhoafG6ZmZkOTwkA\n",
              "AAIhzKkN9+/fX3V1dWppaVFYWJiMMfJ6vfJ4PD7r1q9fL6/Xq2eeeUYtLS1qbGxUQkKCNm/erOjo\n",
              "6A7bdbvdcrvdPo+dzJEYAAAQfBw7otKvXz+lpaWprKxMkrRixQrFx8crMTHRZ927776rPXv2qKam\n",
              "Ru+9957Cw8NVU1Nz3EgBAABnFkff+ikuLlZxcbGSk5M1b948lZaWSpKmTp2q8vJyJ/9pAABwGnDs\n",
              "rR9JSklJ0YYNGzo8XlJSctz1CQkJOnTokJMjAQCAIBLwk2kBAAA6Q6gAAABrESoAAMBahAoAALAW\n",
              "oQIAAKxFqAAAAGsRKgAAwFqECgAAsBahAgAArEWoAAAAaxEqAADAWoQKAACwFqECAACsRagAAABr\n",
              "ESoAAMBahAoAALAWoQIAAKxFqAAAAGsRKgAAwFqECgAAsBahAgAArEWoAAAAaxEqAADAWoQKAACw\n",
              "FqECAACsRagAAABrESoAAMBahAoAALAWoQIAAKxFqAAAAGsRKgAAwFqECgAAsBahAgAArEWoAAAA\n",
              "axEqAADAWoQKAACwFqECAACsRagAAABrESoAAMBahAoAALAWoQIAAKxFqAAAAGsRKgAAwFqECgAA\n",
              "sBahAgAArEWoAAAAaxEqAADAWoQKAACwFqECAACsRagAAABrESoAAMBahAoAALAWoQIAAKxFqAAA\n",
              "AGsRKgAAwFqECgAAsBahAgAArEWoAAAAaxEqAADAWoQKAACwFqECAACsRagAAABrORoqVVVVys7O\n",
              "VnJysjIyMrR9+/YOa9auXavMzExddNFFuvjiizVjxgy1tbU5ORYAAAgSjoZKQUGB8vPztXPnTs2c\n",
              "OVO5ubkd1kRFRemll17Sjh07tGXLFn3wwQdatmyZk2MBAIAg4Vio1NfXq7KyUpMnT5YkTZw4UbW1\n",
              "taqurvZZd+mll2rgwIGSpF69eik1NVU1NTWdbrepqUmNjY0+t9bWVqeeBgAACCDHQqW2tlaxsbEK\n",
              "CwuTJLlcLnk8Hnm93k5/Zv/+/Vq+fLmuueaaTtcUFRUpIiLC51ZRUeH3+QEAQOBZczJtY2Ojrr32\n",
              "Ws2YMUPDhw/vdF1hYaEaGhp8bpmZmd04KQAA6C5hTm24f//+qqurU0tLi8LCwmSMkdfrlcfj6bD2\n",
              "66+/1tixYzV+/HhNnz79hNt1u91yu90+j4WGhvp1dgAAYAfHjqj069dPaWlpKisrkyStWLFC8fHx\n",
              "SkxM9Fn3zTffaOzYsRo7dqweeOABp8YBAABByNG3foqLi1VcXKzk5GTNmzdPpaWlkqSpU6eqvLxc\n",
              "krRgwQJVVFRo5cqVSk1NVWpqqh599FEnxwIAAEHCsbd+JCklJUUbNmzo8HhJSUn717NmzdKsWbOc\n",
              "HAMAAAQpa06mBQAA+DFCBQAAWItQAQAA1iJUAACAtQgVAABgLUIFAABYi1ABAADWIlQAAIC1CBUA\n",
              "AGAtQgUAAFiLUAEAANYiVAAAgLUIFQAAYC1CBQAAWItQAQAA1iJUAACAtQgVAABgLUIFAABYi1AB\n",
              "AADWIlQAAIC1CBUAAGAtQgUAAFiLUAEAANYiVAAAgLUIFQAAYC1CBQAAWItQAQAA1iJUAACAtQgV\n",
              "AABgLUIFAABYi1ABAADWIlQAAIC1CBUAAGAtQgUAAFiLUAEAANYiVAAAgLUIFQAAYC1CBQAAWItQ\n",
              "AQAA1iJUAACAtQgVAABgLUIFAABYi1ABAADWIlQAAIC1CBUAAGAtQgUAAFiLUAEAANYiVAAAgLUI\n",
              "FQAAYC1CBQAAWItQAQAA1iJUAACAtQgVAABgLUIFAABYi1ABAADWIlQAAIC1CBUAAGAtQgUAAFiL\n",
              "UAEAANYiVAAAgLUIFQAAYC1HQ6WqqkrZ2dlKTk5WRkaGtm/fftx1S5cuVVJSkgYNGqS8vDw1Nzc7\n",
              "ORYAAAgSjoZKQUGB8vPztXPnTs2cOVO5ubkd1uzevVsPPvig3n33XVVXV+vAgQNavHixk2MBAIAg\n",
              "4Vio1NfXq7KyUpMnT5YkTZw4UbW1taqurvZZt3z5cuXk5CgmJkYul0vTpk3Tiy++2Ol2m5qa1NjY\n",
              "6HNrbW116mkAAIAACnNqw7W1tYqNjVVY2LF/wuVyyePxyOv1KjExsX2d1+vVgAED2u8nJCTI6/V2\n",
              "ut2ioiLNmTPH57ELL7xQ06dP9/MzkCb4fYv/M3362z95G62traqoqFBmZqZCQ0P9MNWZif3oH07t\n",
              "R6deh/54DTqB30f/OBP3oxOvldbWVv3853Md248DBgzQH/7whxOucSxUnFJYWNghStxut9xud4Am\n",
              "CpzGxkZFRETojTfeUHh4eKDHCVrsR/9gP/oH+9E/2I/+YcN+dCxU+vfvr7q6OrW0tCgsLEzGGHm9\n",
              "Xnk8Hp91Ho9Hu3btar9fU1PTYc0PnalRAgDAmcixc1T69euntLQ0lZWVSZJWrFih+Ph4n7d9pGPn\n",
              "rpSXl2v//v0yxmjRokW66aabnBoLAAAEEUf/6qe4uFjFxcVKTk7WvHnzVFpaKkmaOnWqysvLJUkD\n",
              "Bw7UnDlzNGLECCUmJio6OloFBQVOjgUAAIKEo+eopKSkaMOGDR0eLykp8bmfl5envLw8J0c5Lbnd\n",
              "bj300EO8FfYTsR/9g/3oH+xH/2A/+ocN+9FljDEB+9cBAABOgI/QBwAA1iJUAACAtQgVAABgLUIF\n",
              "AABYi1AJIr/61a80dOhQpaam6he/+IU++ugjSSd/lWocc7z9ePToUV133XVKTk7WsGHDNGbMmA7X\n",
              "pYKvzn4fv1daWiqXy6VXX301MAMGic72Y1NTk+666y4lJSXpkksuab9uGo6vs/342muvKS0tTamp\n",
              "qRoyZIiee+65AE8aHH78+q2vr9fYsWOVlJSkIUOG6J133um+YQyCxsGDB9u/XrlypRk6dKgxxphR\n",
              "o0aZ0tJSY4wxf/nLX8zw4cMDMF3wON5+PHLkiFmzZo1pa2szxhjz9NNPm5EjRwZmwCDR2e+jMcbs\n",
              "3r3b/PznPzdZWVlm1apV3T9cEOlsP95zzz3mrrvuav+drKurC8R4QeN4+7Gtrc1ERUWZrVu3GmOO\n",
              "/V663W7T2NgYoCmDw/Fev7fddpt56KGHjDHGVFRUmLi4OPPdd991yzwcUQkikZGR7V83NDTI5XKd\n",
              "9FWq8T/H24+9evXS1VdfLZfLJUnKyspSTU1NYAYMEsfbj5LU1tamqVOn6umnn+YzLE7C8fbj4cOH\n",
              "tXTpUj366KPt+zUmJiZAEwaHzn4fXS6XDh06JOnYdWv69u3L7+UJdPb6feWVVzRt2jRJUkZGhi64\n",
              "4AKtX7++W2YKuosSnuluvfVWrVu3TtKxQ5one5Vq+PrxfvyxBQsWaPz48d09VtA53n7885//rBEj\n",
              "Rig9PT2QowWVH+/HXbt26dxzz9Vjjz2mt956S71799bs2bM1evToAE9qtx/vR5fLpZdfflkTJkzQ\n",
              "2WefrYMHD2rlypXq2bNngCe11/Fev19++aWam5t9YjkhIUFer7d7huqW4zbwu2effdaMGzfOVFZW\n",
              "muTkZJ/vZWRkmLfffjtAkwWX7/fjDz366KMmKyvLHD58OEBTBZ/v9+O2bdtMVlZW+yHhkSNH8tZP\n",
              "F3y/H7ds2WIkmeeee84YY8yHH35o+vbta/bv3x/gCYPD9/uxubnZjBw50qxfv94Yc+wti5iYGPP5\n",
              "558HeEI7dfb6/eKLL0zPnj191k6aNMksXbq0W+YiVIJYr169zP79+80555xjmpubjTHGtLW1mfPP\n",
              "P99UVVUFeLrg0atXL/PFF18YY4z54x//aNLT033e78bJ6dWrl5k7d66JiYkxAwYMMAMGDDBut9tE\n",
              "R0ebhQsXBnq8oPH96zokJMS0tLS0Pz58+HDz5ptvBnCy4NKrVy+zceNGk5SU5PP48OHDzT/+8Y8A\n",
              "TWW3hQsXdvr6Peuss3zOk8rIyOi230dCJUgcPHjQ7Nu3r/3+qlWrTFxcnGlrazMjR470OZk2PT09\n",
              "QFPa70T78YknnjBpaWnmq6++CuCEweFE+/GHOKJyYifaj2PGjDFr1qwxxhjz2Wefmb59+5q9e/cG\n",
              "alSrdbYf9+/fb/r06WN27NhhjDGmqqrKREVFmT179gRq1KDyw9fvlClTfE6mveCCC7rtZFrOUQkS\n",
              "DQ0NmjRpko4cOaKQkBBFR0dr9erVcrlcKi4uVm5urh577DGFh4e3X6UaHXW2H/ft26d7771XAwcO\n",
              "1KhRoyQduxjXpk2bAjyxnU70+4iTd6L9uGjRIt1+++2aOXOmQkJCVFxcrLi4uECPbKXO9uP555+v\n",
              "xYsX68Ybb1RISIja2tr0zDPPyOPxBHrkoPP444/rlltuUVJSknr27KmysjL16NGjW/5tLkoIAACs\n",
              "xZ8nAwAAaxEqAADAWoQKAACwFqECAACsRagAAABrESoAAMBahAoAALAWoQIAAKxFqAAAAGsRKgAA\n",
              "wFr/H4CSDTiTO5D+AAAAAElFTkSuQmCC\n",
              "\">\n",
              "      </div>\n",
              "      <script type=\"text/javascript\">\n",
              "        (() => {\n",
              "          const chartElement = document.getElementById(\"chart-ac20453c-302e-4435-a80c-f50cc6ddf1bd\");\n",
              "          async function getCodeForChartHandler(event) {\n",
              "            const chartCodeResponse =  await google.colab.kernel.invokeFunction(\n",
              "                'getCodeForChart', [\"chart-ac20453c-302e-4435-a80c-f50cc6ddf1bd\"], {});\n",
              "            const responseJson = chartCodeResponse.data['application/json'];\n",
              "            await google.colab.notebook.addCell(responseJson.code, 'code');\n",
              "          }\n",
              "          chartElement.onclick = getCodeForChartHandler;\n",
              "        })();\n",
              "      </script>\n",
              "      <style>\n",
              "        .colab-quickchart-chart-with-code  {\n",
              "            display: block;\n",
              "            float: left;\n",
              "            border: 1px solid transparent;\n",
              "        }\n",
              "\n",
              "        .colab-quickchart-chart-with-code:hover {\n",
              "            cursor: pointer;\n",
              "            border: 1px solid #aaa;\n",
              "        }\n",
              "      </style>"
            ]
          },
          "metadata": {}
        },
        {
          "output_type": "display_data",
          "data": {
            "text/plain": [
              "<google.colab._quickchart_helpers.SectionTitle at 0x789f6d088e50>"
            ],
            "text/html": [
              "<h4 class=\"colab-quickchart-section-title\">Categorical distributions</h4>\n",
              "<style>\n",
              "  .colab-quickchart-section-title {\n",
              "      clear: both;\n",
              "  }\n",
              "</style>"
            ]
          },
          "metadata": {}
        },
        {
          "output_type": "display_data",
          "data": {
            "text/plain": [
              "from matplotlib import pyplot as plt\n",
              "import seaborn as sns\n",
              "_df_1.groupby('Nome').size().plot(kind='barh', color=sns.palettes.mpl_palette('Dark2'))\n",
              "plt.gca().spines[['top', 'right',]].set_visible(False)"
            ],
            "text/html": [
              "      <div class=\"colab-quickchart-chart-with-code\" id=\"chart-32d28c8e-0fdc-4d9d-a739-ea11268d8dcd\">\n",
              "        <img style=\"width: 180px;\" src=\"data:image/png;base64,iVBORw0KGgoAAAANSUhEUgAAAjoAAAGZCAYAAACAKJsdAAAAOXRFWHRTb2Z0d2FyZQBNYXRwbG90\n",
              "bGliIHZlcnNpb24zLjguMCwgaHR0cHM6Ly9tYXRwbG90bGliLm9yZy81sbWrAAAACXBIWXMAAA9h\n",
              "AAAPYQGoP6dpAAAYSklEQVR4nO3de4xU9f3w8c/IxtWqgBcQowVEUK4uAoLBSwGtYivRyk1jQ1UE\n",
              "bX1qW01tif40KJHWeqm1SRG1pZaYeKPQVGwjoFbjBRSoSrWPIrC2olKh4I1dlj3PH0336f5Quyvs\n",
              "Dnx4vZKJ7syZmc/5xjjvnHN2p1QURREAAAntUe4BAABaitABANISOgBAWkIHAEhL6AAAaQkdACAt\n",
              "oQMApCV0AIC0hA4AkNZuHzq33XZbuUcAAFrIbh86a9asKfcIAEAL2e1DBwDIS+gAAGkJHQAgLaED\n",
              "AKQldACAtIQOAJCW0AEA0hI6AEBaQgcASEvoAABpCR0AIC2hAwCkJXQAgLSEDgCQltABANISOgBA\n",
              "WkIHAEhL6AAAaQkdACAtoQMApCV0AIC0hA4AkJbQAQDSEjoAQFpCBwBIS+gAAGkJHQAgLaEDAKRV\n",
              "KoqiKPcQ5TRowFkx4ksXlXsMAEjnxlvPKPcIjugAAHkJHQAgLaEDAKQldACAtIQOAJCW0AEA0hI6\n",
              "AEBaQgcASEvoAABpCR0AIC2hAwCkJXQAgLSEDgCQltABANISOgBAWkIHAEhL6AAAaQkdACAtoQMA\n",
              "pCV0AIC0hA4AkJbQAQDSEjoAQFpCBwBIS+gAAGkJHQAgLaEDAKTVoqHTtWvXOOqoo6Kqqiq6d+8e\n",
              "Z555Zjz99NMRETFjxoz4yU9+0pJvDwDs5ipa+g3uu+++6N+/f0REzJkzJ77yla/EH//4x7jkkkta\n",
              "+q0BgN1ci4fOfzr77LNj8eLFcdNNN0WfPn3in//8Z/z0pz+NiIibbrop7r///qirq4uOHTvGHXfc\n",
              "EV26dIn3338/Lrroovjzn/8cHTp0iN69e0dNTU3MmjUrtm7dGj/84Q/jkUceiYiI4cOHx8033xx7\n",
              "7rnnJ75/TU1N1NTUNLqvqK9v0X0GAMqn1a/RGTJkSKxYsaLRfffee2/89a9/jWeeeSaWLl0a5513\n",
              "XnzrW9+KiIjrrrsu9t5773jllVdi/vz5Dae+IiJmzpwZS5YsiRdeeCGWL18eK1eujFtvvfVT33v6\n",
              "9OnRrl27Rre17/zfltlRAKDsWj10iqLY5r65c+fGggULYuDAgdG/f/+48cYbo7q6OiIiFi5cGBdc\n",
              "cEGUSqXYb7/9Yvz48Q3PW7BgQZx//vlRWVkZFRUVMWnSpHj00Uc/9b2nTJkSGzdubHQ75OAjd/xO\n",
              "AgA7hVY9dRURsWTJkujbt2+j+4qiiClTpsTkyZP/6/NLpdLneiwiorKyMiorKxs/Zw+/eAYAWbXq\n",
              "p/y8efPiF7/4RVxxxRWN7j/rrLNixowZsX79+oiI2LJlSyxbtiwiIkaMGBG//vWvoyiK+OCDD+L+\n",
              "++9veN4pp5wS99xzT9TW1kZdXV3cddddceqpp7beDgEAO7UWP6Izfvz42GuvveLDDz+M3r17x/z5\n",
              "82PIkCENFxBHRJx33nnx3nvvxfDhwyMioq6uLi688MI45phj4pprromJEydGr1694qCDDoqqqqpo\n",
              "3759RERMnjw5Vq5cGQMGDIiIiGHDhsV3v/vdlt4lAGAXUSo+6aKZnciWLVti69atDbF02mmnxbe/\n",
              "/e1G1+psj0EDzooRX7poh7wWAPD/3XjrGeUeofWv0WmuDRs2xOmnnx5bt26NzZs3x5lnnhnjxo0r\n",
              "91gAwC5gpw+djh07xgsvvFDuMQCAXZBfOQIA0hI6AEBaQgcASEvoAABpCR0AIC2hAwCkJXQAgLSE\n",
              "DgCQltABANISOgBAWkIHAEhL6AAAaQkdACAtoQMApCV0AIC0hA4AkJbQAQDSEjoAQFpCBwBIS+gA\n",
              "AGkJHQAgLaEDAKQldACAtCrKPUC5nTSsW9x4yxnlHgMAaAGO6AAAaQkdACAtoQMApCV0AIC0hA4A\n",
              "kJbQAQDSEjoAQFpCBwBIS+gAAGkJHQAgLaEDAKQldACAtIQOAJCW0AEA0hI6AEBaQgcASEvoAABp\n",
              "CR0AIC2hAwCkJXQAgLSEDgCQltABANISOgBAWkIHAEhL6AAAaQkdACAtoQMApCV0AIC0hA4AkJbQ\n",
              "AQDSEjoAQFpCBwBIS+gAAGkJHQAgLaEDAKQldACAtIQOAJCW0AEA0hI6AEBaQgcASEvoAABpCR0A\n",
              "IC2hAwCkJXQAgLSEDgCQltABANISOgBAWkIHAEhL6AAAaQkdACAtoQMApCV0AIC0hA4AkJbQAQDS\n",
              "EjoAQFpCBwBIS+gAAGkJHQAgLaEDAKQldACAtIQOAJBWqSiKotxDlNMFfUox5Vi9BwA72pGztpZ7\n",
              "BEd0AIC8hA4AkJbQAQDSEjoAQFpCBwBIS+gAAGkJHQAgLaEDAKQldACAtIQOAJCW0AEA0hI6AEBa\n",
              "QgcASEvoAABpCR0AIC2hAwCk9blCZ+3atfH4449HRERdXV3U1tbuyJkAAHaIZofOgw8+GMcdd1yc\n",
              "f/75ERGxYsWKOOuss3bwWAAA26/ZoTN9+vRYunRp7L///hERUVVVFWvWrNnhgwEAbK9mh06bNm3i\n",
              "wAMPbHTfnnvuucMGAgDYUZodOvvtt1+88847USqVIiJi4cKFccABB+zwwQAAtldFc5/w4x//OE4/\n",
              "/fR444034oQTTohVq1bFww8/3BKzAQBsl2aHzqBBg+Kxxx6Lp59+OoqiiKFDh0b79u1bYDQAgO3T\n",
              "7NCJiGjXrl0cf/zxUVdXF/X19bF+/XqnrwCAnU6zr9G57777omPHjnHggQdGp06d4uCDD45OnTq1\n",
              "xGwAANul2aEzZcqUmD9/fmzZsiVqa2sb/gkAsLNpduh06tQpBg0a9LnerK6uLqZOnRo9e/aMvn37\n",
              "Rv/+/WPy5Mkxd+7c6N+//+d6TQCAT9Psa3QmT54cN9xwQ4wZMyb22muvhvs7d+78X587ceLEWL9+\n",
              "fTzzzDOx//77R1EU8eCDD8b69eubO0ZE/CucKio+12VGAMBuoNmVUFNTE9OmTYubbrop2rRpExER\n",
              "pVIp3n333c983uuvvx4PPPBAVFdXN/xV5VKpFGPHjm343qyIf8XLV7/61Xjvvffi448/jqqqqrjz\n",
              "zjtjn332iccffzwuvfTSOO644+KFF16Iq666KrZs2RK33XZb1NbWRn19fUybNi1GjRr1qbPX1NQ0\n",
              "um9rfXNXAADYVTT71NUNN9wQL730Uqxfvz7WrVsX69at+6+RExGxdOnS6NGjRxx00EGfuV2bNm3i\n",
              "3nvvjeeffz5efvnlaNeuXdx+++0Nj7/yyisxYcKEWL58eYwdOzZOO+20ePbZZ2PZsmUxb968mDRp\n",
              "0jYx82/Tp0+Pdu3aNbq9+I/m7T8AsOto9hGdww47LI444oiWmCUiIoqiiFtvvTUefvjhqKuri40b\n",
              "N8bQoUMbHu/WrVt86Utfavh51apVcd5558Xf/va3qKioiPXr18eqVauiZ8+e27z2lClT4vLLL290\n",
              "3/8Z0q7F9gUAKK9mh86IESPiiiuuiPHjxze6Rufoo4/+zOcNGDAgXnvttXjvvfe2+a6s/3TvvffG\n",
              "okWL4oknnoi2bdvGz372s1i0aFHD4/vuu2+j7c8555z40Y9+FGPGjImIiAMOOCA2b978ia9dWVkZ\n",
              "lZWVje5r0+xjWgDArqLZoTN79uyIiJgzZ07DfaVSKd54443PfF737t1j9OjRMXHixJg1a1a0b98+\n",
              "iqKIOXPmxMaNGxu227BhQxx00EHRtm3beP/992PWrFmfeaHzhg0b4vDDD2+YbcOGDc3dJQAgqWaH\n",
              "zqpVqz73m/3yl7+MadOmxZAhQ6KioiLq6+vjpJNOitNPP71hmwkTJsS8efPiqKOOig4dOsSJJ54Y\n",
              "a9as+dTXvO2222LMmDHRvn37GDFiRJN++wsA2D2UiqIomvukxYsXx4IFCyIi4tRTT/3cf1dnZ3BB\n",
              "n1JMOdb5KwDY0Y6ctbXcIzT/t65mzpwZY8aMiXfffTfWrVsXo0ePjrvuuqslZgMA2C7NPqJz9NFH\n",
              "x8KFC6NDhw4REbFu3bo4+eST48UXX2yRAVuaIzoA0DJ2ySM6EdEQOf/73wEAdibNDp0ePXrEVVdd\n",
              "FdXV1VFdXR1XX3119OjRoyVmAwDYLs0OnRkzZsTKlStjwIABMXDgwFi5cmXMmDGjJWYDANguTb5G\n",
              "509/+lOjn//9tFKpFBERJ5100g4erXW4RgcAWsbOcI1Ok/+OzhVXXLHNfaVSKd56661Yu3ZtbN1a\n",
              "/p0BAPhPTQ6dJUuWNPp5/fr1MW3atJg9e3ZMnTp1hw8GALC9mn3OZvPmzTF9+vTo3bt3RPzr28Sv\n",
              "vvrqHT4YAMD2anLo1NfXx8yZM6NHjx7x6quvxnPPPRe33HLLZ35BJwBAOTX51FXfvn2jpqYmbrjh\n",
              "hqiqqoqNGzc2+iOB/+3bywEAWluTQ+ejjz6KUqkU11xzzTaPNeXbywEAWluTQ2f16tUtOAYAwI7n\n",
              "D8gAAGkJHQAgLaEDAKQldACAtIQOAJCW0AEA0hI6AEBaQgcASEvoAABpCR0AIC2hAwCkJXQAgLSa\n",
              "/KWeWe1/2vfiyFtuKfcYAEALcEQHAEhL6AAAaQkdACAtoQMApCV0AIC0hA4AkJbQAQDSEjoAQFpC\n",
              "BwBIS+gAAGkJHQAgLaEDAKQldACAtIQOAJCW0AEA0hI6AEBaQgcASEvoAABpCR0AIC2hAwCkJXQA\n",
              "gLSEDgCQltABANISOgBAWkIHAEhL6AAAaQkdACAtoQMApCV0AIC0hA4AkJbQAQDSEjoAQFpCBwBI\n",
              "S+gAAGkJHQAgLaEDAKQldACAtIQOAJCW0AEA0hI6AEBaQgcASEvoAABpCR0AIC2hAwCkJXQAgLSE\n",
              "DgCQltABANISOgBAWkIHAEhL6AAAaQkdACAtoQMApCV0AIC0hA4AkJbQAQDSEjoAQFpCBwBIS+gA\n",
              "AGkJHQAgLaEDAKQldACAtEpFURTlHqKc9j3t2Gh/zsnlHgMA0vnbBT8q9wiO6AAAeQkdACAtoQMA\n",
              "pCV0AIC0hA4AkJbQAQDSEjoAQFpCBwBIS+gAAGkJHQAgLaEDAKQldACAtIQOAJCW0AEA0hI6AEBa\n",
              "QgcASEvoAABpCR0AIC2hAwCkJXQAgLSEDgCQltABANISOgBAWkIHAEhL6AAAaQkdACCtipZ88a5d\n",
              "u0ZlZWXsvffeUVNTE8ccc0zceeedsc8++7Tk2wIAREQrHNG57777Yvny5bFixYrYuHFjzJo1a5tt\n",
              "tm7d2tJjAAC7oVY7dVVbWxsfffRR7L///jFr1qwYPnx4jB49Ovr16xeLFy+OYcOGxdy5cxu2HzNm\n",
              "TEMUnX/++XHxxRfHySefHEceeWScffbZUVtbGxERH3zwQVx44YXRt2/f6Nu3b0ydOrW1dgkA2Mm1\n",
              "6KmriIjx48fH3nvvHatXr46BAwfGuHHjYvbs2fHcc8/FsmXL4qijjmrS6yxfvjwee+yxqKysjJNO\n",
              "OikeeuihOPfcc+P666+PmpqaePHFF+Pjjz+OE044IXr27Bnjx4/f5jVqamqipqam8Z1bix2xmwDA\n",
              "TqjVTl394x//iK5du8YPfvCDiIgYOnRokyMnIuJrX/tafOELX4g2bdrE4MGDY+XKlRERsWDBgpg0\n",
              "aVLssccesc8++8SECRPi0Ucf/cTXmD59erRr167RrXbV2u3fSQBgp9Rqp64qKipi9OjR8Yc//CEi\n",
              "Ivbdd99tHv/Pa3U2b97c6PG99tqr4d/btGkTdXV1n/g+pVLpU2eYMmVKbNy4sdFtz8MPafa+AAC7\n",
              "hlb99fJFixZ96lGc7t27x3PPPRcREatWrYqnnnqqSa95yimnxN133x1FUcSHH34Yv/nNb+LUU0/9\n",
              "xG0rKyujbdu2jW7R5tPDCADYtbXaNTp1dXXRpUuXmDFjRixcuHCb7a688soYP3589OvXL/r06RND\n",
              "hgxp0uv/z//8T1x22WXRr1+/iIgYO3ZsjBs3bofuAwCwayoVRbFbX42772nHRvtzTi73GACQzt8u\n",
              "+FG5R/CXkQGAvIQOAJCW0AEA0hI6AEBaQgcASEvoAABpCR0AIC2hAwCkJXQAgLSEDgCQltABANIS\n",
              "OgBAWkIHAEhL6AAAaQkdACAtoQMApCV0AIC0hA4AkJbQAQDSEjoAQFpCBwBIS+gAAGkJHQAgLaED\n",
              "AKQldACAtCrKPUC5Te5zYtxywY/KPQYA0AIc0QEA0hI6AEBaQgcASEvoAABpCR0AIC2hAwCkJXQA\n",
              "gLSEDgCQltABANISOgBAWkIHAEhL6AAAaQkdACAtoQMApCV0AIC0hA4AkJbQAQDSEjoAQFpCBwBI\n",
              "S+gAAGkJHQAgLaEDAKQldACAtIQOAJCW0AEA0hI6AEBaQgcASEvoAABpCR0AIC2hAwCkVVHuAcqp\n",
              "pqYmHnnkkdi6dWu0adOm3OPsVrZu3RqLFy+OwYMHW/tWZN3Lx9qXh3Uvn5Ze+y5dusR3vvOd/7pd\n",
              "qSiKYoe/+y5i06ZN0a5du9i4cWO0bdu23OPsVqx9eVj38rH25WHdy2dnWXunrgCAtIQOAJCW0AEA\n",
              "0tqtQ6eysjKuvfbaqKysLPcoux1rXx7WvXysfXlY9/LZWdZ+t74YGQDIbbc+ogMA5CZ0AIC0hA4A\n",
              "kNZuETqvvfZaDB06NI488sg49thjY8WKFZ+43d133x09evSII444IiZNmhRbtmxp5UnzacraL1q0\n",
              "KAYPHhy9e/eOPn36xJVXXhn19fVlmDaPpv43HxFRFEWMGDEi2rdv33oDJtbUtX/ppZdi2LBh0atX\n",
              "r+jVq1fMmTOnlSfNpSnrXl9fH5dffnn07t07jj766Bg+fHi8/vrrZZg2j8suuyy6du0apVIpli9f\n",
              "/qnblfXztdgNDB8+vPjVr35VFEVRPPDAA8WgQYO22eaNN94oDjnkkGLt2rVFfX19MWrUqOLnP/95\n",
              "K0+aT1PWfunSpcXKlSuLoiiKjz/+uDj++OMbnsPn05R1/7ebb765uOiii4p27dq1znDJNWXtP/zw\n",
              "w+Lwww8vnnzyyaIoiqKurq549913W3PMdJqy7r/97W+LwYMHF7W1tUVRFMX1119fjB07tjXHTOeJ\n",
              "J54o3nzzzaJLly7FsmXLPnGbcn++pg+dd955p9hvv/2KLVu2FEVRFPX19cXBBx9cvPbaa422u/HG\n",
              "G4uLL7644eeHH364OP7441t11myauvb/26WXXlpce+21rTBhTs1Z95dffrk48cQTi9dff13o7ABN\n",
              "Xfs777yzOPfcc8sxYkpNXfe5c+cWVVVVxaZNm4r6+vri+9//fvG9732vHCOn81mhU+7P1/Snrt58\n",
              "88045JBDoqLiX99fWiqVonPnzlFdXd1ou+rq6ujSpUvDz127dt1mG5qnqWv/n95+++148MEH44wz\n",
              "zmitMdNp6rpv2bIlJk2aFHfccYcvO9xBmrr2f/nLX6KysjLOOOOM6N+/f0yYMCHWrVtXjpFTaOq6\n",
              "jxo1KoYNGxadOnWKQw45JBYuXBjXXXddOUberZT78zV96LDr2LRpU4waNSquvPLKGDRoULnHSW/q\n",
              "1Klx9tlnR69evco9ym6nrq4uFixYEHfccUcsW7YsDj300PjmN79Z7rHSe/755+Pll1+Ov//97/HW\n",
              "W2/FySefHJdcckm5x6KFpQ+dL37xi7F27dqoq6uLiH9deFldXR2dO3dutF3nzp1jzZo1DT+vXr16\n",
              "m21onqaufUTE+++/HyNHjowzzzwzLr/88tYeNZWmrvsTTzwRt99+e3Tt2jVOOOGE2LRpU3Tt2tWR\n",
              "he3QnP/fDB8+PA499NAolUrx9a9/PZ599tlyjJxCU9f9nnvuabjwfo899ohvfOMb8dhjj5Vj5N1K\n",
              "uT9f04dOx44dY8CAATF79uyIiHjooYfisMMOi+7duzfabvTo0fG73/0u3n777SiKImbMmBHnnHNO\n",
              "OUZOo6lr/8EHH8TIkSNj5MiRcfXVV5dj1FSauu5PPvlkrFmzJlavXh1PPfVUtG3bNlavXh0dOnQo\n",
              "x9gpNHXtx40bF0uWLIlNmzZFRMT8+fOjqqqq1efNoqnr3q1bt1i0aFHU1tZGRMTvf//76Nu3b6vP\n",
              "u7sp++drq10NVEavvvpqcdxxxxU9evQoBg4cWLz44otFURTFxIkTi3nz5jVsN3PmzKJbt25Ft27d\n",
              "igsvvLDhynw+v6as/bRp04qKioqiqqqq4TZt2rRyjr3La+p/8/+2atUqFyPvIE1d+3vuuafo06dP\n",
              "0a9fv2LkyJFFdXV1uUZOoSnrvnnz5uKiiy4qevbsWfTr16/48pe/3PAbn3w+kydPLg499NCiTZs2\n",
              "RceOHYsjjjiiKIqd6/PVd10BAGmlP3UFAOy+hA4AkJbQAQDSEjoAQFpCBwBIS+gAAGkJHQAgLaED\n",
              "AKQldACAtIQOAJCW0AEA0vp/l80mYRwdwQgAAAAASUVORK5CYII=\n",
              "\">\n",
              "      </div>\n",
              "      <script type=\"text/javascript\">\n",
              "        (() => {\n",
              "          const chartElement = document.getElementById(\"chart-32d28c8e-0fdc-4d9d-a739-ea11268d8dcd\");\n",
              "          async function getCodeForChartHandler(event) {\n",
              "            const chartCodeResponse =  await google.colab.kernel.invokeFunction(\n",
              "                'getCodeForChart', [\"chart-32d28c8e-0fdc-4d9d-a739-ea11268d8dcd\"], {});\n",
              "            const responseJson = chartCodeResponse.data['application/json'];\n",
              "            await google.colab.notebook.addCell(responseJson.code, 'code');\n",
              "          }\n",
              "          chartElement.onclick = getCodeForChartHandler;\n",
              "        })();\n",
              "      </script>\n",
              "      <style>\n",
              "        .colab-quickchart-chart-with-code  {\n",
              "            display: block;\n",
              "            float: left;\n",
              "            border: 1px solid transparent;\n",
              "        }\n",
              "\n",
              "        .colab-quickchart-chart-with-code:hover {\n",
              "            cursor: pointer;\n",
              "            border: 1px solid #aaa;\n",
              "        }\n",
              "      </style>"
            ]
          },
          "metadata": {}
        },
        {
          "output_type": "display_data",
          "data": {
            "text/plain": [
              "from matplotlib import pyplot as plt\n",
              "import seaborn as sns\n",
              "_df_2.groupby('Cidade').size().plot(kind='barh', color=sns.palettes.mpl_palette('Dark2'))\n",
              "plt.gca().spines[['top', 'right',]].set_visible(False)"
            ],
            "text/html": [
              "      <div class=\"colab-quickchart-chart-with-code\" id=\"chart-6f29e580-5ee6-4044-ba96-ff88ddd41968\">\n",
              "        <img style=\"width: 180px;\" src=\"data:image/png;base64,iVBORw0KGgoAAAANSUhEUgAAAmoAAAGZCAYAAAA5PB1VAAAAOXRFWHRTb2Z0d2FyZQBNYXRwbG90\n",
              "bGliIHZlcnNpb24zLjguMCwgaHR0cHM6Ly9tYXRwbG90bGliLm9yZy81sbWrAAAACXBIWXMAAA9h\n",
              "AAAPYQGoP6dpAAAekklEQVR4nO3de5DV9X3/8deyq6s2AsZLa4xAFLyxwnLVGCQCGjHRxmhVNDZe\n",
              "8J5YjYk6TI0isWOqttrKTDHaynihdbzEZKrBBkWrNY4iImJHf6IBjDciKhAvwML390emO9mguIsL\n",
              "58PyeMycGfec7/ec9/noeJ7z/Z5LXVVVVQAAKE63Wg8AAMDHE2oAAIUSagAAhRJqAACFEmoAAIUS\n",
              "agAAhRJqAACFEmoAAIUSagAAhRJqXcA//dM/1XoEAGADEGpdwMKFC2s9AgCwAQg1AIBCCTUAgEIJ\n",
              "NQCAQgk1AIBCCTUAgEIJNQCAQgk1AIBCCTUAgEIJNQCAQgk1AIBCCTUAgEIJNQCAQgk1AIBCCTUA\n",
              "gEIJNQCAQgk1AIBCCTUAgEIJNQCAQgk1AIBCCTUAgEIJNQCAQgk1AIBCCTUAgEIJNQCAQgk1AIBC\n",
              "CTUAgEIJNQCAQgk1AIBC1VVVVdV6CD6boYOPzOivnlbrMQCgS7nq2sNrPYIjagAApRJqAACFEmoA\n",
              "AIUSagAAhRJqAACFEmoAAIUSagAAhRJqAACFEmoAAIUSagAAhRJqAACFEmoAAIUSagAAhRJqAACF\n",
              "EmoAAIUSagAAhRJqAACFEmoAAIUSagAAhRJqAACFEmoAAIUSagAAhRJqAACFEmoAAIUSagAAhRJq\n",
              "AACFEmoAAIXaqKHWp0+f7Lnnnmlubs6ee+6Zn/zkJ623zZo1K8cdd9xnfoyhQ4fm4Ycf7tA+Dz/8\n",
              "cJqbmz/zY3+SznpuAMDmpWFjP+Add9yR5ubmvPbaa9lnn30yevToDB8+PEOHDs0dd9yxscfZKNb1\n",
              "3FpaWtLQsNH/NQAAm4CanfrcZZddstdee2XhwoVJ1j6qdeutt2bAgAEZMGBAvvGNb+S111772Pt5\n",
              "/PHH09zcnKamppxyyilpaWlpve3NN9/Msccem+HDh2fffffNJZdc8qlztbS05NBDD83QoUPTv3//\n",
              "nHDCCXn//fdbZ2xqaso555yTgQMHpn///pk1a1brvg888EBGjBiRIUOGZPjw4Zk5c+Zaz23BggXp\n",
              "2bNnLr744gwePDiTJ0/O/Pnzc/DBB2fAgAFpbm7Ovffe+4nzrVixIsuWLWtzqdas+dTnBQBsemoW\n",
              "ai+88EKWLFmSgw46aK3b5s2blwsvvDC//OUvM3fu3BxwwAE57bTT1tpu5cqVOe6443LNNddk3rx5\n",
              "Of744/Pss8+23n7SSSflu9/9bp588sk888wzmTVrVu688851zlVfX59p06Zl1qxZmTdvXnr06JHr\n",
              "r7++zdwnnXRSnn322Zx77rn527/92yTJK6+8kokTJ+b+++/P008/nWnTpuWEE07IihUr1nqMpUuX\n",
              "pn///pk9e3bOP//8fPvb384xxxyTuXPn5s4778z48eNbA/ZPXXnllenRo0ebyxtv/b91PicAYNO0\n",
              "0c+5HXfccenWrVtefPHFXHvttdlxxx3X2mbmzJkZO3ZsdtlllyTJOeeck0mTJmX16tWpr69v3e6F\n",
              "F15IQ0NDDj744CTJ1772tey2225Jkvfffz8PPvhg3nrrrdbtf//73+fFF19c53xVVeXaa6/Nfffd\n",
              "l5aWlixdujQHHHBA6+19+/bNfvvtlyT58pe/nGuuuSZJMn369MyfPz8jR45s3bZbt25ZtGjRWo+x\n",
              "xRZb5MQTT0ySLF++PLNnz87//M//JEn69euXESNG5NFHH03v3r3X2nfChAm54IIL2lw3auSJ63xO\n",
              "AMCmqWbvUZsxY0aOOOKIjB49Ovvuu+8696mrq2v3/f/ftlVVJUmeeOKJbLXVVu3ef9q0aXnooYfy\n",
              "yCOPpHv37vnnf/7nPPTQQ623//F91dfXt55qraoqhxxySKZNm7bWff7padttttkm3bp98sHMdT3f\n",
              "xsbGNDY2tt1+HfcFAGy6avYKf/DBB+fss8/+2PeNjRo1KtOnT8/rr7+eJJkyZUrGjBnT5mhakuy1\n",
              "115paWlpfS/YjBkz8vLLLydJPve5z2XUqFFtPln6+uuv57e//e0653r33Xezww47pHv37lm+fHmm\n",
              "Tp3arudz6KGHZsaMGZk7d27rdU8++eSn7rfttttm8ODBufnmm5Mk8+fPz2OPPdbmyBwAsHmq6ccN\n",
              "f/SjH6Vv3755+umn21zf1NSUq6++OmPHjk2S7LrrrrnxxhvX2n/LLbfMHXfckXPOOSerV6/OsGHD\n",
              "MnDgwNbbb7/99lxwwQVpampKXV1d/uzP/iw33HBDvvjFL7a5n5aWltYjZd/5znfy85//PHvuuWd2\n",
              "3HHHHHjggZ/4frE/1rdv30ybNi1nnnlmPvjgg6xcuTKDBg362CNsf+r222/PWWedlcmTJ6euri43\n",
              "3XRTevXq9an7AQBdW131f+cIN2NXX311nnvuudxyyy21HmW9DB18ZEZ/de0PWwAA6++qaw+v9Qi1\n",
              "PaJWgq9+9av56KOPcuutt9Z6FACANjb7UHvkkUdqPQIAwMfycUEAgEIJNQCAQgk1AIBCCTUAgEIJ\n",
              "NQCAQgk1AIBCCTUAgEIJNQCAQgk1AIBCCTUAgEIJNQCAQgk1AIBCCTUAgEIJNQCAQgk1AIBCCTUA\n",
              "gEIJNQCAQgk1AIBCCTUAgEIJNQCAQgk1AIBCCTUAgEIJNQCAQjXUegA+u5EH7Zar/vHwWo8BAHQy\n",
              "R9QAAAol1AAACiXUAAAKJdQAAAol1AAACiXUAAAKJdQAAAol1AAACiXUAAAKJdQAAAol1AAACiXU\n",
              "AAAKJdQAAAol1AAACiXUAAAKJdQAAAol1AAACiXUAAAKJdQAAAol1AAACiXUAAAKJdQAAAol1AAA\n",
              "CiXUAAAKJdQAAAol1AAACiXUAAAKJdQAAAol1AAACiXUAAAKJdQAAAol1AAACiXUAAAKJdQAAAol\n",
              "1AAACiXUAAAKJdQAAAol1AAACiXUAAAKJdQAAAol1AAACiXUAAAKJdQAAAol1AAACiXUAAAKJdQA\n",
              "AAol1AAACiXUAAAKJdQAAAol1AAACiXUAAAKJdQAAAol1AAACiXUAAAKJdQAAAol1AAACiXUAAAK\n",
              "JdQAAAol1AAACiXUAAAKJdQAAApVV1VVVesh+GxO6V+XCcM0NwB0pj2mrq71CI6oAQCUSqgBABRK\n",
              "qAEAFEqoAQAUSqgBABRKqAEAFEqoAQAUSqgBABRKqAEAFEqoAQAUSqgBABRKqAEAFGq9Qu2NN97I\n",
              "ww8/nCRpaWnJypUrO3MmAACyHqF21113Zf/998/JJ5+cJHn++edz5JFHdvJYAAB0ONSuvPLKzJ49\n",
              "O9ttt12SZODAgVm4cGGnDwYAsLnrcKjV19dn++23b3Pdlltu2WkDAQDwBx0OtW233TZvvfVW6urq\n",
              "kiQPPvhgPv/5z3f6YAAAm7uGju7w93//9znssMPyyiuvZMSIEfnNb36T++67b0PMBgCwWetwqA0d\n",
              "OjQzZ87M448/nqqqcsABB6Rnz54bYDQAgM1bh0MtSXr06JHDDjuss2cBAOCPtDvUunXr1vq+tI+z\n",
              "evXqThkIAIA/aHeoLV++PFVV5brrrsuHH36Ys88+O0kyZcqUbL311htsQACAzVVdVVVVR3YYMmRI\n",
              "nn766U+9jo3nlP51mTDMr4EBQGfaY2rtzxZ2+NV9+fLlWbx4cevfixcvzvLlyzt1KAAA1uPDBD/4\n",
              "wQ8ycODAfP3rX0+STJ8+PRMnTuzsuQAANnsdPvWZJPPmzcvMmTOTJKNHj07//v07fTDaz6lPAOh8\n",
              "m+SpzyRpamrKueeem3PPPXeTjLSWlpZcfvnl2WuvvdLU1JTm5uacccYZee+99zp0P1OmTMnVV1+d\n",
              "JJkzZ07+4z/+o83tzc3NraeF+/Tpkzlz5nTG+ADAZqLDpz4XL16cyy67LM8++2w++uij1utnz57d\n",
              "qYNtSOPHj88777yTX//619luu+1SVVXuuuuuvPPOO+3+8t6WlpacddZZrX/PmTMn9957b8aNG9fm\n",
              "OgCA9dXhI2rjx49Pnz598vbbb+fyyy/PF77whXzjG9/YELNtEPPnz8+dd96Zm2++Odttt12SpK6u\n",
              "Lsccc0wWLVqU5ubm1m3nzZuXPn36JEkWLFiQnj175uKLL87gwYMzefLkTJw4Meeff34WL16cSy+9\n",
              "NDNnzkxzc3NrwNXV1bU5Snf77bdnyJAh6du3b+uRuCT54Q9/mGHDhqW5uTkjR47Miy+++Inzr1ix\n",
              "IsuWLWtzWb2m89YHAChHh0Pt1VdfzcUXX5zGxsYcccQRueeeezJjxowNMdsGMXv27PTr1y877LBD\n",
              "h/ddunRp+vfvn9mzZ+f8889vvX6nnXbKpEmTMmrUqMyZMydTpkz52P3feuutzJo1K0888USuv/76\n",
              "PP7440mSiy++OE899VTmzJmTc845J+edd94nznDllVemR48ebS5z3+7wUwEANgEdDrUtt9wySbLV\n",
              "VltlyZIlaWhoyNtvbx6lsMUWW+TEE09c7/3Hjx+furq67LDDDjnqqKNaA/dXv/pVvvzlL6epqSmT\n",
              "Jk1a5ynTCRMmZOnSpW0uAzrenADAJqDD71HbY489smTJkpx44onZb7/90r179wwZMmRDzLZBDB48\n",
              "OC+99FKWLFmS7bffvs1tDQ0NbX4K64/fg5ck22yzTbp167xPV9bV1WXRokX53ve+l6eeeiq77757\n",
              "5s6dm5EjR37iPo2NjWlsbGxzXb0PfAJAl9Thl/jbbrst22+/fc4777xMnTo1kyZNym233bYhZtsg\n",
              "+vbtm6OPPjrjx49vff9YVVW5++67061btyxcuDC/+93vkiS33npru++3e/fuWbp06Tq3mTp1apLk\n",
              "nXfeyc9+9rOMGTMmS5cuzRZbbJGdd945VVVl8uTJ6/W8AICu5zMdixkxYkQOP/zwNDR0+MBcTf3b\n",
              "v/1bBg4cmP322y/9+/fPPvvsk//6r//KPvvsk4suuijDhw/P/vvvn89//vPtvs8xY8ZkxYoVGTBg\n",
              "QJtPg/6xHXfcMUOGDMnw4cPzve99LwcccED23XffjBs3Lv3798+wYcPSq1evznqaAMAmrt1feNut\n",
              "W7fU1dV94u1/fMqQjcsX3gJA5yvhC2/bfShs+fLlqaoq1113XT788MOcffbZSf7wpa9bb731BhsQ\n",
              "AGBz1eGfkBoyZEiefvrpT72OjccRNQDofCUcUevwq/vy5cuzePHi1r8XL17c+jNJAAB0ng5/CuAH\n",
              "P/hBBg4cmK9//etJkunTp2fixImdPRcAwGavw6c+kz/8tNLMmTOTJKNHj94kf5i9K3HqEwA6Xwmn\n",
              "PtfrezWamprS1NTU2bMAAPBH2h1qxx9/fP793/89gwYN+tiv6Zg9e3anDgYAsLlrd6j98Ic/zIIF\n",
              "C3Lddde1uf6VV17p0BfDAgDQPu0OtRtvvDGHHHJIjj766DbXL1myJNOnT883v/nNTh8OAGBz1u53\n",
              "oD/55JNrRVqSHHXUUfnv//7vTh0KAIAOhFpLS8sn30k3nzgEAOhs7S6sVatWZdmyZWtdv3Tp0qxa\n",
              "tapThwIAoAOhNm7cuPz1X/913n333dbr3n333ZxyyikZN27cBhkOAGBz1u5Qu+SSS9KzZ8/suuuu\n",
              "GTRoUAYNGpRdd9012267bX70ox9tyBkBADZLHf5lgpdffrn1O9MGDx6c3XfffYMMRvv5ZQIA6Hyb\n",
              "5C8T7L777uIMAGAjcBgGAKBQQg0AoFBCDQCgUEINAKBQQg0AoFBCDQCgUEINAKBQQg0AoFBCDQCg\n",
              "UB3+ZQLKs92h388e//iPtR4DAOhkjqgBABRKqAEAFEqoAQAUSqgBABRKqAEAFEqoAQAUSqgBABRK\n",
              "qAEAFEqoAQAUSqgBABRKqAEAFEqoAQAUSqgBABRKqAEAFEqoAQAUSqgBABRKqAEAFEqoAQAUSqgB\n",
              "ABRKqAEAFEqoAQAUSqgBABRKqAEAFEqoAQAUSqgBABRKqAEAFEqoAQAUSqgBABRKqAEAFEqoAQAU\n",
              "SqgBABRKqAEAFEqoAQAUSqgBABRKqAEAFEqoAQAUSqgBABRKqAEAFEqoAQAUSqgBABRKqAEAFEqo\n",
              "AQAUSqgBABRKqAEAFEqoAQAUSqgBABRKqAEAFEqoAQAUSqgBABRKqAEAFEqoAQAUSqgBABRKqAEA\n",
              "FEqoAQAUSqgBABRKqAEAFEqoAQAUSqgBABRKqAEAFEqoAQAUSqgBABSqrqqqqtZD8Nl87tBh6Tlu\n",
              "TK3HAIAu5ben/KTWIziiBgBQKqEGAFAooQYAUCihBgBQKKEGAFAooQYAUCihBgBQKKEGAFAooQYA\n",
              "UCihBgBQKKEGAFAooQYAUCihBgBQKKEGAFAooQYAUCihBgBQKKEGAFAooQYAUCihBgBQKKEGAFAo\n",
              "oQYAUCihBgBQKKEGAFAooQYAUCihBgBQKKEGAFCoDRZqffr0yZ577pnm5ubsvffeOeGEE/L+++9/\n",
              "6n4TJ07M+eef3+HHq6ury3vvvbfWDHPmzOnwff3iF7/I97///Q7v1x4PP/xwpk+fvkHuGwDoWjbo\n",
              "EbU77rgjc+bMyfPPP5+lS5dm6tSpG/LhOkVLS0v+8i//Mtdee+0GuX+hBgC010Y59bly5cp88MEH\n",
              "2W677Vqvu+aaazJ8+PAMHjw4Y8eOzcKFC9fab/Xq1bnwwgvT1NSUpqamnHvuuVm5cuV6zTB//vwc\n",
              "fPDBGTBgQJqbm3Pvvfe23lZXV5fLLrssw4YNy4QJEzJ16tQceeSRSZJJkyalubk5zc3NaWpqSl1d\n",
              "XRYuXLjO2U4++eSceeaZGTNmTPbYY48cddRRWblyZebMmZMpU6bk9ttvT3NzcyZNmpQkeeCBBzJi\n",
              "xIgMGTIkw4cPz8yZM9frOQIAXUvDhrzz4447LltvvXUWLFiQIUOG5Nhjj02STJs2LS+++GJ+/etf\n",
              "p76+PrfeemvOOeec3HfffW32/+lPf5qnnnoqTz/9dOrr61uPdF188cUf+3gHHnhg6uvrW/9+/fXX\n",
              "W//529/+dk499dSceeaZeemll7L//vtn0KBB6d27d5Kkvr4+Tz31VJK0OfJ36aWX5tJLL02SnHHG\n",
              "Gdlvv/3Su3fv/Mu//Ms6Z5szZ05mzpyZxsbGjBw5MnfffXeOP/74nHXWWXnvvfdy3XXXJUleeeWV\n",
              "TJw4MQ888EC6d++e+fPn58ADD8yCBQvS2Ni41nNcsWJFVqxY0fbK1dWn/asAADZBG+XU59tvv50+\n",
              "ffq0Rsy9996bGTNmZMiQIWlubs5VV12VRYsWrbX/jBkzcvLJJ6exsTENDQ05/fTT86tf/eoTH+/R\n",
              "Rx/NnDlzWi9f+MIXkiTLly/P7NmzM378+CRJv379MmLEiDz66KOt+5566qnrfC5XXHFFFi1alBtu\n",
              "uKFds33rW9/KNttsk/r6+gwfPjwvv/zyx97v9OnTM3/+/IwcOTLNzc35q7/6q3Tr1u1j1yNJrrzy\n",
              "yvTo0aPNZeVv3ljn7ADApmmjnPpsaGjI0Ucf3frerKqqMmHChNageu655/Lcc8996v3U1dV12kx/\n",
              "el+f+9znPnHbW265Jffcc0/uuuuuNDR8/EHIP72/rbbaqvWf6+vr09LS8rH7VVWVQw45pE1gvvba\n",
              "a+nXr9/Hbj9hwoQsXbq0zWXLL+38ibMDAJuujfb1HA899FD23HPPJMmRRx6ZKVOm5J133kmSrFq1\n",
              "Ks8888xa+xx88MG55ZZbsnLlyrS0tOSmm27K1772tQ4/9rbbbpvBgwfn5ptvTvKH96s99thjGTly\n",
              "5KfuO2PGjPz4xz/Offfd1ybm1ne27t27Z+nSpa1/H3rooZkxY0bmzp3bet2TTz75ifs3Njame/fu\n",
              "bS6p77yABQDKsVHeo9bS0pLevXtnypQpSf7wfrElS5Zk1KhRSf7wSctTTz01gwYNarP/GWeckZdf\n",
              "fjmDBw9Okhx00EHr9dUdSXL77bfnrLPOyuTJk1NXV5ebbropvXr1+tT9/u7v/i4ffPBBDjvssNbr\n",
              "7r///vWe7Vvf+lZuvfXWNDc356ijjsqll16aadOm5cwzz8wHH3yQlStXZtCgQZk2bdp6PU8AoOuo\n",
              "q6rKO9E3cZ87dFh6jhtT6zEAoEv57Sk/qfUIfpkAAKBUQg0AoFBCDQCgUEINAKBQQg0AoFBCDQCg\n",
              "UEINAKBQQg0AoFBCDQCgUEINAKBQQg0AoFBCDQCgUEINAKBQQg0AoFBCDQCgUEINAKBQQg0AoFBC\n",
              "DQCgUEINAKBQQg0AoFBCDQCgUEINAKBQQg0AoFBCDQCgUEINAKBQDbUegM/ujP4H5h9P+UmtxwAA\n",
              "OpkjagAAhRJqAACFEmoAAIUSagAAhRJqAACFEmoAAIUSagAAhRJqAACFEmoAAIUSagAAhRJqAACF\n",
              "EmoAAIUSagAAhRJqAACFEmoAAIUSagAAhRJqAACFEmoAAIUSagAAhRJqAACFEmoAAIUSagAAhRJq\n",
              "AACFEmoAAIUSagAAhRJqAACFEmoAAIUSagAAhRJqAACFEmoAAIVqqPUAfDYrVqzIL3/5y6xevTr1\n",
              "9fW1HmezsXr16jz55JMZPny4dd/IrH1tWPfasfa1sTHWvXfv3jnvvPPWuU1dVVXVBnl0Noply5al\n",
              "R48eWbp0abp3717rcTYb1r12rH1tWPfasfa1Ucq6O/UJAFAooQYAUCihBgBQKKG2iWtsbMxll12W\n",
              "xsbGWo+yWbHutWPta8O61461r41S1t2HCQAACuWIGgBAoYQaAEChhBoAQKGE2ibipZdeygEHHJA9\n",
              "9tgjw4YNy/PPP/+x2/3rv/5r+vXrl9133z2nn356Vq1atZEn7Vras+4PPfRQhg8fnn322Sf9+/fP\n",
              "RRddlDVr1tRg2q6lvf/NJ0lVVRk9enR69uy58Qbsotq77s8991wOOuig7L333tl7771zzz33bORJ\n",
              "u572rP2aNWtywQUXZJ999smAAQMyatSozJ8/vwbTdh1/8zd/kz59+qSuri5z5sz5xO1q9vpasUkY\n",
              "NWpUdfPNN1dVVVV33nlnNXTo0LW2eeWVV6qdd965euONN6o1a9ZURxxxRDV58uSNPGnX0p51nz17\n",
              "dvXyyy9XVVVVH374YfWVr3yldR/WX3vW/v/8wz/8Q3XaaadVPXr02DjDdWHtWff333+/+tKXvlQ9\n",
              "+uijVVVVVUtLS7V48eKNOWaX1J61/9nPflYNHz68WrlyZVVVVfXjH/+4OuaYYzbmmF3OI488Ur36\n",
              "6qtV7969q2eeeeZjt6nl66tQ2wS89dZb1bbbblutWrWqqqqqWrNmTfXnf/7n1UsvvdRmu6uuuqo6\n",
              "88wzW/++7777qq985SsbddaupL3r/qe++93vVpdddtlGmLDr6sjaz5s3rzrwwAOr+fPnC7XPqL3r\n",
              "fuONN1bHH398LUbsstq79vfee281cODAatmyZdWaNWuqCy+8sPr+979fi5G7nHWFWi1fX5363AS8\n",
              "+uqr2XnnndPQ0JAkqaurS69evbJo0aI22y1atCi9e/du/btPnz5rbUP7tXfd/9ibb76Zu+66K4cf\n",
              "fvjGGrNLau/ar1q1KqeffnpuuOEGP1bdCdq77v/7v/+bxsbGHH744Wlubs53vvOd/O53v6vFyF1G\n",
              "e9f+iCOOyEEHHZS/+Iu/yM4775wHH3wwkyZNqsXIm5Vavr4KNegky5YtyxFHHJGLLrooQ4cOrfU4\n",
              "m4XLL788Rx11VPbee+9aj7JZaWlpyYwZM3LDDTfkmWeeyS677JKzzz671mNtFmbNmpV58+bltdde\n",
              "y+uvv54xY8bkrLPOqvVYbEBCbROw66675o033khLS0uSP7xxetGiRenVq1eb7Xr16pWFCxe2/r1g\n",
              "wYK1tqH92rvuSbJ8+fKMHTs23/zmN3PBBRds7FG7nPau/SOPPJLrr78+ffr0yYgRI7Js2bL06dPH\n",
              "0Z311JH/14waNSq77LJL6urqcuKJJ+aJJ56oxchdRnvX/pZbbmn94Ey3bt1y0kknZebMmbUYebNS\n",
              "y9dXobYJ2GmnnTJ48ODcdtttSZK77747X/ziF9O3b9822x199NH5xS9+kTfffDNVVWXKlCkZN25c\n",
              "LUbuEtq77r///e8zduzYjB07NpdcckktRu1y2rv2jz76aBYuXJgFCxbkscceS/fu3bNgwYLsuOOO\n",
              "tRh7k9fedT/22GPz1FNPZdmyZUmS+++/PwMHDtzo83Yl7V373XbbLQ899FBWrlyZJPnP//zPNDU1\n",
              "bfR5Nzc1fX3dKO+E4zN74YUXqv3337/q169fNWTIkGru3LlVVVXV+PHjq5///Oet2/30pz+tdttt\n",
              "t2q33XarTj311NZPBrF+2rPuV1xxRdXQ0FANHDiw9XLFFVfUcuwuob3/zf+f3/zmNz5M0Anau+63\n",
              "3HJL1b9//2rfffetxo4dWy1atKhWI3cZ7Vn7jz76qDrttNOqvfbaq9p3332rQw45pPVT56yfM844\n",
              "o9pll12q+vr6aqeddqp23333qqrKeX31W58AAIVy6hMAoFBCDQCgUEINAKBQQg0AoFBCDQCgUEIN\n",
              "AKBQQg0AoFBCDQCgUEINAKBQQg0AoFBCDQCgUP8fWDKV6mi6kVAAAAAASUVORK5CYII=\n",
              "\">\n",
              "      </div>\n",
              "      <script type=\"text/javascript\">\n",
              "        (() => {\n",
              "          const chartElement = document.getElementById(\"chart-6f29e580-5ee6-4044-ba96-ff88ddd41968\");\n",
              "          async function getCodeForChartHandler(event) {\n",
              "            const chartCodeResponse =  await google.colab.kernel.invokeFunction(\n",
              "                'getCodeForChart', [\"chart-6f29e580-5ee6-4044-ba96-ff88ddd41968\"], {});\n",
              "            const responseJson = chartCodeResponse.data['application/json'];\n",
              "            await google.colab.notebook.addCell(responseJson.code, 'code');\n",
              "          }\n",
              "          chartElement.onclick = getCodeForChartHandler;\n",
              "        })();\n",
              "      </script>\n",
              "      <style>\n",
              "        .colab-quickchart-chart-with-code  {\n",
              "            display: block;\n",
              "            float: left;\n",
              "            border: 1px solid transparent;\n",
              "        }\n",
              "\n",
              "        .colab-quickchart-chart-with-code:hover {\n",
              "            cursor: pointer;\n",
              "            border: 1px solid #aaa;\n",
              "        }\n",
              "      </style>"
            ]
          },
          "metadata": {}
        },
        {
          "output_type": "display_data",
          "data": {
            "text/plain": [
              "<google.colab._quickchart_helpers.SectionTitle at 0x789f6d089300>"
            ],
            "text/html": [
              "<h4 class=\"colab-quickchart-section-title\">Values</h4>\n",
              "<style>\n",
              "  .colab-quickchart-section-title {\n",
              "      clear: both;\n",
              "  }\n",
              "</style>"
            ]
          },
          "metadata": {}
        },
        {
          "output_type": "display_data",
          "data": {
            "text/plain": [
              "from matplotlib import pyplot as plt\n",
              "_df_3['Idade'].plot(kind='line', figsize=(8, 4), title='Idade')\n",
              "plt.gca().spines[['top', 'right']].set_visible(False)"
            ],
            "text/html": [
              "      <div class=\"colab-quickchart-chart-with-code\" id=\"chart-e3e538ed-4502-4210-8146-6f3ffbac992c\">\n",
              "        <img style=\"width: 180px;\" src=\"data:image/png;base64,iVBORw0KGgoAAAANSUhEUgAAApcAAAFuCAYAAADUGTPdAAAAOXRFWHRTb2Z0d2FyZQBNYXRwbG90\n",
              "bGliIHZlcnNpb24zLjguMCwgaHR0cHM6Ly9tYXRwbG90bGliLm9yZy81sbWrAAAACXBIWXMAAA9h\n",
              "AAAPYQGoP6dpAABIBUlEQVR4nO3dd1hTB9/G8TsJGwUEcSIiigNliDLUCli3rbO1bqSuOtraUkd9\n",
              "qk+Xb31aLWptrcWBe89qtdYBqFWGiLhFURAFxcWGkHHeP1AqrVqQwMm4P9eV65KcJPzO6Yl+e5KT\n",
              "SARBEEBEREREpAFSsQcgIiIiIv3BuCQiIiIijWFcEhEREZHGMC6JiIiISGMYl0RERESkMYxLIiIi\n",
              "ItIYxiURERERaQzjkoiIiIg0hnFJRERERBrDuCQiqoDr169DIpEgJSXllR9jxYoVcHJy0thMRETa\n",
              "hHFJRPQ3gYGBmD17tthjEBHpJMYlEREREWkM45KI6CWSk5PRtWtXWFlZoVWrVoiIiCiz/MKFC+ja\n",
              "tSvs7e1hbW0NX19fHD16tMxtDh48CDc3N9SoUQOvv/460tLSyixXqVT4/vvv0apVK1hbW6Ndu3Y4\n",
              "cuRIla8bEVFVYFwSEb2ASqVC37594ejoiIyMDBw6dAjLly//x+0+/fRT3Lp1C5mZmejduzcGDhyI\n",
              "zMxMAMDNmzfRr18/fPDBB3j8+DHmzp2LpUuXlrn/119/jXXr1mH37t14/PgxZs+ejX79+iE5Obla\n",
              "1pOISJMYl0RELxAdHY2rV69i0aJFsLS0hIODA+bMmVPmNm3atEH37t1hbm4OU1NTfPHFF5BIJIiJ\n",
              "iQEAbNy4EW3atMGECRNgbGyMjh07IigoqMxjLFy4EN9++y1atGgBqVSKgQMHomPHjti0aVO1rSsR\n",
              "kaYYiT0AEZG2un37NmrVqgVra+vS65o0aVLmNrdu3cKMGTNw8uRJZGVlQSqVIicnp/TI5e3bt/9x\n",
              "n2d/vnfvHnJycjB48GBIpX/9/75CoUCzZs2qYrWIiKoU45KI6AUcHBzw+PFjZGdnlwbm3z+CaPz4\n",
              "8bC2tkZcXBzq1q0LQRBQq1YtCIJQ+hhxcXFl7vPsY9jY2MDMzAz79u2Dv79/la4PEVF14MviREQv\n",
              "4OvrCxcXF4SEhCA/Px937tzB3Llzy9wmOzsbNWrUQK1atZCfn49Zs2YhLy+vdPmwYcNw/vx5rFix\n",
              "AkqlEtHR0Vi7dm3pclNTU0ycOBEzZszA5cuXIQgCCgsLcezYMSQlJVXbuhIRaQrjkojoBYyMjLB3\n",
              "717cvHkT9evXR7du3TB27Ngyt/nhhx+QmJiIWrVqwdXVFQ0bNoSDg0PpcmdnZ+zatQuLFi2CjY0N\n",
              "/vOf/2DSpEllHmPBggUYNmwYBg8eDBsbGzg5OWHevHlQKBTVsp5ERJokEZ6+dkNEREREVEk8cklE\n",
              "REREGsO4JCIiIiKNYVwSERERkcYwLomIiIhIYxiXRERERKQxjEsiIiIi0hjGJRERERFpjNbE5eLF\n",
              "i8UegYiIiIgqSWviMjU1VewRiIiIiKiStCYuiYiIiEj3MS6JiIiISGMYl0RERESkMYxLIiIiItIY\n",
              "xiURERERaQzjkoiIiIg0hnFJRERERBrDuCQiIiIijXnluAwPD4dEIsHu3bsBAJmZmejVqxdcXFzQ\n",
              "pk0bHDt2TFMzEhEREZGOeKW4TElJwfLly+Hn51d63aeffgo/Pz9cu3YN4eHhGD58OBQKhcYGJSIi\n",
              "IiLtV+G4VKvVGDduHJYsWQJTU9PS67du3YqJEycCALy9vdGgQQNERUVpblIiIiIiKlVYrBJ7hOeq\n",
              "cFyGhoaiU6dOaNeuXel1Dx8+hEKhQL169Uqvc3Jywq1bt577GHK5HDk5OWUuKpV2biAiIiIibXPz\n",
              "QT66fh+J7fG3xR7lHyoUlxcuXMCOHTswe/bsSv3SefPmwdrauswlNja2Uo9JREREZAhuPsjH0LBT\n",
              "SM8uworjN6BQqcUeqYwKxeXx48eRkpICFxcXODk5ITo6GhMmTMDWrVthZGSEu3fvlt42JSUFjo6O\n",
              "z32cWbNmITs7u8zFx8encmtCREREpOeS7+dhyC+ncC9HjhZ1a2L9OF8Yy7Trw38qNM2kSZOQkZGB\n",
              "lJQUpKSkwM/PD2FhYZg0aRIGDx6MZcuWAQDi4uJw584dBAQEPPdxTE1NYWVlVeYik8kqvzZERERE\n",
              "eir5fh6GhUUjM1eOlvVqYuN4X9SuYfrvd6xmRpp6oG+//RajRo2Ci4sLTExMsH79ehgbG2vq4YmI\n",
              "iIgM1vXMPAxbHo37T8Jywzhf2GlhWAKVjMvIyMjSP9etWxd//PFHZechIiIiomdcz8zF0LAYPMiT\n",
              "o1V9K2wY5wtbSxOxx3ohjR25JCIiIiLNunYvF8OWR+NBXjFcn4RlLS0OS4Bf/0hERESklZKeCcvW\n",
              "DXQjLAEeuSQiIiLSOlfv5mL48mg8zC9Gm4ZWWD/WFzYW2h+WAOOSiIiISKtcuZuD4ctj8Ci/GG4N\n",
              "rbFurI/OhCXAuCQiIiLSGpczcjBiRUlYujtYY90YX1hb6Nan7zAuiYiIiLTApfQcjFgRjccFCng4\n",
              "WGPtWF9Ym+tWWAKMSyIiIiLRXUzPxogVMcgqUMCjkQ3WjvHRybAEGJdEREREorpwJxsjV5aEpWcj\n",
              "G6wd6wMrM90MS4BxSURERCSaC3dKjlhmFyrQ1rHkiGVNHQ5LgHFJREREJIrzt7MxYkU0coqU8HK0\n",
              "wRo9CEuAcUlERERU7c7dzsLIFTHIKVKifeNaWD3GBzVM9SPL9GMtiIiIiHREYloWRq6MQW6REt5O\n",
              "tRD+rv6EJcCvfyQiIiKqNmfTSo5Y5hYp4eNkq3dhCfDIJREREVG1SLj1GEErY5ErV8KniS3Cg71h\n",
              "qWdhCTAuiYiIiKpcfOpjjF4Vizy5Er5NbBH+rjcsTPQzw/RzrYiIiIi0RHzqI4xeFYc8uRJ+zrZY\n",
              "Fay/YQkwLomIiIiqzOmURxi9Khb5xSp0bGqHlaO9YW4iE3usKsUTeoiIiIiqQNwzYdmpmWGEJcAj\n",
              "l0REREQaF3vzEYLDY1FQrMJrzWpjeVB7gwhLgHFJREREpFExNx7i3dVxKChWobNLSViaGRtGWAKM\n",
              "SyIiIiKNib7xEO+Gx6FQoYJ/c3uEjWpnUGEJ8D2XRERERBpxKvmvsAww0LAEeOSSiIiIqNJOXn+A\n",
              "MWviUKRQI7CFPZaNNMywBHjkkoiIiKhS/nwmLLu0sMcvBnrE8ikeuSQiIiJ6RSeuPcDYNXGQK9V4\n",
              "vWUd/DzSC6ZGhhuWAI9cEhEREb2S49ful4Zlt1YMy6d45JKIiIiogqKS7mP82tMoVqrRrVVd/DSi\n",
              "LcPyCcYlERERUQVEXs3EhHXxKFaq0d21Ln4a7gUTI74Y/BS3BBEREVE5RTwTlj1bMyyfh0cuiYiI\n",
              "iMoh4kom3lsXj2KVGr1a18OS4W1hLGNY/h23CBEREdG/OHL5XmlY9m7DsHwZHrkkIiIieonDl+5h\n",
              "0oZ4KFQC3nCrj0VDPRmWL8EtQ0RERPQCh54NS3eGZXnwyCURERHRc/xx8S6mbDwDhUpAX48GWPiO\n",
              "B4wYlv+KW4iIiIjob36/cBeTN5SEZT+GZYXwyCURERHRM36/kIH3NyZAqRbQ37MBvh/MsKwIxiUR\n",
              "ERHREwfOZ+D9TQlQqQUMbNsQCwZ7QCaViD2WTmGGExEREQH47dxfYTmIYfnKeOSSiIiIDN6+c+mY\n",
              "uvlsSVh6NcT8txmWr4pHLomIiMig7U38KyzfbufAsKwkHrkkIiIig7Xn7B18vOUs1AIwuJ0Dvn3L\n",
              "HVKGZaXwyCUREREZpGfDckj7RgxLDalwXPbo0QPu7u7w9PRE586dkZCQAADYv38/vLy84OnpiTZt\n",
              "2mDNmjUaH5aIiIhIE3Yl3C4Ny6HejTBvkBvDUkMq/LL41q1bYWNjAwDYtWsXgoODcfbsWYwcORKR\n",
              "kZFwd3dHSkoKWrZsiUGDBqFmzZqanpmIiIjole08cxvTtiVCLQDDfBzxfwPaMCw1qMJHLp+GJQBk\n",
              "Z2dDIin5jyGRSJCVlQUAyMnJgZ2dHUxNTTUyJBEREZEmbI+/jU+ehOVwX4ZlVXilE3qCgoIQEREB\n",
              "oOTlcIlEgi1btmDQoEGwtLTE48ePsXPnTpiYmDz3/nK5HHK5vMx1KpXqVUYhIiIiKpdtp9MwY8c5\n",
              "CAIw0s8RX/VjWFaFVzqhZ+3atUhLS8PcuXMxc+ZMKJVKzJ07Fzt37kRqaiqOHDmCUaNG4cGDB8+9\n",
              "/7x582BtbV3mEhsbW6kVISIiInqRrc+E5Si/xvi6P8OyqlTqbPHRo0cjIiIC8fHxSE9Ph7+/PwDA\n",
              "29sbDg4OpSf7/N2sWbOQnZ1d5uLj41OZUYiIiIiea0vcLcx8EpajOzTGV/1bl76tjzSvQnGZlZWF\n",
              "9PT00p93794NOzs7ODk5ISMjA5cvXwYAXL9+HcnJyWjRosVzH8fU1BRWVlZlLjKZrBKrQURERPRP\n",
              "m2NvYeaO8xAEILijE77ox7CsahV6z2V2djYGDx6MwsJCSKVS2NvbY9++fahbty7CwsLwzjvvQCqV\n",
              "Qq1W48cff4Sjo2NVzU1ERET0UhtjbuE/u84DAN7t5IT/vunKsKwGEkEQBLGHAICQkBCEhoaKPQYR\n",
              "ERHpgQ0xqfhs1wUAwJhOTTDnzVYMy2rCr38kIiIivbIuOhVzdpeE5bjXmuCzNxiW1YlxSURERHpj\n",
              "3akUzNlzEQAwwd8Zs3q3ZFhWM363OBEREemFNSf/Csv3GJai4ZFLIiIi0nmr/7yJL/ZeAgBMDGiK\n",
              "mb1aMCxFwrgkIiIinbbqxE18ta8kLCcHNsX0ngxLMTEuiYiISGetOH4Dc38r+ZztKV2aYloPhqXY\n",
              "GJdERESkk54Nyw9eb4aQ7s0ZllqAcUlEREQ6Z/mxG/i//SVh+WFXF3zczYVhqSUYl0RERKRTfolK\n",
              "xrwDVwAAU7u64OPuzUWeiJ7FuCQiIiKd8XNkMr79vSQsP+rmgo+6MSy1DeOSiIiIdMLSyOv47ver\n",
              "AICQ7s3xYVcXkSei52FcEhERkdb7KeI65h8sCctPujfHBwxLrcW4JCIiIq225Mg1fH8oCQAwvWcL\n",
              "TOnSTOSJ6GUYl0RERKS1fjhyDaFPwnJGrxaYHMiw1HaMSyIiItJKiw4nYdHhawCAmb1aYlJgU5En\n",
              "ovJgXBIREZHWWXgoCYuPlITlrN4t8V4Aw1JXMC6JiIhIawiCgIWHr+GHJ2H5WZ9WGO/vLPJUVBGM\n",
              "SyIiItIKgiAg9FASlhy9DgCY/UYrjOvMsNQ1jEsiIiISnSAIWPDHVfwUkQwAmPOmK8a+1kTkqehV\n",
              "MC6JiIhIVIIgYP7Bq1gaWRKW/33TFWMYljqLcUlERESiEQQB3/5+FcuiSsLyi76uCO7EsNRljEsi\n",
              "IiIShSAI+N+BK/jl2A0AwFf9WyOog5O4Q1GlMS6JiIio2gmCgHkHriDsSVh+3b81RjEs9QLjkoiI\n",
              "iKqVIAj4v98uY8WJmwCArwe0wSi/xiJPRZrCuCQiIqJqIwgCvt53Gav+LAnL/xvYBiN8GZb6hHFJ\n",
              "RERE1UIQBHy17xLC/0wBAHwz0A3DfR3FHYo0jnFJREREVU4QBHy59xJWn0wBAPxvkBuG+jAs9RHj\n",
              "koiIiKqUIAj44teLWHMqFRJJSVgO8WZY6ivGJREREVUZQRDw3z0XsS66JCy/HeSOd7wbiT0WVSHG\n",
              "JREREVUJtVrAf3+9gPXRtyCRAN+95Y7B7RmW+o5xSURERBqnVguYvecCNsaUhOX8tz3wdjsHscei\n",
              "asC4JCIiIo1SqwV8tvsCNsWWhOX3gz0wyIthaSgYl0RERKQxarWA/+w6j81xaZBKgO/f8cDAtgxL\n",
              "Q8K4JCIiIo1QqwXM2nkeW06XhOXCIZ7o79lQ7LGomjEuiYiIqNLUagEzd5zDtvjbDEsDx7gkIiKi\n",
              "SlE9Ccvt8bchk0qwaIgn+no0EHssEgnjkoiIiF6ZSi1gxvZz2HGmJCwXD/XEm+4MS0PGuCQiIqJX\n",
              "olILmL4tETsT7kAmleCHoW3xhnt9sccikTEuiYiIqMJUagHTtiViV8IdGEklWDKsLXq7MSyJcUlE\n",
              "REQVpFSp8cm2ROw5mw4jqQQ/Dm+LXm0YllSCcUlERETlplSpEbI1Eb8mPg1LL/RqU0/ssUiLMC6J\n",
              "iIioXJQqNT7emoi9iekwlknw03Av9GjNsKSypBW9Q48ePeDu7g5PT0907twZCQkJAAC5XI73338f\n",
              "Li4ucHNzw8iRIzU+LBEREYlDqVJj6pazpWG5dEQ7hiU9V4WPXG7duhU2NjYAgF27diE4OBiJiYn4\n",
              "9NNPIZFIkJSUBIlEgrt372p6ViIiIhKBQqXGR5vP4rfzGTCWSfDziHbo5lpX7LFIS1U4Lp+GJQBk\n",
              "Z2dDIpEgPz8fK1euxO3btyGRSAAA9erx/2aIiIh0nUKlxoebEnDgwl2YyKT4eaQXurZiWNKLvdJ7\n",
              "LoOCghAREQEA2L9/P5KTk2Fra4tvvvkGhw8fhrm5Ob744gt07dr1ufeXy+WQy+VlrlOpVK8yChER\n",
              "EVURhUqNDzYm4PeLJWH5y6h26NKyjthjkZar8HsuAWDt2rVIS0vD3LlzMXPmTCiVSqSmpsLV1RWn\n",
              "T5/GDz/8gCFDhuDevXvPvf+8efNgbW1d5hIbG1upFSEiIiLNKVaq8f7GMyVhaSTFL0EMSyofiSAI\n",
              "QmUewNzcHCkpKWjQoAGKi4shk8kAAN7e3pg3bx66dev2j/s878jlnDlzsHjx4sqMQkRERBpQrFRj\n",
              "ysYzOHTpHkyMpAgb1Q6BLRiWVD4VOnKZlZWF9PT00p93794NOzs71KlTB127dsXBgwcBADdv3sTN\n",
              "mzfRqlWr5z6OqakprKysylyeRikRERGJp1ipxuQNf4Xl8qD2DEuqkAq95zI7OxuDBw9GYWEhpFIp\n",
              "7O3tsW/fPkgkEixbtgxjx47FzJkzIZVK8csvv6Bhw4ZVNTcRERFpmFypwpQNZ3D4ciZMn4Slf3N7\n",
              "scciHVOhuGzcuPEL3xvp7OxcepIPERER6Ra5UoVJ68/g6JWSsFw52huvudQWeyzSQfyGHiIiIgNX\n",
              "pFBh0vp4RFy9DzPjkrDs1IxhSa+GcUlERGTAihQqTFwfj8gnYblqtDc6MiypEhiXREREBqpIocJ7\n",
              "6+IRlXQf5sYyrAr2RoemdmKPRTqOcUlERGSAihQqjF97GsevPYC5sQzh73rDz5lhSZXHuCQiIjIw\n",
              "z4alhYkM4cHe8GVYkoYwLomIiAxIYXFJWJ64XhKWq9/1gU8TW7HHIj3CuCQiIjIQhcUqjFsbhz+v\n",
              "P4SliQyrx/jA24lhSZrFuCQiIjIABcVKjF19GqdulITlmjE+aM+wpCrAuCQiItJzBcVKjFkdh+gb\n",
              "j1DD1AhrxnijXWOGJVUNxiUREZEeKyhW4t3wOMTcfBqWPmjXuJbYY5EeY1wSERHpqXy5Eu+ujkPs\n",
              "zUeoaWqENWN94OXIsKSqxbgkIiLSQ/nykiOWsSmPUNPMCOvG+sKzkY3YY5EBYFwSERHpmTy5Eu+G\n",
              "xyIu5TFqmhlh/VhfeDAsqZowLomIiPRIbpECweFxiE99DCszI6wf5wt3BxuxxyIDwrgkIiLSE7lF\n",
              "CoxeFYszt7JgbW6M9WN94eZgLfZYZGAYl0RERHog50lYJjwJyw3jfNGmIcOSqh/jkoiISMflFCkQ\n",
              "tDIWZ9OyYGNRcsSSYUliYVwSERHpsOxCBYJWxSLxSVhuGOeL1g0YliQexiUREZGOyi5UIGhlDBJv\n",
              "Z6OWhTE2jPODawMrscciAycVewAxLDyUhK1xaVCpBbFHISIieiXZBQqMehKWtpYm2DieYUnaweCO\n",
              "XN64n4cfI65DpRaw4sQNzOjZEl1b1YFEIhF7NCIionLJLlBg5MoYnL/zNCx90bIew5K0g8EduWxg\n",
              "Y45Pe7WEtbkxku7lYdza0xjySzTO3Hos9mhERET/KqugGCNWRuP8nWzYWZpg03g/hiVpFYOLSzNj\n",
              "Gcb7O+PYjC6YGNAUpkZSxKY8wqClJzFpfTxu3M8Te0QiIqLnepxfjOHLY3DhTg5q1zDBpgl+aFGv\n",
              "pthjEZVhcHH5lLW5MT7t3RIR0wIxuJ0DpBLgwIW76L7wGD7bdR6ZuUVij0hERFTqcX4xRqyIwaWM\n",
              "J2E53g/N6zIsSfsYbFw+1cDGHPMHe+DAVH90bVkHKrWADTG3EDg/EqGHkpAnV4o9IhERGbhH+cUY\n",
              "XhqWptg03g8uDEvSUgYfl0+1qFcTK4O9sWWCHzwb2aCgWIUfjlxDwHcRWHMyBcVKtdgjEhGRAXqY\n",
              "J8fw5dG4nJED+5qm2DyBYUnajXH5N77Odtg1uSN+HuGFJrUt8TC/GJ//ehHdF0Zhb2I6BIEfX0RE\n",
              "RNXjYZ4cI1bE4MrdXNjXLDli2axODbHHInopxuVzSCQS9Harjz8+9sfXA9qgdg1TpD4swAebEtD/\n",
              "pz9xMvmB2CMSEZGee5Anx/DlJWFZ58kRS4Yl6QLG5UsYy6QY5dcYUdMD8XG35rA0keHc7WwMXx6D\n",
              "4PBYXM7IEXtEIiLSQ/dz5RgWFo2r93JR16okLJvaMyxJNzAuy8HS1AhTu7kgcnoXBHVoDCOpBJFX\n",
              "76PPD8cRsvUs7mQVij0iERHpifu5Je+xvJaZh3pWZtg8oQOcGZakQxiXFWBf0xRf9W+DwyEBeMO9\n",
              "PgQB2HnmDrosiMQ3+y8jq6BY7BGJiEiHZeYWYdiTsKxvbYbNE/zQpLal2GMRVQjj8hU41bbET8O9\n",
              "sGdKJ/g526JYqUbYsRvw/y4Cy6KSUaRQiT0iERHpmMycIgwLi8b1zDw0eBKWTgxL0kGMy0rwaGSD\n",
              "TeP9EP6uN1rWq4mcIiX+d+AKuiyIxLbTaVCpeWY5ERH9u8ycIgxdHo3k+/lPwrIDGtsxLEk3MS4r\n",
              "SSKRoEuLOvjtw85YMNgDDazNkJFdhOnbz6HP4uM4euUeP76IiIhe6F5OEYaGRePG/Xw0tDHH5gkd\n",
              "4GhnIfZYRK+McakhMqkEb7dzwNFpgZjVuyWszIxw9V4uxqw+jaFh0Ui49VjsEYmISMvczX4Slg+e\n",
              "hqUfw5J0HuNSw8yMZXgvoCmOz3gd7/k7w8RIipibjzBw6UlM3hCPmw/yxR6RiIi0QEZ2IYaGncLN\n",
              "B/lwqFUSlo1sGZak+xiXVcTawhiz+rRCxLRAvN3OARIJsP/8XXQPjcKc3RdwP1cu9ohERCSS9KxC\n",
              "DA2LRsrDAoYl6R3GZRVraGOOBYM9cGBqZ3RpYQ+lWsC66FQEzI/AwkNJyJMrxR6RiIiq0Z0nYZn6\n",
              "sACNbM2x5b0OcKjFsCT9wbisJi3rWSH8XR9sGu8HDwdrFBSrsPjINQTOj8C6UylQqNRij0hERFWs\n",
              "JCxP4dajAjjaWmDLhA5oaGMu9lhEGsW4rGYdmtph95RO+Gm4F5zsLPAgrxhz9lxE99Ao/HYug2eW\n",
              "ExHpqduPCzA07BTSHhWisZ0FNk/wQwOGJekhxqUIJBIJ3nCvj0MhAfi6f2vUrmGClIcFmLLxDAYs\n",
              "PYnoGw/FHpGIiDQo7VEBhoZFI+1RIZwYlqTnGJciMpZJMaqDEyKnd8HUri6wMJEhMS0LQ8OiMWZ1\n",
              "HK7czRF7RCIiqqSnYXn7cSGa1LbE5gkdUN+aYUn6q8Jx2aNHD7i7u8PT0xOdO3dGQkJCmeXh4eGQ\n",
              "SCTYvXu3pmbUezVMjfBx9+aInB6IkX6OkEklOHolE70XH8e0bYlIzyoUe0QiInoFT8PyTlYhnGtb\n",
              "YtN4P9SzNhN7LKIqVeG43Lp1K86dO4ezZ88iJCQEwcHBpctSUlKwfPly+Pn5aXJGg1GnphnmDnDD\n",
              "oY/90cetHgQB2B5/G4ELIjFv/2VkFyjEHpGIiMrp1sMCDPnlVElY2lti0wSGJRmGCseljY1N6Z+z\n",
              "s7MhkUgAAGq1GuPGjcOSJUtgamqqsQENkbN9DSwd0Q67JneETxNbFCvV+OXYDfjPj0DYsWQUKVRi\n",
              "j0hERC+R+jAfQ8JOIT27CE3tLbF5vB/qWjEsyTAYvcqdgoKCEBERAQDYv38/ACA0NBSdOnVCu3bt\n",
              "/vX+crkccnnZDxFXqRhMf9fWsRa2TPBDxNVMfHvgKq7ey8U3+69g9Z8pCOnRAgPbNoRMKhF7TCIi\n",
              "ekbKg3wMWx6NjCdhuWmCH+rUZFiS4XilE3rWrl2LtLQ0zJ07FzNnzsSFCxewY8cOzJ49u1z3nzdv\n",
              "HqytrctcYmNjX2UUvSeRSPB6y7rYP7Uz5r/tjvrWZkjPLsK0bYl444fjiLiayY8vIiLSEjcf5GNo\n",
              "WElYutSpgc0TOjAsyeBIhEqWibm5OWbPno0ff/yx9OXwu3fvwsrKCl9++SUmTZr0j/s878jlnDlz\n",
              "sHjx4sqMYhCKFCqsPpmCnyKuI7eo5Nt9/JxtMat3K3g0shF3OCIiA3bjfh6GLY/GvRw5XOrUwMbx\n",
              "frCvybeJkeGpUFxmZWWhoKAADRo0AADs3r0b77//PtLS0krfewkAgYGB+OijjzBgwIByDxISEoLQ\n",
              "0NDyT27gsgqKsTQyGatPpqBYWfLtPm+418f0Hi3gVNtS5OmIiAxL8v08DAuLRmauHM3rloRl7RoM\n",
              "SzJMFXrPZXZ2NgYPHozCwkJIpVLY29tj3759ZcKSqoeNhQn+06cVgjo0RuihJOxKuIPfzmXg4IW7\n",
              "GOHriA+6uvAvNiKianA9Mw/Dl5eEZct6NbFhnC/s+PcvGbBKvyyuKTxyWTmX0nPw7e9XEJV0HwBg\n",
              "aSLDBP+mGNe5CSxNX+m8LSIi+hfXM0teCr/PsCQqxW/o0ROuDaywZowPNo7zhbuDNfKLVVh4OAkB\n",
              "8yOxLjoVCpVa7BGJiPTK9cxcDA37Kyw3jvdjWBKBcal3Ojarjd2TO2HJsLZwtLXAgzw55uy+gJ4L\n",
              "j+HA+QyeWU5EpAHX7pWE5YM8OVzrW2HTeD/YWpqIPRaRVmBc6iGpVIK+Hg1wOCQAX/ZrDTtLE9x4\n",
              "kI9JG85g4NKTiLnxUOwRiYh0VlJpWBajdQMrbBjni1oMS6JSjEs9ZmIkxeiOToicHogPX28Gc2MZ\n",
              "zqZlYUhYNMaujkPSvVyxRyQi0ilX7+ZiWFg0HuYzLIlehHFpAGqaGSOkRwtEzQjECF9HyKQSHLmS\n",
              "iV6LjmH6tkRkZBeKPSIRkda7cjcHw5aXhKVbQ2tsGOcLGwuGJdHfMS4NSJ2aZvi/gW7442N/9G5T\n",
              "D2oB2BZ/G4HzI/G/A1eQXagQe0QiIq10OSMHw8Ki8Si/GO4O1lg/lmFJ9CKMSwPU1L4Gfh7ZDjsn\n",
              "d4SPky3kSjWWRSUjYH4EVhy/gSIFv+ediOipS+k5GL48Go8LFPBwsMa6sb6wtjAWeywircW4NGBe\n",
              "jrWw5T0/rAhqD5c6NZBVoMDc3y6j6/dR2HnmNtRqnllORIbtYno2hq94EpaNbLB2rC+szRmWRC/D\n",
              "uDRwEokE3Vzr4sDUzvjuLXfUszLDnaxChGxNxBtLTiDyaiY/voiIDNKFO9kYvjwGWQUKeDaywbqx\n",
              "PgxLonJgXBIAwEgmxTvejRAxLRAzerVATTMjXM7IQXB4HEasiMH529lij0hEVG0u3MnGiBUxyC5U\n",
              "oK2jDdaO9YGVGcOSqDwYl1SGuYkMkwOb4dj0Lhj3WhOYyKQ4mfwQfX88gQ82JSD1Yb7YIxIRVanz\n",
              "t7MxfHk0sgsV8HK0wdoxDEuiimBc0nPVsjTB7DddceSTAAxs2xASCbA3MR3dQqPwxa8X8TBPLvaI\n",
              "REQad+52FkasiEZOkRLtGtfC2rG+qMmwJKoQxiW9VCNbCywc4ol9H7wG/+b2UKgErD6ZgoD5kfjh\n",
              "yDUUFCvFHpGISCMS07IwYkUMcoqUaN+4FtaM8UENUyOxxyLSOYxLKpfWDayxdowPNozzRZuGVsiT\n",
              "KxF6KAkB8yOxISYVSpVa7BGJiF5Zwq3HGLkiBrlFSvg42WI1w5LolTEuqUI6NauNX6e8hh+GtUUj\n",
              "W3Pcz5Xjs10X0GPRMfx+4S7PLCcinXPm1mMErYxFrlwJnya2CH/Xm2FJVAmMS6owqVSCfh4NcCQk\n",
              "EJ/3dYWtpQlu3M/HxPXxeOvnk4hLeST2iERE5RKf+ldY+jaxRXiwNywZlkSVwrikV2ZiJMW7nZog\n",
              "anogPni9GcyNZThzKwuDl53CuDWnce1ertgjEhG9UHzqI4xeFYs8uRJ+ziVHLBmWRJXHuKRKq2lm\n",
              "jE96tEDU9EAM83GETCrB4cv30HPRMczcfg53s4vEHpGIqIzTKY8QtLIkLDs42yE82AcWJgxLIk1g\n",
              "XJLG1LEyw7xBbjj4kT96tq4LtQBsOZ2GwAUR+O73K8gpUog9IhER4lJKjljmF6vQsakdVgV7w9xE\n",
              "JvZYRHqDcUka16xODfwyqj12TOqA9o1roUihxtLIZPh/F4EVx29ArlSJPSIRGajYm3+F5WvNamPl\n",
              "aIYlkaYxLqnKtGtsi20TOyBsVDs0tbdEVoECc3+7jK7fR2F3wh2o1TyznIiqT8yNhwgOj0VBsQqd\n",
              "XWpjxej2DEuiKsC4pColkUjQo3U9HPzIH/8b5Ia6Vqa4/bgQH205izeXnMCxpPtij0hEBiD6xkME\n",
              "h8eVhuXyoPYwM2ZYElUFxiVVCyOZFEN9HBE5rQum92yBmqZGuJSRg6BVsRi5IgYX7mSLPSIR6amT\n",
              "yQ/wbngcChUq+De3Z1gSVTHGJVUrcxMZpnRphqgZXTCmUxMYyyQ4cf0B3lxyAh9uSkDaowKxRyQi\n",
              "PXLy+gOMWV0SlgHN7RE2qh3DkqiKMS5JFLaWJvhvX1cc/SQQAzwbAAB+TUzH699H4su9F/EwTy7y\n",
              "hESk6/68/gBj1sShSKFGlxb2+IVhSVQtGJckqka2Flg0tC32ffAaOrvUhkIlIPzPFATMj8SPR6+h\n",
              "oFgp9ohEpINOXCs5YlmkUOP1lnWwjGFJVG0Yl6QV2jS0xrqxvlg31getG1ghT67Egj+SEDg/Epti\n",
              "b0GpUos9IhHpiGNJ9zF2TRzkSjW6tqyDn0d6wdSIYUlUXRiXpFU6u9hj7/uvYfFQTzjUMkdmrhyz\n",
              "dp5Hz0XHcPDiXQgCP76IiF4sKuk+xq09DblSjW6t6mIpw5Ko2jEuSetIpRL092yII58EYM6brqhl\n",
              "YYzk+/l4b1083l52CqdTHok9IhFpocirmRi/9jSKlWp0d62LpSMYlkRiYFyS1jI1kmHsa00QNaML\n",
              "pnRpCjNjKeJTH+PtZacwfu1pXM/MFXtEItISEVczMWFtPIqVavRwrYufhnvBxIj/xBGJgc880npW\n",
              "ZsaY3rMlIqd1wVDvRpBKgEOX7qHHwmOYtfMc7uUUiT0iEYko4kom3lsbj2KVGr1a18NPIxiWRGLi\n",
              "s490Rj1rM/zvLXf88bE/urvWhVoANsWmIWB+BOYfvIKcIoXYIxJRNTty+R7eW1cSlr3b1MOS4W1h\n",
              "LOM/bURi4jOQdE6zOjWxPKg9tk3sgHaNa6FIocZPEckI+C4Cq07chFypEntEIqoGhy/dw8T1JWHZ\n",
              "x60efhjGsCTSBnwWks7ydrLF9okd8MuodnC2t8TjAgW+2ncJ3UKjsOfsHajVPLOcSF8dunQPkzbE\n",
              "Q6ES8IZ7fSweyrAk0hZ8JpJOk0gk6Nm6Hv74yB/fDHSDfU1TpD0qxNTNZ9HvpxM4ce2B2CMSkYb9\n",
              "cfEuJj8Jyzfd62PxEE+GJZEW4bOR9IKRTIrhvo6Imh6IaT2ao4apES7cycHIlTEYtTIGF+5kiz0i\n",
              "EWnA7xfuYvKGM1CoBPT1aIBFQzxhxLAk0ip8RpJesTAxwvuvuyBqeiCCOzrBWCbB8WsP8OaSE/ho\n",
              "cwLSHhWIPSIRvaLfL2Tg/Y1noFQL6O/ZAAvf8WBYEmkhPitJL9nVMMUX/VrjSEgg+nk0AADsPpuO\n",
              "rt9H4au9l/Aov1jkCYmoIg6cz8CUjQlQqgUM8GyA0Hd4xJJIW/GZSXrN0c4CPwxri73vv4ZOzexQ\n",
              "rFJj1Z83EfBdBH6KuI7CYp5ZTqTtfjuXgfc3JUClFjCobUN8/44nZFKJ2GMR0QswLskguDlYY/1Y\n",
              "X6wd44NW9a2QK1di/sGrCFwQgc2xt6BUqcUekYieY9+5dHy4+UlYejXE/MEeDEsiLce4JIMhkUjg\n",
              "39wev33wGhYO8UBDG3Pcy5Hj053n0XvxcRy6dA+CwI8vItIWexPTMXXzWajUAt5u54D5bzMsiXQB\n",
              "45IMjlQqwcC2Djg6LQCz32gFGwtjXMvMw/i1p/HOL6cQn/pY7BGJDN6es3cw9ckRy8HtHPDtW+4M\n",
              "SyIdUeG47NGjB9zd3eHp6YnOnTsjISEBRUVFGDBgAJo3bw4PDw90794d169fr4p5iTTG1EiGcZ2d\n",
              "ETW9CyYFNoWpkRRxKY/x1s8n8d6600i+nyf2iEQGac/ZO/h4y1moBWBI+0YMSyIdU+G43Lp1K86d\n",
              "O4ezZ88iJCQEwcHBAIAJEybg6tWrSExMRP/+/TFu3DhNz0pUJazNjTGzV0tETg/EkPaNIJUABy/e\n",
              "Q4+Fx/CfXeeRmVMk9ohEBmNXwu3SsBzq3QjzBrlByrAk0ikVjksbG5vSP2dnZ0MikcDMzAx9+vSB\n",
              "RFLyF4Cfnx9SUlI0NSNRtahvbY5v33bH7x/5o1urOlCpBWyMuYWA+ZH4/o+ryC1SiD0ikV7beeY2\n",
              "PtmaCLUADPNphG8GMiyJdJHRq9wpKCgIERERAID9+/f/Y/nixYvRv3//F95fLpdDLpeXuU6l4kfC\n",
              "kHZoXrcmVoz2RuzNR5h34DISbmVhydHr2BBzCx+83gwjfBvDxIhvVybSpO3xtzF9eyIEARju64i5\n",
              "/dswLIl0lESoxOmxa9aswZYtW8oE5jfffIO9e/fiyJEjsLCweO79vvjiC3z55ZdlrvPz88OpU6de\n",
              "dRSiKiEIAg5evIvvfr+KGw/yAQCOthaY1rMF3nSrz3/8iDRg2+k0zNhxDoIAjPRzxFf9GJZEuqxS\n",
              "cQkA5ubmuH37Nuzs7LBgwQJs3rwZhw8fLvPy+d8978jlnDlzsHjx4sqMQlRlFCo1tsSlYdHha3iQ\n",
              "V7LvujW0xqe9W6JTs9oiT0eku7aeTsPMJ2E5yq8xvurfuvQtVkSkmyr02l5WVhbS09NLf969ezfs\n",
              "7Oxga2uL0NBQbNq0CYcOHXppWAKAqakprKysylxkMtkrrQBRdTCWSTHSrzGipgcipHtzWJrIcP5O\n",
              "NkasiEHQqlhcSs8Re0QinbMl7lZpWI7uwLAk0hcVOnKZmpqKwYMHo7CwEFKpFPb29liwYAFq166N\n",
              "Ro0awdnZGTVr1gRQEpAxMTHlHiQkJAShoaEVXwMiETzIk+PHo9exPjoVSrUAiQQY4NkQn/RoDoda\n",
              "z387CBH9ZXPsLXy68zwAILijEz7v68qwJNITlX5ZXFMYl6SLUh/mY/7Bq9h3LgMAYCKTIqhDY0zp\n",
              "0gy1LE1Eno5IO22MuYX/7CoJy3c7OeG/bzIsifQJT3klqoTGdpb4cbgX9kzphA7OdihWqbHixE34\n",
              "z4/A0sjrKFLwUxCInrUhJrU0LMd0asKwJNJDjEsiDfBoZION432x+l1vtKxXE7lFSnz3+1UEzo/E\n",
              "1rg0qNRa8QIBkajWRafis10XAADjXmuCOW+2YlgS6SHGJZGGSCQSBLaog98+7IzQdzzQ0MYcd3OK\n",
              "MGPHOfRefAyHL92DlrwLhajarTuVgjm7S8JyfOcm+OwNhiWRvmJcEmmYTCrBIC8HHPkkAJ/1aQVr\n",
              "c2Mk3cvDuLWnMeSXaJy59VjsEYmq1ZqTKZiz5yIA4D1/Z/ynD8OSSJ8xLomqiJmxDOP9nXFsehe8\n",
              "F+AMEyMpYlMeYdDSk5i0Ph437ueJPSJRlVv95018/mtJWE4MaIpPe7dkWBLpOcYlURWztjDGrN6t\n",
              "EDktEIPbOUAqAQ5cuIvuC4/hs13nkZlbJPaIRFVi1Ymb+GLvJQDApMCmmNmrBcOSyAAwLomqSQMb\n",
              "c8wf7IEDU/3RtWUdqNQCNsTcQuD8SIQeSkKeXCn2iEQas+L4DXy1ryQsp3Rpihk9GZZEhoJxSVTN\n",
              "WtSriZXB3tg8wQ8ejWxQUKzCD0euIeC7CKw5mYJipVrsEYkqZcXxG5j722UAwAevN8O0HgxLIkPC\n",
              "uCQSiZ+zHXZP7oilI7zQpLYlHuYX4/NfL6L7wijsTUznmeWkk5Yf+yssP3y9GUK6N2dYEhkYxiWR\n",
              "iCQSCfq41ccfH/vj6wFtULuGKVIfFuCDTQno/9OfOJn8QOwRicrtl6hk/N/+krCc2tUFITxiSWSQ\n",
              "GJdEWsBYJsUov8aImh6Ij7s1h6WJDOduZ2P48hgEh8fickaO2CMSvdTPkcmYd+AKAOCjbi74uHtz\n",
              "kSciIrEwLom0iKWpEaZ2c0Hk9C4I6tAYRlIJIq/eR58fjiNk61ncySoUe0Sif1gaeR3f/l4Slh93\n",
              "a46PujEsiQwZ45JIC9nXNMVX/dvgUEgA3nCrD0EAdp65gy4LIvHN/svIKigWe0QiAMBPEdfx3e9X\n",
              "AQCfdG+Oqd1cRJ6IiMTGuCTSYk1qW+KnEV7YPaUT/JxtUaxUI+zYDfh/F4FlUckoUqjEHpEM2JIj\n",
              "1zD/YElYTu/ZAh90ZVgSEeOSSCd4NrLBpvF+CA/2Rou6NZFTpMT/DlxBlwWR2HY6DSo1zyyn6vXD\n",
              "kWv4/lASgJKwnNKlmcgTEZG2YFwS6QiJRIIuLetg/9TOWDDYAw2szZCRXYTp28+hz+LjOHrlHj++\n",
              "iKrFosNJCH0SljN7tWRYElEZjEsiHSOTSvB2OwccnRaIWb1bwsrMCFfv5WLM6tMYGhaNhFuPxR6R\n",
              "9NjCQ0lYdPgaAGBW75aYFNhU5ImISNswLol0lJmxDO8FNMXxGa/jPX9nmBhJEXPzEQYuPYnJG+Jx\n",
              "80G+2COSHhEEAaGHkrD4SElY/qdPS7wXwLAkon9iXBLpOGsLY8zq0woR0wLxdjsHSCTA/vN30T00\n",
              "CnN2X8D9XLnYI5KOexqWPzwJy9lvtMIEf4YlET0f45JITzS0MceCwR44MLUzurSwh1ItYF10KgLm\n",
              "R2DhoSTkyZVij0g6SBAELPjjKpYcvQ6gJCzHdXYWeSoi0maMSyI907KeFcLf9cGm8X7wcLBGQbEK\n",
              "i49cQ+D8CKw7lQKFSi32iKQjBEHA/INX8VNEMgDgv2+6MiyJ6F8xLon0VIemdtg9pRN+Gu4FJzsL\n",
              "PMgrxpw9F9E9NAq/ncvgmeX0UoIg4Nvfr2JpZElYft7XFWNeayLyVESkCxiXRHpMIpHgDff6OBQS\n",
              "gK/6t4adpQlSHhZgysYzGLD0JKJvPBR7RNJCgiDgfweuYFlUSVh+2a813u3EsCSi8mFcEhkAY5kU\n",
              "QR2cEDWjC6Z2dYGFiQyJaVkYGhaNMavjcOVujtgjkpYQBAHzDlzBL8duAAC+6t8aozs6iTsUEekU\n",
              "xiWRAalhaoSPuzdH5PRAjPRzhEwqwdErmei9+DimbUtEelah2COSiARBwP/9dhlhT8Ly6wFtENTB\n",
              "SdyhiEjnMC6JDFCdmmaYO8ANhz72Rx+3ehAEYHv8bQQuiMS8/ZeRXaAQe0SqZoIg4Ot9l7HixE0A\n",
              "wNwBbTDKr7HIUxGRLmJcEhkwZ/saWDqiHXZN7gifJrYoVqrxy7Eb8J8fgbBjyShSqMQekaqBIAj4\n",
              "at8lrPqzJCy/GeiGkQxLInpFjEsiQlvHWtgywQ8rR7dH87o1kF2owDf7r+D1BZHYHn8bKjXPLNdX\n",
              "giDgy72XEP5nCgBg3iA3DPd1FHcoItJpjEsiAlByZnnXVnVxYKo/vnvbHfWtzZCeXYRp2xLxxg/H\n",
              "EXE1kx9fpGcEQcAXv17E6pMpkEiAb99ywzAfhiURVQ7jkojKkEkleKd9I0RMC8SnvVuippkRrtzN\n",
              "xbvhcRi2PBqJaVlij0gaIAgC/rvnItacSi0Jy0HuGOLNsCSiymNcEtFzmRnLMDGgKY7P6ILxnZvA\n",
              "RCZF9I1H6P/Tn5iy8QxSHuSLPSK9IrVawJw9F7AuuiQsv3vLHe94NxJ7LCLSE4xLInopGwsTfPaG\n",
              "K45OC8Cgtg0hkQC/nctAt9AofL7nAh7kycUekSpArRYwe88FrI++BYkEmP+2Bwa3Z1gSkeYwLomo\n",
              "XBxqWSB0iCd++6AzAprbQ6kWsOZUKgK+i8Diw9eQL1eKPSL9C7VawGe7L2BjTElYfj/YA2+3cxB7\n",
              "LCLSM4xLIqoQ1wZWWDPGBxvH+cKtoTXyi1VYeDgJAfMjsS46FQqVWuwR6TnUagH/2XUem2JvQSoB\n",
              "Qt/xwCAvhiURaR7jkoheScdmtbFnSicsGdYWjrYWeJAnx5zdF9Bz4TEcOJ/BM8u1iFotYNbO89gc\n",
              "l/YkLD0xsC3DkoiqBuOSiF6ZVCpBX48GOBwSgC/6usLW0gQ3HuRj0oYzGLj0JGJuPBR7RIOnVguY\n",
              "ueMctpwuCcuFQzwxoG1DscciIj3GuCSiSjMxkiK4UxNETQ/Eh683g7mxDGfTsjAkLBpjV8ch6V6u\n",
              "2CMaJJVawIwd57At/jakEmDR0Lbo78mwJKKqxbgkIo2paWaMkB4tEDU9ECN8HSGTSnDkSiZ6LTqG\n",
              "6dsSkZFdKPaIBkOlFjB9eyK2x9+GTCrB4qFt0c+jgdhjEZEBYFwSkcbVsTLD/w10wx8f+6NX63pQ\n",
              "C8C2+NsInB+J/x24guxChdgj6jWVWsD0bYnYeeYOZFIJfhjaFn0ZlkRUTRiXRFRlmtrXwLJR7bBj\n",
              "Ukd4O9WCXKnGsqhkBMyPwIrjN1CkUIk9ot5RqQV8svUsdiaUhOWSYW3xhnt9scciIgPCuCSiKteu\n",
              "cS1sfa8DVgS1h0udGsgqUGDub5fR9fso7DxzG2o1zyzXBKVKjZCtZ7H7bDqMpBL8OKwt+rgxLImo\n",
              "ejEuiahaSCQSdHOtiwNTO+Pbt9xQ18oUd7IKEbI1EW8sOYHIq5n8+KJKKAnLROx5GpbDvdCbYUlE\n",
              "IqhwXPbo0QPu7u7w9PRE586dkZCQAAC4du0aOnbsiObNm8Pb2xsXL17U+LBEpPuMZFIM8XZE5LQu\n",
              "mNGrBWqaGuFyRg6Cw+MwYkUMzt/OFntEnaNUqfHRlrP4NbEkLH8a4YVebeqJPRYRGagKx+XWrVtx\n",
              "7tw5nD17FiEhIQgODgYAvPfee5gwYQKSkpIwc+bM0uuJiJ7H3ESGyYHNcGxGF4x9rQlMZFKcTH6I\n",
              "vj+ewAebEpD6MF/sEXWCUqXG1C1nse9cBoxlEiwd4YWerRmWRCSeCseljY1N6Z+zs7MhkUiQmZmJ\n",
              "06dPY+TIkQCAt956C2lpabh+/brGBiUi/VTL0gRz3nTFkU8CMLBtQ0gkwN7EdHQLjcIXv17Ewzy5\n",
              "2CNqLYVKjambz+K3J2H584h26MGwJCKRGb3KnYKCghAREQEA2L9/P9LS0lC/fn0YGZU8nEQigaOj\n",
              "I27duoVmzZr94/5yuRxyedl/MFQqnjVKZMga2Vpg4RBPjOvcBN/+fhXHku5j9ckUbI+/jQn+zhjX\n",
              "uQksTF7pryy9pFCp8eGmBBy4cBcmMil+HumFrq3qij0WEdGrndCzdu1apKWlYe7cuZg5c2aF7z9v\n",
              "3jxYW1uXucTGxr7KKESkZ1o3sMbaMT7YMM4XbRpaIU+uROihJATMj8SGmFQoVWqxRxSdQqXGBxv/\n",
              "CstloxiWRKQ9JEIlT880NzdHSkoKXFxc8OjRIxgZGUEQBNSvXx8nTpwo95HLOXPmYPHixZUZhYj0\n",
              "jFotYO+5dCz44yrSHpV8u4+zvSVm9GyJnq3rQiKRiDxh9StWqvHBpjM4ePEeTIyk+GVUO3RpUUfs\n",
              "sYiISlXoyGVWVhbS09NLf969ezfs7OxQp04deHl5Yf369QCAHTt2wMHB4blhCQCmpqawsrIqc5HJ\n",
              "ZJVYDSLSR1KpBP09G+JwSAA+7+sKW0sT3Lifj4nr4/HWzycRl/JI7BGrVbFSjSkb/wrLMIYlEWmh\n",
              "Ch25TE1NxeDBg1FYWAipVAp7e3ssWLAAnp6euHr1KoKDg/Hw4UNYWVkhPDwcbm5u5R4kJCQEoaGh\n",
              "r7QSRGQYcosU+CXqBlacuIEiRcnL491a1cXMXi3gUremyNNVrWKlGpM3nMHhyyVhuTyoPQKa24s9\n",
              "FhHRP1T6ZXFNYVwSUXndyynCosPXsPV0GlRqAVIJMLhdI3zcvTnqWZuJPZ7GyZUqTNlwBocvZ8L0\n",
              "SVj6MyyJSEvxG3qISOfUtTLDvEFuOPiRP3q41oVaALacTkPgggh89/sV5BQpxB5RY+RKFSat/yss\n",
              "V472ZlgSkVZjXBKRzmpWpwbCgtpjx6QOaN+4FooUaiyNTIb/dxFYcfwG5Erd/oizIoUKE9fF4+iV\n",
              "TJgZS7Eq2BuvudQWeywiopdiXBKRzmvX2BbbJnZA2Kh2aGpviawCBeb+dhldv4/C7oQ7UKu14t0/\n",
              "FVKkUGHi+nhEXL1fEpajvdGpGcOSiLQf45KI9IJEIkGP1vVw8CN//G+QG+pameL240J8tOUs3lxy\n",
              "AseS7os9YrkVKVSYsC4ekU/DMtgbHRmWRKQjGJdEpFeMZFIM9XFE5LQumN6zBWqaGuFSRg6CVsVi\n",
              "5IoYXLiTLfaIL1WkUGH82tM4lnQf5sYyhAf7oGNThiUR6Q7GJRHpJXMTGaZ0aYaoGV0wplMTGMsk\n",
              "OHH9Ad5ccgIfbkpA2qMCsUf8h6dhefzaA1iYyLD6XW90aGon9lhERBXCuCQivWZraYL/9nXF0U8C\n",
              "0d+zAQDg18R0vP59JL7cexEP8+T/8gjVo7BYhXFrng1LH/g6MyyJSPcwLonIIDSytcDioW2x74PX\n",
              "8Fqz2lCoBIT/mYKA+ZH48eg1FBQrRZutsFiFsWvicOL6A1iayLBmjA98mtiKNg8RUWUwLonIoLRp\n",
              "aI3143yxbqwPWjewQp5ciQV/JCFwfiQ2xd6CUqWu1nkKipUYszoOJ5MfloaltxPDkoh0F+OSiAxS\n",
              "Zxd77H3/NSwa4gmHWubIzJVj1s7z6LnoGA5evIvq+PKyp2F56sZD1DA1wtqxPmjPsCQiHce4JCKD\n",
              "JZVKMKBtQxz5JABz3nRFLQtjJN/Px3vr4vH2slM4nfKoyn53QbES74bHIfrGI9QwNcKaMT5o15hh\n",
              "SUS6j3FJRAbP1EiGsa81QdSMLpjSpSnMjKWIT32Mt5edwvi1p3E9M1ejvy9frkRweBxibj5CzSdH\n",
              "LNs1rqXR30FEJBbGJRHRE1ZmxpjesyUip3XBUO9GkEqAQ5fuocfCY5i18xzu5RRV+nfkyZUIDo9F\n",
              "7DNh6eXIsCQi/cG4JCL6m3rWZvjfW+44+JE/urvWhVoANsWmIWB+BOYfvIKcIsUrPW6eXIngVbGI\n",
              "S3mMmmZGWDfOF20ZlkSkZxiXREQv4FK3JpYHtce2iR3g5WiDIoUaP0UkI+C7CKw6cRNyparcj5Vb\n",
              "pMDoVbE4nfoYVmZG2DDOF56NbKpueCIikTAuiYj+hbeTLXZM6ohlI9vB2d4SjwsU+GrfJXQLjcKe\n",
              "s3egVr/8zPKnYRlfGpZ+cHewqZ7hiYiqGeOSiKgcJBIJerWphz8+8sc3A91gX9MUaY8KMXXzWfT7\n",
              "6QROXHvw3PvlFCkQtCoWZ25lwdrcGBvH+8HNwbqapyciqj6MSyKiCjCSSTHc1xFR0wPxSffmqGFq\n",
              "hAt3cjByZQxGrYzBhTvZpbfNKVIgaGUsEp6E5YZxvmjTkGFJRPqNcUlE9AosTIzwQVcXRE0PRHBH\n",
              "JxjLJDh+7QHeXHICH21OwMX0bIxaGYuzaVmwsWBYEpHhkAjV8TUU5RASEoLQ0FCxxyAieiWpD/Px\n",
              "/R9J+DUxvcz1tSyMsWGcH1wbWIk0GRFR9eKRSyIiDWhsZ4kfhrXF3vdfQ6dmdgAYlkRkmIzEHoCI\n",
              "SJ+4OVhj/VhfXLiTg7rWpqhT00zskYiIqhXjkohIwyQSCc8IJyKDxZfFiYiIiEhjGJdEREREpDGM\n",
              "SyIiIiLSGMYlEREREWkM45KIiIiINIZxSUREREQaw7gkIiIiIo1hXBIRERGRxjAuiYiIiEhjGJdE\n",
              "REREpDGMSyIiIiLSGIkgCILYQwDAoEGD4OTkVC2/S6VSITY2Fj4+PpDJZNXyO3UBt8uLcds8H7fL\n",
              "i3HbPB+3y4tx2zwft8uLibFtGjdujKlTp770NloTl9UpJycH1tbWyM7OhpWVldjjaA1ulxfjtnk+\n",
              "bpcX47Z5Pm6XF+O2eT5ulxfT1m3Dl8WJiIiISGMYl0RERESkMYxLIiIiItIYg4xLU1NTfP755zA1\n",
              "NRV7FK3C7fJi3DbPx+3yYtw2z8ft8mLcNs/H7fJi2rptDPKEHiIiIiKqGgZ55JKIiIiIqgbjkoiI\n",
              "iIg0hnFJRERERBqjV3H54YcfwsnJCRKJBGfPnn3h7VauXAkXFxc0bdoU48ePh0KhKNcyXVWe7XL0\n",
              "6FH4+PjA1dUVrVu3xowZM6BWqwEAKSkpkMlk8PT0LL0kJydX4xpUnfJsm8jISJibm5dZ/8LCwtLl\n",
              "hrrPhIeHl9kmtWvXxqBBgwDo7z5TVFSEAQMGoHnz5vDw8ED37t1x/fr159523759aNmyJVxcXDBo\n",
              "0CDk5OSUa5muKu+2OX/+PPz9/dGyZUu0adMGY8aMKfN8kkgkcHNzK91vjh8/Xp2roXHl3S7/9pwx\n",
              "5H3m4MGDZbZLgwYN4OXlVbpc3/YZAOjRowfc3d3h6emJzp07IyEh4bm309qeEfRIVFSUkJaWJjRu\n",
              "3FhISEh47m1u3Lgh1K9fX8jIyBDUarXQt29f4ccff/zXZbqsPNvlzJkzQnJysiAIglBYWCh06tRJ\n",
              "CA8PFwRBEG7evClYW1tXz7DVrDzbJiIiQvDw8HjuMkPeZ/6udevWwvbt2wVB0N99prCwUPjtt98E\n",
              "tVotCIIgLFmyRAgICPjH7XJzc4U6deoIly9fFgRBEKZMmSJMmzbtX5fpsvJum6SkJCExMVEQBEFQ\n",
              "KpXCO++8I3z++eelywEIjx8/roaJq0d5t8vLnjOGvs/83RtvvCEsWLCg9Gd922cEQSizPjt37hTc\n",
              "3d3/cRtt7hm9OnLp7+8PBweHl95m+/bt6NevH+rVqweJRIKJEydi06ZN/7pMl5Vnu7Rt2xbOzs4A\n",
              "ADMzM3h6eiIlJaUaphNXebbNyxjyPvOsmJgYZGZmol+/flU4lfjMzMzQp08fSCQSAICfn99znycH\n",
              "DhxA27Zt0bJlSwDA5MmTS/eLly3TZeXdNi4uLnB3dwcAyGQyeHt76/XfNeXdLi9j6PvMs9LT03Hk\n",
              "yBGMGjWqGiYUj42NTemfs7OzS7fRs7S5Z/QqLsvj1q1baNy4cenPTk5OuHXr1r8uMyR3797F9u3b\n",
              "8eabb5Zel5+fD29vb3h5eeGrr76CSqUSccLql5ycDC8vL3h7e2Pp0qWl13OfKbFy5UqMGjUKxsbG\n",
              "pdcZwj6zePFi9O/f/x/XP2+/yMjIgFKpfOkyffKibfOs/Px8rFix4h+369q1Kzw8PBASEoL8/Pyq\n",
              "HLPavWy7vOg5w33mL6tXr0afPn1Qp06dMtfr4z4TFBSERo0aYc6cOVi3bt0/lmtzzxhcXNLL5eTk\n",
              "oG/fvpgxYwbat28PAKhfvz7u3LmDuLg4HD58GMePH8f3338v8qTVx8vLC7dv38aZM2ewa9cuLFu2\n",
              "DFu3bhV7LK2Rn5+PzZs3Y+zYsaXXGcI+88033+D69euYN2+e2KNonfJsm+LiYgwZMgQ9evTAwIED\n",
              "S69PTU1FfHw8Tp48ifv372P69OnVMXK1eNl2MYTnzMuUZ58RBAGrVq0q83cNoL/7zNq1a5GWloa5\n",
              "c+di5syZYo9TIQYXl46OjkhNTS39OSUlBY6Ojv+6zBDk5uaiV69e6N+/P0JCQkqvNzU1Lf2/RFtb\n",
              "W4wZM0Yv3jBdXlZWVrC2tgYAODg4YNiwYaXrb+j7DABs27YNrVu3hqura+l1+r7PLFiwADt37sSB\n",
              "AwdgYWHxj+XP2y/q168PIyOjly7TB/+2bQBAoVBgyJAhqF+/PhYvXlxm2dPnj6WlJSZPnqw3+82/\n",
              "bZeXPWe4z5SIiopCUVERevbsWeZ6fd1nnho9ejQiIiLw8OHDMtdrc88YXFy+9dZb+PXXX3H37l0I\n",
              "goBly5Zh6NCh/7pM3+Xl5aFXr17o1asXZs+eXWZZZmZm6VlmcrkcO3fuRNu2bcUYUxQZGRmlZ87n\n",
              "5uZi3759petvyPvMUytXrvzHkQR93mdCQ0OxadMmHDp0qMz7op7Vq1cvnDlzBleuXAEALF26tHS/\n",
              "eNkyXVeebaNUKjF06FDY2toiLCyszHvJHj9+jIKCAgCAWq3Gli1b9GK/Kc92edlzxtD3madWrlyJ\n",
              "4OBgyGSy0uv0cZ/JyspCenp66c+7d++GnZ0dbG1ty9xOq3um2k4dqgYTJkwQGjZsKMhkMqFOnTpC\n",
              "06ZNBUEQhLFjxwp79uwpvV1YWJjg7OwsODs7C2PGjBGKi4vLtUxXlWe7zJ07VzAyMhI8PDxKL3Pn\n",
              "zhUEQRB27NghtG7dWnB3dxdcXV2F999/XygqKhJtfTSpPNtmyZIlgqura+n6f/7556VnNwqC4e4z\n",
              "giAIV65cEWrUqCHk5OSUub++7jNpaWkCAMHZ2bn0eeLj4yMIgiDMmTNH+Pnnn0tvu2fPHqFFixZC\n",
              "06ZNhf79+wtZWVnlWqaryrtt1q9fLwAQ3N3dS283efJkQRAE4eTJk4Kbm1vpfjNy5Ejh4cOHoq2T\n",
              "JpR3u/zbc8aQ9xlBEISsrCzBwsKi9FNNntLHfSYlJUXw9vYW2rRpI7i7uwtdu3Yt/dQOXekZfrc4\n",
              "EREREWmMwb0sTkRERERVh3FJRERERBrDuCQiIiIijWFcEhEREZHGMC6JiIiISGMYl0RERESkMYxL\n",
              "IiIiItIYxiURERERaQzjkoiIiIg0hnFJRERERBrDuCQiIiIijfl/JreVG/hphosAAAAASUVORK5C\n",
              "YII=\n",
              "\">\n",
              "      </div>\n",
              "      <script type=\"text/javascript\">\n",
              "        (() => {\n",
              "          const chartElement = document.getElementById(\"chart-e3e538ed-4502-4210-8146-6f3ffbac992c\");\n",
              "          async function getCodeForChartHandler(event) {\n",
              "            const chartCodeResponse =  await google.colab.kernel.invokeFunction(\n",
              "                'getCodeForChart', [\"chart-e3e538ed-4502-4210-8146-6f3ffbac992c\"], {});\n",
              "            const responseJson = chartCodeResponse.data['application/json'];\n",
              "            await google.colab.notebook.addCell(responseJson.code, 'code');\n",
              "          }\n",
              "          chartElement.onclick = getCodeForChartHandler;\n",
              "        })();\n",
              "      </script>\n",
              "      <style>\n",
              "        .colab-quickchart-chart-with-code  {\n",
              "            display: block;\n",
              "            float: left;\n",
              "            border: 1px solid transparent;\n",
              "        }\n",
              "\n",
              "        .colab-quickchart-chart-with-code:hover {\n",
              "            cursor: pointer;\n",
              "            border: 1px solid #aaa;\n",
              "        }\n",
              "      </style>"
            ]
          },
          "metadata": {}
        },
        {
          "output_type": "display_data",
          "data": {
            "text/plain": [
              "<google.colab._quickchart_helpers.SectionTitle at 0x789f6d089b10>"
            ],
            "text/html": [
              "<h4 class=\"colab-quickchart-section-title\">2-d categorical distributions</h4>\n",
              "<style>\n",
              "  .colab-quickchart-section-title {\n",
              "      clear: both;\n",
              "  }\n",
              "</style>"
            ]
          },
          "metadata": {}
        },
        {
          "output_type": "display_data",
          "data": {
            "text/plain": [
              "from matplotlib import pyplot as plt\n",
              "import seaborn as sns\n",
              "import pandas as pd\n",
              "plt.subplots(figsize=(8, 8))\n",
              "df_2dhist = pd.DataFrame({\n",
              "    x_label: grp['Cidade'].value_counts()\n",
              "    for x_label, grp in _df_4.groupby('Nome')\n",
              "})\n",
              "sns.heatmap(df_2dhist, cmap='viridis')\n",
              "plt.xlabel('Nome')\n",
              "_ = plt.ylabel('Cidade')"
            ],
            "text/html": [
              "      <div class=\"colab-quickchart-chart-with-code\" id=\"chart-2496ab27-b1aa-4eea-9764-0ad1fa08cb3f\">\n",
              "        <img style=\"width: 180px;\" src=\"data:image/png;base64,iVBORw0KGgoAAAANSUhEUgAAAooAAAKfCAYAAADpb+mkAAAAOXRFWHRTb2Z0d2FyZQBNYXRwbG90\n",
              "bGliIHZlcnNpb24zLjguMCwgaHR0cHM6Ly9tYXRwbG90bGliLm9yZy81sbWrAAAACXBIWXMAAA9h\n",
              "AAAPYQGoP6dpAABDZ0lEQVR4nO3de3gV1d3+/3uSyA4iCaAg0JBECJgvCeaAeOAUUASCEhCwREUb\n",
              "DRDACn0CgqmiSUGibT2grQ1ICiqKyKGK2mJFxYYLUSDEUoQKhBCkIHIwAYRNkr1/f/Bz190MkMAM\n",
              "G8b367nmusjM2rPWTinPp/eatcbwer1eAQAAAP8jKNADAAAAwIWJQhEAAACmKBQBAABgikIRAAAA\n",
              "pigUAQAAYIpCEQAAAKYoFAEAAGCKQhEAAACmKBQBAABgikIRAAAgQMaPH6/o6GgZhqGSkhLTNmVl\n",
              "ZerVq5fCw8OVmJhY63phYaHat2+vdu3aadSoUaqqqqrTtbqgUAQAAAiQYcOGadWqVYqKijplm7Cw\n",
              "ME2fPl2vv/56rWs7duzQ1KlTVVRUpG3btumbb77R7Nmzz3itrigUAQAAAqRnz56KiIg4bZtmzZqp\n",
              "e/fuatSoUa1rixcvVlpamlq2bCnDMDRmzBgtWLDgjNfqKqRerQEAAHBabrdbbrfb75zL5ZLL5bK8\n",
              "r/Lycr80Mjo6WuXl5We8VlcUisBZaDvzmUAPAaildEJ2oIcAXDA8ezsErO/8gruUl5fnd+7xxx9X\n",
              "bm5uYAZ0DigUAQAALJSTk6PsbP//4WZHmihJkZGR2r59u+/nsrIyRUZGnvFaXfGMIgAAcBxPAP/P\n",
              "5XIpLCzM77CrUBw6dKiWLVumvXv3yuv1qqCgQOnp6We8VlcUigAAAAGSlZWliIgIff311+rXr59i\n",
              "YmIkSSNHjtSyZcskSd9//70iIiJ0xx136Msvv1RERIRycnIkSW3btlVeXp66deummJgYNW/eXFlZ\n",
              "WWe8VleG1+v1Wvh9gZ8EnlHEhYhnFIH/qt4bE7C+Q1puC1jfVuMZRQAA4Dg1Xk/A+nZSccXUMwAA\n",
              "AEw5qegFAACQJHnEk3VWIFEEAACAKQpFAAAAmGLqGQAAOI5HgVvM4iQkigAAADBFoggAABynhm2i\n",
              "LUGiCAAAAFMkigAAwHHYHscaJIoAAAAwRaEIAAAAU0w9AwAAx6lh6tkSJIoAAAAwRaIIAAAch8Us\n",
              "1iBRBAAAgCkKRQAAAJhi6hkAADgOb2axBokiAAAATJEoAgAAx/EEegAOQaIIAAAAUySKAADAcdhw\n",
              "2xokigAAADBFoQgAAABTTD0DAADHqWHm2RIkigAAADBFoggAAByH7XGsQaIIAAAAUxSKAAAAMMXU\n",
              "MwAAcJwaGYEegiOQKAIAAMAUiSIAAHAcD9vjWIJEEQAAAKZIFAEAgOPwjKI1SBQBAABgikIRAAAA\n",
              "pph6BgAAjsPUszVIFAEAAGCKRBEAADiOx0uiaAUSRQAAAJiiUAQAAIAppp4BAIDjsJjFGiSKAAAA\n",
              "MEWiCAAAHKeGLMwS/BYBAABgikQRAAA4DtvjWINEEQAAAKYoFAEAAGCKqWcAAOA4bI9jDRJFAAAA\n",
              "mCJRBAAAjlPjJQuzAr9FAAAAmKJQBAAAgCmmngEAgON4yMIswW8RAAAApkgUAQCA47A9jjVIFAEA\n",
              "AGCKRBEAADgO2+NYw9bfYlVVlbZv325nFwAAALCJbYXiypUrFRUVpd69e0uS1q5dqxEjRtjVHQAA\n",
              "ACxmW6H48MMPq6ioSJdffrkkqUuXLtqwYYNd3QEAAPh4ZATscBLbCsWamhq1a9fO71yDBg3s6g4A\n",
              "AAAWs20xS2hoqI4cOSLDOFlZb9y4UQ0bNrSrOwAAAJ8aNnaxhG2F4tSpU9W3b1/t3r1bI0aM0IoV\n",
              "K/T666/b1R0AAAAsZluh2LdvX7Vv317Lly+X1+tVXl5eraloAAAAXLhsy2WnT5+uq666SmPHjtW4\n",
              "cePUrl07TZ8+3a7uAAAAfGq8QQE7nMS2b7N06dI6nQMAAMCFyfKp5/fff1/Lly/X7t27lZ2d7Ttf\n",
              "UVFhdVcAAACmPCxmsYTlv8XQ0FA1adJEQUFBCg8P9x3x8fEkigAAAD8yfvx4RUdHyzAMlZSUnLJd\n",
              "YWGh2rdvr3bt2mnUqFGqqqqSJM2dO1eJiYm+44orrtCQIUMkSWVlZQoODva7Xt835lmeKKakpCgl\n",
              "JUWDBw9WQkKC1bcHAAA4oxrvxbHx9bBhwzR58mR17979lG127NihqVOnqri4WFdeeaUGDRqk2bNn\n",
              "64EHHtB9992n++67z9c2Pj5ed999t+/nxo0bn7YAPRPbVj3HxcVp4cKF2r59u6qrq33nH3vsMbu6\n",
              "BAAAuKj07NnzjG0WL16stLQ0tWzZUpI0ZswYzZgxQw888IBfu88++0z79u1TWlqaZeOzrVBMT0/X\n",
              "3r17dd111yk4ONiubgAAAC4obrdbbrfb75zL5ZLL5Tqr+5WXlysqKsr3c3R0tMrLy2u1Kyws1D33\n",
              "3KNLLrnEd+7o0aPq0qWLampqNHjwYD3yyCP1qstsKxQ3btyoLVu2+N7MAgAAcL4E8s0s+fn5ysvL\n",
              "8zv3+OOPKzc317Y+jx49qjfeeENr1qzxnWvVqpV2796tFi1a6ODBgxo+fLiefvppTZ48uc73te23\n",
              "2KZNG504ccKu2wMAAFyQcnJyVFFR4Xfk5OSc9f0iIyO1c+dO389lZWWKjIz0a7No0SLFxcWpY8eO\n",
              "vnMul0stWrSQJDVr1kz333+/ioqK6tW3bYliTEyMevXqpdtvv12hoaG+8+PHj7erSwAAAEmSJ4Ab\n",
              "X5/LNLOZoUOHqnv37srNzdWVV16pgoICpaen+7UpLCxUZmam37l9+/apadOmuuSSS+R2u7V06VIl\n",
              "JSXVq2/bfotut1uxsbHavHmzNmzYoA0bNpzTqhsAAACnycrKUkREhL7++mv169dPMTExkqSRI0dq\n",
              "2bJlkqS2bdsqLy9P3bp1U0xMjJo3b66srCzfPf7973+rpKREw4cP97v3qlWrlJSUpISEBCUnJ6tl\n",
              "y5Z65JFH6jU+w+v1es/xOwI/OW1nPhPoIQC1lE7IPnMj4Cdi4bYuAet7eMzagPVtNdumnqurq/Xs\n",
              "s8/qgw8+kCT169dPEyZMUEiIbV0CAABICuxiFiexrWrLzs7W9u3bNW7cOBmGoTlz5mjnzp16/vnn\n",
              "7eoSAAAAFrKtUFy5cqVKSkoUFHSyor/11luVnJxsV3cAAAA+F8ubWS50tuWyXq9XHo/H72cehwQA\n",
              "ALh42JYo9u/fX3379lVGRoYk6ZVXXlFqaqpd3QEAAMBithWKTz31lGbNmuVb2j1s2DCNHj3aru4A\n",
              "AAB8PCxmsYRtheLu3bs1duxYjR071ndu7969vhdaAwAA4MJmW7kdFRWl0aNH+z2nOGDAALu6AwAA\n",
              "8KnxBgXscBLbvk1cXJwMw9Btt92mY8eOSRKLWQAAAC4ithWKl1xyiWbNmqWuXbuqR48e+uabb2QY\n",
              "LFUHAAD288gI2OEktj2j+EN6+OijjyoyMlI9evTwJYsAAAC48NmWKA4ZMsT353vvvVcvvvii2rdv\n",
              "b1d3AAAAsJhtieLUqVP9fu7Tp4/69OljV3cAAAA+TltUEiiWF4oTJ07U008/rdtvv930mcSlS5da\n",
              "3SUAAABsYHmh2KtXL0nS4MGDrb41AABAndSw4bYlLC8UBw4cqJqaGn355Zd66qmnrL49AAAAzhNb\n",
              "yu3g4GB9/PHHdtwaAAAA54ltueyAAQP0xBNP6D//+Y8qKyt9BwAAgN08XiNgh5PYtur5N7/5jST/\n",
              "1c+GYaimpsauLgEAAGAh2wrFH7/jGQAA4HxiMYs1bCsUJWnXrl0qKiqSJKWkpOhnP/vZGT/jdrvl\n",
              "drv9zrlcLrlcLlvGCAAAAHO2ldtvv/22kpKS9Oabb2rRokVKSkrSO++8c8bP5efnKzw83O/Iz8+3\n",
              "a5gAAMCBPN6ggB1OYluimJeXpzVr1igmJkaStG3bNv385z/XwIEDT/u5nJwcZWdn+50jTQQAADj/\n",
              "bCsUa2pqfEWiJMXExNTpuUWmmQEAAC4MtuWjLVq00Jw5c+TxeOTxeFRYWKjmzZvb1R0AAIBPjYyA\n",
              "HU5iW6FYUFCgOXPmKDQ0VA0bNtScOXNUUFBgV3cAAACwmG1Tz+3atdOaNWt05MgRSdJll11mV1cA\n",
              "AAB+nLaoJFAsLxT/+c9/nvb6NddcY3WXAAAAsIHlheKgQYNkGIa8Xq/27NmjVq1a+a4ZhqHS0lKr\n",
              "uwQAAIANLC8Ud+zY4ftzUlKSNmzYYHUXAAAAp+W0RSWBYusEvmHwHxIAAMDFytZX+AEAAAQCi1ms\n",
              "YXmhWFlZ6ftzTU2NDh8+LK/X6zsXFhZmdZcAAACwgeWFYpMmTXyLWSQpPDzc97NhGKqpqbG6SwAA\n",
              "AD81JIqWsLxQrMtr+gAAAHDho9wGAACAKRazAAAAx/GwPY4lSBQBAABgikQRAAA4DotZrGFboVhd\n",
              "Xa1nn31WH3zwgSSpb9+++tWvfqWQEGpTAACAi4FtVVt2dra2b9+ucePGyTAMzZkzR+Xl5Xr++eft\n",
              "6hIAAAAWsq1QXLlypUpKShQUdDL6vfXWW5WcnGxXdwAAAD4eL4tZrGDbBL7X6/XbU9Hr9fq9oQUA\n",
              "AAAXNtsSxf79+6tv377KyMiQJL3yyitKTU21qzsAAACfGjZ2sYRtheJTTz2lWbNmadmyZZKkYcOG\n",
              "afTo0XZ1BwAAAIvZVigGBQVp7NixGjt2rF1dAAAAmOIZRWtYXihmZ2ef9vozzzxjdZcAAACwgeWF\n",
              "Ynh4uNW3BAAAQABYXig+/vjjVt8SAACgXjwsZrGEbb/FXbt26bbbblNiYqIkqaSkRM8++6xd3QEA\n",
              "AMBithWKWVlZSk9P9+2dGB8frz//+c92dQcAAOBT4zUCdjiJbYXivn37NGLECN+bWUJCQnjPMwAA\n",
              "wEXEtkIxJCTE700shw4d4s0sAAAAFxHbIr477rhDWVlZqqys1Jw5c1RQUKCRI0fa1R0AAIAP+yha\n",
              "w7ZCceLEiVqwYIEqKir097//XdnZ2brrrrvs6g4AAAAWs/WhwTvvvFN33nmnnV0AAADU4vGyPY4V\n",
              "LP8tHjt2TH/605/0xhtvyOPx6KGHHlKnTp00bNgw7d692+ruAAAAYBPLE8VRo0bpu+++0/fff6/C\n",
              "wkJFRUXpt7/9rT766CONGTNG77zzjtVdAgAA+KkRzyhawfJCsbi4WF9++aWOHz+uVq1a6f3331dQ\n",
              "UJBSU1PVqVMnq7sDAACATSyfena5XJKk0NBQRUdH+/ZRlKRLLrnE6u4AAABgE8sTxePHj2vjxo3y\n",
              "er1+f5ZOPr8IAABgN7bHsYblheKxY8eUlpbm+/nHfzYM/kMDAAC4WFheKJaVlVl9SwAAgHphexxr\n",
              "8FsEAACAKQpFAAAAmLL1zSwAAACB4GEfRUuQKAIAAMAUiSIAAHCcGrbHsQSJIgAAQICMHz9e0dHR\n",
              "MgxDJSUlp2xXWFio9u3bq127dho1apSqqqokSStXrlTDhg2VmJjoO368b/WpPldXFIoAAMBxPN6g\n",
              "gB31MWzYMK1atUpRUVGnbLNjxw5NnTpVRUVF2rZtm7755hvNnj3bd/3qq69WSUmJ72jYsGGdPlcX\n",
              "FIoAAAAB0rNnT0VERJy2zeLFi5WWlqaWLVvKMAyNGTNGCxYsOOO9z/ZzP0ahCAAAYCG3263Kykq/\n",
              "w+12n/X9ysvL/RLH6OholZeX+37evn27kpOT1aVLF7344ot1/lxdUCgCAADH8XiNgB35+fkKDw/3\n",
              "O/Lz8235nsnJyfr6669VXFysv/zlLyooKNCbb75p2f0pFAEAACyUk5OjiooKvyMnJ+es7xcZGamd\n",
              "O3f6fi4rK1NkZKQkKSwsTOHh4ZKkiIgI3XnnnSoqKjrj5+qKQhEAADiOR0bADpfLpbCwML/D5XKd\n",
              "9XcZOnSoli1bpr1798rr9aqgoEDp6emSpD179sjj8UiSDh8+rHfffVdJSUln/FxdUSgCAAAESFZW\n",
              "liIiIvT111+rX79+iomJkSSNHDlSy5YtkyS1bdtWeXl56tatm2JiYtS8eXNlZWVJkpYsWaJOnTop\n",
              "ISFBN9xwg2655Rbdd999Z/xcXRler9dr4fcFfhLaznwm0EMAaimdkB3oIQAXjLs/GxWwvl+7/qWA\n",
              "9W013swCAAAcx8ObWSzB1DMAAABMkSgCAADHqe8bUmCO3yIAAABMUSgCAADAFFPPAADAcVjMYg0S\n",
              "RQAAAJgiUQQAAI7jEYmiFUgUAQAAYIpEEQAAOA7PKFqDRBEAAACmKBQBAABgiqlnAADgOEw9W4NE\n",
              "EQAAAKZIFAEAgOOQKFqDRBEAAACmKBQBAABgiqlnAADgOEw9W4NEEQAAAKZIFAEAgOPwrmdrkCgC\n",
              "AADAFIkiAABwHJ5RtAaJIgAAAExRKAIAAMAUU88AAMBxmHq2BokiAAAATJEoAgAAxyFRtAaJIgAA\n",
              "AExRKAIAAMAUU88AAMBxmHq2BokiAAAATJEoAgAAx/GSKFqCRBEAAACmSBQBAIDjeESiaAUSRQAA\n",
              "AJiiUAQAAIAppp4BAIDjsD2ONUgUAQAAYIpEEQAAOA7b41iDRBEAAACmKBQBAABgiqlnAADgOCxm\n",
              "sQaJIgAAAEyRKAIAAMdhMYs1SBQBAABgikQRAAA4Ds8oWoNCETgLpROyAz0EoJa2M58J9BAAP/xb\n",
              "efFj6hkAAACmSBQBAIDjeL2BHoEzkCgCAADAFIkiAABwHI9YzGIFEkUAAACYolAEAACAKaaeAQCA\n",
              "4/BmFmuQKAIAAMAUiSIAAHAc3sxiDRJFAAAAmCJRBAAAjsOG29YgUQQAAIApCkUAAACYYuoZAAA4\n",
              "DtvjWINEEQAAAKZIFAEAgOOQKFqDRBEAAACmKBQBAABgiqlnAADgOLyZxRokigAAADBFoggAAByH\n",
              "N7NYg0QRAAAgQMaPH6/o6GgZhqGSkpJTtissLFT79u3Vrl07jRo1SlVVVZKkjz76SNddd506duyo\n",
              "uLg4TZ48WR6PR5JUVlam4OBgJSYm+o7t27fXa3wUigAAwHG8XiNgR30MGzZMq1atUlRU1Cnb7Nix\n",
              "Q1OnTlVRUZG2bdumb775RrNnz5YkNW3aVG+88Ya+/PJLrV+/XqtXr9Yrr7zi+2zjxo1VUlLiO9q1\n",
              "a1ev8VEoAgAABEjPnj0VERFx2jaLFy9WWlqaWrZsKcMwNGbMGC1YsECSlJSUpLZt20qSQkNDlZiY\n",
              "qLKyMsvGxzOKAAAAFnK73XK73X7nXC6XXC7XWd2vvLzcL3GMjo5WeXl5rXZ79+7V4sWL9e677/rO\n",
              "HT16VF26dFFNTY0GDx6sRx55RMHBwXXum0QRAAA4TiCnnvPz8xUeHu535Ofn2/p9KysrNXDgQE2e\n",
              "PFnXXnutJKlVq1bavXu31q5dqxUrVqioqEhPP/10ve5LoQgAAGChnJwcVVRU+B05OTlnfb/IyEjt\n",
              "3LnT93NZWZkiIyN9Px8+fFj9+/fXoEGDlJ2d7TvvcrnUokULSVKzZs10//33q6ioqF59UygCAADH\n",
              "8QbwcLlcCgsL8zvOdtpZkoYOHaply5Zp79698nq9KigoUHp6uiTpyJEj6t+/v/r3769HH33U73P7\n",
              "9u3zrY52u91aunSpkpKS6tU3hSIAAECAZGVlKSIiQl9//bX69eunmJgYSdLIkSO1bNkySVLbtm2V\n",
              "l5enbt26KSYmRs2bN1dWVpYkaebMmfr888+1dOlS3xY4TzzxhCRp1apVSkpKUkJCgpKTk9WyZUs9\n",
              "8sgj9Rqf4fWyJSUAOEHbmc8EegiAn9IJ2WduZJOrl/4mYH3/e8hjAevbaqx6BgAAjlPf/Qxhjqln\n",
              "AAAAmCJRBAAAzsODdZYgUQQAAIApCkUAAACYYuoZAAA4DotZrEGiCAAAAFMkigAAwHHYJdoaJIoA\n",
              "AAAwRaIIAAAch2cUrUGiCAAAAFMUigAAADDF1DMAAHAepp4tQaIIAAAAUySKAADAcdgexxokigAA\n",
              "ADBFoQgAAABTTD0DAADnYerZEiSKAAAAMEWiCAAAHIc3s1iDRBEAAACmSBQBAIDz8IyiJUgUAQAA\n",
              "YIpCEQAAAKaYegYAAI7DYhZrkCgCAADAFIkiAABwHhazWIJEEQAAAKYoFAEAAGCKqWcAAOBALGax\n",
              "AokiAAAATJEoAgAA52ExiyVIFAEAAGCKRBEAADgPiaIlSBQBAABgikIRAAAApph6BgAAzsO7ni1B\n",
              "oggAAABTJIoAAMBxvCxmsQSJIgAAAExRKAIAAMAUU88AAMB5mHq2BIkiAAAATJEoAgAA52F7HEuQ\n",
              "KAIAAMAUiSIAAHAcg2cULUGiCAAAAFMUigAAADDF1DMAAHAepp4tQaIIAAAAUySKAADAedgexxIk\n",
              "igAAADBFoQgAAABTthaKW7duVWpqqlq3bq1mzZr5DgAAAFt5A3g4yFkVinv27NHKlSslSdXV1Tpx\n",
              "4oRpu1GjRikjI0NNmzbVJ598omHDhmnSpElnPVgAAACcP/UuFBcvXqwbbrhBGRkZkqRNmzZp8ODB\n",
              "pm0rKys1fPhwBQUFqVOnTpo1a5beeuutcxguAABAHZAoWqLehWJ+fr6Ki4vVtGlTSVJCQoJ27txp\n",
              "2vaSSy6RJDVu3FhlZWVyu93av3//OQwXAAAA50u9t8cJDg7W5Zdf7neuQYMGpm179uypAwcO6Je/\n",
              "/KU6d+6sBg0aKD09/exGCgAAUFcOS/YCpd6FYuPGjfXNN9/IME7uT/Thhx+ecoHK7373O0nSXXfd\n",
              "pR49eqiiokLx8fHnMFwAAACcL/UuFJ966imlpqaqtLRU3bt3144dO/Tee++dsv2aNWu0YsUKGYah\n",
              "m2+++ZwGCwAAgPOn3oXitddeq48//lirV6+W1+tV165d1aRJE9O2v//97/XCCy9oyJAhkqT09HSN\n",
              "Hz9e2dnZ5zRoAACA0+LNLJY4q1f4hYeHKzU19YztZs+ereLiYt8zjVOnTtUNN9xAoQgAAHARqHOh\n",
              "GBQU5Hsu0UxNTU2tc2FhYX4LX5o1a6awsLB6DhEAAKB+DBazWKLOheLhw4fl9Xr13HPP6dixYxo7\n",
              "dqwkqaCgQA0bNvRr+89//lOSdNNNNykjI0OZmZmSpHnz5qlPnz5WjR0AAAA2Mrxeb71q7s6dO2v9\n",
              "+vWnPXfVVVedukPDUGlpaT2HCQA4k7Yznwn0EAA/pRMC96jZVX94OmB97/jlxID1bbV6P6N4+PBh\n",
              "7du3Ty1atJAk7du3T4cPH/Zrs2PHDmtGBwAAcDaYerZEvQvFiRMnKiEhQQMGDJAkLV++XLm5uX5t\n",
              "jh49qkaNGqmystL0HjynCAAAcOGrd6GYlZWlbt266eOPP5YkZWdnKy4uzq9Njx49VFxcrCZNmsgw\n",
              "DP14dtswDNOFLwAAALiw1Ptdz5IUHx+vBx98UA8++GCtIlGSiouLJUkej0c1NTXyeDy+gyIRAADg\n",
              "pPHjxys6OlqGYaikpOSU7QoLC9W+fXu1a9dOo0aNUlVV1Tlfq4t6F4r79u3T2LFj1bVrVyUnJ/sO\n",
              "M+PGjavTOQAAACsZ3sAd9TFs2DCtWrVKUVFRp2yzY8cOTZ06VUVFRdq2bZu++eYbzZ49+5yu1VW9\n",
              "C8XMzExFR0dr//79ysvLU+vWrXXrrbeatl2zZk2tc6tXr65vlwAAAI7Us2dPRUREnLbN4sWLlZaW\n",
              "ppYtW8owDI0ZM0YLFiw4p2t1Ve9nFHft2qUpU6Zo/vz5GjhwoPr166eUlBRNmzbN12bhwoV64403\n",
              "tGPHDt/r+ySpoqJCl1122Wnv73a75Xa7/c65XC65XK76DhUAAOC8s7qWKS8v90sco6OjVV5efk7X\n",
              "6qreiWKDBg0kSaGhoTpw4IBCQkK0f/9+vzaxsbEaNGiQwsLCNGjQIN/xy1/+Un/9619Pe//8/HyF\n",
              "h4f7Hfn5+fUdJgAA+CnzGgE7nFTL1DtR7NChgw4cOKARI0bo+uuvV1hYmDp37uzXJiEhQQkJCbr1\n",
              "1lvVvHnzet0/Jyen1rugSRMBAMDFwupaJjIyUtu3b/f9XFZWpsjIyHO6Vlf1LhTnz58vSZowYYI6\n",
              "d+6s7777Tv379/dr8/TTT2vixImnrJ6feebUbw9gmhkAAJyzAG64bXUtM3ToUHXv3l25ubm68sor\n",
              "VVBQoPT09HO6VldntT3OD7p3767bbrtNISH+9eYPzyH+b+z6wwEAAICT+1NHRETo66+/Vr9+/RQT\n",
              "EyNJGjlypJYtWyZJatu2rfLy8tStWzfFxMSoefPmysrKOqdrdVXndz0HBQXJMIxTXv/f/RFramr0\n",
              "xz/+UePHj6/XgAAAZ4d3PeNCE8h3Pbd9LnD/fSj9VeC+t9XqPPV8+PBheb1ePffcczp27JjGjh0r\n",
              "SSooKFDDhg1rtQ8ODtYrr7xCoQgAAM4/3vVsiTpPPTdq1EiXXXaZ/vKXv+iJJ55QRESEIiIiNH36\n",
              "dC1dutT0M3369NFrr71m2WABAABw/tR7Mcvhw4e1b98+tWjRQtLJN7UcPnzYtO2sWbNUUVGhzMxM\n",
              "XXrppfJ6vTIMQwcPHjy3UQMAAJxGfd+QAnP1LhQnTpyohIQEDRgwQJK0fPly5ebmmrY93TsLAQAA\n",
              "cGGrd6GYlZWlbt266eOPP5YkZWdnKy4uzrTt6d5bCAAAgAtbvQtFSYqPj1d8fPwZ21111VWmK6VL\n",
              "S0vPplsAAIC6YerZEnUuFO+8804tWLBASUlJpsVfcXFxrXPvvvuu78/Hjx/Xq6++qssvv/wshwoA\n",
              "AIDzqc6F4qRJk1RWVqbnnnvO73xpaamaNWtm+pn/nZLu3LmzunbtqqlTp9Z/pAAAAHVFomiJOheK\n",
              "L730km655RYNHTrU7/yBAwe0fPlyDRo06Iz3OHDggPbu3Vv/UQIAAOC8q3Oh+Pnnn6ugoKDW+SFD\n",
              "hpwyIfzxNHVNTY127typyZMnn+VQAQAA6obtcaxR50Kxurr6lNeCgvz37a6srNTBgwf9pqlDQkIU\n",
              "FBR0yhXSAAAAuLDU+c0sVVVVqqysrHW+oqJCVVVVfucmT56s9evXKyUlxXd069ZNe/bs0ZQpU859\n",
              "1AAAALBdnQvF9PR03XPPPTp06JDv3KFDh3TfffcpPT3dr+3nn39e61lG6eQ09T/+8Y9zGC4AAEAd\n",
              "eI3AHQ5S50Lx0UcfVZMmTdSmTRslJSUpKSlJbdq0UePGjWs9o1ifaWoAAABcmOr8jGJwcLBefvll\n",
              "PfbYY749E5OTk9WuXbtabX+Ypg4LC/M7bzZNDQAAYDkWs1ii3m9madeunWlx+GM/TFPPmzdPTZs2\n",
              "lXRymjozM7PWNDUAAAAuTLbMA9dnmhoAAAAXprN61/OZ1GeaGgAAwGrso2gNWwrFH9RlmhoAAAAX\n",
              "JlsLRQAAgIAgUbQEe9UAAADAFIkiAABwHJ5RtAaJIgAAAExRKAIAAMAUU88AAMB5mHq2BIkiAAAA\n",
              "TJEoAgAA5yFRtASJIgAAAExRKAIAAMAUU88AAMBx2EfRGiSKAAAAMEWhCAAAAFMUigAAADDFM4oA\n",
              "AMB5eEbREiSKAAAAMEWhCAAAAFNMPQMAAMdhexxrkCgCAADAFIkiAABwHhJFS5AoAgAAwBSFIgAA\n",
              "AEwx9QwAAJyHqWdLkCgCAADAFIkiAABwHLbHsQaJIgAAAEyRKAIAAOchUbQEiSIAAABMUSgCAADA\n",
              "FFPPAADAcVjMYg0SRQAAAJgiUQQAAM5DomgJEkUAAACYolAEAACAKaaeAQCA8zD1bAkSRQAAAJgi\n",
              "UQQAAI7D9jjWIFEEAACAKRJFAADgPCSKliBRBAAAgCkKRQAAAJhi6hkAADgPU8+WIFEEAACAKRJF\n",
              "AADgOGyPYw0SRQAAAJiiUAQAAIAppp4BAIDzMPVsCRJFAAAAmCJRBAAAjsNiFmuQKAIAAATI1q1b\n",
              "1bVrV3Xo0EFdunTRpk2barXxeDyaNGmS4uPjFRsbq8zMTJ04cUKS9P777ysxMdF3tG7dWsnJyb7P\n",
              "GoahTp06+a4XFRXVa3wUigAAwHm8ATzqISsrS6NHj9ZXX32lKVOmKCMjo1abwsJCFRcXq7i4WJs3\n",
              "b1ZQUJBmzpwpSerXr59KSkp8R3Jysu6++26/zxcVFfmu9+jRo17jo1AEAAAIgH379mndunUaMWKE\n",
              "JGno0KHatWuXtm3b5tfuiy++UJ8+fdSgQQMZhqHU1FS9+uqrte73n//8Rx9++KHuuecey8ZIoQgA\n",
              "AGAht9utyspKv8Ptdtdqt2vXLrVq1UohISeXjBiGocjISJWXl/u169y5s5YtW6bKykpVVVXpzTff\n",
              "VFlZWa37zZs3TwMGDFCLFi38zt98881KSEhQdna2jh49Wq/vQqEIAACcJ4BTz/n5+QoPD/c78vPz\n",
              "z/qrZGRkqH///kpJSVFKSoo6dOjgKy59X9fr1Z///GdlZmb6nd+5c6fWr1+v1atX69tvv9VDDz1U\n",
              "r74pFAEAACyUk5OjiooKvyMnJ6dWuzZt2mjPnj2qrq6WdLLYKy8vV2RkpF87wzCUm5urDRs2aPXq\n",
              "1erYsaPi4uL82nzyySc6fvy4+vXr53f+h3s1atRI48aNYzELAACAEcDD5XIpLCzM73C5XLXG2KJF\n",
              "CyUnJ2v+/PmSpCVLligiIkIxMTF+7Y4fP65Dhw5Jkvbv368nn3xSkydP9mtTWFiojIwMBQcH+84d\n",
              "OnRI33//vaSTK6cXLlyopKSkev0e2UcRAAAgQGbNmqWMjAzNmDFDYWFhmjt3riRp5MiRSktLU1pa\n",
              "mioqKtSrVy8FBQXJ4/FowoQJGjhwoO8eFRUVWrp0qTZu3Oh37y1btigrK0uGYai6ulrJycm+1dJ1\n",
              "ZXi9XrakBAAHaDvzmUAPAfBTOiE7YH1fk/1swPr+5zP/F7C+rUaiCAAAnIcYzBI8owgAAABTJIoA\n",
              "AMBxeNezNUgUAQAAYIpCEQAAAKaYegYAAM7D1LMlSBQBAABgikQRAAA4D4miJUgUAQAAYIpEEQAA\n",
              "OA7b41iDRBEAAACmKBQBAABgiqlnAADgPEw9W4JEEQAAAKZIFAEAgOOwmMUaJIoAAAAwRaEIAAAA\n",
              "U0w9AwAA52Hq2RIkigAAADBFoggAAByHxSzWIFEEAACAqYsiUWw785lADwHwUzohO9BDAGrh7yXw\n",
              "IySKliBRBAAAgCkKRQAAAJi6KKaeAQAA6oWpZ0uQKAIAAMAUiSIAAHActsexBokiAAAATFEoAgAA\n",
              "wBRTzwAAwHmYerYEiSIAAABMkSgCAADHMbxEilYgUQQAAIApEkUAAOA8BIqWIFEEAACAKQpFAAAA\n",
              "mGLqGQAAOA5vZrEGiSIAAABMkSgCAADnIVG0BIkiAAAATFEoAgAAwBRTzwAAwHFYzGINEkUAAACY\n",
              "IlEEAADOQ6JoCRJFAAAAmCJRBAAAjsMzitYgUQQAAIApCkUAAACYYuoZAAA4D1PPliBRBAAAgCkS\n",
              "RQAA4DgsZrEGiSIAAABMUSgCAADAFFPPAADAebzMPVuBRBEAAACmSBQBAIDjsJjFGiSKAAAAMEWi\n",
              "CAAAnIdE0RIkigAAADBFoQgAAABTTD0DAADHMTyBHoEzkCgCAADAFIkiAABwHhazWIJEEQAAAKYo\n",
              "FAEAAGCKqWcAAOA4vJnFGiSKAAAAMEWiCAAAnMdLpGgFEkUAAIAA2bp1q7p27aoOHTqoS5cu2rRp\n",
              "U602Ho9HkyZNUnx8vGJjY5WZmakTJ05IksrKyhQcHKzExETfsX37dt9n3333XcXGxqp9+/YaMmSI\n",
              "Kisr6zU+CkUAAOA4hjdwR31kZWVp9OjR+uqrrzRlyhRlZGTUalNYWKji4mIVFxdr8+bNCgoK0syZ\n",
              "M33XGzdurJKSEt/Rrl07SdKRI0eUmZmpt956S1u3blXr1q01bdq0eo2PQhEAACAA9u3bp3Xr1mnE\n",
              "iBGSpKFDh2rXrl3atm2bX7svvvhCffr0UYMGDWQYhlJTU/Xqq6+e8f5/+9vflJSUpNjYWEnSuHHj\n",
              "tGDBgnqNkUIRAADAQm63W5WVlX6H2+2u1W7Xrl1q1aqVQkJOLhkxDEORkZEqLy/3a9e5c2ctW7ZM\n",
              "lZWVqqqq0ptvvqmysjLf9aNHj6pLly5KTk7Wb37zG9XU1EiSysvLFRUV5WsXHR2tPXv2qLq6us7f\n",
              "hUIRAAA4jzdwR35+vsLDw/2O/Pz8s/4qGRkZ6t+/v1JSUpSSkqIOHTr4istWrVpp9+7dWrt2rVas\n",
              "WKGioiI9/fTTZ93X/6JQBAAAsFBOTo4qKir8jpycnFrt2rRp45fweb1elZeXKzIy0q+dYRjKzc3V\n",
              "hg0btHr1anXs2FFxcXGSJJfLpRYtWkiSmjVrpvvvv19FRUWSpMjISO3cudN3n7KyMr8Esy4oFAEA\n",
              "gOMEcjGLy+VSWFiY3+FyuWqNsUWLFkpOTtb8+fMlSUuWLFFERIRiYmL82h0/flyHDh2SJO3fv19P\n",
              "PvmkJk+eLOnkc45VVVWSTk55L126VElJSZKk/v37q7i4WFu2bJEkvfjii0pPT6/X75F9FAEAAAJk\n",
              "1qxZysjI0IwZMxQWFqa5c+dKkkaOHKm0tDSlpaWpoqJCvXr1UlBQkDwejyZMmKCBAwdKklatWqXH\n",
              "HntMwcHBqq6u1k033aRHHnlE0snV0HPmzNHgwYNVXV2t+Ph4vfzyy/Uan+H1Xvg7Urad+UyghwD4\n",
              "KZ2QHeghAABOo8ftvw9Y30V/mRSwvq1GoggAAJznws/BLgo8owgAAABTJIoAAMBx6vuGFJgjUQQA\n",
              "AIApCkUAAACYYuoZAAA4D1PPliBRBAAAgCkSRQAA4DgsZrEGiSIAAABM2Zoo7tq1y/di6p49eyoi\n",
              "IsLO7gAAAE7yEClawbZE8e2331ZSUpIWLVqkRYsWKTk5We+8845d3QEAAMBitiWKeXl5WrNmjWJi\n",
              "YiRJ27Zt089//nPfS6wBAABwYbOtUKypqfEViZIUExMjj8djV3cAAAD/xcyzJWybem7RooXmzJkj\n",
              "j8cjj8ejwsJCNW/e3K7uAAAAYDHbEsWCggLdfffdeuCBByRJycnJeu211+zqDgAAwIftcaxhS6FY\n",
              "U1Oj9957T2vWrNGRI0ckSZdddpkdXQEAAMAmtkw9BwcH6+WXX5Z0skCkSAQAALj42PaM4i233MJU\n",
              "MwAACAyvN3CHg9j2jOKsWbNUUVGhzMxMXXrppfJ6vTIMQwcPHrSrSwAAAFjItkKxpKTErlsDAACc\n",
              "FotZrGFboRgVFWXXrQEAAHAeWF4o3nnnnVqwYIGSkpJkGEat68XFxVZ3CQAA4I9E0RKWF4qTJk2S\n",
              "JD333HNW3xoAAADnkeWFYufOnSVJKSkpqqqqUnl5udq1a2d1NwAAALCZbdvjrFy5UlFRUerdu7ck\n",
              "ae3atRoxYoRd3QEAAPgYXm/ADiexrVB8+OGHVVRUpMsvv1yS1KVLF23YsMGu7gAAAGAx21Y919TU\n",
              "1JpybtCggV3dAQAA/Jcn0ANwBtsSxdDQUB05csS38nnjxo1q2LChXd0BAADAYrYlilOnTlXfvn21\n",
              "e/dujRgxQitWrNDrr79uV3cAAACwmG2FYt++fdW+fXstX75cXq9XeXl5rH4GAADnhdMWlQSKbYWi\n",
              "JF111VUaO3asnV0AAADAJrYVisXFxfr1r3+t0tJSVVdX+86Xlpba1SUAAMBJBIqWsK1Q/MUvfqFf\n",
              "/vKXuvHGGxUcHGxXNwAAALCJbYVicHCwsrKy7Lo9AADAqfGMoiVs2x6nW7duWrdunV23BwAAgM1s\n",
              "SxT/8Y9/6KWXXlJMTIxCQ0N954uLi+3qEgAAABayrVD8wx/+YNetAQAATstg5tkSthWKKSkpdt0a\n",
              "AAAA54FtheKxY8f0wgsvqKSkRMePH/edX7p0qV1dAgAAnMRiFkvYtphl1KhRKisr0+rVq9W7d2/t\n",
              "3LlTUVFRdnUHAAAAi9lWKH7xxRd68cUXFRYWpgcffFArV67U+vXr7eoOAAAAFrNt6rlhw4YnOwgJ\n",
              "0dGjR9W4cWN9++23dnUHAADgY3gCPQJnsK1QbNasmQ4dOqQBAwaoX79+uuKKKxQREWFXdwAAALCY\n",
              "bYXie++9p+DgYE2bNk2vvfaavvvuO9177712dQcAAPBfLGaxhK2v8JMkwzA0YsQIu7oBAACATSwv\n",
              "FJOSkmQYhum10NBQdejQQY8++qhiYmJM27jdbrndbr9z3upqGSG21bQAAMBpCBQtYXn19dxzz53y\n",
              "WnV1tTZs2KB77rlHn376qWmb/Px85eXl+Z1r0q+vmqb2s3KYAAAAOAPD6z3/k/i9evXSypUrTa+Z\n",
              "JYoJLxWQKOKCUjohO9BDAACcxi1dpwes7w9WPxqwvq0WkOrrVEWiJLlcLrlcLr9zFIkAAKA+DBaz\n",
              "WMK2DbcBAABwcSOqAwAAzkOiaAlbE8UlS5ZoxowZkqTdu3dr48aNdnYHAAAAC9lWKD722GOaM2eO\n",
              "5s2bd7KjoCBlZWXZ1R0AAAAsZtvU89tvv63i4mJde+21kqRWrVrpyJEjdnUHAADwX7zr2RK2JYoN\n",
              "Gzb0vZ3lBwHYiQcAAABnybZEMSoqSkVFRTIMQ1VVVZoxY4YSExPt6g4AAMCH7XGsYVuh+Pzzz+sX\n",
              "v/iFNm7cqEaNGql379567bXX7OoOAAAAFrOtULzyyiu1fPlyff/99/J6vWrUqJFdXQEAAPgjUbSE\n",
              "5YXiP/7xj9Ne79mzp9VdAgAAwAaWF4oTJ06UJNXU1KikpERt27aVYRjavn27EhMTVVxcbHWXAAAA\n",
              "sIHlq57Xrl2rtWvXKjExUe+//762bdumrVu36u9//7uSk5Ot7g4AAKA2rzdwh4PYtj3OunXrdMst\n",
              "t/h+7tOnj9auXWtXdwAAALCYbYVicHCwPv74Y9/Pn3zyiYKCbH1jIAAAwEmeAB4OYtuq5z/+8Y9K\n",
              "T0/XJZdcIkmqrq7WwoUL7eoOAAAAFrOtUOzatau2b9+uLVu2SJJiY2N9RSMAAAAufLYVipJ0ySWX\n",
              "qFOnTnZ2AQAAUAtvZrEGDw0CAADAlK2JIgAAQECQKFrC9kTR6/XKy39YAAAAtWzdulVdu3ZVhw4d\n",
              "1KVLF23atKlWG4/Ho0mTJik+Pl6xsbHKzMzUiRMnJEkbN25Uz549FRsbq/j4eN1///06duyY77OG\n",
              "YahTp05KTExUYmKiioqK6jU+2wrFPXv2aMCAAWrYsKEuvfRS3XbbbdqzZ49d3QEAAPzXRbLhdlZW\n",
              "lkaPHq2vvvpKU6ZMUUZGRq02hYWFKi4uVnFxsTZv3qygoCDNnDlTkhQaGqo//OEP2rJli7744gsd\n",
              "PXpUTz31lN/ni4qKVFJSopKSEvXo0aNe47OtUBw9erS6d++uvXv3as+ePerevbtGjx5tV3cAAAAX\n",
              "lX379mndunUaMWKEJGno0KHatWuXtm3b5tfuiy++UJ8+fdSgQQMZhqHU1FS9+uqrkqT27dvrmmuu\n",
              "kXRyD+suXbqorKzMsjHaViju2rVLv/71r9WkSRM1adJEDz/8sHbt2mVXdwAAABcEt9utyspKv8Pt\n",
              "dtdqt2vXLrVq1UohISeXjBiGocjISJWXl/u169y5s5YtW6bKykpVVVXpzTffNC0Gjx49qjlz5mjQ\n",
              "oEF+52+++WYlJCQoOztbR48erdd3sa1Q9Hq92rt3r+/nvXv38qwiAAA4PwI49Zyfn6/w8HC/Iz8/\n",
              "/6y/SkZGhvr376+UlBSlpKSoQ4cOvuLyBydOnNDw4cPVt29f3X777b7zO3fu1Pr167V69Wp9++23\n",
              "euihh+rVt22rnidNmqSkpCSlpqZKkpYvX67f/e53dnUHAABwQcjJyVF2drbfOZfLVatdmzZttGfP\n",
              "HlVXVyskJERer1fl5eWKjIz0a2cYhnJzc5WbmytJeuONNxQXF+e7XlVVpeHDh6tVq1a+Zxd/8MO9\n",
              "GjVqpHHjxtX7MUDbCsV77rlHSUlJWrlypSRp4sSJfl8KAADANgF857LL5TItDP9XixYtlJycrPnz\n",
              "5ysjI0NLlixRRESEYmJi/NodP35cx44dU9OmTbV//349+eSTmjZtmqSTr0hOT09Xs2bNNHv2bBmG\n",
              "4fvcoUOH5HK5dOmll8rj8WjhwoVKSkqq13exdR/F+Ph4xcfH29kFAADARWvWrFnKyMjQjBkzFBYW\n",
              "prlz50qSRo4cqbS0NKWlpamiokK9evVSUFCQPB6PJkyYoIEDB0qSFi5cqKVLl+qaa67xFYHdunXT\n",
              "H//4R23ZskVZWVkyDEPV1dVKTk6ulTieieG1+MHBO++8UwsWLFBSUpJfVfuD4uLiet+z7cxnrBga\n",
              "YJnSCdlnbgQACJj+cY8ErO/lm54IWN9WszxRnDRpkiTpueees/rWAAAAdcK7nq1heaHYuXNnSVJK\n",
              "Skqtaxs2bLC6OwAAANjElu1x1q1bpyVLlujAgQOSpE2bNmnw4MHq27evHd0BAAD4u0jezHKhs7xQ\n",
              "fOqpp9SnTx/97ne/04033qgXXnhBXbp0UUxMjLZu3Wp1dwAAALCJ5VPP8+bN05dffqnWrVtry5Yt\n",
              "io+P1/vvv6+bb77Z6q4AAABgI8sLxdDQULVu3VqSFBsbqw4dOlAkAgCA88vjrCngQLG8UDx+/Lg2\n",
              "btzoe12f1+v1+/mHF1cDAADgwmZ5oXjs2DGlpaX5nfvhZ8MwVFpaanWXAAAA/hy2qCRQLC8Uy8rK\n",
              "rL4lAAAAAsDWV/gBAAAEBImiJWzZRxEAAAAXPwpFAAAAmGLqGQAAOA9Tz5YgUQQAAIApEkUAAOA8\n",
              "bLhtCRJFAAAAmKJQBAAAgCmmngEAgPN4PYEegSOQKAIAAMAUiSIAAHAetsexBIkiAAAATJEoAgAA\n",
              "52F7HEuQKAIAAMAUhSIAAABMMfUMAACch8UsliBRBAAAgCkSRQAA4DwkipYgUQQAAIApCkUAAACY\n",
              "YuoZAAA4D1PPliBRBAAAgCkSRQAA4DweT6BH4AgkigAAADBFoggAAJyHZxQtQaIIAAAAUxSKAAAA\n",
              "MMXUMwAAcB6mni1BoggAAABTJIoAAMB5PCSKViBRBAAAgCkKRQAAAJhi6hkAADiO18ubWaxAoggA\n",
              "AABTJIoAAMB5WMxiCRJFAAAAmCJRBAAAzsOG25YgUQQAAIApCkUAAACYYuoZAAA4j4ftcaxAoggA\n",
              "AABTJIoAAMB5WMxiCRJFAAAAmKJQBAAAgCmmngEAgON4WcxiCRJFAAAAmCJRBAAAzsNiFkuQKAIA\n",
              "AMAUiSIAAHAeD4miFUgUAQAAYIpCEQAAAKaYegYAAM7jZXscK5AoAgAAwBSJIgAAcBwvi1ksQaII\n",
              "AAAAUxSKAAAAMMXUMwAAcB4Ws1iCRBEAAACmSBQBAIDjsJjFGiSKAAAAAbJ161Z17dpVHTp0UJcu\n",
              "XbRp06ZabTwejyZNmqT4+HjFxsYqMzNTJ06c8F1/9913FRsbq/bt22vIkCGqrKys07W6oFAEAADO\n",
              "4/UE7qiHrKwsjR49Wl999ZWmTJmijIyMWm0KCwtVXFys4uJibd68WUFBQZo5c6Yk6ciRI8rMzNRb\n",
              "b72lrVu3qnXr1po2bdoZr9UVhSIAAEAA7Nu3T+vWrdOIESMkSUOHDtWuXbu0bds2v3ZffPGF+vTp\n",
              "owYNGsgwDKWmpurVV1+VJP3tb39TUlKSYmNjJUnjxo3TggULznitrigUAQAALOR2u1VZWel3uN3u\n",
              "Wu127dqlVq1aKSTk5JIRwzAUGRmp8vJyv3adO3fWsmXLVFlZqaqqKr355psqKyuTJJWXlysqKsrX\n",
              "Njo6Wnv27FF1dfVpr9XVRbGYpXRCdqCH4Ahut1v5+fnKycmRy+UK9HAA/k7igsPfSef4wLMoYH3n\n",
              "5uYqLy/P79zjjz+u3Nzcs7pfRkaGdu7cqZSUFDVs2FB9+vTR3//+dwtGemYkij8hbrdbeXl5pv+r\n",
              "BggE/k7iQsPfSVghJydHFRUVfkdOTk6tdm3atPFL+Lxer8rLyxUZGenXzjAM5ebmasOGDVq9erU6\n",
              "duyouLg4SVJkZKR27tzpa1tWVuZLKU93ra4oFAEAACzkcrkUFhbmd5gl1C1atFBycrLmz58vSVqy\n",
              "ZIkiIiIUExPj1+748eM6dOiQJGn//v168sknNXnyZElS//79VVxcrC1btkiSXnzxRaWnp5/xWl1d\n",
              "FFPPAAAATjRr1ixlZGRoxowZCgsL09y5cyVJI0eOVFpamtLS0lRRUaFevXopKChIHo9HEyZM0MCB\n",
              "AyVJjRs31pw5czR48GBVV1crPj5eL7/88hmv1ZXh9XrZkfInorKyUuHh4aqoqFBYWFighwPwdxIX\n",
              "HP5OAv6Yev4Jcblcevzxx3lAGxcM/k7iQsPfScAfiSIAAABMkSgCAADAFIUiAAAATFEoAgAAwBTb\n",
              "41xkoqOj5XK51LBhQ7ndbiUlJemll15So0aNAj00QNXV1XriiSe0YMEChYSEKCQkRNddd50GDBig\n",
              "3NxclZSUBHqI+In44d/K0NBQHT16VHFxcZoyZYq6du2qgoICHT58WA899FCghwlc8CgUL0ILFy5U\n",
              "YmKiPB6PBg4cqHnz5umBBx7wa1NTU6Pg4OAAjRA/VZmZmTp48KA+/fRTNW3aVF6vV4sXL9bBgwfP\n",
              "6n7V1dX1eoMA8GM//FspSUuXLtWAAQP0/vvva8yYMYEdGHARYer5InbixAl9//33atq0qebNm6fe\n",
              "vXtr6NCh6tSpkz7//HP16tVLb731lq/9sGHDNG/ePEkn3xuZlZWlm2++WR06dNCQIUN04sQJSdKR\n",
              "I0d0//33Kz4+XvHx8bXeVwmY2bZtmxYtWqS5c+eqadOmkk6+duqOO+5Q27Ztfe2qq6vVr18/XXvt\n",
              "tYqLi9Ndd92lo0ePSpJWrlypuLg4ZWZmKjExUX/5y1/0+uuv6/rrr1dSUpISEhL0zjvvBOT74eI2\n",
              "ZMgQjRkzRr///e+Vm5urX/3qV75rv//973XdddcpOTlZ/fv3973y7PDhwxo+fLhiY2PVo0cPZWVl\n",
              "KSMjQ9LJ/zH+0EMP+f6dfPDBB33/hgJOQqF4ERo+fLgSExPVsmVLBQUF6ec//7kk6bPPPtOMGTO0\n",
              "ceNG3XjjjWe8T0lJid555x1t3rxZ33zzjZYsWSJJmjZtmtxut/75z3/qs88+01tvvaWFCxfa+p1w\n",
              "8SsuLlb79u11xRVXnLZdcHCwXn/9da1bt07/+te/FB4erhdeeMF3ffPmzbr33ntVUlKiO+64Q/36\n",
              "9dOaNWu0YcMGvf322xo1ahTv4cVZuf7667Vp0ya/c6+//rr+/e9/69NPP1VxcbHuvvtujRs3TpL0\n",
              "m9/8Rg0bNtTmzZv117/+VatXr/Z9bvbs2Vq7dq3Wr1+vkpISbd++Xc8+++x5/T7A+UCheBFauHCh\n",
              "SkpKtH//fkVHR2vKlCmSpK5du+rqq6+u831uv/12XXrppQoODtZ1112n7du3S5JWrFihUaNGKSgo\n",
              "SI0aNdK9996rDz74wJbvgp8er9erZ599VklJSbrmmmv03nvv+T272LZtW6WkpPh+3rFjh1JTUxUf\n",
              "H6/Bgwfr4MGD2rFjRwBGjoud2bbBb731llasWKHOnTsrMTFRv/3tb1VeXi5J+vDDD3XffffJMAw1\n",
              "btxYw4cP931uxYoVysjIkMvlUkhIiEaNGsW/k3AkCsWLWEhIiIYOHarly5dLki677LJa12tqanw/\n",
              "Hz9+3O96aGio78/BwcGqrq427ccwDKuGDAdLTk7W1q1bdeDAgdO2e/311/XRRx/pk08+0caNGzVp\n",
              "0iS/v5v/+/c4PT1dI0eO1L/+9S+VlJTosssuq/V3GaiLtWvXKj4+3u+c1+tVTk6OSkpKVFJSoo0b\n",
              "N2rjxo2mnz/dv4X8OwmnolC8yH300UenTBFjYmL02WefSTqZyqxatapO9+zTp48KCwvl9Xp19OhR\n",
              "vfrqq+rbt69lY4YzxcTEaOjQocrMzNR3330n6eT/E16yZIlKS0t97Q4dOqQrrrhCYWFhOnz4sO+5\n",
              "2VM5dOiQrrrqKknS/PnzdejQIbu+Ahzs7bff1p/+9CdNnDjR7/zgwYNVUFDgW3BVVVWlDRs2SJJu\n",
              "uukmvfzyy/J6vTpy5IjefPNN3+f69OmjV155RSdOnFB1dbXmzJnDv5NwJJYTXoSGDx+uhg0bqrq6\n",
              "WlFRUSooKNCHH35Yq93kyZM1fPhwderUSXFxcbr++uvrdP+pU6dq/Pjx6tSpkyTpjjvu8D0HCZzO\n",
              "n//8Z02fPl3XX3+9QkJC5PF41LNnT6Wmpvra3HvvvXr77bd19dVXq3nz5urRo4dv8YCZmTNnatiw\n",
              "YWrSpIluuukmRUZGno+vAgcYPny4b3ucjh076q9//auuv/56/e1vf/O1ufvuu3XgwAH17t1b0snF\n",
              "Vvfff7+SkpL02GOPKTMzU//v//0/XXHFFUpISFCTJk0kSaNHj9b27duVnJwsSerVq5ffAhnAKXjX\n",
              "MwAAJqqqqlRTU+MrNvv166cHH3zQ71lFwOlIFAEAMHHo0CGlpqaqpqZGx48f16BBg5hdwU8OiSIA\n",
              "AABMsZgFwDmLjo5WbGys38r5a6+9VitXrgzcoAAA54xCEYAl3G63CgsLAz0MAICFKBQBWCI3N1fT\n",
              "pk3T999/73d+3759GjJkiDp16qT4+HjNmjXLdy06OlqPPvqounbtqjZt2qigoEBz587VjTfeqOjo\n",
              "aL3xxhu+tmvXrtVNN92ka6+9VklJSVq0aNF5+24A8FNFoQjAEgkJCerdu3et15g9+OCDuvrqq7Vx\n",
              "40Z99NFHmj59utasWeO7fvToUa1evVoff/yx/u///k+7d+/Wp59+qkWLFunBBx+UJH333XcaPXq0\n",
              "XnvtNa1bt04ffPCBJk6cqN27d5/X7wgAPzWsegZgmWnTpum6667TmDFjfOdWrFih9evXS5JatGih\n",
              "IUOGaMWKFbrhhhskybfVSExMjEJDQzVs2DBJJ59xPHjwoL777jutXr1apaWlfvsxStK///1v/exn\n",
              "PzsfXw0AfpIoFAFYJjo6WnfddZemT59+yjb/+6qz/32V5A8/G4YhwzBUXV0tr9eruLg4rV692p6B\n",
              "AwBMMfUMwFKPPvqo5s+fr//85z+STr7q7KWXXpIkffvtt1q6dKluueWWet2za9eu2rFjh1asWOE7\n",
              "V1JSohMnTlg3cABALRSKACx1xRVXaPz48dqzZ48k6fnnn9fmzZvVqVMn9e7dW4888kidXyf5g6ZN\n",
              "m+q9997TjBkzlJCQoI4dO+rhhx+Wx+Ox4ysAAP5/bLgNAAAAUySKAAAAMEWhCAAAAFMUigAAADBF\n",
              "oQgAAABTFIoAAAAwRaEIAAAAUxSKAAAAMEWhCAAAAFMUigAAADBFoQgAAABTFIoAAAAw9f8BcNwb\n",
              "tPfrCYwAAAAASUVORK5CYII=\n",
              "\">\n",
              "      </div>\n",
              "      <script type=\"text/javascript\">\n",
              "        (() => {\n",
              "          const chartElement = document.getElementById(\"chart-2496ab27-b1aa-4eea-9764-0ad1fa08cb3f\");\n",
              "          async function getCodeForChartHandler(event) {\n",
              "            const chartCodeResponse =  await google.colab.kernel.invokeFunction(\n",
              "                'getCodeForChart', [\"chart-2496ab27-b1aa-4eea-9764-0ad1fa08cb3f\"], {});\n",
              "            const responseJson = chartCodeResponse.data['application/json'];\n",
              "            await google.colab.notebook.addCell(responseJson.code, 'code');\n",
              "          }\n",
              "          chartElement.onclick = getCodeForChartHandler;\n",
              "        })();\n",
              "      </script>\n",
              "      <style>\n",
              "        .colab-quickchart-chart-with-code  {\n",
              "            display: block;\n",
              "            float: left;\n",
              "            border: 1px solid transparent;\n",
              "        }\n",
              "\n",
              "        .colab-quickchart-chart-with-code:hover {\n",
              "            cursor: pointer;\n",
              "            border: 1px solid #aaa;\n",
              "        }\n",
              "      </style>"
            ]
          },
          "metadata": {}
        },
        {
          "output_type": "display_data",
          "data": {
            "text/plain": [
              "<google.colab._quickchart_helpers.SectionTitle at 0x789f6d088df0>"
            ],
            "text/html": [
              "<h4 class=\"colab-quickchart-section-title\">Faceted distributions</h4>\n",
              "<style>\n",
              "  .colab-quickchart-section-title {\n",
              "      clear: both;\n",
              "  }\n",
              "</style>"
            ]
          },
          "metadata": {}
        },
        {
          "output_type": "stream",
          "name": "stderr",
          "text": [
            "<string>:5: FutureWarning: \n",
            "\n",
            "Passing `palette` without assigning `hue` is deprecated and will be removed in v0.14.0. Assign the `y` variable to `hue` and set `legend=False` for the same effect.\n",
            "\n"
          ]
        },
        {
          "output_type": "display_data",
          "data": {
            "text/plain": [
              "from matplotlib import pyplot as plt\n",
              "import seaborn as sns\n",
              "figsize = (12, 1.2 * len(_df_5['Nome'].unique()))\n",
              "plt.figure(figsize=figsize)\n",
              "sns.violinplot(_df_5, x='Idade', y='Nome', inner='stick', palette='Dark2')\n",
              "sns.despine(top=True, right=True, bottom=True, left=True)"
            ],
            "text/html": [
              "      <div class=\"colab-quickchart-chart-with-code\" id=\"chart-ff458147-5ea0-4699-801a-e79f318194e2\">\n",
              "        <img style=\"width: 180px;\" src=\"data:image/png;base64,iVBORw0KGgoAAAANSUhEUgAAA+wAAAFICAYAAADKy3RZAAAAOXRFWHRTb2Z0d2FyZQBNYXRwbG90\n",
              "bGliIHZlcnNpb24zLjguMCwgaHR0cHM6Ly9tYXRwbG90bGliLm9yZy81sbWrAAAACXBIWXMAAA9h\n",
              "AAAPYQGoP6dpAAAbLElEQVR4nO3dfZBV9X3H8c+FrSsx4VHFRsdgKmqUZ02gRDFIqjWdjpQHSYdq\n",
              "SQg0tGknE2ZqaWwSGwoxtVpiZ4IkqcQydjSRwrSaZgQf0kxUfABNGNMJuIiJFA0gGAMLC6d/OO5k\n",
              "FZTV3b2/XV6vmR13773n3u9xfnPvvDnn7NaqqqoCAAAAFKVXvQcAAAAA3kiwAwAAQIEEOwAAABRI\n",
              "sAMAAECBBDsAAAAUSLADAABAgQQ7AAAAFEiwAwAAQIEEOwAAABRIsAMAAECBBDsAAAAUSLADAABA\n",
              "gQQ7AAAAFEiwAwAAQIEEOwAAABRIsAMAAECBBDsAAAAUSLADAD3KvHnzMm/evHqPAQDvWEO9BwAA\n",
              "6Ejbt2+v9wgA0CEcYQcAAIACCXYAAAAokGAHAACAAgl2AAAAKJBgBwAAgAIJdgAAACiQYAcAAIAC\n",
              "CXYAAAAokGAHAACAAgl2AAAAKJBgBwAAgAIJdgAAACiQYAcAAIACCXYAAAAokGAHAACAAgl2AAAA\n",
              "KJBgBwAAgAIJdgAAACiQYAcAAIACCXYAAAAokGAHAACAAgl2AAAAKJBgBwAAgAIJdgAAACiQYAcA\n",
              "AIACCXYAAAAokGAHAACAAgl2AAAAKJBgBwAAgAIJdgAAACiQYAcAAIACCXYAAAAoUENnPvmQIUPS\n",
              "2NiYPn36pLm5OaNHj843vvGNnHDCCZ35sgAAANDtdfoR9jvuuCMbNmzIxo0bs3v37ixfvvwNjzl4\n",
              "8GBnjwEAAADdSpedEr9///78+te/zoABA7J8+fJMnDgxU6dOzfDhw7Nu3bp85CMfyapVq1ofP23a\n",
              "tNa4nzVrVv7sz/4skyZNyllnnZUpU6Zk//79SZJf/epX+eQnP5lhw4Zl2LBhue6667pqlwAAAKDT\n",
              "dOop8UkyY8aM9OnTJ1u2bMn555+fK6+8MitWrMgjjzyS9evX5+yzzz6q59mwYUPuv//+NDY2ZsKE\n",
              "Cbnrrrvyx3/8x/nyl7+c5ubmPPXUU9m7d28uvPDCnHPOOZkxY8YbnqO5uTnNzc1tbmtsbExjY2OH\n",
              "7CsAAAB0lC47Jf6Xv/xlhgwZkmuuuSZJMn78+KOO9ST5oz/6o7zrXe9K796986EPfSibN29OkqxZ\n",
              "syZz5sxJr169csIJJ+Tqq6/Ovffee9jnWLx4cfr169fma/Hixe98JwEAAKCDddkp8Q0NDZk6dWr+\n",
              "+7//O0ny7ne/+w33/+a17Pv27Wtz//HHH9/6fe/evdPS0nLY16nVakecYcGCBdm9e3ebrwULFrR7\n",
              "XwAAAKCzdemfdbvvvvuOeFT9zDPPzCOPPJIkaWpqyg9/+MOjes6PfvSj+da3vpWqqvLKK6/k3/7t\n",
              "33LppZce9rGNjY3p27dvmy+nwwMAAFCiLruGvaWlJe973/uydOnSrF279g2P++u//uvMmDEjw4cP\n",
              "z3nnnZexY8ce1fP/3d/9Xf7qr/4qw4cPT5JMnz49V155ZYfuAwAAAHS1WlVVVb2HAADoKFOmTEmS\n",
              "rFy5ss6TAMA706WnxAMAAABHR7ADAABAgQQ7AAAAFEiwAwAAQIEEOwAAABRIsAMAAECBBDsAAAAU\n",
              "SLADAABAgQQ7AAAAFEiwAwAAQIEEOwAAABRIsAMAAECBBDsAAAAUSLADAABAgQQ7AAAAFEiwAwAA\n",
              "QIEEOwAAABRIsAMAAECBBDsAAAAUSLADAABAgQQ7AAAAFEiwAwAAQIEEOwAAABRIsAMAAECBBDsA\n",
              "AAAUSLADAABAgQQ7AAAAFEiwAwAAQIEEOwAAABRIsAMAAECBBDsAAAAUSLADAABAgRrqPQAAQEca\n",
              "PHhwvUcAgA5Rq6qqqvcQAAAAQFtOiQcAAIACCXYAAAAokGAHAACAAgl2AAAAKJBgBwAAgAIJdgAA\n",
              "ACiQYAcAAIACCXYAAAAokGAHAACAAgl2AAAAKJBgBwAAgAIJdgAAACiQYAcAAIACCXYAAAAokGAH\n",
              "AACAAgn2bmLevHmZN29evccAAACgizTUewCOzvbt2+s9AgAAAF3IEXYAAAAokGAHAACAAgl2AAAA\n",
              "KJBgBwAAgAIJdgAAACiQYAcAAIACCXYAAAAokGAHAACAAgl2AAAAKJBgBwAAgAIJdgAAACiQYAcA\n",
              "AIACCXYAAAAokGAHAACAAgl2AAAAKJBgBwAAgAIJdgAAACiQYAcAAIACCXYAAAAokGAHAACAAgl2\n",
              "AAAAKJBgBwAAgAIJdgAAACjQ2wr2bdu25YEHHkiStLS0ZP/+/R05EwAAABzz2h3s3/3udzNu3LjM\n",
              "mjUrSbJx48ZMnjy5g8cCAACAY1u7g33x4sV54oknMmDAgCTJyJEj8+yzz3b4YAAAAHAsa3ew9+7d\n",
              "O4MGDWpz23HHHddhAwEAAABvI9jf8573ZPv27anVakmStWvXZuDAgR0+GAAAABzLGtq7wfXXX5/L\n",
              "L788zzzzTC688MI0NTXl7rvv7ozZAAAA4JjV7mC/4IILcv/99+dHP/pRqqrK+PHj079//04YDQAA\n",
              "AI5d7Q72JOnXr18+/OEPp6WlJYcOHcrOnTudFg8AAAAdqN3XsN9xxx05+eSTM2jQoJxyyikZPHhw\n",
              "TjnllM6YDQAAAI5Z7Q72BQsW5J577smBAweyf//+1v8CAAAAHafdwX7KKafkggsueFsv1tLSkuuu\n",
              "uy7nnHNOhg0bllGjRmXu3LlZtWpVRo0a9baeEwAAAHqidl/DPnfu3CxatCjTpk3L8ccf33r76aef\n",
              "/pbbzp49Ozt37sxDDz2UAQMGpKqqfPe7383OnTvbO0aSV/8BoKHhbV2GDwAAAEVrd+02Nzdn4cKF\n",
              "ueGGG9K7d+8kSa1WywsvvPCm223atCnf+c53snXr1gwYMKB1u+nTp+eBBx5ofVxLS0v+4A/+IDt2\n",
              "7MjevXszcuTIfOMb38gJJ5yQBx54IH/xF3+RcePG5fHHH8/nP//5HDhwIEuWLMn+/ftz6NChLFy4\n",
              "MH/4h394xNmbm5vb3NbY2JjGxsb2/m8AAACATtXuU+IXLVqUH//4x9m5c2defPHFvPjii28Z60ny\n",
              "xBNPZOjQoTnxxBPf9HG9e/fO7bffnsceeyw/+clP0q9fv9x8882t9z/99NO5+uqrs2HDhkyfPj2X\n",
              "XXZZHn744axfvz6rV6/OnDlz3hDlr1m8eHH69evX5mvx4sXt+x8AAAAAXaDdR9hPO+20/M7v/E5n\n",
              "zJIkqaoqN910U+6+++60tLRk9+7dGT9+fOv973//+3PxxRe3/tzU1JSZM2fm5z//eRoaGrJz5840\n",
              "NTXlnHPOecNzL1iwIJ/73Ofa3OboOgAAACVqd7BfcsklmT9/fmbMmNHmGvYRI0a86XZjxozJz372\n",
              "s+zYsSODBg064uNuv/323HfffXnwwQfTt2/ffO1rX8t9993Xev+73/3uNo//+Mc/nq985SuZNm1a\n",
              "kmTgwIHZt2/fYZ/b6e8AAAB0F+0O9hUrViRJVq5c2XpbrVbLM88886bbnXnmmZk6dWpmz56d5cuX\n",
              "p3///qmqKitXrszu3btbH7dr166ceOKJ6du3b15++eUsX778TX+h3a5du3LGGWe0zrZr16727hIA\n",
              "AAAUp93B3tTU9LZf7F//9V+zcOHCjB07Ng0NDTl06FAmTJiQyy+/vPUxV199dVavXp2zzz47J510\n",
              "Ui666KI8++yzR3zOJUuWZNq0aenfv38uueSSo/pt9QAAAFC6WlVVVXs3WrduXdasWZMkufTSS9/2\n",
              "32Xn6E2ZMiVJ2zMbAAAA6Lna/Vvily1blmnTpuWFF17Iiy++mKlTp+ab3/xmZ8wGAAAAx6x2H2Ef\n",
              "MWJE1q5dm5NOOilJ8uKLL2bSpEl56qmnOmVAXuUIOwAAwLGl3UfYk7TG+uu/BwAAADpGu4N96NCh\n",
              "+fznP5+tW7dm69atufbaazN06NDOmA0AAACOWe0O9qVLl2bz5s0ZM2ZMzj///GzevDlLly7tjNkA\n",
              "AADgmHXU17D/4Ac/aPPza5vVarUkyYQJEzp4NH6Ta9gBAACOLUf9d9jnz5//httqtVqef/75bNu2\n",
              "LQcPHuzQwQAAAOBYdtTB/uijj7b5eefOnVm4cGFWrFiR6667rsMHAwAAgGNZu69h37dvXxYvXpxz\n",
              "zz03SfL000/n2muv7fDBAAAA4Fh21MF+6NChLFu2LEOHDs1Pf/rTPPLII7nxxhszaNCgzpwPAAAA\n",
              "jklHfUr8sGHD0tzcnEWLFmXkyJHZvXt3nnrqqdb7R4wY0SkDAgAAwLHoqIP917/+dWq1Wr7whS+8\n",
              "4b5arZZnnnmmQwcDAACAY9lRB/uWLVs6cQwAAADgN7X7l84BAAAAnU+wAwAAQIEEOwAAABRIsAMA\n",
              "AECBBDsAAAAUSLADAABAgQQ7AAAAFEiwAwAAQIEEOwAAABRIsAMAAECBBDsAAAAUSLADAABAgQQ7\n",
              "AAAAFEiwAwAAQIEEOwAAABRIsAMAAECBBDsAAAAUSLADAABAgRrqPQBHZ/DgwfUeAQAAgC5Uq6qq\n",
              "qvcQAAAAQFtOiQcAAIACCXYAAAAokGAHAACAAgl2AAAAKJBgBwAAgAIJdgAAACiQYAcAAIACCXYA\n",
              "AAAokGAHAACAAgl2AAAAKJBgBwAAgAIJdgAAACiQYAcAAIACCXYAAAAokGAHAACAAgl2AAAAKJBg\n",
              "BwAAoNubN29e5s2bV+8xOlRDvQcAAACAd2r79u31HqHDOcIOAAAABRLsAAAAUCDBDgAAAAUS7AAA\n",
              "AFAgwQ4AAAAFEuwAAABQIMEOAAAABRLsAAAAUCDBDgAAAAUS7AAAAFAgwQ4AAAAFEuwAAABQIMEO\n",
              "AAAABRLsAAAAUCDBDgAAAAUS7AAAAFAgwQ4AAAAFEuwAAABQIMEOAAAABRLsAAAAUCDBDgAAAAUS\n",
              "7AAAAFAgwQ4AAAAFEuwAAABQIMEOAAAABRLsAAAAUCDBDgAAAAUS7AAAAFAgwQ4AAAAFEuwAAABQ\n",
              "IMEOAAAABRLsAAAAUKBODfYhQ4bk7LPPzsiRI3PmmWfmiiuuyI9+9KMkydKlS/OP//iPnfnyAAAA\n",
              "0G01dPYL3HHHHRk1alSSZOXKlfnYxz6W73//+/n0pz/d2S8NAAAA3VanB/tvmjJlStatW5cbbrgh\n",
              "5513Xl566aX88z//c5LkhhtuyJ133pmWlpacfPLJueWWW/K+970vL7/8cj71qU/lySefzEknnZRz\n",
              "zz03zc3NWb58eQ4ePJi/+Zu/yfe+970kycSJE/NP//RPOe6447pytwAAAKDDdfk17GPHjs3GjRvb\n",
              "3Hb77bfnf//3f/PQQw/liSeeyMyZM/Pnf/7nSZK///u/T58+ffL000/nnnvuaT2lPkmWLVuWRx99\n",
              "NI8//ng2bNiQzZs356abbjriazc3N2fPnj1tvpqbmztnRwEAAOAd6PJgr6rqDbetWrUqa9asyfnn\n",
              "n59Ro0blq1/9arZu3ZokWbt2bT7xiU+kVqvlPe95T2bMmNG63Zo1azJr1qw0NjamoaEhc+bMyb33\n",
              "3nvE1168eHH69evX5mvx4sUdv5MAAADwDnXpKfFJ8uijj2bYsGFtbquqKgsWLMjcuXPfcvtarfa2\n",
              "7kuSBQsW5HOf+1yb2xobG9/yNQEAAKCrdekR9tWrV+frX/965s+f3+b2yZMnZ+nSpdm5c2eS5MCB\n",
              "A1m/fn2S5JJLLsm3v/3tVFWVX/3qV7nzzjtbt/voRz+a2267Lfv3709LS0u++c1v5tJLLz3i6zc2\n",
              "NqZv375tvgQ7AAAAJer0I+wzZszI8ccfn1deeSXnnntu7rnnnowdO7b1F8UlycyZM7Njx45MnDgx\n",
              "SdLS0pJPfvKTGT16dL7whS9k9uzZ+cAHPpATTzwxI0eOTP/+/ZMkc+fOzebNmzNmzJgkyUc+8pF8\n",
              "9rOf7exdAgAAgE5Xqw53UXlBDhw4kIMHD7ZG/2WXXZa//Mu/bHMtOwAAAMe2KVOmJHn1z4n3FF1+\n",
              "DXt77dq1K5dffnkOHjyYffv25YorrsiVV15Z77EAAACgUxUf7CeffHIef/zxeo8BAAAAXarL/6wb\n",
              "AAAA8NYEOwAAABRIsAMAAECBBDsAAAAUSLADAABAgQQ7AAAAFEiwAwAAQIEEOwAAABRIsAMAAECB\n",
              "BDsAAAAUSLADAABAgQQ7AAAAFEiwAwAAQIEEOwAAABRIsAMAAECBBDsAAAAUSLADAABAgQQ7AAAA\n",
              "FEiwAwAAQIEEOwAAABRIsAMAAECBBDsAAAAUSLADAABAgQQ7AAAAFEiwAwAAQIEEOwAAABRIsAMA\n",
              "AECBBDsAAAAUSLADAABAgQQ7AAAAFKih3gMAAADAOzV48OB6j9DhalVVVfUeAgAAAGjLKfEAAABQ\n",
              "IMEOAAAABRLsAAAAUCDBDgAAAAUS7AAAAFAgwQ4AAAAFEuwAAABQIMFOj9Tc3JwvfelLaW5urvco\n",
              "9GDWGV3BOqMrWGd0NmuMrtAT11mtqqqq3kNAR9uzZ0/69euX3bt3p2/fvvUehx7KOqMrWGd0BeuM\n",
              "zmaN0RV64jpzhB0AAAAKJNgBAACgQIIdAAAACiTY6ZEaGxvzxS9+MY2NjfUehR7MOqMrWGd0BeuM\n",
              "zmaN0RV64jrzS+cAAACgQI6wAwAAQIEEOwAAABRIsAMAAECBBDs9wqWXXpoRI0Zk1KhRueiii7J+\n",
              "/fokyc9+9rOMHz8+Z511Vj74wQ9m48aNdZ6U7uxw62zfvn2ZPHlyzjrrrIwcOTK/93u/l02bNtV7\n",
              "VLqxI72fvebWW29NrVbLqlWr6jMg3d6R1lhzc3M+85nPZOjQoRk+fHj+5E/+pM6T0p0daZ3dc889\n",
              "GTNmTEaNGpVhw4bl29/+dp0npSd4/WfjCy+8kN///d/P0KFDM2zYsPzgBz+o74DvRAU9wK5du1q/\n",
              "X7lyZTVixIiqqqpq4sSJ1a233lpVVVV95zvfqS644II6TEdPcbh1tnfv3uruu++uDh06VFVVVd18\n",
              "883VxRdfXJ8B6RGO9H5WVVXV1NRU/e7v/m41bty46j/+4z+6fjh6hCOtsc9+9rPVZz7zmdb3s23b\n",
              "ttVjPHqIw62zQ4cOVQMGDKiefPLJqqpefU9rbGys9uzZU6cp6QkO99n4iU98ovriF79YVVVVrVu3\n",
              "rjr11FOr/fv312/Id8ARdnqE/v37t36/e/fu1Gq1vPDCC3nsscdajxBMnTo1zz33nKOfvG2HW2fH\n",
              "H398Pvaxj6VWqyVJxo0bly1bttRnQHqEw62zJDl06FA+9alP5eabb+5Rf66Grne4NfbKK6/kW9/6\n",
              "Vv7hH/6hdc2dcsopdZqQnuBI72W1Wi0vvfRSkmTPnj0ZNGiQ9zTetiN9Nt5555359Kc/nST54Ac/\n",
              "mPe+97158MEH6zXmO9JQ7wGgo1x99dW5//77k7x6utVzzz2X3/7t305Dw6vLvFar5fTTT8/WrVtz\n",
              "5pln1nNUurHXr7PXW7JkSa644oquHose5nDr7MYbb8yHP/zhnH/++fUcjR7i9Wts8+bNGThwYBYt\n",
              "WpQ1a9akT58++dKXvpRJkybVeVK6s9evs1qtljvuuCNTpkzJCSeckF27dmXlypU57rjj6jwp3dXh\n",
              "Pht37NiRAwcOtPlHxyFDhmTr1q31GPEdc4SdHuO2227Lc889l4ULF+aaa66p9zj0UG+2zhYtWpRN\n",
              "mzZl8eLFdZqOnuL16+wnP/lJ7rrrrlx77bX1Ho0e4vVrrKWlJc8++2zOPffcPPbYY/na176WGTNm\n",
              "ZPv27fUelW7scOts4cKFWblyZZ599tmsXbs2V111VX75y1/We1S6oWPls1Gw0+P86Z/+ae6///6c\n",
              "dtpp2bZtW1paWpIkVVVl69atOf300+s8IT3Ba+tsx44dSZIbbrghK1euzPe+9728613vqvN09BSv\n",
              "rbPVq1dny5YtGTp0aIYMGZKHH344c+fOzde//vV6j0g399oaO/XUU9OrV6/MnDkzSTJ69OicccYZ\n",
              "+fGPf1znCekJXltnjz/+eJ5//vlMmDAhyaunKp922mlv+OWacDT+53/+57CfjXfeeWcaGhryf//3\n",
              "f62P3bJlS7dtAMFOt/fSSy/l+eefb/151apVGTRoUE4++eSMGTMmK1asSJLcddddOe2005wOz9ty\n",
              "pHU2cODA3Hjjjfn3f//33HvvvW2u2YP2OtI6+9u//dts27YtW7ZsyZYtWzJu3LgsW7Ys8+bNq+O0\n",
              "dEdv9pk5adKkfP/730+SNDU1pampKR/4wAfqNSrd2JHW2ZAhQ7Jt27Y8/fTTSZJNmzZl8+bNOfvs\n",
              "s+s1Kt3YvHnzjvjZOH369CxdujRJ8uijj+YXv/hFLr744jpP/Pa4hp1ub/fu3Zk+fXr27t2bXr16\n",
              "5aSTTsp//dd/pVar5ZZbbsmsWbOyaNGi9O3bN7feemu9x6WbOtI6+8UvfpH58+fn/e9/fyZOnJgk\n",
              "aWxszCOPPFLniemO3uz9DDrCm62xpUuXZvbs2bnmmmvSq1ev3HLLLTn11FPrPTLd0JHW2eDBg7Ns\n",
              "2bJceeWV6dWrVw4dOpR/+Zd/6bZHPinX9ddfn6uuuipDhw7NcccdlxUrVuS3fuu36j3W21Krqqqq\n",
              "9xAAAABAW06JBwAAgAIJdgAAACiQYAeAY9yQIUOyYcOGN9w+bdq0LF++vN3P93a3AwDaEuwAAABQ\n",
              "IMEOACRJfvrTn2b8+PE577zzMnny5OzZs6f1vttvvz1jx47N6NGjM3LkyPznf/7nUW338ssvZ86c\n",
              "OfnQhz6UESNGZO7cudm/f3+X7hcAdFeCHQBIklx11VWZPXt2Nm7cmC9/+ct58MEHW++77LLL8vDD\n",
              "D2f9+vVZvXp15syZk+bm5rfcbv78+bnooouybt26PPnkkzl06FCWLFnS5fsGAN2Rv8MOAGTPnj3Z\n",
              "sGFDZs2alSQZPnx4Lrzwwtb7m5qaMnPmzPz85z9PQ0NDdu7cmaamprz3ve990+1WrVqVhx56KDfe\n",
              "eGOSZO/evendu3eX7RcAdGeCHQA4rFqt1vr9xz/+8XzlK1/JtGnTkiQDBw7Mvn373nK7qqpy1113\n",
              "5ayzzurcYQGgB3JKPACQvn37ZvTo0bntttuSJBs3bswPf/jD1vt37dqVM844I0myYsWK7Nq166i2\n",
              "mzx5cq6//vq0tLS0Ps+mTZu6ZJ8AoLsT7ABAkuS2227LsmXLMmzYsFx77bWZMGFC631LlizJtGnT\n",
              "Mnr06Kxfvz6nn376UW130003pU+fPhk1alRGjBiRSZMmZcuWLV25WwDQbdWqqqrqPQQAAADQliPs\n",
              "AAAAUCDBDgAAAAUS7AAAAFAgwQ4AAAAFEuwAAABQIMEOAAAABRLsAAAAUCDBDgAAAAUS7AAAAFAg\n",
              "wQ4AAAAFEuwAAABQoP8HSypdPirMNiwAAAAASUVORK5CYII=\n",
              "\">\n",
              "      </div>\n",
              "      <script type=\"text/javascript\">\n",
              "        (() => {\n",
              "          const chartElement = document.getElementById(\"chart-ff458147-5ea0-4699-801a-e79f318194e2\");\n",
              "          async function getCodeForChartHandler(event) {\n",
              "            const chartCodeResponse =  await google.colab.kernel.invokeFunction(\n",
              "                'getCodeForChart', [\"chart-ff458147-5ea0-4699-801a-e79f318194e2\"], {});\n",
              "            const responseJson = chartCodeResponse.data['application/json'];\n",
              "            await google.colab.notebook.addCell(responseJson.code, 'code');\n",
              "          }\n",
              "          chartElement.onclick = getCodeForChartHandler;\n",
              "        })();\n",
              "      </script>\n",
              "      <style>\n",
              "        .colab-quickchart-chart-with-code  {\n",
              "            display: block;\n",
              "            float: left;\n",
              "            border: 1px solid transparent;\n",
              "        }\n",
              "\n",
              "        .colab-quickchart-chart-with-code:hover {\n",
              "            cursor: pointer;\n",
              "            border: 1px solid #aaa;\n",
              "        }\n",
              "      </style>"
            ]
          },
          "metadata": {}
        },
        {
          "output_type": "stream",
          "name": "stderr",
          "text": [
            "<string>:5: FutureWarning: \n",
            "\n",
            "Passing `palette` without assigning `hue` is deprecated and will be removed in v0.14.0. Assign the `y` variable to `hue` and set `legend=False` for the same effect.\n",
            "\n"
          ]
        },
        {
          "output_type": "display_data",
          "data": {
            "text/plain": [
              "from matplotlib import pyplot as plt\n",
              "import seaborn as sns\n",
              "figsize = (12, 1.2 * len(_df_6['Cidade'].unique()))\n",
              "plt.figure(figsize=figsize)\n",
              "sns.violinplot(_df_6, x='Idade', y='Cidade', inner='stick', palette='Dark2')\n",
              "sns.despine(top=True, right=True, bottom=True, left=True)"
            ],
            "text/html": [
              "      <div class=\"colab-quickchart-chart-with-code\" id=\"chart-c2d7498e-47d9-4177-8b14-a7e43ae33901\">\n",
              "        <img style=\"width: 180px;\" src=\"data:image/png;base64,iVBORw0KGgoAAAANSUhEUgAABBwAAAFICAYAAADzvO1DAAAAOXRFWHRTb2Z0d2FyZQBNYXRwbG90\n",
              "bGliIHZlcnNpb24zLjguMCwgaHR0cHM6Ly9tYXRwbG90bGliLm9yZy81sbWrAAAACXBIWXMAAA9h\n",
              "AAAPYQGoP6dpAAAhY0lEQVR4nO3de5CV9X3H8c9Z0BWNCKgx8YIkglpZYQFBpYhBvGfSELxgROOF\n",
              "eFlrJo7GMrZGkRiJo/ES6RQvLRSVlBgJNtFgg+Itarm5EpzoBORi1EBFBOoFXD39w3Eb5CKrDxx2\n",
              "eb1mdmb3Oed59ns2P3czb57nOaVyuVwOAAAAQIGqKj0AAAAA0PIIDgAAAEDhBAcAAACgcIIDAAAA\n",
              "UDjBAQAAACic4AAAAAAUTnAAAAAACic4AAAAAIUTHAAAAIDCCQ4AAABA4QQHAAAAoHCCAwAAAFA4\n",
              "wQEAAAAonOAAAAAAFE5wAAAAAAonOAAAAACFExwAAACAwgkOAABbkbq6utTV1VV6DAD43FpXegAA\n",
              "AP7fkiVLKj0CABTCGQ4AAABA4QQHAAAAoHCCAwAAAFA4wQEAAAAonOAAAAAAFE5wAAAAAAonOAAA\n",
              "AACFExwAAACAwgkOAAAAQOEEBwAAAKBwggMAAABQOMEBAAAAKJzgAAAAABROcAAAAAAKJzgAAAAA\n",
              "hRMcAAAAgMIJDgAAAEDhBAcAAACgcIIDAAAAUDjBAQAAACic4AAAAAAUTnAAAAAACic4AAAAAIUT\n",
              "HAAAAIDCCQ4AAABA4QQHAAAAoHCCAwAAAFA4wQEAAAAonOAAAAAAFE5wAAAAAAonOAAAAACFExwA\n",
              "AACAwm3R4NCpU6cccMABqa2tzQEHHJCf/OQnjY/NnDkzQ4YM+dzf45BDDsljjz3WpH0ee+yx1NbW\n",
              "fu7vvSFFvTYAAABoLlpv6W84ceLE1NbW5tVXX81BBx2Uo446Kn369MkhhxySiRMnbulxtoiNvbaG\n",
              "hoa0br3F/2cAAACAzapil1TstddeOfDAA7No0aIk655lcPfdd6dbt27p1q1bvv71r+fVV19d73Ge\n",
              "fvrp1NbWpqamJuecc04aGhoaH/vLX/6SU089NX369MnBBx+cK6+88lPnamhoyHHHHZdDDjkkXbt2\n",
              "zemnn5633367ccaamppcdNFF6d69e7p27ZqZM2c27vvwww+nX79+6dWrV/r06ZNp06at89oWLlyY\n",
              "du3aZfjw4enZs2dGjx6defPm5eijj063bt1SW1ubyZMnN+VHCQAAAFudigWHF198McuWLcvXvva1\n",
              "dR6bO3duLr/88vz2t7/NnDlz0rdv33z3u99d53lr1qzJkCFDcuONN2bu3Ln59re/neeff77x8bPO\n",
              "Oit///d/n+nTp+e5557LzJkzc9999210rlatWmXChAmZOXNm5s6dm1122SW33XbbWnOfddZZef75\n",
              "5/O9730v//RP/5QkefnllzNixIg89NBDmTVrViZMmJDTTz89q1evXud7rFixIl27ds3s2bNzySWX\n",
              "ZOjQoTnllFMyZ86c3HfffRk2bFhjiPmk1atXZ+XKlWt9rO97AAAAQCVt8XP5hwwZkqqqqrz00ku5\n",
              "+eabs/vuu6/znGnTpuX444/PXnvtlSS56KKLMnLkyHzwwQdp1apV4/NefPHFtG7dOkcffXSS5Nhj\n",
              "j81Xv/rVJMnbb7+dRx55JEuWLGl8/v/+7//mpZde2uh85XI5N998cx588ME0NDRkxYoV6du3b+Pj\n",
              "nTt3zqGHHpokOfzww3PjjTcmSaZMmZJ58+alf//+jc+tqqrK4sWL1/ke2223Xc4444wkyapVqzJ7\n",
              "9uz8/ve/T5J06dIl/fr1y5NPPpl99913nX1HjRqVa665Zq1tV199dUaMGLHR1wUAAABbUsXu4TB1\n",
              "6tR84xvfyFFHHZWDDz54o/uUSqVNPv7Hzy2Xy0mSZ599NjvssMMm7z9hwoQ8+uijefzxx9O2bdv8\n",
              "7Gc/y6OPPtr4+F8fq1WrVo2XcJTL5RxzzDGZMGHCOsf85OUgO+64Y6qqNnxyycZe7xVXXJFLL710\n",
              "rW3V1dUbf1EAAACwhVXskoqjjz46dXV1672vwoABAzJlypS89tprSZIxY8Zk4MCBa53dkCQHHnhg\n",
              "GhoaGu+VMHXq1MyfPz9J8oUvfCEDBgxY650wXnvttfz5z3/e6FzLly/PbrvtlrZt22bVqlUZN27c\n",
              "Jr2e4447LlOnTs2cOXMat02fPv1T99t5553Ts2fPjB07Nkkyb968PPXUU2udKfHXqqur07Zt27U+\n",
              "BAcAAAC2NhV9e4Qf/vCH6dy5c2bNmrXW9pqamtxwww05/vjjkyT77LNP7rzzznX233777TNx4sRc\n",
              "dNFF+eCDD9K7d+9079698fF77703l156aWpqalIqlbLTTjvl9ttvz957773WcRoaGhrPXPjOd76T\n",
              "Bx54IAcccEB23333HHHEERu8n8Jf69y5cyZMmJALLrgg77zzTtasWZMePXqs94yHT7r33ntz4YUX\n",
              "ZvTo0SmVSrnrrrvSsWPHT90PAAAAtlal8sfXHmzDbrjhhvzhD3/I+PHjKz0KALCNGzx4cJJk0qRJ\n",
              "FZ4EAD6fip7hsDU48sgj89577+Xuu++u9CgAAADQYmzzweHxxx+v9AgAAADQ4lTsppEAAABAyyU4\n",
              "AAAAAIUTHAAAAIDCCQ4AAABA4QQHAAAAoHCCAwAAAFA4wQEAAAAonOAAAAAAFE5wAAAAAAonOAAA\n",
              "AACFExwAAACAwgkOAAAAQOEEBwAAAKBwggMAAABQOMEBAAAAKJzgAAAAABROcAAAAAAKJzgAAAAA\n",
              "hRMcAAAAgMIJDgAAAEDhBAcAAACgcIIDAAAAUDjBAQAAACic4AAAAAAUTnAAAAAACic4AAAAAIUT\n",
              "HAAAAIDCCQ4AAABA4QQHAAAAoHCCAwAAAFC41pUeAACA/7fHHntUegQAKESpXC6XKz0EAAAA0LK4\n",
              "pAIAAAAonOAAAAAAFE5wAAAAAAonOAAAAACFExwAAACAwgkOAAAAQOEEBwAAAKBwggMAAABQOMEB\n",
              "AAAAKJzgAAAAABROcAAAAAAKJzgAAAAAhRMcAAAAgMIJDgAAAEDhBAcAAACgcIIDW0RdXV3q6uoq\n",
              "PQYAAABbSOtKD8C2YcmSJZUeAQAAgC3IGQ4AAABA4QQHAAAAoHCCAwAAAFA4wQEAAAAonOAAAAAA\n",
              "FE5wAAAAAAonOAAAAACFExwAAACAwgkOAAAAQOEEBwAAAKBwggMAAABQOMEBAAAAKJzgAAAAABRO\n",
              "cAAAAAAKJzgAAAAAhRMcAAAAgMIJDgAAAEDhBAcAAACgcIIDAAAAULjPFBxef/31PPbYY0mShoaG\n",
              "rFmzpsiZAAAAgGauycHhl7/8ZQ477LCcffbZSZIXXnghgwYNKngsAAAAoDlrcnAYNWpUZs+enfbt\n",
              "2ydJunfvnkWLFhU+GAAAANB8NTk4tGrVKrvuuuta27bffvvCBgIAAACavyYHh5133jlLlixJqVRK\n",
              "kjzyyCPp0KFD4YMBAAAAzVfrpu5w/fXX54QTTsjLL7+cfv36ZcGCBXnwwQc3x2wAAABAM9Xk4HDI\n",
              "IYdk2rRpefrpp1Mul9O3b9+0a9duM4wGAAAANFdNDg5Jsssuu+SEE04oehYAAACghdjk4FBVVdV4\n",
              "34b1+eCDDwoZCAAAAGj+Njk4rFq1KuVyObfcckvefffd1NXVJUnGjBmTNm3abLYBAQAAgOanVC6X\n",
              "y03ZoVevXpk1a9anboO/Nnjw4CTJpEmTKjwJAAAAW0KT3xZz1apVWbp0aePXS5cuzapVqwodCgAA\n",
              "AGjemnzTyMsuuyzdu3fPiSeemCSZMmVKRowYUfRcAAAAQDPW5EsqkmTu3LmZNm1akuSoo45K165d\n",
              "Cx+MlsUlFQAAANuWz/S2mDU1Nampqdnoczp16pTq6uq0adMmq1evTo8ePXLnnXdmp5122uh+I0aM\n",
              "yFtvvZVbbrmlSTOVSqUsX7487dq1W2uGyZMnp7a2tknH+s///M9MmzYtN998c5P22xSPPfZY3nvv\n",
              "vRx//PGFHxsAAAC2Fk2+h8PSpUtTV1eXvn37pmfPno0f6zNx4sTU19fnhRdeyIoVKzJu3LjPO+9m\n",
              "19DQkL/7u7/bLLEh+Sg4TJkyZbMcGwAAALYWTQ4Ow4YNS6dOnfLGG2/kmmuuyZ577pmvf/3rG91n\n",
              "zZo1eeedd9K+ffvGbTfeeGP69OmTnj175vjjj8+iRYvW2e+DDz7I5Zdf3nhGxfe+972sWbOmqSMn\n",
              "SebNm5ejjz463bp1S21tbSZPntz4WKlUytVXX53evXvniiuuyLhx4zJo0KAkyciRI1NbW5va2trU\n",
              "1NSkVCpl0aJFG53t7LPPzgUXXJCBAwdm//33z+DBg7NmzZrU19dnzJgxuffee1NbW5uRI0cmSR5+\n",
              "+OH069cvvXr1Sp8+fRovV1mf1atXZ+XKlWt9rF69+jP9TAAAAGBzaXJweOWVVzJ8+PBUV1fnG9/4\n",
              "RiZNmpSpU6eu97lDhgxJbW1tvvSlL6WqqiqnnnpqkmTChAl56aWX8swzz2T27NkZOnRoLrroonX2\n",
              "v+OOOzJjxozMmjUr9fX1mT9//kbPPDjiiCMa40BtbW1ee+21xseGDh2aU045JXPmzMl9992XYcOG\n",
              "rRU5WrVqlRkzZuSGG25Y65hXXXVV6uvrU19fn759++bcc8/Nvvvu+6mz1dfX59e//nX++Mc/ZsmS\n",
              "Jbn//vtTW1ubCy+8MEOHDk19fX2uuuqqvPzyyxkxYkQeeuihzJo1KxMmTMjpp5++wYgwatSo7LLL\n",
              "Lmt9jBo1aoM/EwAAAKiEJt/DYfvtt0+S7LDDDlm2bFnat2+fN954Y73PnThxYmpra9PQ0JALLrgg\n",
              "w4cPz09/+tNMnjw5M2bMSK9evZJ8dCbD+kydOjVnn312qqurkyTnnXde/vmf/znDhw9f7/OffPLJ\n",
              "de7hkHz0Vp6zZ8/O73//+yRJly5d0q9fvzz55JPZd999kyTnnnvuRl/3tddem8WLF+c3v/nNJs32\n",
              "rW99KzvuuGOSpE+fPpk/f/56jztlypTMmzcv/fv3b9xWVVWVxYsXp0uXLus8/4orrsill1661raP\n",
              "ZwAAAICtRZODw/77759ly5bljDPOyKGHHpq2bds2hoMNfpPWrXPSSSfl8ssvz09/+tOUy+VcccUV\n",
              "Of/885v0vUulUlPH3eRjfeELX9jgc8ePH59JkybliSeeSOvW6/+RffJ4O+ywQ+PnrVq1SkNDw3r3\n",
              "K5fLOeaYYzJhwoRNmru6ulpgAAAAYKvX5Esq7rnnnuy66675/ve/n3HjxmXkyJG55557PnW/Rx99\n",
              "NAcccECSZNCgQRkzZkzefPPNJMn777+f5557bp19jj766IwfPz5r1qxJQ0ND7rrrrhx77LFNHTk7\n",
              "77xzevbsmbFjxyb56H4OTz311FpnFWzI1KlT86Mf/SgPPvjgWlHis87Wtm3brFixovHr4447LlOn\n",
              "Ts2cOXMat02fPr0pLw8AAAC2Op/pbTE/1q9fv40+PmTIkLRp0yYNDQ3Zd999M2bMmCQf3U9h2bJl\n",
              "GTBgQJKP3hni3HPPTY8ePdba//zzz8/8+fMb3wXja1/7Wi655JLPNOu9996bCy+8MKNHj06pVMpd\n",
              "d92Vjh07fup+P/7xj/POO+/khBNOaNz20EMPfebZvvWtb+Xuu+9ObW1tBg8enKuuuioTJkzIBRdc\n",
              "kHfeeSdr1qxJjx49NvmMBwAAANgalcrlcnlTnlhVVbXRSxo2dB8GSJLBgwcnSSZNmlThSQAAANgS\n",
              "NvkMh1WrVqVcLueWW27Ju+++m7q6uiTJmDFj0qZNm802IAAAAND8bPIZDh/r1atXZs2a9anb4K85\n",
              "wwEAAGDb0uSbRq5atSpLly5t/Hrp0qVZtWpVoUMBAAAAzVuTbxp52WWXpXv37jnxxBOTJFOmTMmI\n",
              "ESOKngsAAABoxpp8SUWSzJ07N9OmTUuSHHXUUenatWvhg9GyuKQCAABg2/KZ3hazpqYmNTU1Rc8C\n",
              "AAAAtBCbHBy+/e1v5+c//3l69Oix3rfHnD17dqGDAQAAAM3XJgeHH/zgB1m4cGFuueWWtba//PLL\n",
              "6dChQ9FzAQAAAM3YJgeHO++8M8ccc0xOOumktbYvW7YsU6ZMyTe/+c3ChwMAAACap01+W8zp06ev\n",
              "ExuSj24G+MQTTxQ6FAAAANC8bXJwaGho2PBBqjb5MAAAAMA2YJNLwfvvv5+VK1eus33FihV5//33\n",
              "Cx0KAAAAaN42OTicdtppOfPMM7N8+fLGbcuXL88555yT0047bbMMBwAAADRPmxwcrrzyyrRr1y77\n",
              "7LNPevTokR49emSfffbJzjvvnB/+8Iebc0YAAACgmSmVy+VyU3aYP39+Zs+enSTp2bNn9ttvv80y\n",
              "GC3L4MGDkySTJk2q8CQAAABsCZv8tpgf22+//UQGAAAAYKO8vQQAAABQOMEBAAAAKJzgAAAAABRO\n",
              "cAAAAAAKJzgAAAAAhRMcAAAAgMIJDgAAAEDhBAcAAACgcIIDAAAAUDjBAQAAACic4AAAAAAUTnAA\n",
              "AAAACic4AAAAAIUTHAAAAIDCCQ4AAABA4VpXegC2DXvssUelRwAAAGALKpXL5XKlhwAAAABaFpdU\n",
              "AAAAAIUTHAAAAIDCCQ4AAABA4QQHAAAAoHCCAwAAAFA4wQEAAAAonOAAAAAAFE5wAAAAAAonOAAA\n",
              "AACFExwAAACAwgkOAAAAQOEEBwAAAKBwggMAAABQOMEBAAAAKJzgAAAAABROcAAAAAAKJzgAAADA\n",
              "VqCuri51dXWVHqMwrSs9AAAAAJAsWbKk0iMUyhkOAAAAQOEEBwAAAKBwggMAAABQOMEBAAAAKJzg\n",
              "AAAAABROcAAAAAAKJzgAAAAAhRMcAAAAgMIJDgAAAEDhBAcAAACgcIIDAAAAUDjBAQAAACic4AAA\n",
              "AAAUTnAAAAAACic4AAAAAIUTHAAAAIDCCQ4AAABA4QQHAAAAoHCCAwAAAFA4wQEAAAAonOAAAAAA\n",
              "FE5wAAAAAAonOAAAAACFExwAAACAwgkOAAAAQOEEBwAAAKBwggMAAABQOMEBAAAAKJzgAAAAABRO\n",
              "cAAAAAAKJzgAAAAAhRMcAAAAgMJtk8GhoaEh11xzTQ488MDU1NSktrY2559/ft56660mHWfMmDG5\n",
              "4YYbkiT19fX5j//4j7Uer62tzapVq5IknTp1Sn19fRHjAwAAwFavdaUHqIRhw4blzTffzDPPPJP2\n",
              "7dunXC7nl7/8Zd588820a9duk47R0NCQCy+8sPHr+vr6TJ48Oaeddtpa2wAAAGBbtM2d4TBv3rzc\n",
              "d999GTt2bNq3b58kKZVKOeWUU7J48eLU1tY2Pnfu3Lnp1KlTkmThwoVp165dhg8fnp49e2b06NEZ\n",
              "MWJELrnkkixdujRXXXVVpk2bltra2sYQUSqV1jpr4t57702vXr3SuXPnxjMjkuQHP/hBevfundra\n",
              "2vTv3z8vvfTSZv85AAAAwOa0zQWH2bNnp0uXLtltt92avO+KFSvStWvXzJ49O5dccknj9i9+8YsZ\n",
              "OXJkBgwYkPr6+owZM2a9+y9ZsiQzZ87Ms88+m9tuuy1PP/10kmT48OGZMWNG6uvrc9FFF+X73//+\n",
              "BmdYvXp1Vq5cudbH6tWrm/xaAAAAYHPa5oLD57HddtvljDPO+Mz7Dxs2LKVSKbvttlsGDx6cqVOn\n",
              "Jkl+97vf5fDDD09NTU1Gjhy50UsxRo0alV122WWtj1GjRn3mmQAAAGBz2Obu4dCzZ8/86U9/yrJl\n",
              "y7Lrrruu9Vjr1q3zwQcfNH793nvvrfX4jjvumKqq4hpNqVTK4sWLc/HFF2fGjBnZb7/9MmfOnPTv\n",
              "33+D+1xxxRW59NJL19pWXV1d2EwAAABQhG3uDIfOnTvnpJNOyrBhwxrvr1Aul3P//fenqqoqixYt\n",
              "yv/8z/8kSe6+++5NPm7btm2zYsWKjT5n3LhxSZI333wzv/rVrzJw4MCsWLEi2223Xb785S+nXC5n\n",
              "9OjRGz1GdXV12rZtu9aH4AAAAMDWZpsLDknyb//2b+nevXsOPfTQdO3aNQcddFD+67/+KwcddFD+\n",
              "4R/+IX369Mlhhx2WDh06bPIxBw4cmNWrV6dbt25rvXvFX9t9993Tq1ev9OnTJxdffHH69u2bgw8+\n",
              "OKeddlq6du2a3r17p2PHjkW9TAAAAKiYUrlcLld6CAAAANjWDR48OEkyadKkCk9SjG3yDAcAAABg\n",
              "8xIcAAAAgMIJDgAAAEDhBAcAAACgcIIDAAAAUDjBAQAAACic4AAAAAAUTnAAAAAACic4AAAAAIUT\n",
              "HAAAAIDCCQ4AAABA4QQHAAAAoHCCAwAAAFA4wQEAAAAonOAAAAAAFE5wAAAAAAonOAAAAACFExwA\n",
              "AACAwgkOAAAAQOEEBwAAAKBwggMAAABQOMEBAAAAKJzgAAAAABROcAAAAAAKJzgAAAAAhRMcAAAA\n",
              "gMIJDgAAAEDhBAcAAACgcIIDAAAAUDjBAQAAACic4AAAAAAUTnAAAAAACte60gMAAAAAyR577FHp\n",
              "EQpVKpfL5UoPAQAAALQsLqkAAAAACic4AAAAAIUTHAAAAIDCCQ4AAABA4QQHAAAAoHCCAwAAAFA4\n",
              "wQEAAAAonOAAW6nVq1dnxIgRWb16daVHoQWzztjcrDG2BOuMLcE6Y0toaeusVC6Xy5UeAljXypUr\n",
              "s8suu2TFihVp27ZtpcehhbLO2NysMbYE64wtwTpjS2hp68wZDgAAAEDhBAcAAACgcIIDAAAAUDjB\n",
              "AbZS1dXVufrqq1NdXV3pUWjBrDM2N2uMLcE6Y0uwztgSWto6c9NIAAAAoHDOcAAAAAAKJzgAAAAA\n",
              "hRMcAAAAgMIJDrCVOPbYY9OtW7fU1tbmiCOOyHPPPZck+dOf/pS+fftm//33T+/evfPCCy9UeFKa\n",
              "q/Wtsffeey+DBg3K/vvvn+7du+eYY47JvHnzKj0qzdiGfpd9bOzYsSmVSpk8eXJlBqRF2NA6W716\n",
              "dS6++OJ06dIlBx98cM4444wKT0pztqF19tBDD6Vnz56pra1NTU1N/v3f/73Ck9LcffJv49KlS3P8\n",
              "8cenS5cuqampyRNPPFHZAT+PMrBVWL58eePnkyZNKnfr1q1cLpfLAwYMKI8dO7ZcLpfL9913X/mQ\n",
              "Qw6pwHS0BOtbY++++275wQcfLH/44Yflcrlcvu2228pHHnlkZQakRdjQ77JyuVxesGBB+fDDDy8f\n",
              "dthh5V/96ldbfjhajA2ts0suuaR88cUXN/5Oe/311ysxHi3E+tbZhx9+WG7fvn35+eefL5fLH/1e\n",
              "q66uLq9cubJCU9Lcre9v4znnnFO++uqry+VyuTx9+vTyXnvtVV6zZk3lhvwcnOEAW4l27do1fr5i\n",
              "xYqUSqUsXbo0M2fObPwXmpNOOimvvPKKf4HmM1nfGtthhx1y4oknplQqJUkOO+ywLFy4sDID0iKs\n",
              "b50lyYcffpjvfve7ue2221rMW31ROetbZ2+//Xb+9V//NT/+8Y8b192XvvSlCk1IS7Ch32elUilv\n",
              "vfVWkmTlypXZdddd/V7jM9nQ38Zf/OIXufDCC5MkvXv3zp577pnHH3+8UmN+Lq0rPQDw/77zne9k\n",
              "2rRpST46Xe+VV17Jl7/85bRu/dF/qqVSKR07dszixYvTuXPnSo5KM/XJNfZJt956a775zW9u6bFo\n",
              "Yda3zm666ab87d/+bXr16lXJ0WhBPrnO5s+fnw4dOuS6667L1KlT06ZNm4wYMSIDBw6s8KQ0Z59c\n",
              "Z6VSKRMnTszgwYOz0047Zfny5Zk0aVK23377Ck9Kc7S+v43Lli3L+++/v1Yw7dSpUxYvXlyJET83\n",
              "ZzjAVmT8+PF55ZVXcu2112b48OGVHocWaGNr7Lrrrsu8efMyatSoCk1HS/HJdTZ37tzcf//9ufLK\n",
              "Kys9Gi3IJ9dZQ0NDFi1alIMOOigzZ87Mz372swwZMiRLliyp9Kg0Y+tbZ9dee20mTZqURYsW5ZFH\n",
              "HsmZZ56ZN954o9Kj0sxsK38bBQfYCp111lmZNm1a9t5777z++utpaGhIkpTL5SxevDgdO3as8IQ0\n",
              "dx+vsWXLliVJbrzxxkyaNCm//e1vs+OOO1Z4OlqKj9fZAw88kIULF6ZLly7p1KlTnn322Zx//vn5\n",
              "l3/5l0qPSAvw8Trba6+9UlVVlaFDhyZJevToka985Sv5wx/+UOEJaQk+XmezZs3Ka6+9lv79+yf5\n",
              "6HT3vffee50b5MKnefLJJ9f7t/EXv/hFWrdunb/85S+Nz124cGGz/f//ggNsBd5666289tprjV9P\n",
              "njw5u+66a774xS+mZ8+eueeee5Ik999/f/bee2+XU9BkG1pjHTp0yE033ZSf//zn+d3vfrfW9arQ\n",
              "VBtaZ//4j/+Y119/PQsXLszChQtz2GGH5Y477khdXV0Fp6W52tjfzIEDB+bhhx9OkixYsCALFizI\n",
              "3/zN31RqVJqxDa2zTp065fXXX88f//jHJMm8efMyf/78HHDAAZUalWaqrq5ug38bTznllIwZMyZJ\n",
              "MmPGjLz66qs58sgjKzzxZ+MeDrAVWLFiRU455ZS8++67qaqqyu67757f/OY3KZVKuf3223P22Wfn\n",
              "uuuuS9u2bTN27NhKj0sztKE19uqrr+ayyy7LV7/61QwYMCBJUl1dnf/+7/+u8MQ0Rxv7XQZF2dg6\n",
              "GzNmTIYNG5bhw4enqqoqt99+e/baa69Kj0wztKF1tscee+SOO+7Iqaeemqqqqnz44YcZPXp0s/3X\n",
              "Z7ZO119/fc4888x06dIl22+/fe65555st912lR7rMymVy+VypYcAAAAAWhaXVAAAAACFExwAAACA\n",
              "wgkOAECz1qlTp9TX16+z/eSTT864ceOafLzPuh8AsDbBAQAAACic4AAAtAgvvvhi+vbtm65du2bQ\n",
              "oEFZuXJl42MTJkzIoYcemh49eqR79+759a9/vUn7rVq1Kuedd1769OmTbt265fzzz8+aNWu26OsC\n",
              "gOZKcAAAWoQzzzwzw4YNywsvvJAf/ehHefzxxxsfO+644/Lss8/mueeeywMPPJDzzjsvq1ev/tT9\n",
              "LrvsshxxxBGZPn16nn/++Xz44Ye59dZbt/hrA4DmqHWlBwAA+LxWrlyZ+vr6nH322UmSgw8+OP36\n",
              "9Wt8fMGCBRk6dGj+/Oc/p3Xr1nnzzTezYMGC7Lnnnhvdb/LkyXnmmWdy0003JUnefffdtGrVaou9\n",
              "LgBozgQHAKBFKpVKjZ+fdtpp+clPfpKTTz45SdKhQ4e89957n7pfuVzO/fffn/3333/zDgsALZBL\n",
              "KgCAZq9t27bp0aNHxo8fnyR54YUX8tRTTzU+vnz58nzlK19Jktxzzz1Zvnz5Ju03aNCgXH/99Wlo\n",
              "aGg8zrx587bIawKA5k5wAABahPHjx+eOO+5ITU1NrrzyyvTv37/xsVtvvTUnn3xyevTokeeeey4d\n",
              "O3bcpP1uvvnmtGnTJrW1tenWrVsGDhyYhQsXbsmXBQDNVqlcLpcrPQQAAADQsjjDAQAAACic4AAA\n",
              "AAAUTnAAAAAACic4AAAAAIUTHAAAAIDCCQ4AAABA4QQHAAAAoHCCAwAAAFA4wQEAAAAonOAAAAAA\n",
              "FE5wAAAAAAr3f/sqRHbbscbiAAAAAElFTkSuQmCC\n",
              "\">\n",
              "      </div>\n",
              "      <script type=\"text/javascript\">\n",
              "        (() => {\n",
              "          const chartElement = document.getElementById(\"chart-c2d7498e-47d9-4177-8b14-a7e43ae33901\");\n",
              "          async function getCodeForChartHandler(event) {\n",
              "            const chartCodeResponse =  await google.colab.kernel.invokeFunction(\n",
              "                'getCodeForChart', [\"chart-c2d7498e-47d9-4177-8b14-a7e43ae33901\"], {});\n",
              "            const responseJson = chartCodeResponse.data['application/json'];\n",
              "            await google.colab.notebook.addCell(responseJson.code, 'code');\n",
              "          }\n",
              "          chartElement.onclick = getCodeForChartHandler;\n",
              "        })();\n",
              "      </script>\n",
              "      <style>\n",
              "        .colab-quickchart-chart-with-code  {\n",
              "            display: block;\n",
              "            float: left;\n",
              "            border: 1px solid transparent;\n",
              "        }\n",
              "\n",
              "        .colab-quickchart-chart-with-code:hover {\n",
              "            cursor: pointer;\n",
              "            border: 1px solid #aaa;\n",
              "        }\n",
              "      </style>"
            ]
          },
          "metadata": {}
        }
      ]
    },
    {
      "cell_type": "markdown",
      "source": [
        "Use `DataFrame.index` e `DataFrame.columns` para exibir, respectivamente, os índices e as colunas:"
      ],
      "metadata": {
        "id": "rBfn-PDEUY7E"
      }
    },
    {
      "cell_type": "code",
      "source": [
        "df.index"
      ],
      "metadata": {
        "id": "CFp1zLTOYCzM",
        "colab": {
          "base_uri": "https://localhost:8080/"
        },
        "outputId": "f5c2656a-29db-49d8-c4f0-eb7764422ec8"
      },
      "execution_count": 11,
      "outputs": [
        {
          "output_type": "execute_result",
          "data": {
            "text/plain": [
              "RangeIndex(start=0, stop=4, step=1)"
            ]
          },
          "metadata": {},
          "execution_count": 11
        }
      ]
    },
    {
      "cell_type": "code",
      "source": [
        "df.columns"
      ],
      "metadata": {
        "id": "HH87F9UBYDak",
        "colab": {
          "base_uri": "https://localhost:8080/"
        },
        "outputId": "41490c27-7d3d-4b81-a275-462f9d3be42a"
      },
      "execution_count": 12,
      "outputs": [
        {
          "output_type": "execute_result",
          "data": {
            "text/plain": [
              "Index(['Nome', 'Idade', 'Cidade'], dtype='object')"
            ]
          },
          "metadata": {},
          "execution_count": 12
        }
      ]
    },
    {
      "cell_type": "markdown",
      "source": [
        "Retorne uma representação *NumPy* dos dados com `DataFrame.to_numpy()`, descartando os indices e as colunas:"
      ],
      "metadata": {
        "id": "_ctFrSBhYD5s"
      }
    },
    {
      "cell_type": "code",
      "source": [
        "df.to_numpy()"
      ],
      "metadata": {
        "id": "9n-11EQvZy69",
        "colab": {
          "base_uri": "https://localhost:8080/"
        },
        "outputId": "12b1e512-78d5-4bf3-cfe8-add3a99e2a8c"
      },
      "execution_count": 13,
      "outputs": [
        {
          "output_type": "execute_result",
          "data": {
            "text/plain": [
              "array([['Ana', 23, 'São Paulo'],\n",
              "       ['Bruno', 35, 'Rio de Janeiro'],\n",
              "       ['Clara', 29, 'Belo Horizonte'],\n",
              "       ['Diego', 40, 'Curitiba']], dtype=object)"
            ]
          },
          "metadata": {},
          "execution_count": 13
        }
      ]
    },
    {
      "cell_type": "markdown",
      "source": [
        "**Nota**: matrizes *NumPy* possuem um único `dtype` enquanto os *data frames* do *Pandas* possuem um `dtype` por coluna. Ao chamar `DataFrame.to_numpy()`, o *Pandas* converterá os tipos de dados para um tipo que comporte todos os tipos de dados."
      ],
      "metadata": {
        "id": "BdUhV-C4Zzsd"
      }
    },
    {
      "cell_type": "code",
      "source": [
        "df2.dtypes"
      ],
      "metadata": {
        "id": "tA8JT0uKbJnM",
        "colab": {
          "base_uri": "https://localhost:8080/",
          "height": 272
        },
        "outputId": "a3e661df-d505-4232-c65c-53df296b1e1a"
      },
      "execution_count": 14,
      "outputs": [
        {
          "output_type": "execute_result",
          "data": {
            "text/plain": [
              "A          float64\n",
              "B    datetime64[s]\n",
              "C          float32\n",
              "D            int32\n",
              "E         category\n",
              "F           object\n",
              "dtype: object"
            ],
            "text/html": [
              "<div>\n",
              "<style scoped>\n",
              "    .dataframe tbody tr th:only-of-type {\n",
              "        vertical-align: middle;\n",
              "    }\n",
              "\n",
              "    .dataframe tbody tr th {\n",
              "        vertical-align: top;\n",
              "    }\n",
              "\n",
              "    .dataframe thead th {\n",
              "        text-align: right;\n",
              "    }\n",
              "</style>\n",
              "<table border=\"1\" class=\"dataframe\">\n",
              "  <thead>\n",
              "    <tr style=\"text-align: right;\">\n",
              "      <th></th>\n",
              "      <th>0</th>\n",
              "    </tr>\n",
              "  </thead>\n",
              "  <tbody>\n",
              "    <tr>\n",
              "      <th>A</th>\n",
              "      <td>float64</td>\n",
              "    </tr>\n",
              "    <tr>\n",
              "      <th>B</th>\n",
              "      <td>datetime64[s]</td>\n",
              "    </tr>\n",
              "    <tr>\n",
              "      <th>C</th>\n",
              "      <td>float32</td>\n",
              "    </tr>\n",
              "    <tr>\n",
              "      <th>D</th>\n",
              "      <td>int32</td>\n",
              "    </tr>\n",
              "    <tr>\n",
              "      <th>E</th>\n",
              "      <td>category</td>\n",
              "    </tr>\n",
              "    <tr>\n",
              "      <th>F</th>\n",
              "      <td>object</td>\n",
              "    </tr>\n",
              "  </tbody>\n",
              "</table>\n",
              "</div><br><label><b>dtype:</b> object</label>"
            ]
          },
          "metadata": {},
          "execution_count": 14
        }
      ]
    },
    {
      "cell_type": "code",
      "source": [
        "df2.to_numpy()"
      ],
      "metadata": {
        "id": "fJ_YCf8-bKNL",
        "colab": {
          "base_uri": "https://localhost:8080/"
        },
        "outputId": "4ec752ed-6665-45a2-c81b-91719b1f5d91"
      },
      "execution_count": 15,
      "outputs": [
        {
          "output_type": "execute_result",
          "data": {
            "text/plain": [
              "array([[1.0, Timestamp('2019-01-02 00:00:00'), 1.0, 3, 'teste', 'foo'],\n",
              "       [1.0, Timestamp('2019-01-02 00:00:00'), 1.0, 3, 'treino', 'foo'],\n",
              "       [1.0, Timestamp('2019-01-02 00:00:00'), 1.0, 3, 'teste', 'foo'],\n",
              "       [1.0, Timestamp('2019-01-02 00:00:00'), 1.0, 3, 'treino', 'foo']],\n",
              "      dtype=object)"
            ]
          },
          "metadata": {},
          "execution_count": 15
        }
      ]
    },
    {
      "cell_type": "markdown",
      "source": [
        "`describe()` mostra uma breve descrição estatística do conjunto de dados:"
      ],
      "metadata": {
        "id": "d_5tiJpZbKs0"
      }
    },
    {
      "cell_type": "code",
      "source": [
        "df.describe()"
      ],
      "metadata": {
        "id": "OTDi7b5_cOEL",
        "colab": {
          "base_uri": "https://localhost:8080/",
          "height": 300
        },
        "outputId": "4103ecd2-64d2-447a-c49d-7bb1c4856245"
      },
      "execution_count": 16,
      "outputs": [
        {
          "output_type": "execute_result",
          "data": {
            "text/plain": [
              "          Idade\n",
              "count   4.00000\n",
              "mean   31.75000\n",
              "std     7.36546\n",
              "min    23.00000\n",
              "25%    27.50000\n",
              "50%    32.00000\n",
              "75%    36.25000\n",
              "max    40.00000"
            ],
            "text/html": [
              "\n",
              "  <div id=\"df-660052f5-3a9d-470a-9f17-c6238f4bb313\" class=\"colab-df-container\">\n",
              "    <div>\n",
              "<style scoped>\n",
              "    .dataframe tbody tr th:only-of-type {\n",
              "        vertical-align: middle;\n",
              "    }\n",
              "\n",
              "    .dataframe tbody tr th {\n",
              "        vertical-align: top;\n",
              "    }\n",
              "\n",
              "    .dataframe thead th {\n",
              "        text-align: right;\n",
              "    }\n",
              "</style>\n",
              "<table border=\"1\" class=\"dataframe\">\n",
              "  <thead>\n",
              "    <tr style=\"text-align: right;\">\n",
              "      <th></th>\n",
              "      <th>Idade</th>\n",
              "    </tr>\n",
              "  </thead>\n",
              "  <tbody>\n",
              "    <tr>\n",
              "      <th>count</th>\n",
              "      <td>4.00000</td>\n",
              "    </tr>\n",
              "    <tr>\n",
              "      <th>mean</th>\n",
              "      <td>31.75000</td>\n",
              "    </tr>\n",
              "    <tr>\n",
              "      <th>std</th>\n",
              "      <td>7.36546</td>\n",
              "    </tr>\n",
              "    <tr>\n",
              "      <th>min</th>\n",
              "      <td>23.00000</td>\n",
              "    </tr>\n",
              "    <tr>\n",
              "      <th>25%</th>\n",
              "      <td>27.50000</td>\n",
              "    </tr>\n",
              "    <tr>\n",
              "      <th>50%</th>\n",
              "      <td>32.00000</td>\n",
              "    </tr>\n",
              "    <tr>\n",
              "      <th>75%</th>\n",
              "      <td>36.25000</td>\n",
              "    </tr>\n",
              "    <tr>\n",
              "      <th>max</th>\n",
              "      <td>40.00000</td>\n",
              "    </tr>\n",
              "  </tbody>\n",
              "</table>\n",
              "</div>\n",
              "    <div class=\"colab-df-buttons\">\n",
              "\n",
              "  <div class=\"colab-df-container\">\n",
              "    <button class=\"colab-df-convert\" onclick=\"convertToInteractive('df-660052f5-3a9d-470a-9f17-c6238f4bb313')\"\n",
              "            title=\"Convert this dataframe to an interactive table.\"\n",
              "            style=\"display:none;\">\n",
              "\n",
              "  <svg xmlns=\"http://www.w3.org/2000/svg\" height=\"24px\" viewBox=\"0 -960 960 960\">\n",
              "    <path d=\"M120-120v-720h720v720H120Zm60-500h600v-160H180v160Zm220 220h160v-160H400v160Zm0 220h160v-160H400v160ZM180-400h160v-160H180v160Zm440 0h160v-160H620v160ZM180-180h160v-160H180v160Zm440 0h160v-160H620v160Z\"/>\n",
              "  </svg>\n",
              "    </button>\n",
              "\n",
              "  <style>\n",
              "    .colab-df-container {\n",
              "      display:flex;\n",
              "      gap: 12px;\n",
              "    }\n",
              "\n",
              "    .colab-df-convert {\n",
              "      background-color: #E8F0FE;\n",
              "      border: none;\n",
              "      border-radius: 50%;\n",
              "      cursor: pointer;\n",
              "      display: none;\n",
              "      fill: #1967D2;\n",
              "      height: 32px;\n",
              "      padding: 0 0 0 0;\n",
              "      width: 32px;\n",
              "    }\n",
              "\n",
              "    .colab-df-convert:hover {\n",
              "      background-color: #E2EBFA;\n",
              "      box-shadow: 0px 1px 2px rgba(60, 64, 67, 0.3), 0px 1px 3px 1px rgba(60, 64, 67, 0.15);\n",
              "      fill: #174EA6;\n",
              "    }\n",
              "\n",
              "    .colab-df-buttons div {\n",
              "      margin-bottom: 4px;\n",
              "    }\n",
              "\n",
              "    [theme=dark] .colab-df-convert {\n",
              "      background-color: #3B4455;\n",
              "      fill: #D2E3FC;\n",
              "    }\n",
              "\n",
              "    [theme=dark] .colab-df-convert:hover {\n",
              "      background-color: #434B5C;\n",
              "      box-shadow: 0px 1px 3px 1px rgba(0, 0, 0, 0.15);\n",
              "      filter: drop-shadow(0px 1px 2px rgba(0, 0, 0, 0.3));\n",
              "      fill: #FFFFFF;\n",
              "    }\n",
              "  </style>\n",
              "\n",
              "    <script>\n",
              "      const buttonEl =\n",
              "        document.querySelector('#df-660052f5-3a9d-470a-9f17-c6238f4bb313 button.colab-df-convert');\n",
              "      buttonEl.style.display =\n",
              "        google.colab.kernel.accessAllowed ? 'block' : 'none';\n",
              "\n",
              "      async function convertToInteractive(key) {\n",
              "        const element = document.querySelector('#df-660052f5-3a9d-470a-9f17-c6238f4bb313');\n",
              "        const dataTable =\n",
              "          await google.colab.kernel.invokeFunction('convertToInteractive',\n",
              "                                                    [key], {});\n",
              "        if (!dataTable) return;\n",
              "\n",
              "        const docLinkHtml = 'Like what you see? Visit the ' +\n",
              "          '<a target=\"_blank\" href=https://colab.research.google.com/notebooks/data_table.ipynb>data table notebook</a>'\n",
              "          + ' to learn more about interactive tables.';\n",
              "        element.innerHTML = '';\n",
              "        dataTable['output_type'] = 'display_data';\n",
              "        await google.colab.output.renderOutput(dataTable, element);\n",
              "        const docLink = document.createElement('div');\n",
              "        docLink.innerHTML = docLinkHtml;\n",
              "        element.appendChild(docLink);\n",
              "      }\n",
              "    </script>\n",
              "  </div>\n",
              "\n",
              "\n",
              "<div id=\"df-aa47e24b-c659-4c95-9f2e-0e1a68a19bb9\">\n",
              "  <button class=\"colab-df-quickchart\" onclick=\"quickchart('df-aa47e24b-c659-4c95-9f2e-0e1a68a19bb9')\"\n",
              "            title=\"Suggest charts\"\n",
              "            style=\"display:none;\">\n",
              "\n",
              "<svg xmlns=\"http://www.w3.org/2000/svg\" height=\"24px\"viewBox=\"0 0 24 24\"\n",
              "     width=\"24px\">\n",
              "    <g>\n",
              "        <path d=\"M19 3H5c-1.1 0-2 .9-2 2v14c0 1.1.9 2 2 2h14c1.1 0 2-.9 2-2V5c0-1.1-.9-2-2-2zM9 17H7v-7h2v7zm4 0h-2V7h2v10zm4 0h-2v-4h2v4z\"/>\n",
              "    </g>\n",
              "</svg>\n",
              "  </button>\n",
              "\n",
              "<style>\n",
              "  .colab-df-quickchart {\n",
              "      --bg-color: #E8F0FE;\n",
              "      --fill-color: #1967D2;\n",
              "      --hover-bg-color: #E2EBFA;\n",
              "      --hover-fill-color: #174EA6;\n",
              "      --disabled-fill-color: #AAA;\n",
              "      --disabled-bg-color: #DDD;\n",
              "  }\n",
              "\n",
              "  [theme=dark] .colab-df-quickchart {\n",
              "      --bg-color: #3B4455;\n",
              "      --fill-color: #D2E3FC;\n",
              "      --hover-bg-color: #434B5C;\n",
              "      --hover-fill-color: #FFFFFF;\n",
              "      --disabled-bg-color: #3B4455;\n",
              "      --disabled-fill-color: #666;\n",
              "  }\n",
              "\n",
              "  .colab-df-quickchart {\n",
              "    background-color: var(--bg-color);\n",
              "    border: none;\n",
              "    border-radius: 50%;\n",
              "    cursor: pointer;\n",
              "    display: none;\n",
              "    fill: var(--fill-color);\n",
              "    height: 32px;\n",
              "    padding: 0;\n",
              "    width: 32px;\n",
              "  }\n",
              "\n",
              "  .colab-df-quickchart:hover {\n",
              "    background-color: var(--hover-bg-color);\n",
              "    box-shadow: 0 1px 2px rgba(60, 64, 67, 0.3), 0 1px 3px 1px rgba(60, 64, 67, 0.15);\n",
              "    fill: var(--button-hover-fill-color);\n",
              "  }\n",
              "\n",
              "  .colab-df-quickchart-complete:disabled,\n",
              "  .colab-df-quickchart-complete:disabled:hover {\n",
              "    background-color: var(--disabled-bg-color);\n",
              "    fill: var(--disabled-fill-color);\n",
              "    box-shadow: none;\n",
              "  }\n",
              "\n",
              "  .colab-df-spinner {\n",
              "    border: 2px solid var(--fill-color);\n",
              "    border-color: transparent;\n",
              "    border-bottom-color: var(--fill-color);\n",
              "    animation:\n",
              "      spin 1s steps(1) infinite;\n",
              "  }\n",
              "\n",
              "  @keyframes spin {\n",
              "    0% {\n",
              "      border-color: transparent;\n",
              "      border-bottom-color: var(--fill-color);\n",
              "      border-left-color: var(--fill-color);\n",
              "    }\n",
              "    20% {\n",
              "      border-color: transparent;\n",
              "      border-left-color: var(--fill-color);\n",
              "      border-top-color: var(--fill-color);\n",
              "    }\n",
              "    30% {\n",
              "      border-color: transparent;\n",
              "      border-left-color: var(--fill-color);\n",
              "      border-top-color: var(--fill-color);\n",
              "      border-right-color: var(--fill-color);\n",
              "    }\n",
              "    40% {\n",
              "      border-color: transparent;\n",
              "      border-right-color: var(--fill-color);\n",
              "      border-top-color: var(--fill-color);\n",
              "    }\n",
              "    60% {\n",
              "      border-color: transparent;\n",
              "      border-right-color: var(--fill-color);\n",
              "    }\n",
              "    80% {\n",
              "      border-color: transparent;\n",
              "      border-right-color: var(--fill-color);\n",
              "      border-bottom-color: var(--fill-color);\n",
              "    }\n",
              "    90% {\n",
              "      border-color: transparent;\n",
              "      border-bottom-color: var(--fill-color);\n",
              "    }\n",
              "  }\n",
              "</style>\n",
              "\n",
              "  <script>\n",
              "    async function quickchart(key) {\n",
              "      const quickchartButtonEl =\n",
              "        document.querySelector('#' + key + ' button');\n",
              "      quickchartButtonEl.disabled = true;  // To prevent multiple clicks.\n",
              "      quickchartButtonEl.classList.add('colab-df-spinner');\n",
              "      try {\n",
              "        const charts = await google.colab.kernel.invokeFunction(\n",
              "            'suggestCharts', [key], {});\n",
              "      } catch (error) {\n",
              "        console.error('Error during call to suggestCharts:', error);\n",
              "      }\n",
              "      quickchartButtonEl.classList.remove('colab-df-spinner');\n",
              "      quickchartButtonEl.classList.add('colab-df-quickchart-complete');\n",
              "    }\n",
              "    (() => {\n",
              "      let quickchartButtonEl =\n",
              "        document.querySelector('#df-aa47e24b-c659-4c95-9f2e-0e1a68a19bb9 button');\n",
              "      quickchartButtonEl.style.display =\n",
              "        google.colab.kernel.accessAllowed ? 'block' : 'none';\n",
              "    })();\n",
              "  </script>\n",
              "</div>\n",
              "\n",
              "    </div>\n",
              "  </div>\n"
            ],
            "application/vnd.google.colaboratory.intrinsic+json": {
              "type": "dataframe",
              "summary": "{\n  \"name\": \"df\",\n  \"rows\": 8,\n  \"fields\": [\n    {\n      \"column\": \"Idade\",\n      \"properties\": {\n        \"dtype\": \"number\",\n        \"std\": 13.136193245267988,\n        \"min\": 4.0,\n        \"max\": 40.0,\n        \"num_unique_values\": 8,\n        \"samples\": [\n          31.75,\n          32.0,\n          4.0\n        ],\n        \"semantic_type\": \"\",\n        \"description\": \"\"\n      }\n    }\n  ]\n}"
            }
          },
          "metadata": {},
          "execution_count": 16
        }
      ]
    },
    {
      "cell_type": "markdown",
      "source": [
        "Transpondo os dados:"
      ],
      "metadata": {
        "id": "THPgwH2qcPvT"
      }
    },
    {
      "cell_type": "code",
      "source": [
        "df.T"
      ],
      "metadata": {
        "id": "TFhNzLXFcvZn"
      },
      "execution_count": null,
      "outputs": []
    },
    {
      "cell_type": "markdown",
      "source": [
        "`DataFrame.sort_index()` ordena os dados com relação a um determinado eixo:"
      ],
      "metadata": {
        "id": "G4jBoTedcwEN"
      }
    },
    {
      "cell_type": "code",
      "source": [
        "df.sort_index(axis=1, ascending=False) # ordenação descendente pelo nome das colunas"
      ],
      "metadata": {
        "id": "ZjbfZBKYd0H0"
      },
      "execution_count": null,
      "outputs": []
    },
    {
      "cell_type": "markdown",
      "source": [
        "`DataFrame.sort_values()` ordena os valores:"
      ],
      "metadata": {
        "id": "eAyY2xBFd0ts"
      }
    },
    {
      "cell_type": "code",
      "source": [
        "df.sort_values(by=\"B\")"
      ],
      "metadata": {
        "id": "dF9jpwb9d1OU"
      },
      "execution_count": null,
      "outputs": []
    },
    {
      "cell_type": "markdown",
      "source": [
        "## Seleção de valores"
      ],
      "metadata": {
        "id": "8PabNIab6lRw"
      }
    },
    {
      "cell_type": "markdown",
      "source": [
        "**Nota:** Enquanto as expressões para seleção e atribuição no NumPy/Python padrão sejam intuitivos, em códigos de produção, é recomendado utilizar os métodos otimizados do *Pandas* para acessar dados `DataFrame.at()`, `DataFrame.iat()`, `DataFrame.loc()` e `DataFrame.iloc()`."
      ],
      "metadata": {
        "id": "e6Pyt3Xvd1vD"
      }
    },
    {
      "cell_type": "markdown",
      "source": [
        "### GetItem ([])"
      ],
      "metadata": {
        "id": "mx3bN5Sz6vTr"
      }
    },
    {
      "cell_type": "markdown",
      "source": [
        "Para um `DataFrame`, ao receber um nome entre colchetes, a coluna correspondente é selecionada."
      ],
      "metadata": {
        "id": "c05ZgT4A6yrl"
      }
    },
    {
      "cell_type": "code",
      "source": [
        "datas = pd.date_range(\"20190101\", periods=6)\n",
        "\n",
        "df = pd.DataFrame(np.random.randn(6, 4), index=datas, columns=list(\"ABCD\"))\n",
        "print(\"df:\\n\", df)\n",
        "\n",
        "\n",
        "df[\"A\"]"
      ],
      "metadata": {
        "id": "bXijGohtnIq5",
        "colab": {
          "base_uri": "https://localhost:8080/",
          "height": 420
        },
        "outputId": "4a085f20-59d2-4098-b4db-bbef2b1c5b7f"
      },
      "execution_count": 17,
      "outputs": [
        {
          "output_type": "stream",
          "name": "stdout",
          "text": [
            "df:\n",
            "                    A         B         C         D\n",
            "2019-01-01  0.651225 -0.986302 -0.718069  0.258991\n",
            "2019-01-02 -0.329970  0.352228 -0.470660  1.005769\n",
            "2019-01-03  0.008708 -0.831035 -1.488077  1.574572\n",
            "2019-01-04 -0.956541  0.544672 -0.747116 -1.145936\n",
            "2019-01-05  0.393846  0.986255 -0.424152 -1.503343\n",
            "2019-01-06  0.764514  0.581005 -0.904437 -1.030815\n"
          ]
        },
        {
          "output_type": "execute_result",
          "data": {
            "text/plain": [
              "2019-01-01    0.651225\n",
              "2019-01-02   -0.329970\n",
              "2019-01-03    0.008708\n",
              "2019-01-04   -0.956541\n",
              "2019-01-05    0.393846\n",
              "2019-01-06    0.764514\n",
              "Freq: D, Name: A, dtype: float64"
            ],
            "text/html": [
              "<div>\n",
              "<style scoped>\n",
              "    .dataframe tbody tr th:only-of-type {\n",
              "        vertical-align: middle;\n",
              "    }\n",
              "\n",
              "    .dataframe tbody tr th {\n",
              "        vertical-align: top;\n",
              "    }\n",
              "\n",
              "    .dataframe thead th {\n",
              "        text-align: right;\n",
              "    }\n",
              "</style>\n",
              "<table border=\"1\" class=\"dataframe\">\n",
              "  <thead>\n",
              "    <tr style=\"text-align: right;\">\n",
              "      <th></th>\n",
              "      <th>A</th>\n",
              "    </tr>\n",
              "  </thead>\n",
              "  <tbody>\n",
              "    <tr>\n",
              "      <th>2019-01-01</th>\n",
              "      <td>0.651225</td>\n",
              "    </tr>\n",
              "    <tr>\n",
              "      <th>2019-01-02</th>\n",
              "      <td>-0.329970</td>\n",
              "    </tr>\n",
              "    <tr>\n",
              "      <th>2019-01-03</th>\n",
              "      <td>0.008708</td>\n",
              "    </tr>\n",
              "    <tr>\n",
              "      <th>2019-01-04</th>\n",
              "      <td>-0.956541</td>\n",
              "    </tr>\n",
              "    <tr>\n",
              "      <th>2019-01-05</th>\n",
              "      <td>0.393846</td>\n",
              "    </tr>\n",
              "    <tr>\n",
              "      <th>2019-01-06</th>\n",
              "      <td>0.764514</td>\n",
              "    </tr>\n",
              "  </tbody>\n",
              "</table>\n",
              "</div><br><label><b>dtype:</b> float64</label>"
            ]
          },
          "metadata": {},
          "execution_count": 17
        }
      ]
    },
    {
      "cell_type": "markdown",
      "source": [
        "Uma forma alternativa de referenciar uma coluna é usando `.`:"
      ],
      "metadata": {
        "id": "WQSJYnomnJGg"
      }
    },
    {
      "cell_type": "code",
      "source": [
        "df.A"
      ],
      "metadata": {
        "id": "9mlo2XBQnJhw",
        "colab": {
          "base_uri": "https://localhost:8080/",
          "height": 272
        },
        "outputId": "e0d043a7-f0e7-4cb7-8d62-730d4eee71e3"
      },
      "execution_count": 18,
      "outputs": [
        {
          "output_type": "execute_result",
          "data": {
            "text/plain": [
              "2019-01-01    0.651225\n",
              "2019-01-02   -0.329970\n",
              "2019-01-03    0.008708\n",
              "2019-01-04   -0.956541\n",
              "2019-01-05    0.393846\n",
              "2019-01-06    0.764514\n",
              "Freq: D, Name: A, dtype: float64"
            ],
            "text/html": [
              "<div>\n",
              "<style scoped>\n",
              "    .dataframe tbody tr th:only-of-type {\n",
              "        vertical-align: middle;\n",
              "    }\n",
              "\n",
              "    .dataframe tbody tr th {\n",
              "        vertical-align: top;\n",
              "    }\n",
              "\n",
              "    .dataframe thead th {\n",
              "        text-align: right;\n",
              "    }\n",
              "</style>\n",
              "<table border=\"1\" class=\"dataframe\">\n",
              "  <thead>\n",
              "    <tr style=\"text-align: right;\">\n",
              "      <th></th>\n",
              "      <th>A</th>\n",
              "    </tr>\n",
              "  </thead>\n",
              "  <tbody>\n",
              "    <tr>\n",
              "      <th>2019-01-01</th>\n",
              "      <td>0.651225</td>\n",
              "    </tr>\n",
              "    <tr>\n",
              "      <th>2019-01-02</th>\n",
              "      <td>-0.329970</td>\n",
              "    </tr>\n",
              "    <tr>\n",
              "      <th>2019-01-03</th>\n",
              "      <td>0.008708</td>\n",
              "    </tr>\n",
              "    <tr>\n",
              "      <th>2019-01-04</th>\n",
              "      <td>-0.956541</td>\n",
              "    </tr>\n",
              "    <tr>\n",
              "      <th>2019-01-05</th>\n",
              "      <td>0.393846</td>\n",
              "    </tr>\n",
              "    <tr>\n",
              "      <th>2019-01-06</th>\n",
              "      <td>0.764514</td>\n",
              "    </tr>\n",
              "  </tbody>\n",
              "</table>\n",
              "</div><br><label><b>dtype:</b> float64</label>"
            ]
          },
          "metadata": {},
          "execution_count": 18
        }
      ]
    },
    {
      "cell_type": "markdown",
      "source": [
        "Em um `DataFrame`, o operador `:` seleciona as linhas correspondentes:"
      ],
      "metadata": {
        "id": "J2PDVukRnJzI"
      }
    },
    {
      "cell_type": "code",
      "source": [
        "df[0:3]"
      ],
      "metadata": {
        "id": "NeOMz_wbpgJQ",
        "colab": {
          "base_uri": "https://localhost:8080/",
          "height": 143
        },
        "outputId": "0067106a-ebd2-4880-96ce-45604d694171"
      },
      "execution_count": 19,
      "outputs": [
        {
          "output_type": "execute_result",
          "data": {
            "text/plain": [
              "                   A         B         C         D\n",
              "2019-01-01  0.651225 -0.986302 -0.718069  0.258991\n",
              "2019-01-02 -0.329970  0.352228 -0.470660  1.005769\n",
              "2019-01-03  0.008708 -0.831035 -1.488077  1.574572"
            ],
            "text/html": [
              "\n",
              "  <div id=\"df-e4ccc205-3d6f-4327-bbd1-4e490d5af672\" class=\"colab-df-container\">\n",
              "    <div>\n",
              "<style scoped>\n",
              "    .dataframe tbody tr th:only-of-type {\n",
              "        vertical-align: middle;\n",
              "    }\n",
              "\n",
              "    .dataframe tbody tr th {\n",
              "        vertical-align: top;\n",
              "    }\n",
              "\n",
              "    .dataframe thead th {\n",
              "        text-align: right;\n",
              "    }\n",
              "</style>\n",
              "<table border=\"1\" class=\"dataframe\">\n",
              "  <thead>\n",
              "    <tr style=\"text-align: right;\">\n",
              "      <th></th>\n",
              "      <th>A</th>\n",
              "      <th>B</th>\n",
              "      <th>C</th>\n",
              "      <th>D</th>\n",
              "    </tr>\n",
              "  </thead>\n",
              "  <tbody>\n",
              "    <tr>\n",
              "      <th>2019-01-01</th>\n",
              "      <td>0.651225</td>\n",
              "      <td>-0.986302</td>\n",
              "      <td>-0.718069</td>\n",
              "      <td>0.258991</td>\n",
              "    </tr>\n",
              "    <tr>\n",
              "      <th>2019-01-02</th>\n",
              "      <td>-0.329970</td>\n",
              "      <td>0.352228</td>\n",
              "      <td>-0.470660</td>\n",
              "      <td>1.005769</td>\n",
              "    </tr>\n",
              "    <tr>\n",
              "      <th>2019-01-03</th>\n",
              "      <td>0.008708</td>\n",
              "      <td>-0.831035</td>\n",
              "      <td>-1.488077</td>\n",
              "      <td>1.574572</td>\n",
              "    </tr>\n",
              "  </tbody>\n",
              "</table>\n",
              "</div>\n",
              "    <div class=\"colab-df-buttons\">\n",
              "\n",
              "  <div class=\"colab-df-container\">\n",
              "    <button class=\"colab-df-convert\" onclick=\"convertToInteractive('df-e4ccc205-3d6f-4327-bbd1-4e490d5af672')\"\n",
              "            title=\"Convert this dataframe to an interactive table.\"\n",
              "            style=\"display:none;\">\n",
              "\n",
              "  <svg xmlns=\"http://www.w3.org/2000/svg\" height=\"24px\" viewBox=\"0 -960 960 960\">\n",
              "    <path d=\"M120-120v-720h720v720H120Zm60-500h600v-160H180v160Zm220 220h160v-160H400v160Zm0 220h160v-160H400v160ZM180-400h160v-160H180v160Zm440 0h160v-160H620v160ZM180-180h160v-160H180v160Zm440 0h160v-160H620v160Z\"/>\n",
              "  </svg>\n",
              "    </button>\n",
              "\n",
              "  <style>\n",
              "    .colab-df-container {\n",
              "      display:flex;\n",
              "      gap: 12px;\n",
              "    }\n",
              "\n",
              "    .colab-df-convert {\n",
              "      background-color: #E8F0FE;\n",
              "      border: none;\n",
              "      border-radius: 50%;\n",
              "      cursor: pointer;\n",
              "      display: none;\n",
              "      fill: #1967D2;\n",
              "      height: 32px;\n",
              "      padding: 0 0 0 0;\n",
              "      width: 32px;\n",
              "    }\n",
              "\n",
              "    .colab-df-convert:hover {\n",
              "      background-color: #E2EBFA;\n",
              "      box-shadow: 0px 1px 2px rgba(60, 64, 67, 0.3), 0px 1px 3px 1px rgba(60, 64, 67, 0.15);\n",
              "      fill: #174EA6;\n",
              "    }\n",
              "\n",
              "    .colab-df-buttons div {\n",
              "      margin-bottom: 4px;\n",
              "    }\n",
              "\n",
              "    [theme=dark] .colab-df-convert {\n",
              "      background-color: #3B4455;\n",
              "      fill: #D2E3FC;\n",
              "    }\n",
              "\n",
              "    [theme=dark] .colab-df-convert:hover {\n",
              "      background-color: #434B5C;\n",
              "      box-shadow: 0px 1px 3px 1px rgba(0, 0, 0, 0.15);\n",
              "      filter: drop-shadow(0px 1px 2px rgba(0, 0, 0, 0.3));\n",
              "      fill: #FFFFFF;\n",
              "    }\n",
              "  </style>\n",
              "\n",
              "    <script>\n",
              "      const buttonEl =\n",
              "        document.querySelector('#df-e4ccc205-3d6f-4327-bbd1-4e490d5af672 button.colab-df-convert');\n",
              "      buttonEl.style.display =\n",
              "        google.colab.kernel.accessAllowed ? 'block' : 'none';\n",
              "\n",
              "      async function convertToInteractive(key) {\n",
              "        const element = document.querySelector('#df-e4ccc205-3d6f-4327-bbd1-4e490d5af672');\n",
              "        const dataTable =\n",
              "          await google.colab.kernel.invokeFunction('convertToInteractive',\n",
              "                                                    [key], {});\n",
              "        if (!dataTable) return;\n",
              "\n",
              "        const docLinkHtml = 'Like what you see? Visit the ' +\n",
              "          '<a target=\"_blank\" href=https://colab.research.google.com/notebooks/data_table.ipynb>data table notebook</a>'\n",
              "          + ' to learn more about interactive tables.';\n",
              "        element.innerHTML = '';\n",
              "        dataTable['output_type'] = 'display_data';\n",
              "        await google.colab.output.renderOutput(dataTable, element);\n",
              "        const docLink = document.createElement('div');\n",
              "        docLink.innerHTML = docLinkHtml;\n",
              "        element.appendChild(docLink);\n",
              "      }\n",
              "    </script>\n",
              "  </div>\n",
              "\n",
              "\n",
              "<div id=\"df-7f3829a2-99d7-41f8-b070-13be6f3d49b4\">\n",
              "  <button class=\"colab-df-quickchart\" onclick=\"quickchart('df-7f3829a2-99d7-41f8-b070-13be6f3d49b4')\"\n",
              "            title=\"Suggest charts\"\n",
              "            style=\"display:none;\">\n",
              "\n",
              "<svg xmlns=\"http://www.w3.org/2000/svg\" height=\"24px\"viewBox=\"0 0 24 24\"\n",
              "     width=\"24px\">\n",
              "    <g>\n",
              "        <path d=\"M19 3H5c-1.1 0-2 .9-2 2v14c0 1.1.9 2 2 2h14c1.1 0 2-.9 2-2V5c0-1.1-.9-2-2-2zM9 17H7v-7h2v7zm4 0h-2V7h2v10zm4 0h-2v-4h2v4z\"/>\n",
              "    </g>\n",
              "</svg>\n",
              "  </button>\n",
              "\n",
              "<style>\n",
              "  .colab-df-quickchart {\n",
              "      --bg-color: #E8F0FE;\n",
              "      --fill-color: #1967D2;\n",
              "      --hover-bg-color: #E2EBFA;\n",
              "      --hover-fill-color: #174EA6;\n",
              "      --disabled-fill-color: #AAA;\n",
              "      --disabled-bg-color: #DDD;\n",
              "  }\n",
              "\n",
              "  [theme=dark] .colab-df-quickchart {\n",
              "      --bg-color: #3B4455;\n",
              "      --fill-color: #D2E3FC;\n",
              "      --hover-bg-color: #434B5C;\n",
              "      --hover-fill-color: #FFFFFF;\n",
              "      --disabled-bg-color: #3B4455;\n",
              "      --disabled-fill-color: #666;\n",
              "  }\n",
              "\n",
              "  .colab-df-quickchart {\n",
              "    background-color: var(--bg-color);\n",
              "    border: none;\n",
              "    border-radius: 50%;\n",
              "    cursor: pointer;\n",
              "    display: none;\n",
              "    fill: var(--fill-color);\n",
              "    height: 32px;\n",
              "    padding: 0;\n",
              "    width: 32px;\n",
              "  }\n",
              "\n",
              "  .colab-df-quickchart:hover {\n",
              "    background-color: var(--hover-bg-color);\n",
              "    box-shadow: 0 1px 2px rgba(60, 64, 67, 0.3), 0 1px 3px 1px rgba(60, 64, 67, 0.15);\n",
              "    fill: var(--button-hover-fill-color);\n",
              "  }\n",
              "\n",
              "  .colab-df-quickchart-complete:disabled,\n",
              "  .colab-df-quickchart-complete:disabled:hover {\n",
              "    background-color: var(--disabled-bg-color);\n",
              "    fill: var(--disabled-fill-color);\n",
              "    box-shadow: none;\n",
              "  }\n",
              "\n",
              "  .colab-df-spinner {\n",
              "    border: 2px solid var(--fill-color);\n",
              "    border-color: transparent;\n",
              "    border-bottom-color: var(--fill-color);\n",
              "    animation:\n",
              "      spin 1s steps(1) infinite;\n",
              "  }\n",
              "\n",
              "  @keyframes spin {\n",
              "    0% {\n",
              "      border-color: transparent;\n",
              "      border-bottom-color: var(--fill-color);\n",
              "      border-left-color: var(--fill-color);\n",
              "    }\n",
              "    20% {\n",
              "      border-color: transparent;\n",
              "      border-left-color: var(--fill-color);\n",
              "      border-top-color: var(--fill-color);\n",
              "    }\n",
              "    30% {\n",
              "      border-color: transparent;\n",
              "      border-left-color: var(--fill-color);\n",
              "      border-top-color: var(--fill-color);\n",
              "      border-right-color: var(--fill-color);\n",
              "    }\n",
              "    40% {\n",
              "      border-color: transparent;\n",
              "      border-right-color: var(--fill-color);\n",
              "      border-top-color: var(--fill-color);\n",
              "    }\n",
              "    60% {\n",
              "      border-color: transparent;\n",
              "      border-right-color: var(--fill-color);\n",
              "    }\n",
              "    80% {\n",
              "      border-color: transparent;\n",
              "      border-right-color: var(--fill-color);\n",
              "      border-bottom-color: var(--fill-color);\n",
              "    }\n",
              "    90% {\n",
              "      border-color: transparent;\n",
              "      border-bottom-color: var(--fill-color);\n",
              "    }\n",
              "  }\n",
              "</style>\n",
              "\n",
              "  <script>\n",
              "    async function quickchart(key) {\n",
              "      const quickchartButtonEl =\n",
              "        document.querySelector('#' + key + ' button');\n",
              "      quickchartButtonEl.disabled = true;  // To prevent multiple clicks.\n",
              "      quickchartButtonEl.classList.add('colab-df-spinner');\n",
              "      try {\n",
              "        const charts = await google.colab.kernel.invokeFunction(\n",
              "            'suggestCharts', [key], {});\n",
              "      } catch (error) {\n",
              "        console.error('Error during call to suggestCharts:', error);\n",
              "      }\n",
              "      quickchartButtonEl.classList.remove('colab-df-spinner');\n",
              "      quickchartButtonEl.classList.add('colab-df-quickchart-complete');\n",
              "    }\n",
              "    (() => {\n",
              "      let quickchartButtonEl =\n",
              "        document.querySelector('#df-7f3829a2-99d7-41f8-b070-13be6f3d49b4 button');\n",
              "      quickchartButtonEl.style.display =\n",
              "        google.colab.kernel.accessAllowed ? 'block' : 'none';\n",
              "    })();\n",
              "  </script>\n",
              "</div>\n",
              "\n",
              "    </div>\n",
              "  </div>\n"
            ],
            "application/vnd.google.colaboratory.intrinsic+json": {
              "type": "dataframe",
              "summary": "{\n  \"name\": \"df[0:3]\",\n  \"rows\": 3,\n  \"fields\": [\n    {\n      \"column\": \"A\",\n      \"properties\": {\n        \"dtype\": \"number\",\n        \"std\": 0.49837607674869416,\n        \"min\": -0.32996962397989327,\n        \"max\": 0.6512246075092327,\n        \"num_unique_values\": 3,\n        \"samples\": [\n          0.6512246075092327,\n          -0.32996962397989327,\n          0.008707935105204722\n        ],\n        \"semantic_type\": \"\",\n        \"description\": \"\"\n      }\n    },\n    {\n      \"column\": \"B\",\n      \"properties\": {\n        \"dtype\": \"number\",\n        \"std\": 0.7321071214726445,\n        \"min\": -0.9863020233852804,\n        \"max\": 0.35222849735229433,\n        \"num_unique_values\": 3,\n        \"samples\": [\n          -0.9863020233852804,\n          0.35222849735229433,\n          -0.8310353483485754\n        ],\n        \"semantic_type\": \"\",\n        \"description\": \"\"\n      }\n    },\n    {\n      \"column\": \"C\",\n      \"properties\": {\n        \"dtype\": \"number\",\n        \"std\": 0.530606711665432,\n        \"min\": -1.4880772734180694,\n        \"max\": -0.4706604554511614,\n        \"num_unique_values\": 3,\n        \"samples\": [\n          -0.7180688237117377,\n          -0.4706604554511614,\n          -1.4880772734180694\n        ],\n        \"semantic_type\": \"\",\n        \"description\": \"\"\n      }\n    },\n    {\n      \"column\": \"D\",\n      \"properties\": {\n        \"dtype\": \"number\",\n        \"std\": 0.6597936322532526,\n        \"min\": 0.25899107496056084,\n        \"max\": 1.5745715739451531,\n        \"num_unique_values\": 3,\n        \"samples\": [\n          0.25899107496056084,\n          1.0057693826652343,\n          1.5745715739451531\n        ],\n        \"semantic_type\": \"\",\n        \"description\": \"\"\n      }\n    }\n  ]\n}"
            }
          },
          "metadata": {},
          "execution_count": 19
        }
      ]
    },
    {
      "cell_type": "markdown",
      "source": [
        "A seleção também funciona para valores dos índices:"
      ],
      "metadata": {
        "id": "SW56qdzr7cGA"
      }
    },
    {
      "cell_type": "code",
      "source": [
        "df[\"20190102\":\"20190104\"]\n",
        "##  neste exemplo,  utilizamos o padrão \"AAAAMMDD\"\n",
        "##  resultados equivalentes são obtidos para os padrões\n",
        "##  \"AAAA-MM-DD\",\"AAAA/MMDD\""
      ],
      "metadata": {
        "id": "6rVZ9Ab5pgXH",
        "colab": {
          "base_uri": "https://localhost:8080/",
          "height": 143
        },
        "outputId": "c5a9f4ca-68ff-48f6-8d6f-c4bc6cff4b43"
      },
      "execution_count": 20,
      "outputs": [
        {
          "output_type": "execute_result",
          "data": {
            "text/plain": [
              "                   A         B         C         D\n",
              "2019-01-02 -0.329970  0.352228 -0.470660  1.005769\n",
              "2019-01-03  0.008708 -0.831035 -1.488077  1.574572\n",
              "2019-01-04 -0.956541  0.544672 -0.747116 -1.145936"
            ],
            "text/html": [
              "\n",
              "  <div id=\"df-2061f240-65f8-4d33-b4b5-12e317de6a15\" class=\"colab-df-container\">\n",
              "    <div>\n",
              "<style scoped>\n",
              "    .dataframe tbody tr th:only-of-type {\n",
              "        vertical-align: middle;\n",
              "    }\n",
              "\n",
              "    .dataframe tbody tr th {\n",
              "        vertical-align: top;\n",
              "    }\n",
              "\n",
              "    .dataframe thead th {\n",
              "        text-align: right;\n",
              "    }\n",
              "</style>\n",
              "<table border=\"1\" class=\"dataframe\">\n",
              "  <thead>\n",
              "    <tr style=\"text-align: right;\">\n",
              "      <th></th>\n",
              "      <th>A</th>\n",
              "      <th>B</th>\n",
              "      <th>C</th>\n",
              "      <th>D</th>\n",
              "    </tr>\n",
              "  </thead>\n",
              "  <tbody>\n",
              "    <tr>\n",
              "      <th>2019-01-02</th>\n",
              "      <td>-0.329970</td>\n",
              "      <td>0.352228</td>\n",
              "      <td>-0.470660</td>\n",
              "      <td>1.005769</td>\n",
              "    </tr>\n",
              "    <tr>\n",
              "      <th>2019-01-03</th>\n",
              "      <td>0.008708</td>\n",
              "      <td>-0.831035</td>\n",
              "      <td>-1.488077</td>\n",
              "      <td>1.574572</td>\n",
              "    </tr>\n",
              "    <tr>\n",
              "      <th>2019-01-04</th>\n",
              "      <td>-0.956541</td>\n",
              "      <td>0.544672</td>\n",
              "      <td>-0.747116</td>\n",
              "      <td>-1.145936</td>\n",
              "    </tr>\n",
              "  </tbody>\n",
              "</table>\n",
              "</div>\n",
              "    <div class=\"colab-df-buttons\">\n",
              "\n",
              "  <div class=\"colab-df-container\">\n",
              "    <button class=\"colab-df-convert\" onclick=\"convertToInteractive('df-2061f240-65f8-4d33-b4b5-12e317de6a15')\"\n",
              "            title=\"Convert this dataframe to an interactive table.\"\n",
              "            style=\"display:none;\">\n",
              "\n",
              "  <svg xmlns=\"http://www.w3.org/2000/svg\" height=\"24px\" viewBox=\"0 -960 960 960\">\n",
              "    <path d=\"M120-120v-720h720v720H120Zm60-500h600v-160H180v160Zm220 220h160v-160H400v160Zm0 220h160v-160H400v160ZM180-400h160v-160H180v160Zm440 0h160v-160H620v160ZM180-180h160v-160H180v160Zm440 0h160v-160H620v160Z\"/>\n",
              "  </svg>\n",
              "    </button>\n",
              "\n",
              "  <style>\n",
              "    .colab-df-container {\n",
              "      display:flex;\n",
              "      gap: 12px;\n",
              "    }\n",
              "\n",
              "    .colab-df-convert {\n",
              "      background-color: #E8F0FE;\n",
              "      border: none;\n",
              "      border-radius: 50%;\n",
              "      cursor: pointer;\n",
              "      display: none;\n",
              "      fill: #1967D2;\n",
              "      height: 32px;\n",
              "      padding: 0 0 0 0;\n",
              "      width: 32px;\n",
              "    }\n",
              "\n",
              "    .colab-df-convert:hover {\n",
              "      background-color: #E2EBFA;\n",
              "      box-shadow: 0px 1px 2px rgba(60, 64, 67, 0.3), 0px 1px 3px 1px rgba(60, 64, 67, 0.15);\n",
              "      fill: #174EA6;\n",
              "    }\n",
              "\n",
              "    .colab-df-buttons div {\n",
              "      margin-bottom: 4px;\n",
              "    }\n",
              "\n",
              "    [theme=dark] .colab-df-convert {\n",
              "      background-color: #3B4455;\n",
              "      fill: #D2E3FC;\n",
              "    }\n",
              "\n",
              "    [theme=dark] .colab-df-convert:hover {\n",
              "      background-color: #434B5C;\n",
              "      box-shadow: 0px 1px 3px 1px rgba(0, 0, 0, 0.15);\n",
              "      filter: drop-shadow(0px 1px 2px rgba(0, 0, 0, 0.3));\n",
              "      fill: #FFFFFF;\n",
              "    }\n",
              "  </style>\n",
              "\n",
              "    <script>\n",
              "      const buttonEl =\n",
              "        document.querySelector('#df-2061f240-65f8-4d33-b4b5-12e317de6a15 button.colab-df-convert');\n",
              "      buttonEl.style.display =\n",
              "        google.colab.kernel.accessAllowed ? 'block' : 'none';\n",
              "\n",
              "      async function convertToInteractive(key) {\n",
              "        const element = document.querySelector('#df-2061f240-65f8-4d33-b4b5-12e317de6a15');\n",
              "        const dataTable =\n",
              "          await google.colab.kernel.invokeFunction('convertToInteractive',\n",
              "                                                    [key], {});\n",
              "        if (!dataTable) return;\n",
              "\n",
              "        const docLinkHtml = 'Like what you see? Visit the ' +\n",
              "          '<a target=\"_blank\" href=https://colab.research.google.com/notebooks/data_table.ipynb>data table notebook</a>'\n",
              "          + ' to learn more about interactive tables.';\n",
              "        element.innerHTML = '';\n",
              "        dataTable['output_type'] = 'display_data';\n",
              "        await google.colab.output.renderOutput(dataTable, element);\n",
              "        const docLink = document.createElement('div');\n",
              "        docLink.innerHTML = docLinkHtml;\n",
              "        element.appendChild(docLink);\n",
              "      }\n",
              "    </script>\n",
              "  </div>\n",
              "\n",
              "\n",
              "<div id=\"df-d2de6a45-042b-425d-80e2-cdaa91a0253b\">\n",
              "  <button class=\"colab-df-quickchart\" onclick=\"quickchart('df-d2de6a45-042b-425d-80e2-cdaa91a0253b')\"\n",
              "            title=\"Suggest charts\"\n",
              "            style=\"display:none;\">\n",
              "\n",
              "<svg xmlns=\"http://www.w3.org/2000/svg\" height=\"24px\"viewBox=\"0 0 24 24\"\n",
              "     width=\"24px\">\n",
              "    <g>\n",
              "        <path d=\"M19 3H5c-1.1 0-2 .9-2 2v14c0 1.1.9 2 2 2h14c1.1 0 2-.9 2-2V5c0-1.1-.9-2-2-2zM9 17H7v-7h2v7zm4 0h-2V7h2v10zm4 0h-2v-4h2v4z\"/>\n",
              "    </g>\n",
              "</svg>\n",
              "  </button>\n",
              "\n",
              "<style>\n",
              "  .colab-df-quickchart {\n",
              "      --bg-color: #E8F0FE;\n",
              "      --fill-color: #1967D2;\n",
              "      --hover-bg-color: #E2EBFA;\n",
              "      --hover-fill-color: #174EA6;\n",
              "      --disabled-fill-color: #AAA;\n",
              "      --disabled-bg-color: #DDD;\n",
              "  }\n",
              "\n",
              "  [theme=dark] .colab-df-quickchart {\n",
              "      --bg-color: #3B4455;\n",
              "      --fill-color: #D2E3FC;\n",
              "      --hover-bg-color: #434B5C;\n",
              "      --hover-fill-color: #FFFFFF;\n",
              "      --disabled-bg-color: #3B4455;\n",
              "      --disabled-fill-color: #666;\n",
              "  }\n",
              "\n",
              "  .colab-df-quickchart {\n",
              "    background-color: var(--bg-color);\n",
              "    border: none;\n",
              "    border-radius: 50%;\n",
              "    cursor: pointer;\n",
              "    display: none;\n",
              "    fill: var(--fill-color);\n",
              "    height: 32px;\n",
              "    padding: 0;\n",
              "    width: 32px;\n",
              "  }\n",
              "\n",
              "  .colab-df-quickchart:hover {\n",
              "    background-color: var(--hover-bg-color);\n",
              "    box-shadow: 0 1px 2px rgba(60, 64, 67, 0.3), 0 1px 3px 1px rgba(60, 64, 67, 0.15);\n",
              "    fill: var(--button-hover-fill-color);\n",
              "  }\n",
              "\n",
              "  .colab-df-quickchart-complete:disabled,\n",
              "  .colab-df-quickchart-complete:disabled:hover {\n",
              "    background-color: var(--disabled-bg-color);\n",
              "    fill: var(--disabled-fill-color);\n",
              "    box-shadow: none;\n",
              "  }\n",
              "\n",
              "  .colab-df-spinner {\n",
              "    border: 2px solid var(--fill-color);\n",
              "    border-color: transparent;\n",
              "    border-bottom-color: var(--fill-color);\n",
              "    animation:\n",
              "      spin 1s steps(1) infinite;\n",
              "  }\n",
              "\n",
              "  @keyframes spin {\n",
              "    0% {\n",
              "      border-color: transparent;\n",
              "      border-bottom-color: var(--fill-color);\n",
              "      border-left-color: var(--fill-color);\n",
              "    }\n",
              "    20% {\n",
              "      border-color: transparent;\n",
              "      border-left-color: var(--fill-color);\n",
              "      border-top-color: var(--fill-color);\n",
              "    }\n",
              "    30% {\n",
              "      border-color: transparent;\n",
              "      border-left-color: var(--fill-color);\n",
              "      border-top-color: var(--fill-color);\n",
              "      border-right-color: var(--fill-color);\n",
              "    }\n",
              "    40% {\n",
              "      border-color: transparent;\n",
              "      border-right-color: var(--fill-color);\n",
              "      border-top-color: var(--fill-color);\n",
              "    }\n",
              "    60% {\n",
              "      border-color: transparent;\n",
              "      border-right-color: var(--fill-color);\n",
              "    }\n",
              "    80% {\n",
              "      border-color: transparent;\n",
              "      border-right-color: var(--fill-color);\n",
              "      border-bottom-color: var(--fill-color);\n",
              "    }\n",
              "    90% {\n",
              "      border-color: transparent;\n",
              "      border-bottom-color: var(--fill-color);\n",
              "    }\n",
              "  }\n",
              "</style>\n",
              "\n",
              "  <script>\n",
              "    async function quickchart(key) {\n",
              "      const quickchartButtonEl =\n",
              "        document.querySelector('#' + key + ' button');\n",
              "      quickchartButtonEl.disabled = true;  // To prevent multiple clicks.\n",
              "      quickchartButtonEl.classList.add('colab-df-spinner');\n",
              "      try {\n",
              "        const charts = await google.colab.kernel.invokeFunction(\n",
              "            'suggestCharts', [key], {});\n",
              "      } catch (error) {\n",
              "        console.error('Error during call to suggestCharts:', error);\n",
              "      }\n",
              "      quickchartButtonEl.classList.remove('colab-df-spinner');\n",
              "      quickchartButtonEl.classList.add('colab-df-quickchart-complete');\n",
              "    }\n",
              "    (() => {\n",
              "      let quickchartButtonEl =\n",
              "        document.querySelector('#df-d2de6a45-042b-425d-80e2-cdaa91a0253b button');\n",
              "      quickchartButtonEl.style.display =\n",
              "        google.colab.kernel.accessAllowed ? 'block' : 'none';\n",
              "    })();\n",
              "  </script>\n",
              "</div>\n",
              "\n",
              "    </div>\n",
              "  </div>\n"
            ],
            "application/vnd.google.colaboratory.intrinsic+json": {
              "type": "dataframe",
              "summary": "{\n  \"name\": \"##  \\\"AAAA-MM-DD\\\",\\\"AAAA/MMDD\\\"\",\n  \"rows\": 3,\n  \"fields\": [\n    {\n      \"column\": \"A\",\n      \"properties\": {\n        \"dtype\": \"number\",\n        \"std\": 0.4897277262985377,\n        \"min\": -0.9565409341747004,\n        \"max\": 0.008707935105204722,\n        \"num_unique_values\": 3,\n        \"samples\": [\n          -0.32996962397989327,\n          0.008707935105204722,\n          -0.9565409341747004\n        ],\n        \"semantic_type\": \"\",\n        \"description\": \"\"\n      }\n    },\n    {\n      \"column\": \"B\",\n      \"properties\": {\n        \"dtype\": \"number\",\n        \"std\": 0.7449517628824189,\n        \"min\": -0.8310353483485754,\n        \"max\": 0.5446720751124591,\n        \"num_unique_values\": 3,\n        \"samples\": [\n          0.35222849735229433,\n          -0.8310353483485754,\n          0.5446720751124591\n        ],\n        \"semantic_type\": \"\",\n        \"description\": \"\"\n      }\n    },\n    {\n      \"column\": \"C\",\n      \"properties\": {\n        \"dtype\": \"number\",\n        \"std\": 0.5260843756760838,\n        \"min\": -1.4880772734180694,\n        \"max\": -0.4706604554511614,\n        \"num_unique_values\": 3,\n        \"samples\": [\n          -0.4706604554511614,\n          -1.4880772734180694,\n          -0.747115608526214\n        ],\n        \"semantic_type\": \"\",\n        \"description\": \"\"\n      }\n    },\n    {\n      \"column\": \"D\",\n      \"properties\": {\n        \"dtype\": \"number\",\n        \"std\": 1.4349527194424632,\n        \"min\": -1.1459362458557847,\n        \"max\": 1.5745715739451531,\n        \"num_unique_values\": 3,\n        \"samples\": [\n          1.0057693826652343,\n          1.5745715739451531,\n          -1.1459362458557847\n        ],\n        \"semantic_type\": \"\",\n        \"description\": \"\"\n      }\n    }\n  ]\n}"
            }
          },
          "metadata": {},
          "execution_count": 20
        }
      ]
    },
    {
      "cell_type": "markdown",
      "source": [
        "### Seleção por nome\n",
        "\n",
        "Vamos utilizar as funções `DataFrame.loc()` e `DataFrame.at()`."
      ],
      "metadata": {
        "id": "wmmchX3P7g2K"
      }
    },
    {
      "cell_type": "markdown",
      "source": [
        "Selecionando uma linha relativa ao nome:"
      ],
      "metadata": {
        "id": "htBeGFfZpgsn"
      }
    },
    {
      "cell_type": "code",
      "source": [
        "df.loc[datas[0]]"
      ],
      "metadata": {
        "id": "bnw50jhgqo4Q",
        "colab": {
          "base_uri": "https://localhost:8080/",
          "height": 209
        },
        "outputId": "6452d8c2-a473-4942-9bcf-cbcfe0eadfc7"
      },
      "execution_count": 21,
      "outputs": [
        {
          "output_type": "execute_result",
          "data": {
            "text/plain": [
              "A    0.651225\n",
              "B   -0.986302\n",
              "C   -0.718069\n",
              "D    0.258991\n",
              "Name: 2019-01-01 00:00:00, dtype: float64"
            ],
            "text/html": [
              "<div>\n",
              "<style scoped>\n",
              "    .dataframe tbody tr th:only-of-type {\n",
              "        vertical-align: middle;\n",
              "    }\n",
              "\n",
              "    .dataframe tbody tr th {\n",
              "        vertical-align: top;\n",
              "    }\n",
              "\n",
              "    .dataframe thead th {\n",
              "        text-align: right;\n",
              "    }\n",
              "</style>\n",
              "<table border=\"1\" class=\"dataframe\">\n",
              "  <thead>\n",
              "    <tr style=\"text-align: right;\">\n",
              "      <th></th>\n",
              "      <th>2019-01-01</th>\n",
              "    </tr>\n",
              "  </thead>\n",
              "  <tbody>\n",
              "    <tr>\n",
              "      <th>A</th>\n",
              "      <td>0.651225</td>\n",
              "    </tr>\n",
              "    <tr>\n",
              "      <th>B</th>\n",
              "      <td>-0.986302</td>\n",
              "    </tr>\n",
              "    <tr>\n",
              "      <th>C</th>\n",
              "      <td>-0.718069</td>\n",
              "    </tr>\n",
              "    <tr>\n",
              "      <th>D</th>\n",
              "      <td>0.258991</td>\n",
              "    </tr>\n",
              "  </tbody>\n",
              "</table>\n",
              "</div><br><label><b>dtype:</b> float64</label>"
            ]
          },
          "metadata": {},
          "execution_count": 21
        }
      ]
    },
    {
      "cell_type": "markdown",
      "source": [
        "Selecionandos todas as linhas (`:`) com a seleção da coluna por nomes:"
      ],
      "metadata": {
        "id": "qzT-OsZdqpLx"
      }
    },
    {
      "cell_type": "code",
      "source": [
        "df.loc[:, [\"A\", \"B\"]]"
      ],
      "metadata": {
        "id": "unbLUEh5rVjg",
        "colab": {
          "base_uri": "https://localhost:8080/",
          "height": 237
        },
        "outputId": "f005b601-b6d2-40d7-df70-1b52839f8de9"
      },
      "execution_count": 22,
      "outputs": [
        {
          "output_type": "execute_result",
          "data": {
            "text/plain": [
              "                   A         B\n",
              "2019-01-01  0.651225 -0.986302\n",
              "2019-01-02 -0.329970  0.352228\n",
              "2019-01-03  0.008708 -0.831035\n",
              "2019-01-04 -0.956541  0.544672\n",
              "2019-01-05  0.393846  0.986255\n",
              "2019-01-06  0.764514  0.581005"
            ],
            "text/html": [
              "\n",
              "  <div id=\"df-4a586367-b38a-4170-9c90-8bf0c40b6d02\" class=\"colab-df-container\">\n",
              "    <div>\n",
              "<style scoped>\n",
              "    .dataframe tbody tr th:only-of-type {\n",
              "        vertical-align: middle;\n",
              "    }\n",
              "\n",
              "    .dataframe tbody tr th {\n",
              "        vertical-align: top;\n",
              "    }\n",
              "\n",
              "    .dataframe thead th {\n",
              "        text-align: right;\n",
              "    }\n",
              "</style>\n",
              "<table border=\"1\" class=\"dataframe\">\n",
              "  <thead>\n",
              "    <tr style=\"text-align: right;\">\n",
              "      <th></th>\n",
              "      <th>A</th>\n",
              "      <th>B</th>\n",
              "    </tr>\n",
              "  </thead>\n",
              "  <tbody>\n",
              "    <tr>\n",
              "      <th>2019-01-01</th>\n",
              "      <td>0.651225</td>\n",
              "      <td>-0.986302</td>\n",
              "    </tr>\n",
              "    <tr>\n",
              "      <th>2019-01-02</th>\n",
              "      <td>-0.329970</td>\n",
              "      <td>0.352228</td>\n",
              "    </tr>\n",
              "    <tr>\n",
              "      <th>2019-01-03</th>\n",
              "      <td>0.008708</td>\n",
              "      <td>-0.831035</td>\n",
              "    </tr>\n",
              "    <tr>\n",
              "      <th>2019-01-04</th>\n",
              "      <td>-0.956541</td>\n",
              "      <td>0.544672</td>\n",
              "    </tr>\n",
              "    <tr>\n",
              "      <th>2019-01-05</th>\n",
              "      <td>0.393846</td>\n",
              "      <td>0.986255</td>\n",
              "    </tr>\n",
              "    <tr>\n",
              "      <th>2019-01-06</th>\n",
              "      <td>0.764514</td>\n",
              "      <td>0.581005</td>\n",
              "    </tr>\n",
              "  </tbody>\n",
              "</table>\n",
              "</div>\n",
              "    <div class=\"colab-df-buttons\">\n",
              "\n",
              "  <div class=\"colab-df-container\">\n",
              "    <button class=\"colab-df-convert\" onclick=\"convertToInteractive('df-4a586367-b38a-4170-9c90-8bf0c40b6d02')\"\n",
              "            title=\"Convert this dataframe to an interactive table.\"\n",
              "            style=\"display:none;\">\n",
              "\n",
              "  <svg xmlns=\"http://www.w3.org/2000/svg\" height=\"24px\" viewBox=\"0 -960 960 960\">\n",
              "    <path d=\"M120-120v-720h720v720H120Zm60-500h600v-160H180v160Zm220 220h160v-160H400v160Zm0 220h160v-160H400v160ZM180-400h160v-160H180v160Zm440 0h160v-160H620v160ZM180-180h160v-160H180v160Zm440 0h160v-160H620v160Z\"/>\n",
              "  </svg>\n",
              "    </button>\n",
              "\n",
              "  <style>\n",
              "    .colab-df-container {\n",
              "      display:flex;\n",
              "      gap: 12px;\n",
              "    }\n",
              "\n",
              "    .colab-df-convert {\n",
              "      background-color: #E8F0FE;\n",
              "      border: none;\n",
              "      border-radius: 50%;\n",
              "      cursor: pointer;\n",
              "      display: none;\n",
              "      fill: #1967D2;\n",
              "      height: 32px;\n",
              "      padding: 0 0 0 0;\n",
              "      width: 32px;\n",
              "    }\n",
              "\n",
              "    .colab-df-convert:hover {\n",
              "      background-color: #E2EBFA;\n",
              "      box-shadow: 0px 1px 2px rgba(60, 64, 67, 0.3), 0px 1px 3px 1px rgba(60, 64, 67, 0.15);\n",
              "      fill: #174EA6;\n",
              "    }\n",
              "\n",
              "    .colab-df-buttons div {\n",
              "      margin-bottom: 4px;\n",
              "    }\n",
              "\n",
              "    [theme=dark] .colab-df-convert {\n",
              "      background-color: #3B4455;\n",
              "      fill: #D2E3FC;\n",
              "    }\n",
              "\n",
              "    [theme=dark] .colab-df-convert:hover {\n",
              "      background-color: #434B5C;\n",
              "      box-shadow: 0px 1px 3px 1px rgba(0, 0, 0, 0.15);\n",
              "      filter: drop-shadow(0px 1px 2px rgba(0, 0, 0, 0.3));\n",
              "      fill: #FFFFFF;\n",
              "    }\n",
              "  </style>\n",
              "\n",
              "    <script>\n",
              "      const buttonEl =\n",
              "        document.querySelector('#df-4a586367-b38a-4170-9c90-8bf0c40b6d02 button.colab-df-convert');\n",
              "      buttonEl.style.display =\n",
              "        google.colab.kernel.accessAllowed ? 'block' : 'none';\n",
              "\n",
              "      async function convertToInteractive(key) {\n",
              "        const element = document.querySelector('#df-4a586367-b38a-4170-9c90-8bf0c40b6d02');\n",
              "        const dataTable =\n",
              "          await google.colab.kernel.invokeFunction('convertToInteractive',\n",
              "                                                    [key], {});\n",
              "        if (!dataTable) return;\n",
              "\n",
              "        const docLinkHtml = 'Like what you see? Visit the ' +\n",
              "          '<a target=\"_blank\" href=https://colab.research.google.com/notebooks/data_table.ipynb>data table notebook</a>'\n",
              "          + ' to learn more about interactive tables.';\n",
              "        element.innerHTML = '';\n",
              "        dataTable['output_type'] = 'display_data';\n",
              "        await google.colab.output.renderOutput(dataTable, element);\n",
              "        const docLink = document.createElement('div');\n",
              "        docLink.innerHTML = docLinkHtml;\n",
              "        element.appendChild(docLink);\n",
              "      }\n",
              "    </script>\n",
              "  </div>\n",
              "\n",
              "\n",
              "<div id=\"df-91653f88-f1af-45fe-bd1e-ad649431f0da\">\n",
              "  <button class=\"colab-df-quickchart\" onclick=\"quickchart('df-91653f88-f1af-45fe-bd1e-ad649431f0da')\"\n",
              "            title=\"Suggest charts\"\n",
              "            style=\"display:none;\">\n",
              "\n",
              "<svg xmlns=\"http://www.w3.org/2000/svg\" height=\"24px\"viewBox=\"0 0 24 24\"\n",
              "     width=\"24px\">\n",
              "    <g>\n",
              "        <path d=\"M19 3H5c-1.1 0-2 .9-2 2v14c0 1.1.9 2 2 2h14c1.1 0 2-.9 2-2V5c0-1.1-.9-2-2-2zM9 17H7v-7h2v7zm4 0h-2V7h2v10zm4 0h-2v-4h2v4z\"/>\n",
              "    </g>\n",
              "</svg>\n",
              "  </button>\n",
              "\n",
              "<style>\n",
              "  .colab-df-quickchart {\n",
              "      --bg-color: #E8F0FE;\n",
              "      --fill-color: #1967D2;\n",
              "      --hover-bg-color: #E2EBFA;\n",
              "      --hover-fill-color: #174EA6;\n",
              "      --disabled-fill-color: #AAA;\n",
              "      --disabled-bg-color: #DDD;\n",
              "  }\n",
              "\n",
              "  [theme=dark] .colab-df-quickchart {\n",
              "      --bg-color: #3B4455;\n",
              "      --fill-color: #D2E3FC;\n",
              "      --hover-bg-color: #434B5C;\n",
              "      --hover-fill-color: #FFFFFF;\n",
              "      --disabled-bg-color: #3B4455;\n",
              "      --disabled-fill-color: #666;\n",
              "  }\n",
              "\n",
              "  .colab-df-quickchart {\n",
              "    background-color: var(--bg-color);\n",
              "    border: none;\n",
              "    border-radius: 50%;\n",
              "    cursor: pointer;\n",
              "    display: none;\n",
              "    fill: var(--fill-color);\n",
              "    height: 32px;\n",
              "    padding: 0;\n",
              "    width: 32px;\n",
              "  }\n",
              "\n",
              "  .colab-df-quickchart:hover {\n",
              "    background-color: var(--hover-bg-color);\n",
              "    box-shadow: 0 1px 2px rgba(60, 64, 67, 0.3), 0 1px 3px 1px rgba(60, 64, 67, 0.15);\n",
              "    fill: var(--button-hover-fill-color);\n",
              "  }\n",
              "\n",
              "  .colab-df-quickchart-complete:disabled,\n",
              "  .colab-df-quickchart-complete:disabled:hover {\n",
              "    background-color: var(--disabled-bg-color);\n",
              "    fill: var(--disabled-fill-color);\n",
              "    box-shadow: none;\n",
              "  }\n",
              "\n",
              "  .colab-df-spinner {\n",
              "    border: 2px solid var(--fill-color);\n",
              "    border-color: transparent;\n",
              "    border-bottom-color: var(--fill-color);\n",
              "    animation:\n",
              "      spin 1s steps(1) infinite;\n",
              "  }\n",
              "\n",
              "  @keyframes spin {\n",
              "    0% {\n",
              "      border-color: transparent;\n",
              "      border-bottom-color: var(--fill-color);\n",
              "      border-left-color: var(--fill-color);\n",
              "    }\n",
              "    20% {\n",
              "      border-color: transparent;\n",
              "      border-left-color: var(--fill-color);\n",
              "      border-top-color: var(--fill-color);\n",
              "    }\n",
              "    30% {\n",
              "      border-color: transparent;\n",
              "      border-left-color: var(--fill-color);\n",
              "      border-top-color: var(--fill-color);\n",
              "      border-right-color: var(--fill-color);\n",
              "    }\n",
              "    40% {\n",
              "      border-color: transparent;\n",
              "      border-right-color: var(--fill-color);\n",
              "      border-top-color: var(--fill-color);\n",
              "    }\n",
              "    60% {\n",
              "      border-color: transparent;\n",
              "      border-right-color: var(--fill-color);\n",
              "    }\n",
              "    80% {\n",
              "      border-color: transparent;\n",
              "      border-right-color: var(--fill-color);\n",
              "      border-bottom-color: var(--fill-color);\n",
              "    }\n",
              "    90% {\n",
              "      border-color: transparent;\n",
              "      border-bottom-color: var(--fill-color);\n",
              "    }\n",
              "  }\n",
              "</style>\n",
              "\n",
              "  <script>\n",
              "    async function quickchart(key) {\n",
              "      const quickchartButtonEl =\n",
              "        document.querySelector('#' + key + ' button');\n",
              "      quickchartButtonEl.disabled = true;  // To prevent multiple clicks.\n",
              "      quickchartButtonEl.classList.add('colab-df-spinner');\n",
              "      try {\n",
              "        const charts = await google.colab.kernel.invokeFunction(\n",
              "            'suggestCharts', [key], {});\n",
              "      } catch (error) {\n",
              "        console.error('Error during call to suggestCharts:', error);\n",
              "      }\n",
              "      quickchartButtonEl.classList.remove('colab-df-spinner');\n",
              "      quickchartButtonEl.classList.add('colab-df-quickchart-complete');\n",
              "    }\n",
              "    (() => {\n",
              "      let quickchartButtonEl =\n",
              "        document.querySelector('#df-91653f88-f1af-45fe-bd1e-ad649431f0da button');\n",
              "      quickchartButtonEl.style.display =\n",
              "        google.colab.kernel.accessAllowed ? 'block' : 'none';\n",
              "    })();\n",
              "  </script>\n",
              "</div>\n",
              "\n",
              "    </div>\n",
              "  </div>\n"
            ],
            "application/vnd.google.colaboratory.intrinsic+json": {
              "type": "dataframe",
              "summary": "{\n  \"name\": \"df\",\n  \"rows\": 6,\n  \"fields\": [\n    {\n      \"column\": \"A\",\n      \"properties\": {\n        \"dtype\": \"number\",\n        \"std\": 0.6542911430639308,\n        \"min\": -0.9565409341747004,\n        \"max\": 0.7645141579311899,\n        \"num_unique_values\": 6,\n        \"samples\": [\n          0.6512246075092327,\n          -0.32996962397989327,\n          0.7645141579311899\n        ],\n        \"semantic_type\": \"\",\n        \"description\": \"\"\n      }\n    },\n    {\n      \"column\": \"B\",\n      \"properties\": {\n        \"dtype\": \"number\",\n        \"std\": 0.8154361228597969,\n        \"min\": -0.9863020233852804,\n        \"max\": 0.9862553881629716,\n        \"num_unique_values\": 6,\n        \"samples\": [\n          -0.9863020233852804,\n          0.35222849735229433,\n          0.5810049600410324\n        ],\n        \"semantic_type\": \"\",\n        \"description\": \"\"\n      }\n    }\n  ]\n}"
            }
          },
          "metadata": {},
          "execution_count": 22
        }
      ]
    },
    {
      "cell_type": "markdown",
      "source": [
        "Ao selecionar linhas, ambos os limites são incluídos:"
      ],
      "metadata": {
        "id": "Gnhd8GROrWLg"
      }
    },
    {
      "cell_type": "code",
      "source": [
        "df.loc[\"20190102\":\"20190104\", [\"A\", \"B\"]]"
      ],
      "metadata": {
        "id": "dhhvw41Qs6m4"
      },
      "execution_count": null,
      "outputs": []
    },
    {
      "cell_type": "markdown",
      "source": [
        "Ao selecionar uma única linha e coluna, o resultado é um escalar:"
      ],
      "metadata": {
        "id": "b-QlQs0hs7Nf"
      }
    },
    {
      "cell_type": "code",
      "source": [
        "df.loc[datas[0], \"A\"]"
      ],
      "metadata": {
        "id": "20WIYVEOtcRT"
      },
      "execution_count": null,
      "outputs": []
    },
    {
      "cell_type": "markdown",
      "source": [
        "Um método de acesso mais rápido é:"
      ],
      "metadata": {
        "id": "0WiwExBOtdFA"
      }
    },
    {
      "cell_type": "code",
      "source": [
        "df.at[datas[0], \"A\"]\n",
        "\n",
        "## a função Dataframe.at só permite acessar uma celula por vez\n",
        "## df.at[datas[0:2], \"A\"] ## Erro!"
      ],
      "metadata": {
        "id": "D2CSAr6HuaYw",
        "colab": {
          "base_uri": "https://localhost:8080/"
        },
        "outputId": "2686ee2f-ccfb-4501-98e8-e1713bfd9918"
      },
      "execution_count": 23,
      "outputs": [
        {
          "output_type": "execute_result",
          "data": {
            "text/plain": [
              "0.6512246075092327"
            ]
          },
          "metadata": {},
          "execution_count": 23
        }
      ]
    },
    {
      "cell_type": "markdown",
      "source": [
        "### Seleção por posição\n",
        "\n",
        "Vamos utilizar as funções `DataFrame.iloc()` e `DataFrame.iat()`."
      ],
      "metadata": {
        "id": "GWjo3c4k7uQD"
      }
    },
    {
      "cell_type": "markdown",
      "source": [
        "A seleção por posição é feita passando valores inteiros:"
      ],
      "metadata": {
        "id": "kJp9N0Qwua7n"
      }
    },
    {
      "cell_type": "code",
      "source": [
        "df.iloc[3]"
      ],
      "metadata": {
        "id": "-Wl4R0Buu0Rf"
      },
      "execution_count": null,
      "outputs": []
    },
    {
      "cell_type": "markdown",
      "source": [
        "Seleção por inteiros age de forma similar no *NumPy*:"
      ],
      "metadata": {
        "id": "k8Lw9QZJu00v"
      }
    },
    {
      "cell_type": "code",
      "source": [
        "df.iloc[3:5, 0:2]\n",
        "\n",
        "## Erro comum: esquecer do .iloc\n",
        "## df[3:5,0:2] ## gera um erro"
      ],
      "metadata": {
        "id": "sw2h0ofcwBPY",
        "colab": {
          "base_uri": "https://localhost:8080/",
          "height": 112
        },
        "outputId": "f0504f9b-b63c-492b-ef48-fb6df9992a41"
      },
      "execution_count": 24,
      "outputs": [
        {
          "output_type": "execute_result",
          "data": {
            "text/plain": [
              "                   A         B\n",
              "2019-01-04 -0.956541  0.544672\n",
              "2019-01-05  0.393846  0.986255"
            ],
            "text/html": [
              "\n",
              "  <div id=\"df-24e7a8ca-7e6f-41c9-8cee-1998bb663f6e\" class=\"colab-df-container\">\n",
              "    <div>\n",
              "<style scoped>\n",
              "    .dataframe tbody tr th:only-of-type {\n",
              "        vertical-align: middle;\n",
              "    }\n",
              "\n",
              "    .dataframe tbody tr th {\n",
              "        vertical-align: top;\n",
              "    }\n",
              "\n",
              "    .dataframe thead th {\n",
              "        text-align: right;\n",
              "    }\n",
              "</style>\n",
              "<table border=\"1\" class=\"dataframe\">\n",
              "  <thead>\n",
              "    <tr style=\"text-align: right;\">\n",
              "      <th></th>\n",
              "      <th>A</th>\n",
              "      <th>B</th>\n",
              "    </tr>\n",
              "  </thead>\n",
              "  <tbody>\n",
              "    <tr>\n",
              "      <th>2019-01-04</th>\n",
              "      <td>-0.956541</td>\n",
              "      <td>0.544672</td>\n",
              "    </tr>\n",
              "    <tr>\n",
              "      <th>2019-01-05</th>\n",
              "      <td>0.393846</td>\n",
              "      <td>0.986255</td>\n",
              "    </tr>\n",
              "  </tbody>\n",
              "</table>\n",
              "</div>\n",
              "    <div class=\"colab-df-buttons\">\n",
              "\n",
              "  <div class=\"colab-df-container\">\n",
              "    <button class=\"colab-df-convert\" onclick=\"convertToInteractive('df-24e7a8ca-7e6f-41c9-8cee-1998bb663f6e')\"\n",
              "            title=\"Convert this dataframe to an interactive table.\"\n",
              "            style=\"display:none;\">\n",
              "\n",
              "  <svg xmlns=\"http://www.w3.org/2000/svg\" height=\"24px\" viewBox=\"0 -960 960 960\">\n",
              "    <path d=\"M120-120v-720h720v720H120Zm60-500h600v-160H180v160Zm220 220h160v-160H400v160Zm0 220h160v-160H400v160ZM180-400h160v-160H180v160Zm440 0h160v-160H620v160ZM180-180h160v-160H180v160Zm440 0h160v-160H620v160Z\"/>\n",
              "  </svg>\n",
              "    </button>\n",
              "\n",
              "  <style>\n",
              "    .colab-df-container {\n",
              "      display:flex;\n",
              "      gap: 12px;\n",
              "    }\n",
              "\n",
              "    .colab-df-convert {\n",
              "      background-color: #E8F0FE;\n",
              "      border: none;\n",
              "      border-radius: 50%;\n",
              "      cursor: pointer;\n",
              "      display: none;\n",
              "      fill: #1967D2;\n",
              "      height: 32px;\n",
              "      padding: 0 0 0 0;\n",
              "      width: 32px;\n",
              "    }\n",
              "\n",
              "    .colab-df-convert:hover {\n",
              "      background-color: #E2EBFA;\n",
              "      box-shadow: 0px 1px 2px rgba(60, 64, 67, 0.3), 0px 1px 3px 1px rgba(60, 64, 67, 0.15);\n",
              "      fill: #174EA6;\n",
              "    }\n",
              "\n",
              "    .colab-df-buttons div {\n",
              "      margin-bottom: 4px;\n",
              "    }\n",
              "\n",
              "    [theme=dark] .colab-df-convert {\n",
              "      background-color: #3B4455;\n",
              "      fill: #D2E3FC;\n",
              "    }\n",
              "\n",
              "    [theme=dark] .colab-df-convert:hover {\n",
              "      background-color: #434B5C;\n",
              "      box-shadow: 0px 1px 3px 1px rgba(0, 0, 0, 0.15);\n",
              "      filter: drop-shadow(0px 1px 2px rgba(0, 0, 0, 0.3));\n",
              "      fill: #FFFFFF;\n",
              "    }\n",
              "  </style>\n",
              "\n",
              "    <script>\n",
              "      const buttonEl =\n",
              "        document.querySelector('#df-24e7a8ca-7e6f-41c9-8cee-1998bb663f6e button.colab-df-convert');\n",
              "      buttonEl.style.display =\n",
              "        google.colab.kernel.accessAllowed ? 'block' : 'none';\n",
              "\n",
              "      async function convertToInteractive(key) {\n",
              "        const element = document.querySelector('#df-24e7a8ca-7e6f-41c9-8cee-1998bb663f6e');\n",
              "        const dataTable =\n",
              "          await google.colab.kernel.invokeFunction('convertToInteractive',\n",
              "                                                    [key], {});\n",
              "        if (!dataTable) return;\n",
              "\n",
              "        const docLinkHtml = 'Like what you see? Visit the ' +\n",
              "          '<a target=\"_blank\" href=https://colab.research.google.com/notebooks/data_table.ipynb>data table notebook</a>'\n",
              "          + ' to learn more about interactive tables.';\n",
              "        element.innerHTML = '';\n",
              "        dataTable['output_type'] = 'display_data';\n",
              "        await google.colab.output.renderOutput(dataTable, element);\n",
              "        const docLink = document.createElement('div');\n",
              "        docLink.innerHTML = docLinkHtml;\n",
              "        element.appendChild(docLink);\n",
              "      }\n",
              "    </script>\n",
              "  </div>\n",
              "\n",
              "\n",
              "<div id=\"df-a712cc74-4d0c-4432-b22f-91fd8ca30ade\">\n",
              "  <button class=\"colab-df-quickchart\" onclick=\"quickchart('df-a712cc74-4d0c-4432-b22f-91fd8ca30ade')\"\n",
              "            title=\"Suggest charts\"\n",
              "            style=\"display:none;\">\n",
              "\n",
              "<svg xmlns=\"http://www.w3.org/2000/svg\" height=\"24px\"viewBox=\"0 0 24 24\"\n",
              "     width=\"24px\">\n",
              "    <g>\n",
              "        <path d=\"M19 3H5c-1.1 0-2 .9-2 2v14c0 1.1.9 2 2 2h14c1.1 0 2-.9 2-2V5c0-1.1-.9-2-2-2zM9 17H7v-7h2v7zm4 0h-2V7h2v10zm4 0h-2v-4h2v4z\"/>\n",
              "    </g>\n",
              "</svg>\n",
              "  </button>\n",
              "\n",
              "<style>\n",
              "  .colab-df-quickchart {\n",
              "      --bg-color: #E8F0FE;\n",
              "      --fill-color: #1967D2;\n",
              "      --hover-bg-color: #E2EBFA;\n",
              "      --hover-fill-color: #174EA6;\n",
              "      --disabled-fill-color: #AAA;\n",
              "      --disabled-bg-color: #DDD;\n",
              "  }\n",
              "\n",
              "  [theme=dark] .colab-df-quickchart {\n",
              "      --bg-color: #3B4455;\n",
              "      --fill-color: #D2E3FC;\n",
              "      --hover-bg-color: #434B5C;\n",
              "      --hover-fill-color: #FFFFFF;\n",
              "      --disabled-bg-color: #3B4455;\n",
              "      --disabled-fill-color: #666;\n",
              "  }\n",
              "\n",
              "  .colab-df-quickchart {\n",
              "    background-color: var(--bg-color);\n",
              "    border: none;\n",
              "    border-radius: 50%;\n",
              "    cursor: pointer;\n",
              "    display: none;\n",
              "    fill: var(--fill-color);\n",
              "    height: 32px;\n",
              "    padding: 0;\n",
              "    width: 32px;\n",
              "  }\n",
              "\n",
              "  .colab-df-quickchart:hover {\n",
              "    background-color: var(--hover-bg-color);\n",
              "    box-shadow: 0 1px 2px rgba(60, 64, 67, 0.3), 0 1px 3px 1px rgba(60, 64, 67, 0.15);\n",
              "    fill: var(--button-hover-fill-color);\n",
              "  }\n",
              "\n",
              "  .colab-df-quickchart-complete:disabled,\n",
              "  .colab-df-quickchart-complete:disabled:hover {\n",
              "    background-color: var(--disabled-bg-color);\n",
              "    fill: var(--disabled-fill-color);\n",
              "    box-shadow: none;\n",
              "  }\n",
              "\n",
              "  .colab-df-spinner {\n",
              "    border: 2px solid var(--fill-color);\n",
              "    border-color: transparent;\n",
              "    border-bottom-color: var(--fill-color);\n",
              "    animation:\n",
              "      spin 1s steps(1) infinite;\n",
              "  }\n",
              "\n",
              "  @keyframes spin {\n",
              "    0% {\n",
              "      border-color: transparent;\n",
              "      border-bottom-color: var(--fill-color);\n",
              "      border-left-color: var(--fill-color);\n",
              "    }\n",
              "    20% {\n",
              "      border-color: transparent;\n",
              "      border-left-color: var(--fill-color);\n",
              "      border-top-color: var(--fill-color);\n",
              "    }\n",
              "    30% {\n",
              "      border-color: transparent;\n",
              "      border-left-color: var(--fill-color);\n",
              "      border-top-color: var(--fill-color);\n",
              "      border-right-color: var(--fill-color);\n",
              "    }\n",
              "    40% {\n",
              "      border-color: transparent;\n",
              "      border-right-color: var(--fill-color);\n",
              "      border-top-color: var(--fill-color);\n",
              "    }\n",
              "    60% {\n",
              "      border-color: transparent;\n",
              "      border-right-color: var(--fill-color);\n",
              "    }\n",
              "    80% {\n",
              "      border-color: transparent;\n",
              "      border-right-color: var(--fill-color);\n",
              "      border-bottom-color: var(--fill-color);\n",
              "    }\n",
              "    90% {\n",
              "      border-color: transparent;\n",
              "      border-bottom-color: var(--fill-color);\n",
              "    }\n",
              "  }\n",
              "</style>\n",
              "\n",
              "  <script>\n",
              "    async function quickchart(key) {\n",
              "      const quickchartButtonEl =\n",
              "        document.querySelector('#' + key + ' button');\n",
              "      quickchartButtonEl.disabled = true;  // To prevent multiple clicks.\n",
              "      quickchartButtonEl.classList.add('colab-df-spinner');\n",
              "      try {\n",
              "        const charts = await google.colab.kernel.invokeFunction(\n",
              "            'suggestCharts', [key], {});\n",
              "      } catch (error) {\n",
              "        console.error('Error during call to suggestCharts:', error);\n",
              "      }\n",
              "      quickchartButtonEl.classList.remove('colab-df-spinner');\n",
              "      quickchartButtonEl.classList.add('colab-df-quickchart-complete');\n",
              "    }\n",
              "    (() => {\n",
              "      let quickchartButtonEl =\n",
              "        document.querySelector('#df-a712cc74-4d0c-4432-b22f-91fd8ca30ade button');\n",
              "      quickchartButtonEl.style.display =\n",
              "        google.colab.kernel.accessAllowed ? 'block' : 'none';\n",
              "    })();\n",
              "  </script>\n",
              "</div>\n",
              "\n",
              "    </div>\n",
              "  </div>\n"
            ],
            "application/vnd.google.colaboratory.intrinsic+json": {
              "type": "dataframe",
              "summary": "{\n  \"name\": \"## df[3:5,0:2] ## gera um erro\",\n  \"rows\": 2,\n  \"fields\": [\n    {\n      \"column\": \"A\",\n      \"properties\": {\n        \"dtype\": \"number\",\n        \"std\": 0.954867923062576,\n        \"min\": -0.9565409341747004,\n        \"max\": 0.39384623289542364,\n        \"num_unique_values\": 2,\n        \"samples\": [\n          0.39384623289542364,\n          -0.9565409341747004\n        ],\n        \"semantic_type\": \"\",\n        \"description\": \"\"\n      }\n    },\n    {\n      \"column\": \"B\",\n      \"properties\": {\n        \"dtype\": \"number\",\n        \"std\": 0.3122465551168395,\n        \"min\": 0.5446720751124591,\n        \"max\": 0.9862553881629716,\n        \"num_unique_values\": 2,\n        \"samples\": [\n          0.9862553881629716,\n          0.5446720751124591\n        ],\n        \"semantic_type\": \"\",\n        \"description\": \"\"\n      }\n    }\n  ]\n}"
            }
          },
          "metadata": {},
          "execution_count": 24
        }
      ]
    },
    {
      "cell_type": "markdown",
      "source": [
        "Selecionando por listas de inteiros:"
      ],
      "metadata": {
        "id": "e8CvuT1BwB2G"
      }
    },
    {
      "cell_type": "code",
      "source": [
        "df.iloc[[1, 2, 4], [0, 2]]"
      ],
      "metadata": {
        "id": "i9NsdSBCwyvo",
        "colab": {
          "base_uri": "https://localhost:8080/",
          "height": 143
        },
        "outputId": "bd1144a1-4816-46df-d578-4f3e76250d9f"
      },
      "execution_count": 25,
      "outputs": [
        {
          "output_type": "execute_result",
          "data": {
            "text/plain": [
              "                   A         C\n",
              "2019-01-02 -0.329970 -0.470660\n",
              "2019-01-03  0.008708 -1.488077\n",
              "2019-01-05  0.393846 -0.424152"
            ],
            "text/html": [
              "\n",
              "  <div id=\"df-0b3114a4-4dd0-40e6-85e2-4e5ac6b7b1b3\" class=\"colab-df-container\">\n",
              "    <div>\n",
              "<style scoped>\n",
              "    .dataframe tbody tr th:only-of-type {\n",
              "        vertical-align: middle;\n",
              "    }\n",
              "\n",
              "    .dataframe tbody tr th {\n",
              "        vertical-align: top;\n",
              "    }\n",
              "\n",
              "    .dataframe thead th {\n",
              "        text-align: right;\n",
              "    }\n",
              "</style>\n",
              "<table border=\"1\" class=\"dataframe\">\n",
              "  <thead>\n",
              "    <tr style=\"text-align: right;\">\n",
              "      <th></th>\n",
              "      <th>A</th>\n",
              "      <th>C</th>\n",
              "    </tr>\n",
              "  </thead>\n",
              "  <tbody>\n",
              "    <tr>\n",
              "      <th>2019-01-02</th>\n",
              "      <td>-0.329970</td>\n",
              "      <td>-0.470660</td>\n",
              "    </tr>\n",
              "    <tr>\n",
              "      <th>2019-01-03</th>\n",
              "      <td>0.008708</td>\n",
              "      <td>-1.488077</td>\n",
              "    </tr>\n",
              "    <tr>\n",
              "      <th>2019-01-05</th>\n",
              "      <td>0.393846</td>\n",
              "      <td>-0.424152</td>\n",
              "    </tr>\n",
              "  </tbody>\n",
              "</table>\n",
              "</div>\n",
              "    <div class=\"colab-df-buttons\">\n",
              "\n",
              "  <div class=\"colab-df-container\">\n",
              "    <button class=\"colab-df-convert\" onclick=\"convertToInteractive('df-0b3114a4-4dd0-40e6-85e2-4e5ac6b7b1b3')\"\n",
              "            title=\"Convert this dataframe to an interactive table.\"\n",
              "            style=\"display:none;\">\n",
              "\n",
              "  <svg xmlns=\"http://www.w3.org/2000/svg\" height=\"24px\" viewBox=\"0 -960 960 960\">\n",
              "    <path d=\"M120-120v-720h720v720H120Zm60-500h600v-160H180v160Zm220 220h160v-160H400v160Zm0 220h160v-160H400v160ZM180-400h160v-160H180v160Zm440 0h160v-160H620v160ZM180-180h160v-160H180v160Zm440 0h160v-160H620v160Z\"/>\n",
              "  </svg>\n",
              "    </button>\n",
              "\n",
              "  <style>\n",
              "    .colab-df-container {\n",
              "      display:flex;\n",
              "      gap: 12px;\n",
              "    }\n",
              "\n",
              "    .colab-df-convert {\n",
              "      background-color: #E8F0FE;\n",
              "      border: none;\n",
              "      border-radius: 50%;\n",
              "      cursor: pointer;\n",
              "      display: none;\n",
              "      fill: #1967D2;\n",
              "      height: 32px;\n",
              "      padding: 0 0 0 0;\n",
              "      width: 32px;\n",
              "    }\n",
              "\n",
              "    .colab-df-convert:hover {\n",
              "      background-color: #E2EBFA;\n",
              "      box-shadow: 0px 1px 2px rgba(60, 64, 67, 0.3), 0px 1px 3px 1px rgba(60, 64, 67, 0.15);\n",
              "      fill: #174EA6;\n",
              "    }\n",
              "\n",
              "    .colab-df-buttons div {\n",
              "      margin-bottom: 4px;\n",
              "    }\n",
              "\n",
              "    [theme=dark] .colab-df-convert {\n",
              "      background-color: #3B4455;\n",
              "      fill: #D2E3FC;\n",
              "    }\n",
              "\n",
              "    [theme=dark] .colab-df-convert:hover {\n",
              "      background-color: #434B5C;\n",
              "      box-shadow: 0px 1px 3px 1px rgba(0, 0, 0, 0.15);\n",
              "      filter: drop-shadow(0px 1px 2px rgba(0, 0, 0, 0.3));\n",
              "      fill: #FFFFFF;\n",
              "    }\n",
              "  </style>\n",
              "\n",
              "    <script>\n",
              "      const buttonEl =\n",
              "        document.querySelector('#df-0b3114a4-4dd0-40e6-85e2-4e5ac6b7b1b3 button.colab-df-convert');\n",
              "      buttonEl.style.display =\n",
              "        google.colab.kernel.accessAllowed ? 'block' : 'none';\n",
              "\n",
              "      async function convertToInteractive(key) {\n",
              "        const element = document.querySelector('#df-0b3114a4-4dd0-40e6-85e2-4e5ac6b7b1b3');\n",
              "        const dataTable =\n",
              "          await google.colab.kernel.invokeFunction('convertToInteractive',\n",
              "                                                    [key], {});\n",
              "        if (!dataTable) return;\n",
              "\n",
              "        const docLinkHtml = 'Like what you see? Visit the ' +\n",
              "          '<a target=\"_blank\" href=https://colab.research.google.com/notebooks/data_table.ipynb>data table notebook</a>'\n",
              "          + ' to learn more about interactive tables.';\n",
              "        element.innerHTML = '';\n",
              "        dataTable['output_type'] = 'display_data';\n",
              "        await google.colab.output.renderOutput(dataTable, element);\n",
              "        const docLink = document.createElement('div');\n",
              "        docLink.innerHTML = docLinkHtml;\n",
              "        element.appendChild(docLink);\n",
              "      }\n",
              "    </script>\n",
              "  </div>\n",
              "\n",
              "\n",
              "<div id=\"df-d29eaebc-ff67-492d-98db-b89bb5169db2\">\n",
              "  <button class=\"colab-df-quickchart\" onclick=\"quickchart('df-d29eaebc-ff67-492d-98db-b89bb5169db2')\"\n",
              "            title=\"Suggest charts\"\n",
              "            style=\"display:none;\">\n",
              "\n",
              "<svg xmlns=\"http://www.w3.org/2000/svg\" height=\"24px\"viewBox=\"0 0 24 24\"\n",
              "     width=\"24px\">\n",
              "    <g>\n",
              "        <path d=\"M19 3H5c-1.1 0-2 .9-2 2v14c0 1.1.9 2 2 2h14c1.1 0 2-.9 2-2V5c0-1.1-.9-2-2-2zM9 17H7v-7h2v7zm4 0h-2V7h2v10zm4 0h-2v-4h2v4z\"/>\n",
              "    </g>\n",
              "</svg>\n",
              "  </button>\n",
              "\n",
              "<style>\n",
              "  .colab-df-quickchart {\n",
              "      --bg-color: #E8F0FE;\n",
              "      --fill-color: #1967D2;\n",
              "      --hover-bg-color: #E2EBFA;\n",
              "      --hover-fill-color: #174EA6;\n",
              "      --disabled-fill-color: #AAA;\n",
              "      --disabled-bg-color: #DDD;\n",
              "  }\n",
              "\n",
              "  [theme=dark] .colab-df-quickchart {\n",
              "      --bg-color: #3B4455;\n",
              "      --fill-color: #D2E3FC;\n",
              "      --hover-bg-color: #434B5C;\n",
              "      --hover-fill-color: #FFFFFF;\n",
              "      --disabled-bg-color: #3B4455;\n",
              "      --disabled-fill-color: #666;\n",
              "  }\n",
              "\n",
              "  .colab-df-quickchart {\n",
              "    background-color: var(--bg-color);\n",
              "    border: none;\n",
              "    border-radius: 50%;\n",
              "    cursor: pointer;\n",
              "    display: none;\n",
              "    fill: var(--fill-color);\n",
              "    height: 32px;\n",
              "    padding: 0;\n",
              "    width: 32px;\n",
              "  }\n",
              "\n",
              "  .colab-df-quickchart:hover {\n",
              "    background-color: var(--hover-bg-color);\n",
              "    box-shadow: 0 1px 2px rgba(60, 64, 67, 0.3), 0 1px 3px 1px rgba(60, 64, 67, 0.15);\n",
              "    fill: var(--button-hover-fill-color);\n",
              "  }\n",
              "\n",
              "  .colab-df-quickchart-complete:disabled,\n",
              "  .colab-df-quickchart-complete:disabled:hover {\n",
              "    background-color: var(--disabled-bg-color);\n",
              "    fill: var(--disabled-fill-color);\n",
              "    box-shadow: none;\n",
              "  }\n",
              "\n",
              "  .colab-df-spinner {\n",
              "    border: 2px solid var(--fill-color);\n",
              "    border-color: transparent;\n",
              "    border-bottom-color: var(--fill-color);\n",
              "    animation:\n",
              "      spin 1s steps(1) infinite;\n",
              "  }\n",
              "\n",
              "  @keyframes spin {\n",
              "    0% {\n",
              "      border-color: transparent;\n",
              "      border-bottom-color: var(--fill-color);\n",
              "      border-left-color: var(--fill-color);\n",
              "    }\n",
              "    20% {\n",
              "      border-color: transparent;\n",
              "      border-left-color: var(--fill-color);\n",
              "      border-top-color: var(--fill-color);\n",
              "    }\n",
              "    30% {\n",
              "      border-color: transparent;\n",
              "      border-left-color: var(--fill-color);\n",
              "      border-top-color: var(--fill-color);\n",
              "      border-right-color: var(--fill-color);\n",
              "    }\n",
              "    40% {\n",
              "      border-color: transparent;\n",
              "      border-right-color: var(--fill-color);\n",
              "      border-top-color: var(--fill-color);\n",
              "    }\n",
              "    60% {\n",
              "      border-color: transparent;\n",
              "      border-right-color: var(--fill-color);\n",
              "    }\n",
              "    80% {\n",
              "      border-color: transparent;\n",
              "      border-right-color: var(--fill-color);\n",
              "      border-bottom-color: var(--fill-color);\n",
              "    }\n",
              "    90% {\n",
              "      border-color: transparent;\n",
              "      border-bottom-color: var(--fill-color);\n",
              "    }\n",
              "  }\n",
              "</style>\n",
              "\n",
              "  <script>\n",
              "    async function quickchart(key) {\n",
              "      const quickchartButtonEl =\n",
              "        document.querySelector('#' + key + ' button');\n",
              "      quickchartButtonEl.disabled = true;  // To prevent multiple clicks.\n",
              "      quickchartButtonEl.classList.add('colab-df-spinner');\n",
              "      try {\n",
              "        const charts = await google.colab.kernel.invokeFunction(\n",
              "            'suggestCharts', [key], {});\n",
              "      } catch (error) {\n",
              "        console.error('Error during call to suggestCharts:', error);\n",
              "      }\n",
              "      quickchartButtonEl.classList.remove('colab-df-spinner');\n",
              "      quickchartButtonEl.classList.add('colab-df-quickchart-complete');\n",
              "    }\n",
              "    (() => {\n",
              "      let quickchartButtonEl =\n",
              "        document.querySelector('#df-d29eaebc-ff67-492d-98db-b89bb5169db2 button');\n",
              "      quickchartButtonEl.style.display =\n",
              "        google.colab.kernel.accessAllowed ? 'block' : 'none';\n",
              "    })();\n",
              "  </script>\n",
              "</div>\n",
              "\n",
              "    </div>\n",
              "  </div>\n"
            ],
            "application/vnd.google.colaboratory.intrinsic+json": {
              "type": "dataframe",
              "summary": "{\n  \"name\": \"df\",\n  \"rows\": 3,\n  \"fields\": [\n    {\n      \"column\": \"A\",\n      \"properties\": {\n        \"dtype\": \"number\",\n        \"std\": 0.3621563640466037,\n        \"min\": -0.32996962397989327,\n        \"max\": 0.39384623289542364,\n        \"num_unique_values\": 3,\n        \"samples\": [\n          -0.32996962397989327,\n          0.008707935105204722,\n          0.39384623289542364\n        ],\n        \"semantic_type\": \"\",\n        \"description\": \"\"\n      }\n    },\n    {\n      \"column\": \"C\",\n      \"properties\": {\n        \"dtype\": \"number\",\n        \"std\": 0.6012815912975557,\n        \"min\": -1.4880772734180694,\n        \"max\": -0.42415186182344616,\n        \"num_unique_values\": 3,\n        \"samples\": [\n          -0.4706604554511614,\n          -1.4880772734180694,\n          -0.42415186182344616\n        ],\n        \"semantic_type\": \"\",\n        \"description\": \"\"\n      }\n    }\n  ]\n}"
            }
          },
          "metadata": {},
          "execution_count": 25
        }
      ]
    },
    {
      "cell_type": "markdown",
      "source": [
        "Selecionando linhas explicitamente:"
      ],
      "metadata": {
        "id": "5rBRYRAKwzTP"
      }
    },
    {
      "cell_type": "code",
      "source": [
        "df.iloc[1:3, :]"
      ],
      "metadata": {
        "id": "_gLpjk5HxJfn"
      },
      "execution_count": null,
      "outputs": []
    },
    {
      "cell_type": "markdown",
      "source": [
        "Selecionando colunas explicitamente:"
      ],
      "metadata": {
        "id": "lis_-BddxKE_"
      }
    },
    {
      "cell_type": "code",
      "source": [
        "df.iloc[:, 1:3]"
      ],
      "metadata": {
        "id": "Th90Xzxwxf_g"
      },
      "execution_count": null,
      "outputs": []
    },
    {
      "cell_type": "markdown",
      "source": [
        "Selecionando os valores explicitamente:"
      ],
      "metadata": {
        "id": "z07UOmnqxgeo"
      }
    },
    {
      "cell_type": "code",
      "source": [
        "df.iloc[1, 1]"
      ],
      "metadata": {
        "id": "QFFkvkqKyGQQ"
      },
      "execution_count": null,
      "outputs": []
    },
    {
      "cell_type": "markdown",
      "source": [
        "Para fazer um acesso rápido usando o escalar:"
      ],
      "metadata": {
        "id": "-loLZh38yGzf"
      }
    },
    {
      "cell_type": "code",
      "source": [
        "df.iat[1, 1]\n",
        "\n",
        "## a função .iat só permite acessar uma celula por vez.\n",
        "## df.iat[0:2, 1] ## Erro."
      ],
      "metadata": {
        "id": "bphh_bZ3yc6X"
      },
      "execution_count": null,
      "outputs": []
    },
    {
      "cell_type": "markdown",
      "source": [
        "### Seleção por valores lógicos"
      ],
      "metadata": {
        "id": "4RN1pF9N78DQ"
      }
    },
    {
      "cell_type": "markdown",
      "source": [
        "Seleção de valores com base em uma coluna:"
      ],
      "metadata": {
        "id": "uoGNYa6fydpn"
      }
    },
    {
      "cell_type": "code",
      "source": [
        "df[df[\"A\"] > 0]"
      ],
      "metadata": {
        "id": "BOjxdheGy7XH"
      },
      "execution_count": null,
      "outputs": []
    },
    {
      "cell_type": "markdown",
      "source": [
        "Selecionando valores de um `DataFrame` que atendem uma determinada condição lógica:"
      ],
      "metadata": {
        "id": "yEFLSLoQy7_3"
      }
    },
    {
      "cell_type": "code",
      "source": [
        "df[df > 0]"
      ],
      "metadata": {
        "id": "kBdAHLxsy8go"
      },
      "execution_count": null,
      "outputs": []
    },
    {
      "cell_type": "markdown",
      "source": [
        "Usando `isin()` para seleção:"
      ],
      "metadata": {
        "id": "Hio40Swey8_-"
      }
    },
    {
      "cell_type": "code",
      "source": [
        "df2 = df.copy()\n",
        "df2[\"E\"] = [\"um\", \"um\", \"dois\", \"três\", \"quatro\", \"três\"]\n",
        "df2"
      ],
      "metadata": {
        "id": "rjgFm5rIz5Yf"
      },
      "execution_count": null,
      "outputs": []
    },
    {
      "cell_type": "code",
      "source": [
        "print( df2[\"E\"].isin([\"dois\", \"quatro\"]) )\n",
        "\n",
        "df2[df2[\"E\"].isin([\"dois\", \"quatro\"])]"
      ],
      "metadata": {
        "id": "X28UREtGz5le"
      },
      "execution_count": null,
      "outputs": []
    },
    {
      "cell_type": "markdown",
      "source": [
        "## Exercício 3\n",
        "\n",
        "Considere o seguinte `DataFrame`:\n",
        "```python\n",
        "df = pd.DataFrame({\n",
        "    \"Nome\": [\"Ana\", \"Bruno\", \"Clara\", \"Diego\"],\n",
        "    \"Idade\": [23, 35, 29, 40],\n",
        "    \"Cidade\": [\"São Paulo\", \"Rio de Janeiro\", \"Belo Horizonte\", \"Curitiba\"]\n",
        "})\n",
        "```\n",
        "Então:\n",
        "\n",
        "1. Selecione apenas a coluna `Idade`.\n",
        "1. Selecione as colunas [\"Nome\", \"Cidade\"].\n",
        "1. Filtre apenas as linhas onde a idade seja maior que 30."
      ],
      "metadata": {
        "id": "GMFYK4nGfruA"
      }
    },
    {
      "cell_type": "code",
      "source": [
        "df = pd.DataFrame({\n",
        "    \"Nome\": [\"Ana\", \"Bruno\", \"Clara\", \"Diego\"],\n",
        "    \"Idade\": [23, 35, 29, 40],\n",
        "    \"Cidade\": [\"São Paulo\", \"Rio de Janeiro\", \"Belo Horizonte\", \"Curitiba\"]\n",
        "})\n",
        "coluna_idade = df[\"Idade\"]\n",
        "\n",
        "print(\"Coluna Idade:\")\n",
        "print(coluna_idade)\n",
        "\n",
        "colunas_nome_cidade = df[[\"Nome\", \"Cidade\"]]\n",
        "print(\"\\nColunas Nome e Cidade:\")\n",
        "print(colunas_nome_cidade)\n",
        "\n",
        "\n",
        "filtro_idade_maior_30 = df[df[\"Idade\"] > 30]\n",
        "print(\"\\nLinhas onde a idade é maior que 30:\")\n",
        "print(filtro_idade_maior_30)"
      ],
      "metadata": {
        "id": "hnScXJ7Cct0T",
        "outputId": "df094c1f-6826-4bcd-b7d2-8156a2abd69d",
        "colab": {
          "base_uri": "https://localhost:8080/"
        }
      },
      "execution_count": 28,
      "outputs": [
        {
          "output_type": "stream",
          "name": "stdout",
          "text": [
            "Coluna Idade:\n",
            "0    23\n",
            "1    35\n",
            "2    29\n",
            "3    40\n",
            "Name: Idade, dtype: int64\n",
            "\n",
            "Colunas Nome e Cidade:\n",
            "    Nome          Cidade\n",
            "0    Ana       São Paulo\n",
            "1  Bruno  Rio de Janeiro\n",
            "2  Clara  Belo Horizonte\n",
            "3  Diego        Curitiba\n",
            "\n",
            "Linhas onde a idade é maior que 30:\n",
            "    Nome  Idade          Cidade\n",
            "1  Bruno     35  Rio de Janeiro\n",
            "3  Diego     40        Curitiba\n"
          ]
        }
      ]
    },
    {
      "cell_type": "markdown",
      "source": [
        "## Exercício 4\n",
        "\n",
        "Considere o seguinte `DataFrame`:\n",
        "```python\n",
        "df = pd.DataFrame({\n",
        "    \"População (milhões)\": [211, 144, 331, 67, 83],\n",
        "    \"PIB (trilhões USD)\": [1.84, 1.48, 22.68, 2.83, 4.22],\n",
        "    \"Continente\": [\"América\", \"Asia\", \"América\", \"Europa\", \"Europa\"]\n",
        "    },\n",
        "    index=[\"Brasil\", \"Rússia\", \"Estados Unidos\", \"França\", \"Alemanha\"])\n",
        "```\n",
        "Então:\n",
        "\n",
        "1. Selecione as linhas correspondentes a \"Brasil\" e \"Alemanha\".\n",
        "1. Use `.loc` para selecionar a população e o PIB dos \"Estados Unidos\".\n",
        "1. Use `.iloc` para selecionar os dados dos dois primeiros países.\n",
        "1. Use `.isin` para todos os países que estão na América ou na Asia."
      ],
      "metadata": {
        "id": "aqoz9VSUhvri"
      }
    },
    {
      "cell_type": "code",
      "source": [
        "df = pd.DataFrame({\n",
        "    \"População (milhões)\": [211, 144, 331, 67, 83],\n",
        "    \"PIB (trilhões USD)\": [1.84, 1.48, 22.68, 2.83, 4.22],\n",
        "    \"Continente\": [\"América\", \"Asia\", \"América\", \"Europa\", \"Europa\"]\n",
        "    },\n",
        "    index=[\"Brasil\", \"Rússia\", \"Estados Unidos\", \"França\", \"Alemanha\"])\n",
        "\n",
        "brasil_alemanha = df.loc[[\"Brasil\", \"Alemanha\"]]\n",
        "print(\"Brasil e Alemanha:\")\n",
        "print(brasil_alemanha)\n",
        "\n",
        "\n",
        "eua_dados = df.loc[\"Estados Unidos\", [\"População (milhões)\", \"PIB (trilhões USD)\"]]\n",
        "print(\"\\nPopulação e PIB dos Estados Unidos:\")\n",
        "print(eua_dados)\n",
        "\n",
        "\n",
        "primeiros_dois = df.iloc[:2]\n",
        "print(\"\\nDados dos dois primeiros países:\")\n",
        "print(primeiros_dois)\n",
        "\n",
        "america_asia = df[df[\"Continente\"].isin([\"América\", \"Asia\"])]\n",
        "print(\"\\nPaíses na América ou na Asia:\")\n",
        "print(america_asia)"
      ],
      "metadata": {
        "id": "PQ_IW2hIdS2S",
        "outputId": "29a029d9-942e-431f-db06-d47bdc62f808",
        "colab": {
          "base_uri": "https://localhost:8080/"
        }
      },
      "execution_count": 29,
      "outputs": [
        {
          "output_type": "stream",
          "name": "stdout",
          "text": [
            "Brasil e Alemanha:\n",
            "          População (milhões)  PIB (trilhões USD) Continente\n",
            "Brasil                    211                1.84    América\n",
            "Alemanha                   83                4.22     Europa\n",
            "\n",
            "População e PIB dos Estados Unidos:\n",
            "População (milhões)      331\n",
            "PIB (trilhões USD)     22.68\n",
            "Name: Estados Unidos, dtype: object\n",
            "\n",
            "Dados dos dois primeiros países:\n",
            "        População (milhões)  PIB (trilhões USD) Continente\n",
            "Brasil                  211                1.84    América\n",
            "Rússia                  144                1.48       Asia\n",
            "\n",
            "Países na América ou na Asia:\n",
            "                População (milhões)  PIB (trilhões USD) Continente\n",
            "Brasil                          211                1.84    América\n",
            "Rússia                          144                1.48       Asia\n",
            "Estados Unidos                  331               22.68    América\n"
          ]
        }
      ]
    },
    {
      "cell_type": "markdown",
      "source": [
        "## Atualização de valores"
      ],
      "metadata": {
        "id": "gGQaGH6K8HFD"
      }
    },
    {
      "cell_type": "markdown",
      "source": [
        "Ao atualizando uma nova coluna os índices são ajustados automaticamente:"
      ],
      "metadata": {
        "id": "0wZlOexwz53e"
      }
    },
    {
      "cell_type": "code",
      "source": [
        "import numpy as np\n",
        "import pandas as pd\n",
        "\n",
        "datas = pd.date_range(\"20190101\", periods=6)\n",
        "\n",
        "df = pd.DataFrame(np.random.randn(6, 4), index=datas, columns=list(\"ABCD\"))\n",
        "print(\"df:\\n\", df)\n",
        "\n",
        "## vetor com uma data a frente\n",
        "s1 = pd.Series([1, 2, 3, 4, 5, 6], index=pd.date_range(\"20190102\", periods=6))\n",
        "print(\"\\ns1:\\n\", s1)\n",
        "\n",
        "## a primeira posição fica NaN\n",
        "df[\"F\"] = s1\n",
        "print(\"\\nNovo df:\\n\", df)"
      ],
      "metadata": {
        "id": "A6ZOMwEl07Mf"
      },
      "execution_count": null,
      "outputs": []
    },
    {
      "cell_type": "markdown",
      "source": [
        "Atualizando valores por nome:"
      ],
      "metadata": {
        "id": "U08QkQOQ08RX"
      }
    },
    {
      "cell_type": "code",
      "source": [
        "df.at[datas[0], \"A\"] = 0\n",
        "df"
      ],
      "metadata": {
        "id": "QttN0rKe1jPv"
      },
      "execution_count": null,
      "outputs": []
    },
    {
      "cell_type": "markdown",
      "source": [
        "Atualizando valores por posição:"
      ],
      "metadata": {
        "id": "oBJqPDwK1jy-"
      }
    },
    {
      "cell_type": "code",
      "source": [
        "df.iat[0, 1] = 0\n",
        "df"
      ],
      "metadata": {
        "id": "bDf97iJc19aI"
      },
      "execution_count": null,
      "outputs": []
    },
    {
      "cell_type": "markdown",
      "source": [
        "Atualização de valores com uma matriz *NumPy*:"
      ],
      "metadata": {
        "id": "xiR1Vp2b19tn"
      }
    },
    {
      "cell_type": "code",
      "source": [
        "df.loc[:, \"D\"] = np.array([5] * len(df))\n",
        "df"
      ],
      "metadata": {
        "id": "TfGIS6Ht4wFX"
      },
      "execution_count": null,
      "outputs": []
    },
    {
      "cell_type": "markdown",
      "source": [
        "Uma operação `where` como atualização de valores:"
      ],
      "metadata": {
        "id": "jZrzxIHW4wsn"
      }
    },
    {
      "cell_type": "code",
      "source": [
        "df2 = df.copy()\n",
        "\n",
        "print(\"df2:\\n\", df2)\n",
        "\n",
        "print(\"\\ndf2 > 0:\\n\", df2 > 0)\n",
        "\n",
        "df2[df2 > 0] = -df2\n",
        "\n",
        "print(\"\\nnovo df2:\\n\", df2)"
      ],
      "metadata": {
        "id": "_IwwXOhe6Gj4"
      },
      "execution_count": null,
      "outputs": []
    },
    {
      "cell_type": "markdown",
      "source": [
        "## Dados faltantes (*missing data*)"
      ],
      "metadata": {
        "id": "8rHU8qC-8ZBm"
      }
    },
    {
      "cell_type": "markdown",
      "source": [
        "Para o *NumPy*, `np.nan` representa um dado faltante. Ele é, por padrão, excluído dos cálculos.\n",
        "\n",
        "Reindexação permite mudar/adicionar/excluir o índice de um eixo especifico e retorna uma cópia dos dados:"
      ],
      "metadata": {
        "id": "85MfAZQ66HMe"
      }
    },
    {
      "cell_type": "code",
      "source": [
        "import numpy as np\n",
        "import pandas as pd\n",
        "\n",
        "datas = pd.date_range(\"20190101\", periods=6)\n",
        "\n",
        "# Cria um 'DataFrame' indexado pelas datas acima, com valores aleatórios...\n",
        "df = pd.DataFrame(np.random.randn(6, 4), index=datas, columns=list(\"ABCD\"))\n",
        "\n",
        "print(\"df:\\n\", df)\n",
        "\n",
        "## seleciona as 4 primeiras linhas e adiciona a coluna E\n",
        "df1 = df.reindex(index=datas[0:4], columns=list(df.columns) + [\"E\"])\n",
        "## preenche as três primeiras celulas da coluna E com o valor 1.\n",
        "df1.loc[datas[0:3], \"E\"] = 1\n",
        "\n",
        "print(\"\\ndf1:\\n\", df1)"
      ],
      "metadata": {
        "id": "tM0CgEHe7kfI"
      },
      "execution_count": null,
      "outputs": []
    },
    {
      "cell_type": "markdown",
      "source": [
        "`DataFrame.dropna()` ignora as linhas que possuem dados faltantes:"
      ],
      "metadata": {
        "id": "Ss7kmqKZ7k1X"
      }
    },
    {
      "cell_type": "code",
      "source": [
        "df1.dropna(how=\"any\")"
      ],
      "metadata": {
        "id": "Wz21rFfV8KpH"
      },
      "execution_count": null,
      "outputs": []
    },
    {
      "cell_type": "markdown",
      "source": [
        "`DataFrame.fillna()` preenche os dados faltantes com o valor fornecido:"
      ],
      "metadata": {
        "id": "W_JCVe2q8L--"
      }
    },
    {
      "cell_type": "code",
      "source": [
        "df1.fillna(value=5)"
      ],
      "metadata": {
        "id": "lOkjr5pq9M4_"
      },
      "execution_count": null,
      "outputs": []
    },
    {
      "cell_type": "markdown",
      "source": [
        "`isna()` retorna uma matriz lógica indicando as posições faltantes:"
      ],
      "metadata": {
        "id": "oERHdssM9WPW"
      }
    },
    {
      "cell_type": "code",
      "source": [
        "pd.isna(df1)"
      ],
      "metadata": {
        "id": "KxFjwH-_9lri"
      },
      "execution_count": null,
      "outputs": []
    },
    {
      "cell_type": "markdown",
      "source": [
        "### Operações com dados faltantes"
      ],
      "metadata": {
        "id": "bMYtTlgl8pLh"
      }
    },
    {
      "cell_type": "markdown",
      "source": [
        "As operações, em geral, excluem os dados faltantes.\n",
        "\n",
        "Exemplo, calculando a média para cada coluna:"
      ],
      "metadata": {
        "id": "M0AAIvRn9tu5"
      }
    },
    {
      "cell_type": "code",
      "source": [
        "import numpy as np\n",
        "import pandas as pd\n",
        "\n",
        "datas = pd.date_range(\"20190101\", periods=6)\n",
        "\n",
        "df = pd.DataFrame(np.random.randn(6, 4), index=datas, columns=list(\"ABCD\"))\n",
        "\n",
        "df[abs(df)<0.5] = pd.NA\n",
        "\n",
        "print(\"df:\\n\", df)\n",
        "\n",
        "df.mean() ## média por colunas"
      ],
      "metadata": {
        "id": "SUmPIK3s_-DM"
      },
      "execution_count": null,
      "outputs": []
    },
    {
      "cell_type": "markdown",
      "source": [
        "Calculando a média para cada linha:"
      ],
      "metadata": {
        "id": "4YJTjkEYAHFu"
      }
    },
    {
      "cell_type": "code",
      "source": [
        "df.mean(axis=1) ## media por linhas"
      ],
      "metadata": {
        "id": "2Pbws0_FATN3"
      },
      "execution_count": null,
      "outputs": []
    },
    {
      "cell_type": "markdown",
      "source": [
        "As operações que envolvam outras `Series` ou `DataFrame` com índices ou colunas diferentes irão alinhar os resultados com a união dos índices e nomes de colunas. Além disso, o *Pandas* automaticamente propaga os valores ao longo das dimensões especificadas e preenche os pares não alinhados com `np.nan`."
      ],
      "metadata": {
        "id": "mh_eZ14JAiZ2"
      }
    },
    {
      "cell_type": "code",
      "source": [
        "s = pd.Series([1, 3, 5, np.nan, 6, 8, 2], index=pd.date_range(\"20190101\", periods=7))\n",
        "print(\"s:\\n\",s)\n",
        "\n",
        "s = s.shift(2) ## atrasa os dados em 2 indices\n",
        "print(\"\\nnovo s:\\n\",s)"
      ],
      "metadata": {
        "id": "F34HHAteBPuv"
      },
      "execution_count": null,
      "outputs": []
    },
    {
      "cell_type": "markdown",
      "source": [
        "O método `pandas.sub()` subtrai os elementos do *dataframe* com os elementos de outro *dataframe* de acordo com os indices:"
      ],
      "metadata": {
        "id": "Up85bCdMRUVm"
      }
    },
    {
      "cell_type": "code",
      "source": [
        "df = pd.DataFrame(np.random.randn(6, 4), index=datas, columns=list(\"ABCD\"))\n",
        "\n",
        "print(\"df:\\n\", df)\n",
        "\n",
        "print(\"\\ns:\\n\", s)\n",
        "\n",
        "print(\"\\ndf.sub:\\n\")\n",
        "df.sub(s, axis=\"index\") ## a subtração é feita de acordo com os indices"
      ],
      "metadata": {
        "id": "bT3GIZLfBRSG"
      },
      "execution_count": null,
      "outputs": []
    },
    {
      "cell_type": "markdown",
      "source": [
        "## Exercício 5\n",
        "\n",
        "Considere o seguinte `DataFrame`:\n",
        "```python\n",
        "dados = {\n",
        "    \"Produto\": [\"Notebook\", \"Celular\", \"Tablet\", \"Fone de Ouvido\", \"Monitor\", \"Mouse\"],\n",
        "    \"Preço\": [2500, 1500, np.nan, 200, 800, 100],\n",
        "    \"Estoque\": [10, 5, 2, 50, np.nan, 150],\n",
        "    \"Categoria\": [\"Eletrônicos\", \"Eletrônicos\", \"Eletrônicos\", \"Acessórios\", \"Periféricos\", \"Periféricos\"],\n",
        "    \"Avaliação\": [4.5, np.nan, 3.8, 4.2, 3.9, np.nan]\n",
        "}\n",
        "\n",
        "df = pd.DataFrame(dados)\n",
        "```\n",
        "Então:\n",
        "\n",
        "1. Atualize o preço do produto \"Tablet\" para 1800.\n",
        "1. Reduza em 20% o preço de todos os produtos da categoria \"Eletrônicos\".\n",
        "1. Mostre a planilha excluindo as linhas com valores faltantes.\n",
        "1. Preencha os valores faltantes na coluna Estoque com 0."
      ],
      "metadata": {
        "id": "_RhT-FjFqdKv"
      }
    }
  ]
}