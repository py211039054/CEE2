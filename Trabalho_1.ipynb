{
  "nbformat": 4,
  "nbformat_minor": 0,
  "metadata": {
    "colab": {
      "provenance": [],
      "authorship_tag": "ABX9TyNSOPSHnT59RrrFl9fTd0h4",
      "include_colab_link": true
    },
    "kernelspec": {
      "name": "python3",
      "display_name": "Python 3"
    },
    "language_info": {
      "name": "python"
    }
  },
  "cells": [
    {
      "cell_type": "markdown",
      "metadata": {
        "id": "view-in-github",
        "colab_type": "text"
      },
      "source": [
        "<a href=\"https://colab.research.google.com/github/py211039054/CEE2/blob/main/Trabalho_1.ipynb\" target=\"_parent\"><img src=\"https://colab.research.google.com/assets/colab-badge.svg\" alt=\"Open In Colab\"/></a>"
      ]
    },
    {
      "cell_type": "code",
      "execution_count": 21,
      "metadata": {
        "colab": {
          "base_uri": "https://localhost:8080/"
        },
        "id": "NgRIjnGS1gYJ",
        "outputId": "e29e9d41-3a21-4706-8e07-5fef735a7c7f"
      },
      "outputs": [
        {
          "output_type": "stream",
          "name": "stdout",
          "text": [
            "A média das notas é: 7.18\n",
            "Maior nota: Kleber com 10.0\n",
            "Menor nota: Beatriz com 5.0\n",
            "Alunos acima da média: 2\n",
            "Alunos abaixo da média: 3\n"
          ]
        }
      ],
      "source": [
        "notas = {\"Ana\": 7.5, \"João\": 8.0, \"Maria\": 6.5, \"Pedro\": 9.0, \"Lucas\": 5.0}\n",
        "\n",
        "media = sum(notas.values())/len(notas)\n",
        "\n",
        "\n",
        "\n",
        "print(\"A média das notas é:\",media)\n",
        "contador1=0\n",
        "contador2=0\n",
        "for aluno, nota  in notas.items():\n",
        "  if nota>=media:\n",
        "    contador1+=1\n",
        "\n",
        "\n",
        "\n",
        "\n",
        "\n",
        "  elif nota<media:\n",
        "    contador2+=1\n",
        "\n",
        "\n",
        "\n",
        "maior_nota= max(notas.items())\n",
        "menor_nota= min(notas.items())\n",
        "print(\"Maior nota:\",maior_nota[0],\"com\",maior_nota[1])\n",
        "print(\"Menor nota:\",menor_nota[0],\"com\",menor_nota[1])\n",
        "print(\"Alunos acima da média:\",contador1)\n",
        "print(\"Alunos abaixo da média:\",contador2)"
      ]
    },
    {
      "cell_type": "markdown",
      "source": [],
      "metadata": {
        "id": "0YgJGMog9nsa"
      }
    },
    {
      "cell_type": "markdown",
      "source": [],
      "metadata": {
        "id": "pf1WBZdH9n3m"
      }
    }
  ]
}